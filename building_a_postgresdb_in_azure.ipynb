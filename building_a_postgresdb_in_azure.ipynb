{
  "nbformat": 4,
  "nbformat_minor": 0,
  "metadata": {
    "colab": {
      "name": "building_a_postgresdb_in_azure.ipynb",
      "provenance": [],
      "collapsed_sections": [],
      "toc_visible": true,
      "authorship_tag": "ABX9TyNUP337ZifCdVv2ZdcmpUeW",
      "include_colab_link": true
    },
    "kernelspec": {
      "name": "python3",
      "display_name": "Python 3"
    },
    "language_info": {
      "name": "python"
    }
  },
  "cells": [
    {
      "cell_type": "markdown",
      "metadata": {
        "id": "view-in-github",
        "colab_type": "text"
      },
      "source": [
        "<a href=\"https://colab.research.google.com/github/karl-karlsson/notebooks/blob/main/building_a_postgresdb_in_azure.ipynb\" target=\"_parent\"><img src=\"https://colab.research.google.com/assets/colab-badge.svg\" alt=\"Open In Colab\"/></a>"
      ]
    },
    {
      "cell_type": "markdown",
      "source": [
        "![](https://docs.microsoft.com/sv-se/azure/azure-arc/data/media/postgres-hyperscale/azure-database-for-postgresql-bigger.png)"
      ],
      "metadata": {
        "id": "0I2wTgnSV2Y_"
      }
    },
    {
      "cell_type": "markdown",
      "source": [
        "# Introduction"
      ],
      "metadata": {
        "id": "8pPg4_shP2Qy"
      }
    },
    {
      "cell_type": "markdown",
      "source": [
        "For this project I wanted to try to build my own PostgreSQL database in Azure.\n",
        "\n",
        "The data used for this project comes from my bachelor thesis in economics ([link](http://lnu.diva-portal.org/smash/record.jsf?faces-redirect=true&aq2=%5B%5B%5D%5D&af=%5B%5D&searchType=LIST_LATEST&query=&language=sv&pid=diva2%3A1111381&aq=%5B%5B%5D%5D&sf=all&aqe=%5B%5D&sortOrder=author_sort_asc&onlyFullText=false&noOfRows=50&dswid=-5091)   ).\n",
        "\n",
        "The data consists of three separate `.xls` files that holds information about teams and players in Swedish football between 2007 and 2015 (*). The three `.xls` files are:\n",
        "\n",
        "* `players.xls`. Data on individual players. For example season, matches played and nationality \n",
        "* `results.xls`. Final league standings for different seasons for the highest four divisions in Swedish football\n",
        "* `teams.xls`. Data on teams. For example attendance numbers and financial data for different teams and seasons. Only for the highest **two** divisions (Allsvenskan and Superettan).\n",
        "\n",
        "*) For the original project I had data for 2001 - 2015 but I seem to have organized it in a somewhat less than perfect way. So therefore I will use 2007 - 2015 data which I had sort of handu.."
      ],
      "metadata": {
        "id": "qqe-sENePSLt"
      }
    },
    {
      "cell_type": "markdown",
      "source": [
        "# Setting up a database server in Azure\n",
        "\n",
        "The process of setting up a PostgreSQL server in Azure is quite easy (and also ***free*** up to certain limits with a free account).\n",
        "\n",
        "I used the Azure portal to spin up the server but if you have an Azure account this can also be done through a command line interface (CLI).\n",
        "\n",
        "[Here](https://docs.microsoft.com/en-us/azure/postgresql/single-server/tutorial-design-database-using-azure-portal) is a guide you can follow if you want to try it for yourself. It's really quite easy and took me less than five minutes."
      ],
      "metadata": {
        "id": "7-DcB6xCP73I"
      }
    },
    {
      "cell_type": "markdown",
      "source": [
        "# Connect to the server"
      ],
      "metadata": {
        "id": "RAzTs2FEQB9y"
      }
    },
    {
      "cell_type": "markdown",
      "source": [
        "Once your server is up and running you can find a connection string to your server by clicking on '**Connect**' from the server overview page.\n",
        "\n",
        "The string has the format:\n",
        "\n",
        "`\"host=servername-somenumbers.postgres.database.azure.com port=port user=username password=password sslmode=require\"`\n",
        "\n",
        "I've stored the connection string to the server as a `.txt` file on my Google Drive for security reasons and acess it with `open(conn_string.txt)` below.\n"
      ],
      "metadata": {
        "id": "kCELqWDRQG1t"
      }
    },
    {
      "cell_type": "code",
      "source": [
        "from google.colab import drive\n",
        "drive.mount('/content/drive')\n",
        "\n",
        "%cd /content/drive/My Drive/PostgresProject \n",
        "\n",
        "with open('conn_string.txt') as file:\n",
        "    conn_string = file.readlines()[0]\n"
      ],
      "metadata": {
        "colab": {
          "base_uri": "https://localhost:8080/"
        },
        "id": "4fKoNmi9SrEW",
        "outputId": "8f92e33d-d940-4bf4-a97c-8da4b13629ca"
      },
      "execution_count": null,
      "outputs": [
        {
          "output_type": "stream",
          "name": "stdout",
          "text": [
            "Drive already mounted at /content/drive; to attempt to forcibly remount, call drive.mount(\"/content/drive\", force_remount=True).\n",
            "/content/drive/My Drive/PostgresProject\n"
          ]
        }
      ]
    },
    {
      "cell_type": "markdown",
      "source": [
        "The [`psycopg2`](https://pypi.org/project/psycopg2/) library can be used to run PostegreSQL querys from a Python interface."
      ],
      "metadata": {
        "id": "_Rn1B8eDynOc"
      }
    },
    {
      "cell_type": "code",
      "execution_count": null,
      "metadata": {
        "colab": {
          "base_uri": "https://localhost:8080/"
        },
        "id": "PmRwbYgZ3mqX",
        "outputId": "59cfab87-7af9-4c5c-e449-bc06021b153c"
      },
      "outputs": [
        {
          "output_type": "stream",
          "name": "stdout",
          "text": [
            "Connection established!\n"
          ]
        }
      ],
      "source": [
        "import psycopg2\n",
        "\n",
        "try:\n",
        "  conn = psycopg2.connect(conn_string)\n",
        "except:\n",
        "  print(\"Connection failed...\")\n",
        "else:\n",
        "  print(\"Connection established!\")\n",
        "  "
      ]
    },
    {
      "cell_type": "markdown",
      "source": [
        "# Download data using Pandas"
      ],
      "metadata": {
        "id": "1Z34dts0QHS8"
      }
    },
    {
      "cell_type": "markdown",
      "source": [
        "## Download player data"
      ],
      "metadata": {
        "id": "G3P2Beg84I-3"
      }
    },
    {
      "cell_type": "code",
      "source": [
        "!pip install xlrd==1.2.0  # Pandas require xlrd version > 1.2.0 to read excel files\n",
        "import pandas as pd"
      ],
      "metadata": {
        "colab": {
          "base_uri": "https://localhost:8080/"
        },
        "id": "Z93Gy3V44N5P",
        "outputId": "6c97a4b9-c1f8-417a-9505-65b5bc049e78"
      },
      "execution_count": null,
      "outputs": [
        {
          "output_type": "stream",
          "name": "stdout",
          "text": [
            "Looking in indexes: https://pypi.org/simple, https://us-python.pkg.dev/colab-wheels/public/simple/\n",
            "Requirement already satisfied: xlrd==1.2.0 in /usr/local/lib/python3.7/dist-packages (1.2.0)\n"
          ]
        }
      ]
    },
    {
      "cell_type": "code",
      "source": [
        "players_xls = pd.read_excel('Data/players.xls')[:11137]\n",
        "players_xls = players_xls.drop_duplicates()\n",
        "players_xls[:5]\n",
        "\n"
      ],
      "metadata": {
        "colab": {
          "base_uri": "https://localhost:8080/",
          "height": 206
        },
        "id": "Qksa27_e5tjO",
        "outputId": "ecc80cf5-3ee6-401c-cec9-581c68944419"
      },
      "execution_count": null,
      "outputs": [
        {
          "output_type": "execute_result",
          "data": {
            "text/plain": [
              "            Team     PlayerName  Season    Nationality         Region  \\\n",
              "0  Ljungskile SK  Aaron Nichols  2013.0  United States  North America   \n",
              "1  Ljungskile SK  Aaron Nichols  2014.0  United States  North America   \n",
              "2    IF Elfsborg   Abbas Hassan  2005.0         Sweden         Sweden   \n",
              "3    IF Elfsborg   Abbas Hassan  2007.0         Sweden         Sweden   \n",
              "4    IF Elfsborg   Abbas Hassan  2013.0         Sweden         Sweden   \n",
              "\n",
              "  LaborMarketStatus  YearOfEntry  Matches  \n",
              "0           Non EEA       2013.0      8.0  \n",
              "1           Non EEA       2013.0     13.0  \n",
              "2            Sweden          NaN     10.0  \n",
              "3            Sweden          NaN      3.0  \n",
              "4            Sweden          NaN      2.0  "
            ],
            "text/html": [
              "\n",
              "  <div id=\"df-bb03a615-320a-4bcc-aa7c-630d6e73ca5f\">\n",
              "    <div class=\"colab-df-container\">\n",
              "      <div>\n",
              "<style scoped>\n",
              "    .dataframe tbody tr th:only-of-type {\n",
              "        vertical-align: middle;\n",
              "    }\n",
              "\n",
              "    .dataframe tbody tr th {\n",
              "        vertical-align: top;\n",
              "    }\n",
              "\n",
              "    .dataframe thead th {\n",
              "        text-align: right;\n",
              "    }\n",
              "</style>\n",
              "<table border=\"1\" class=\"dataframe\">\n",
              "  <thead>\n",
              "    <tr style=\"text-align: right;\">\n",
              "      <th></th>\n",
              "      <th>Team</th>\n",
              "      <th>PlayerName</th>\n",
              "      <th>Season</th>\n",
              "      <th>Nationality</th>\n",
              "      <th>Region</th>\n",
              "      <th>LaborMarketStatus</th>\n",
              "      <th>YearOfEntry</th>\n",
              "      <th>Matches</th>\n",
              "    </tr>\n",
              "  </thead>\n",
              "  <tbody>\n",
              "    <tr>\n",
              "      <th>0</th>\n",
              "      <td>Ljungskile SK</td>\n",
              "      <td>Aaron Nichols</td>\n",
              "      <td>2013.0</td>\n",
              "      <td>United States</td>\n",
              "      <td>North America</td>\n",
              "      <td>Non EEA</td>\n",
              "      <td>2013.0</td>\n",
              "      <td>8.0</td>\n",
              "    </tr>\n",
              "    <tr>\n",
              "      <th>1</th>\n",
              "      <td>Ljungskile SK</td>\n",
              "      <td>Aaron Nichols</td>\n",
              "      <td>2014.0</td>\n",
              "      <td>United States</td>\n",
              "      <td>North America</td>\n",
              "      <td>Non EEA</td>\n",
              "      <td>2013.0</td>\n",
              "      <td>13.0</td>\n",
              "    </tr>\n",
              "    <tr>\n",
              "      <th>2</th>\n",
              "      <td>IF Elfsborg</td>\n",
              "      <td>Abbas Hassan</td>\n",
              "      <td>2005.0</td>\n",
              "      <td>Sweden</td>\n",
              "      <td>Sweden</td>\n",
              "      <td>Sweden</td>\n",
              "      <td>NaN</td>\n",
              "      <td>10.0</td>\n",
              "    </tr>\n",
              "    <tr>\n",
              "      <th>3</th>\n",
              "      <td>IF Elfsborg</td>\n",
              "      <td>Abbas Hassan</td>\n",
              "      <td>2007.0</td>\n",
              "      <td>Sweden</td>\n",
              "      <td>Sweden</td>\n",
              "      <td>Sweden</td>\n",
              "      <td>NaN</td>\n",
              "      <td>3.0</td>\n",
              "    </tr>\n",
              "    <tr>\n",
              "      <th>4</th>\n",
              "      <td>IF Elfsborg</td>\n",
              "      <td>Abbas Hassan</td>\n",
              "      <td>2013.0</td>\n",
              "      <td>Sweden</td>\n",
              "      <td>Sweden</td>\n",
              "      <td>Sweden</td>\n",
              "      <td>NaN</td>\n",
              "      <td>2.0</td>\n",
              "    </tr>\n",
              "  </tbody>\n",
              "</table>\n",
              "</div>\n",
              "      <button class=\"colab-df-convert\" onclick=\"convertToInteractive('df-bb03a615-320a-4bcc-aa7c-630d6e73ca5f')\"\n",
              "              title=\"Convert this dataframe to an interactive table.\"\n",
              "              style=\"display:none;\">\n",
              "        \n",
              "  <svg xmlns=\"http://www.w3.org/2000/svg\" height=\"24px\"viewBox=\"0 0 24 24\"\n",
              "       width=\"24px\">\n",
              "    <path d=\"M0 0h24v24H0V0z\" fill=\"none\"/>\n",
              "    <path d=\"M18.56 5.44l.94 2.06.94-2.06 2.06-.94-2.06-.94-.94-2.06-.94 2.06-2.06.94zm-11 1L8.5 8.5l.94-2.06 2.06-.94-2.06-.94L8.5 2.5l-.94 2.06-2.06.94zm10 10l.94 2.06.94-2.06 2.06-.94-2.06-.94-.94-2.06-.94 2.06-2.06.94z\"/><path d=\"M17.41 7.96l-1.37-1.37c-.4-.4-.92-.59-1.43-.59-.52 0-1.04.2-1.43.59L10.3 9.45l-7.72 7.72c-.78.78-.78 2.05 0 2.83L4 21.41c.39.39.9.59 1.41.59.51 0 1.02-.2 1.41-.59l7.78-7.78 2.81-2.81c.8-.78.8-2.07 0-2.86zM5.41 20L4 18.59l7.72-7.72 1.47 1.35L5.41 20z\"/>\n",
              "  </svg>\n",
              "      </button>\n",
              "      \n",
              "  <style>\n",
              "    .colab-df-container {\n",
              "      display:flex;\n",
              "      flex-wrap:wrap;\n",
              "      gap: 12px;\n",
              "    }\n",
              "\n",
              "    .colab-df-convert {\n",
              "      background-color: #E8F0FE;\n",
              "      border: none;\n",
              "      border-radius: 50%;\n",
              "      cursor: pointer;\n",
              "      display: none;\n",
              "      fill: #1967D2;\n",
              "      height: 32px;\n",
              "      padding: 0 0 0 0;\n",
              "      width: 32px;\n",
              "    }\n",
              "\n",
              "    .colab-df-convert:hover {\n",
              "      background-color: #E2EBFA;\n",
              "      box-shadow: 0px 1px 2px rgba(60, 64, 67, 0.3), 0px 1px 3px 1px rgba(60, 64, 67, 0.15);\n",
              "      fill: #174EA6;\n",
              "    }\n",
              "\n",
              "    [theme=dark] .colab-df-convert {\n",
              "      background-color: #3B4455;\n",
              "      fill: #D2E3FC;\n",
              "    }\n",
              "\n",
              "    [theme=dark] .colab-df-convert:hover {\n",
              "      background-color: #434B5C;\n",
              "      box-shadow: 0px 1px 3px 1px rgba(0, 0, 0, 0.15);\n",
              "      filter: drop-shadow(0px 1px 2px rgba(0, 0, 0, 0.3));\n",
              "      fill: #FFFFFF;\n",
              "    }\n",
              "  </style>\n",
              "\n",
              "      <script>\n",
              "        const buttonEl =\n",
              "          document.querySelector('#df-bb03a615-320a-4bcc-aa7c-630d6e73ca5f button.colab-df-convert');\n",
              "        buttonEl.style.display =\n",
              "          google.colab.kernel.accessAllowed ? 'block' : 'none';\n",
              "\n",
              "        async function convertToInteractive(key) {\n",
              "          const element = document.querySelector('#df-bb03a615-320a-4bcc-aa7c-630d6e73ca5f');\n",
              "          const dataTable =\n",
              "            await google.colab.kernel.invokeFunction('convertToInteractive',\n",
              "                                                     [key], {});\n",
              "          if (!dataTable) return;\n",
              "\n",
              "          const docLinkHtml = 'Like what you see? Visit the ' +\n",
              "            '<a target=\"_blank\" href=https://colab.research.google.com/notebooks/data_table.ipynb>data table notebook</a>'\n",
              "            + ' to learn more about interactive tables.';\n",
              "          element.innerHTML = '';\n",
              "          dataTable['output_type'] = 'display_data';\n",
              "          await google.colab.output.renderOutput(dataTable, element);\n",
              "          const docLink = document.createElement('div');\n",
              "          docLink.innerHTML = docLinkHtml;\n",
              "          element.appendChild(docLink);\n",
              "        }\n",
              "      </script>\n",
              "    </div>\n",
              "  </div>\n",
              "  "
            ]
          },
          "metadata": {},
          "execution_count": 1964
        }
      ]
    },
    {
      "cell_type": "markdown",
      "source": [
        "The `players.xls` file contain the following variables:\n",
        "\n",
        "* `PlayerId` = a variable indentifying individual players\n",
        "* `Team` = the team the player played for during the season (can be more than one team for an individual season)\n",
        "* `PlayerName` =  the name of the player\n",
        "* `Season` = the year of the season\n",
        "* `Nationality` =  the nationality (or more specific country of birth) of the player (this data I looked up on www.transfermarkt.com for the original thesis, might not be 100 percent correct)\n",
        "* `Region` = the region of the country in `Nationality`\n",
        "* `LaborMarketStatus` = Sweden / EEA / Non EEA where EEA = European Economic Area [wiki](https://en.wikipedia.org/wiki/European_Economic_Area)\n",
        "* `YearOfEntry` = the first registred season on a Swedish team (if player was born outside Sweden)\n",
        "* `Matches` = matches played for the `Team` during the specific `Season`\n",
        "\n",
        "The aim of the original thesis was to investigate differences in salary between Swedish and foreign players and how this changed with for example years since migration and labor market status. "
      ],
      "metadata": {
        "id": "egwWMsyizuoY"
      }
    },
    {
      "cell_type": "markdown",
      "source": [
        "## Downlaod results data"
      ],
      "metadata": {
        "id": "tmGyrK7oYo7A"
      }
    },
    {
      "cell_type": "code",
      "source": [
        "results_xls = pd.read_excel('Data/results.xls')\n",
        "results_xls[:5]"
      ],
      "metadata": {
        "colab": {
          "base_uri": "https://localhost:8080/",
          "height": 206
        },
        "id": "lDCrIkLPYop0",
        "outputId": "8c01440e-6c49-4211-addc-4b466ff0f423"
      },
      "execution_count": null,
      "outputs": [
        {
          "output_type": "execute_result",
          "data": {
            "text/plain": [
              "  Season               Team   S   V  O  F  GM-IM   D   P\n",
              "0  A2016           Malmö FF  30  21  3  6  60-26  34  66\n",
              "1  A2016                AIK  30  17  9  4  52-26  26  60\n",
              "2  A2016  IFK Norrköping FK  30  18  6  6  59-37  22  60\n",
              "3  A2016       IFK Göteborg  30  14  8  8  56-47   9  50\n",
              "4  A2016        IF Elfsborg  30  13  9  8  58-38  20  48"
            ],
            "text/html": [
              "\n",
              "  <div id=\"df-685fac49-c553-43fa-84df-c85c2e9b6dc9\">\n",
              "    <div class=\"colab-df-container\">\n",
              "      <div>\n",
              "<style scoped>\n",
              "    .dataframe tbody tr th:only-of-type {\n",
              "        vertical-align: middle;\n",
              "    }\n",
              "\n",
              "    .dataframe tbody tr th {\n",
              "        vertical-align: top;\n",
              "    }\n",
              "\n",
              "    .dataframe thead th {\n",
              "        text-align: right;\n",
              "    }\n",
              "</style>\n",
              "<table border=\"1\" class=\"dataframe\">\n",
              "  <thead>\n",
              "    <tr style=\"text-align: right;\">\n",
              "      <th></th>\n",
              "      <th>Season</th>\n",
              "      <th>Team</th>\n",
              "      <th>S</th>\n",
              "      <th>V</th>\n",
              "      <th>O</th>\n",
              "      <th>F</th>\n",
              "      <th>GM-IM</th>\n",
              "      <th>D</th>\n",
              "      <th>P</th>\n",
              "    </tr>\n",
              "  </thead>\n",
              "  <tbody>\n",
              "    <tr>\n",
              "      <th>0</th>\n",
              "      <td>A2016</td>\n",
              "      <td>Malmö FF</td>\n",
              "      <td>30</td>\n",
              "      <td>21</td>\n",
              "      <td>3</td>\n",
              "      <td>6</td>\n",
              "      <td>60-26</td>\n",
              "      <td>34</td>\n",
              "      <td>66</td>\n",
              "    </tr>\n",
              "    <tr>\n",
              "      <th>1</th>\n",
              "      <td>A2016</td>\n",
              "      <td>AIK</td>\n",
              "      <td>30</td>\n",
              "      <td>17</td>\n",
              "      <td>9</td>\n",
              "      <td>4</td>\n",
              "      <td>52-26</td>\n",
              "      <td>26</td>\n",
              "      <td>60</td>\n",
              "    </tr>\n",
              "    <tr>\n",
              "      <th>2</th>\n",
              "      <td>A2016</td>\n",
              "      <td>IFK Norrköping FK</td>\n",
              "      <td>30</td>\n",
              "      <td>18</td>\n",
              "      <td>6</td>\n",
              "      <td>6</td>\n",
              "      <td>59-37</td>\n",
              "      <td>22</td>\n",
              "      <td>60</td>\n",
              "    </tr>\n",
              "    <tr>\n",
              "      <th>3</th>\n",
              "      <td>A2016</td>\n",
              "      <td>IFK Göteborg</td>\n",
              "      <td>30</td>\n",
              "      <td>14</td>\n",
              "      <td>8</td>\n",
              "      <td>8</td>\n",
              "      <td>56-47</td>\n",
              "      <td>9</td>\n",
              "      <td>50</td>\n",
              "    </tr>\n",
              "    <tr>\n",
              "      <th>4</th>\n",
              "      <td>A2016</td>\n",
              "      <td>IF Elfsborg</td>\n",
              "      <td>30</td>\n",
              "      <td>13</td>\n",
              "      <td>9</td>\n",
              "      <td>8</td>\n",
              "      <td>58-38</td>\n",
              "      <td>20</td>\n",
              "      <td>48</td>\n",
              "    </tr>\n",
              "  </tbody>\n",
              "</table>\n",
              "</div>\n",
              "      <button class=\"colab-df-convert\" onclick=\"convertToInteractive('df-685fac49-c553-43fa-84df-c85c2e9b6dc9')\"\n",
              "              title=\"Convert this dataframe to an interactive table.\"\n",
              "              style=\"display:none;\">\n",
              "        \n",
              "  <svg xmlns=\"http://www.w3.org/2000/svg\" height=\"24px\"viewBox=\"0 0 24 24\"\n",
              "       width=\"24px\">\n",
              "    <path d=\"M0 0h24v24H0V0z\" fill=\"none\"/>\n",
              "    <path d=\"M18.56 5.44l.94 2.06.94-2.06 2.06-.94-2.06-.94-.94-2.06-.94 2.06-2.06.94zm-11 1L8.5 8.5l.94-2.06 2.06-.94-2.06-.94L8.5 2.5l-.94 2.06-2.06.94zm10 10l.94 2.06.94-2.06 2.06-.94-2.06-.94-.94-2.06-.94 2.06-2.06.94z\"/><path d=\"M17.41 7.96l-1.37-1.37c-.4-.4-.92-.59-1.43-.59-.52 0-1.04.2-1.43.59L10.3 9.45l-7.72 7.72c-.78.78-.78 2.05 0 2.83L4 21.41c.39.39.9.59 1.41.59.51 0 1.02-.2 1.41-.59l7.78-7.78 2.81-2.81c.8-.78.8-2.07 0-2.86zM5.41 20L4 18.59l7.72-7.72 1.47 1.35L5.41 20z\"/>\n",
              "  </svg>\n",
              "      </button>\n",
              "      \n",
              "  <style>\n",
              "    .colab-df-container {\n",
              "      display:flex;\n",
              "      flex-wrap:wrap;\n",
              "      gap: 12px;\n",
              "    }\n",
              "\n",
              "    .colab-df-convert {\n",
              "      background-color: #E8F0FE;\n",
              "      border: none;\n",
              "      border-radius: 50%;\n",
              "      cursor: pointer;\n",
              "      display: none;\n",
              "      fill: #1967D2;\n",
              "      height: 32px;\n",
              "      padding: 0 0 0 0;\n",
              "      width: 32px;\n",
              "    }\n",
              "\n",
              "    .colab-df-convert:hover {\n",
              "      background-color: #E2EBFA;\n",
              "      box-shadow: 0px 1px 2px rgba(60, 64, 67, 0.3), 0px 1px 3px 1px rgba(60, 64, 67, 0.15);\n",
              "      fill: #174EA6;\n",
              "    }\n",
              "\n",
              "    [theme=dark] .colab-df-convert {\n",
              "      background-color: #3B4455;\n",
              "      fill: #D2E3FC;\n",
              "    }\n",
              "\n",
              "    [theme=dark] .colab-df-convert:hover {\n",
              "      background-color: #434B5C;\n",
              "      box-shadow: 0px 1px 3px 1px rgba(0, 0, 0, 0.15);\n",
              "      filter: drop-shadow(0px 1px 2px rgba(0, 0, 0, 0.3));\n",
              "      fill: #FFFFFF;\n",
              "    }\n",
              "  </style>\n",
              "\n",
              "      <script>\n",
              "        const buttonEl =\n",
              "          document.querySelector('#df-685fac49-c553-43fa-84df-c85c2e9b6dc9 button.colab-df-convert');\n",
              "        buttonEl.style.display =\n",
              "          google.colab.kernel.accessAllowed ? 'block' : 'none';\n",
              "\n",
              "        async function convertToInteractive(key) {\n",
              "          const element = document.querySelector('#df-685fac49-c553-43fa-84df-c85c2e9b6dc9');\n",
              "          const dataTable =\n",
              "            await google.colab.kernel.invokeFunction('convertToInteractive',\n",
              "                                                     [key], {});\n",
              "          if (!dataTable) return;\n",
              "\n",
              "          const docLinkHtml = 'Like what you see? Visit the ' +\n",
              "            '<a target=\"_blank\" href=https://colab.research.google.com/notebooks/data_table.ipynb>data table notebook</a>'\n",
              "            + ' to learn more about interactive tables.';\n",
              "          element.innerHTML = '';\n",
              "          dataTable['output_type'] = 'display_data';\n",
              "          await google.colab.output.renderOutput(dataTable, element);\n",
              "          const docLink = document.createElement('div');\n",
              "          docLink.innerHTML = docLinkHtml;\n",
              "          element.appendChild(docLink);\n",
              "        }\n",
              "      </script>\n",
              "    </div>\n",
              "  </div>\n",
              "  "
            ]
          },
          "metadata": {},
          "execution_count": 1965
        }
      ]
    },
    {
      "cell_type": "markdown",
      "source": [
        "The `results.xls` file contain the following variables:\n",
        "\n",
        "* `Season` = a variable indicating league and year. For example 'A2016' means Allsvenskan in 2016 and 'D1S2007' means division 1 south in 2007.\n",
        "* `Team` = the team name\n",
        "* `S` = # games played\n",
        "* `V` = # games won\n",
        "* `O` = # games drawn\n",
        "* `F` = # games lost\n",
        "* `GM-IM` = goals scored (GM) and goals conceded (IM)\n",
        "* `D` = the goal difference (GM - IM)\n",
        "* `P` = points (3 p. for wins, 1 p. for draws)"
      ],
      "metadata": {
        "id": "OIuhd7fqeUSr"
      }
    },
    {
      "cell_type": "markdown",
      "source": [
        "## Download team data\n",
        "\n"
      ],
      "metadata": {
        "id": "yTwHQB3L1wBq"
      }
    },
    {
      "cell_type": "code",
      "source": [
        "teams_xls = pd.read_excel('Data/teams.xls')\n",
        "teams_xls[:5]"
      ],
      "metadata": {
        "id": "XsYghcoC3LjU",
        "colab": {
          "base_uri": "https://localhost:8080/",
          "height": 206
        },
        "outputId": "5bd42ba5-9c55-4e40-d229-3d89a75c1bf1"
      },
      "execution_count": null,
      "outputs": [
        {
          "output_type": "execute_result",
          "data": {
            "text/plain": [
              "   Season Team       League   rev  cost_total  cost_wages  \\\n",
              "0    2001  AIK  Allsvenskan  53.2        65.2         NaN   \n",
              "1    2002  AIK  Allsvenskan  71.1        73.3         NaN   \n",
              "2    2003  AIK  Allsvenskan  65.4        68.8         NaN   \n",
              "3    2004  AIK  Allsvenskan  54.1        65.4         NaN   \n",
              "4    2005  AIK   Superettan  44.5        53.1         NaN   \n",
              "\n",
              "   home_attendance_avg  home_attendance_total  \n",
              "0              15496.0               201448.0  \n",
              "1              16551.0               215163.0  \n",
              "2              17302.0               224926.0  \n",
              "3              13881.0               180447.0  \n",
              "4              11872.0               178075.0  "
            ],
            "text/html": [
              "\n",
              "  <div id=\"df-46c51ab7-7da3-49fd-b0b9-b11ec708cd8b\">\n",
              "    <div class=\"colab-df-container\">\n",
              "      <div>\n",
              "<style scoped>\n",
              "    .dataframe tbody tr th:only-of-type {\n",
              "        vertical-align: middle;\n",
              "    }\n",
              "\n",
              "    .dataframe tbody tr th {\n",
              "        vertical-align: top;\n",
              "    }\n",
              "\n",
              "    .dataframe thead th {\n",
              "        text-align: right;\n",
              "    }\n",
              "</style>\n",
              "<table border=\"1\" class=\"dataframe\">\n",
              "  <thead>\n",
              "    <tr style=\"text-align: right;\">\n",
              "      <th></th>\n",
              "      <th>Season</th>\n",
              "      <th>Team</th>\n",
              "      <th>League</th>\n",
              "      <th>rev</th>\n",
              "      <th>cost_total</th>\n",
              "      <th>cost_wages</th>\n",
              "      <th>home_attendance_avg</th>\n",
              "      <th>home_attendance_total</th>\n",
              "    </tr>\n",
              "  </thead>\n",
              "  <tbody>\n",
              "    <tr>\n",
              "      <th>0</th>\n",
              "      <td>2001</td>\n",
              "      <td>AIK</td>\n",
              "      <td>Allsvenskan</td>\n",
              "      <td>53.2</td>\n",
              "      <td>65.2</td>\n",
              "      <td>NaN</td>\n",
              "      <td>15496.0</td>\n",
              "      <td>201448.0</td>\n",
              "    </tr>\n",
              "    <tr>\n",
              "      <th>1</th>\n",
              "      <td>2002</td>\n",
              "      <td>AIK</td>\n",
              "      <td>Allsvenskan</td>\n",
              "      <td>71.1</td>\n",
              "      <td>73.3</td>\n",
              "      <td>NaN</td>\n",
              "      <td>16551.0</td>\n",
              "      <td>215163.0</td>\n",
              "    </tr>\n",
              "    <tr>\n",
              "      <th>2</th>\n",
              "      <td>2003</td>\n",
              "      <td>AIK</td>\n",
              "      <td>Allsvenskan</td>\n",
              "      <td>65.4</td>\n",
              "      <td>68.8</td>\n",
              "      <td>NaN</td>\n",
              "      <td>17302.0</td>\n",
              "      <td>224926.0</td>\n",
              "    </tr>\n",
              "    <tr>\n",
              "      <th>3</th>\n",
              "      <td>2004</td>\n",
              "      <td>AIK</td>\n",
              "      <td>Allsvenskan</td>\n",
              "      <td>54.1</td>\n",
              "      <td>65.4</td>\n",
              "      <td>NaN</td>\n",
              "      <td>13881.0</td>\n",
              "      <td>180447.0</td>\n",
              "    </tr>\n",
              "    <tr>\n",
              "      <th>4</th>\n",
              "      <td>2005</td>\n",
              "      <td>AIK</td>\n",
              "      <td>Superettan</td>\n",
              "      <td>44.5</td>\n",
              "      <td>53.1</td>\n",
              "      <td>NaN</td>\n",
              "      <td>11872.0</td>\n",
              "      <td>178075.0</td>\n",
              "    </tr>\n",
              "  </tbody>\n",
              "</table>\n",
              "</div>\n",
              "      <button class=\"colab-df-convert\" onclick=\"convertToInteractive('df-46c51ab7-7da3-49fd-b0b9-b11ec708cd8b')\"\n",
              "              title=\"Convert this dataframe to an interactive table.\"\n",
              "              style=\"display:none;\">\n",
              "        \n",
              "  <svg xmlns=\"http://www.w3.org/2000/svg\" height=\"24px\"viewBox=\"0 0 24 24\"\n",
              "       width=\"24px\">\n",
              "    <path d=\"M0 0h24v24H0V0z\" fill=\"none\"/>\n",
              "    <path d=\"M18.56 5.44l.94 2.06.94-2.06 2.06-.94-2.06-.94-.94-2.06-.94 2.06-2.06.94zm-11 1L8.5 8.5l.94-2.06 2.06-.94-2.06-.94L8.5 2.5l-.94 2.06-2.06.94zm10 10l.94 2.06.94-2.06 2.06-.94-2.06-.94-.94-2.06-.94 2.06-2.06.94z\"/><path d=\"M17.41 7.96l-1.37-1.37c-.4-.4-.92-.59-1.43-.59-.52 0-1.04.2-1.43.59L10.3 9.45l-7.72 7.72c-.78.78-.78 2.05 0 2.83L4 21.41c.39.39.9.59 1.41.59.51 0 1.02-.2 1.41-.59l7.78-7.78 2.81-2.81c.8-.78.8-2.07 0-2.86zM5.41 20L4 18.59l7.72-7.72 1.47 1.35L5.41 20z\"/>\n",
              "  </svg>\n",
              "      </button>\n",
              "      \n",
              "  <style>\n",
              "    .colab-df-container {\n",
              "      display:flex;\n",
              "      flex-wrap:wrap;\n",
              "      gap: 12px;\n",
              "    }\n",
              "\n",
              "    .colab-df-convert {\n",
              "      background-color: #E8F0FE;\n",
              "      border: none;\n",
              "      border-radius: 50%;\n",
              "      cursor: pointer;\n",
              "      display: none;\n",
              "      fill: #1967D2;\n",
              "      height: 32px;\n",
              "      padding: 0 0 0 0;\n",
              "      width: 32px;\n",
              "    }\n",
              "\n",
              "    .colab-df-convert:hover {\n",
              "      background-color: #E2EBFA;\n",
              "      box-shadow: 0px 1px 2px rgba(60, 64, 67, 0.3), 0px 1px 3px 1px rgba(60, 64, 67, 0.15);\n",
              "      fill: #174EA6;\n",
              "    }\n",
              "\n",
              "    [theme=dark] .colab-df-convert {\n",
              "      background-color: #3B4455;\n",
              "      fill: #D2E3FC;\n",
              "    }\n",
              "\n",
              "    [theme=dark] .colab-df-convert:hover {\n",
              "      background-color: #434B5C;\n",
              "      box-shadow: 0px 1px 3px 1px rgba(0, 0, 0, 0.15);\n",
              "      filter: drop-shadow(0px 1px 2px rgba(0, 0, 0, 0.3));\n",
              "      fill: #FFFFFF;\n",
              "    }\n",
              "  </style>\n",
              "\n",
              "      <script>\n",
              "        const buttonEl =\n",
              "          document.querySelector('#df-46c51ab7-7da3-49fd-b0b9-b11ec708cd8b button.colab-df-convert');\n",
              "        buttonEl.style.display =\n",
              "          google.colab.kernel.accessAllowed ? 'block' : 'none';\n",
              "\n",
              "        async function convertToInteractive(key) {\n",
              "          const element = document.querySelector('#df-46c51ab7-7da3-49fd-b0b9-b11ec708cd8b');\n",
              "          const dataTable =\n",
              "            await google.colab.kernel.invokeFunction('convertToInteractive',\n",
              "                                                     [key], {});\n",
              "          if (!dataTable) return;\n",
              "\n",
              "          const docLinkHtml = 'Like what you see? Visit the ' +\n",
              "            '<a target=\"_blank\" href=https://colab.research.google.com/notebooks/data_table.ipynb>data table notebook</a>'\n",
              "            + ' to learn more about interactive tables.';\n",
              "          element.innerHTML = '';\n",
              "          dataTable['output_type'] = 'display_data';\n",
              "          await google.colab.output.renderOutput(dataTable, element);\n",
              "          const docLink = document.createElement('div');\n",
              "          docLink.innerHTML = docLinkHtml;\n",
              "          element.appendChild(docLink);\n",
              "        }\n",
              "      </script>\n",
              "    </div>\n",
              "  </div>\n",
              "  "
            ]
          },
          "metadata": {},
          "execution_count": 1966
        }
      ]
    },
    {
      "cell_type": "markdown",
      "source": [
        "The `teams.xls` file contain the following variables:\n",
        "* `Season` = the year of the season\n",
        "* `Team` = the name of the team\n",
        "* `League` = the league the team played in. Either 'Allsvenskan' or 'Superettan'. Allsvenskan is the first (highest) division of Swedish football and Superettan is the second division.\n",
        "* `rev` = team revenue for the season in millions SEK (excluding paid transfeer fees)\n",
        "* `cost_total` = team cost in millions SEK (excluding income from transfer fees)\n",
        "* `cost_wages` = wage costs for the `Team` during the specific `Season`\n",
        "* `home_attendance_avg` = the average home attendance for the `Team` during the specific `Season`\n",
        "* `home_attendance_total` = the total home attendance for the `Team` during the specific `Season`\n",
        "\n",
        "The data was collected mostly manually in 2017 by copying and pasting different sources such as reports from the Swedish football ass. on the economics of professional soccer [link](https://svff.svenskfotboll.se/om-svff/organisation/ekonomi/).\n",
        "\n",
        "There are some known errors within the data:\n",
        "\n",
        "1. In 2011 Örgryte IS filed for bankrupcy and was removed from the league (Superettan)\n",
        "2. Wage cost are not reported prior to 2009  meaning there are missing values for the `cost_wages` prior to 2009\n",
        "3. Boden data is missing in original report from SvFF for the season 2005 \n",
        "\n",
        "For a more thorough description of [see here](http://lnu.diva-portal.org/smash/record.jsf?faces-redirect=true&aq2=%5B%5B%5D%5D&af=%5B%5D&searchType=LIST_LATEST&query=&language=sv&pid=diva2%3A1111381&aq=%5B%5B%5D%5D&sf=all&aqe=%5B%5D&sortOrder=author_sort_asc&onlyFullText=false&noOfRows=50&dswid=-2618).\n",
        "\n"
      ],
      "metadata": {
        "id": "lSRA_s3v2zha"
      }
    },
    {
      "cell_type": "markdown",
      "source": [
        "# Database design\n",
        "\n",
        "We want to store this data as tables in a database instead of `.xls` files so that we can easliy run querys to extract the output we want. \n",
        "The below schema shows how I want to structure these tables on the new database.\n",
        "\n",
        "\n",
        "![](https://raw.githubusercontent.com/karl-karlsson/data/main/images/design.PNG)"
      ],
      "metadata": {
        "id": "veAeO7fhzKtQ"
      }
    },
    {
      "cell_type": "markdown",
      "source": [
        "# Data wrangling"
      ],
      "metadata": {
        "id": "BNxl6C9bWR02"
      }
    },
    {
      "cell_type": "markdown",
      "source": [
        "### Teams\n",
        "\n",
        "First I'll create the `Teams` table as a pandas dataframe.\n",
        "What we want is to find all unique team names and assign a unique Id to each.\n",
        "We can get this from the `results_xls` dataframe."
      ],
      "metadata": {
        "id": "z75q43xHl6O7"
      }
    },
    {
      "cell_type": "code",
      "source": [
        "Teams = pd.DataFrame(results_xls.Team.unique())\n",
        "Teams.columns= ['Name']\n",
        "Teams[\"Id\"] = Teams.index + 1\n",
        "Teams = Teams[['Id','Name']]\n",
        "Teams[:2]"
      ],
      "metadata": {
        "colab": {
          "base_uri": "https://localhost:8080/",
          "height": 112
        },
        "id": "tQUG2ExmmWSe",
        "outputId": "f89fe559-86e9-46cd-a493-477ac7e2d144"
      },
      "execution_count": null,
      "outputs": [
        {
          "output_type": "execute_result",
          "data": {
            "text/plain": [
              "   Id      Name\n",
              "0   1  Malmö FF\n",
              "1   2       AIK"
            ],
            "text/html": [
              "\n",
              "  <div id=\"df-c6c2b059-1ff9-4a3f-8bc8-ed2d210cf679\">\n",
              "    <div class=\"colab-df-container\">\n",
              "      <div>\n",
              "<style scoped>\n",
              "    .dataframe tbody tr th:only-of-type {\n",
              "        vertical-align: middle;\n",
              "    }\n",
              "\n",
              "    .dataframe tbody tr th {\n",
              "        vertical-align: top;\n",
              "    }\n",
              "\n",
              "    .dataframe thead th {\n",
              "        text-align: right;\n",
              "    }\n",
              "</style>\n",
              "<table border=\"1\" class=\"dataframe\">\n",
              "  <thead>\n",
              "    <tr style=\"text-align: right;\">\n",
              "      <th></th>\n",
              "      <th>Id</th>\n",
              "      <th>Name</th>\n",
              "    </tr>\n",
              "  </thead>\n",
              "  <tbody>\n",
              "    <tr>\n",
              "      <th>0</th>\n",
              "      <td>1</td>\n",
              "      <td>Malmö FF</td>\n",
              "    </tr>\n",
              "    <tr>\n",
              "      <th>1</th>\n",
              "      <td>2</td>\n",
              "      <td>AIK</td>\n",
              "    </tr>\n",
              "  </tbody>\n",
              "</table>\n",
              "</div>\n",
              "      <button class=\"colab-df-convert\" onclick=\"convertToInteractive('df-c6c2b059-1ff9-4a3f-8bc8-ed2d210cf679')\"\n",
              "              title=\"Convert this dataframe to an interactive table.\"\n",
              "              style=\"display:none;\">\n",
              "        \n",
              "  <svg xmlns=\"http://www.w3.org/2000/svg\" height=\"24px\"viewBox=\"0 0 24 24\"\n",
              "       width=\"24px\">\n",
              "    <path d=\"M0 0h24v24H0V0z\" fill=\"none\"/>\n",
              "    <path d=\"M18.56 5.44l.94 2.06.94-2.06 2.06-.94-2.06-.94-.94-2.06-.94 2.06-2.06.94zm-11 1L8.5 8.5l.94-2.06 2.06-.94-2.06-.94L8.5 2.5l-.94 2.06-2.06.94zm10 10l.94 2.06.94-2.06 2.06-.94-2.06-.94-.94-2.06-.94 2.06-2.06.94z\"/><path d=\"M17.41 7.96l-1.37-1.37c-.4-.4-.92-.59-1.43-.59-.52 0-1.04.2-1.43.59L10.3 9.45l-7.72 7.72c-.78.78-.78 2.05 0 2.83L4 21.41c.39.39.9.59 1.41.59.51 0 1.02-.2 1.41-.59l7.78-7.78 2.81-2.81c.8-.78.8-2.07 0-2.86zM5.41 20L4 18.59l7.72-7.72 1.47 1.35L5.41 20z\"/>\n",
              "  </svg>\n",
              "      </button>\n",
              "      \n",
              "  <style>\n",
              "    .colab-df-container {\n",
              "      display:flex;\n",
              "      flex-wrap:wrap;\n",
              "      gap: 12px;\n",
              "    }\n",
              "\n",
              "    .colab-df-convert {\n",
              "      background-color: #E8F0FE;\n",
              "      border: none;\n",
              "      border-radius: 50%;\n",
              "      cursor: pointer;\n",
              "      display: none;\n",
              "      fill: #1967D2;\n",
              "      height: 32px;\n",
              "      padding: 0 0 0 0;\n",
              "      width: 32px;\n",
              "    }\n",
              "\n",
              "    .colab-df-convert:hover {\n",
              "      background-color: #E2EBFA;\n",
              "      box-shadow: 0px 1px 2px rgba(60, 64, 67, 0.3), 0px 1px 3px 1px rgba(60, 64, 67, 0.15);\n",
              "      fill: #174EA6;\n",
              "    }\n",
              "\n",
              "    [theme=dark] .colab-df-convert {\n",
              "      background-color: #3B4455;\n",
              "      fill: #D2E3FC;\n",
              "    }\n",
              "\n",
              "    [theme=dark] .colab-df-convert:hover {\n",
              "      background-color: #434B5C;\n",
              "      box-shadow: 0px 1px 3px 1px rgba(0, 0, 0, 0.15);\n",
              "      filter: drop-shadow(0px 1px 2px rgba(0, 0, 0, 0.3));\n",
              "      fill: #FFFFFF;\n",
              "    }\n",
              "  </style>\n",
              "\n",
              "      <script>\n",
              "        const buttonEl =\n",
              "          document.querySelector('#df-c6c2b059-1ff9-4a3f-8bc8-ed2d210cf679 button.colab-df-convert');\n",
              "        buttonEl.style.display =\n",
              "          google.colab.kernel.accessAllowed ? 'block' : 'none';\n",
              "\n",
              "        async function convertToInteractive(key) {\n",
              "          const element = document.querySelector('#df-c6c2b059-1ff9-4a3f-8bc8-ed2d210cf679');\n",
              "          const dataTable =\n",
              "            await google.colab.kernel.invokeFunction('convertToInteractive',\n",
              "                                                     [key], {});\n",
              "          if (!dataTable) return;\n",
              "\n",
              "          const docLinkHtml = 'Like what you see? Visit the ' +\n",
              "            '<a target=\"_blank\" href=https://colab.research.google.com/notebooks/data_table.ipynb>data table notebook</a>'\n",
              "            + ' to learn more about interactive tables.';\n",
              "          element.innerHTML = '';\n",
              "          dataTable['output_type'] = 'display_data';\n",
              "          await google.colab.output.renderOutput(dataTable, element);\n",
              "          const docLink = document.createElement('div');\n",
              "          docLink.innerHTML = docLinkHtml;\n",
              "          element.appendChild(docLink);\n",
              "        }\n",
              "      </script>\n",
              "    </div>\n",
              "  </div>\n",
              "  "
            ]
          },
          "metadata": {},
          "execution_count": 1967
        }
      ]
    },
    {
      "cell_type": "markdown",
      "source": [
        "Checking datatypes ([see here](https://pbpython.com/pandas_dtypes.html))"
      ],
      "metadata": {
        "id": "pT8pTQB3OKt_"
      }
    },
    {
      "cell_type": "code",
      "source": [
        "Teams.dtypes"
      ],
      "metadata": {
        "colab": {
          "base_uri": "https://localhost:8080/"
        },
        "id": "wBvMeyqPN33C",
        "outputId": "368ea549-d331-459d-9556-d40c9bde1375"
      },
      "execution_count": null,
      "outputs": [
        {
          "output_type": "execute_result",
          "data": {
            "text/plain": [
              "Id       int64\n",
              "Name    object\n",
              "dtype: object"
            ]
          },
          "metadata": {},
          "execution_count": 1968
        }
      ]
    },
    {
      "cell_type": "markdown",
      "source": [
        "Datatypes seem reasonable.\n",
        "\n",
        "Also check the `shape` of `Teams`"
      ],
      "metadata": {
        "id": "4aS3oGvzOaDN"
      }
    },
    {
      "cell_type": "code",
      "source": [
        "Teams.shape"
      ],
      "metadata": {
        "colab": {
          "base_uri": "https://localhost:8080/"
        },
        "id": "qmubn-FIpUYX",
        "outputId": "a2102dcf-237d-49ca-e2e2-963b2c90971b"
      },
      "execution_count": null,
      "outputs": [
        {
          "output_type": "execute_result",
          "data": {
            "text/plain": [
              "(115, 2)"
            ]
          },
          "metadata": {},
          "execution_count": 1969
        }
      ]
    },
    {
      "cell_type": "markdown",
      "source": [
        "There are 115 unique teams in the table (which I happen to know is correct...). We'll also add a new `TeamId` variable to the old `results_xls` dataframe to make things easier down the road. "
      ],
      "metadata": {
        "id": "bdA_1LLfpaTO"
      }
    },
    {
      "cell_type": "code",
      "source": [
        "results_xls = pd.merge(results_xls,Teams,left_on='Team',right_on='Name').iloc[:,:10] # Select only first 10 cols to not include 'Name' from 'Teams'\n",
        "results_xls.rename(columns = {'Id':'TeamId'}, inplace = True)\n",
        "results_xls[:2]"
      ],
      "metadata": {
        "colab": {
          "base_uri": "https://localhost:8080/",
          "height": 112
        },
        "id": "exf_TePTqHWi",
        "outputId": "d815a02f-746a-4e06-dccc-dfb8e9304ae0"
      },
      "execution_count": null,
      "outputs": [
        {
          "output_type": "execute_result",
          "data": {
            "text/plain": [
              "  Season      Team   S   V  O  F  GM-IM   D   P  TeamId\n",
              "0  A2016  Malmö FF  30  21  3  6  60-26  34  66       1\n",
              "1  A2015  Malmö FF  30  15  9  6  54-34  20  54       1"
            ],
            "text/html": [
              "\n",
              "  <div id=\"df-25f451eb-ff47-43fd-a41a-10e21c81018b\">\n",
              "    <div class=\"colab-df-container\">\n",
              "      <div>\n",
              "<style scoped>\n",
              "    .dataframe tbody tr th:only-of-type {\n",
              "        vertical-align: middle;\n",
              "    }\n",
              "\n",
              "    .dataframe tbody tr th {\n",
              "        vertical-align: top;\n",
              "    }\n",
              "\n",
              "    .dataframe thead th {\n",
              "        text-align: right;\n",
              "    }\n",
              "</style>\n",
              "<table border=\"1\" class=\"dataframe\">\n",
              "  <thead>\n",
              "    <tr style=\"text-align: right;\">\n",
              "      <th></th>\n",
              "      <th>Season</th>\n",
              "      <th>Team</th>\n",
              "      <th>S</th>\n",
              "      <th>V</th>\n",
              "      <th>O</th>\n",
              "      <th>F</th>\n",
              "      <th>GM-IM</th>\n",
              "      <th>D</th>\n",
              "      <th>P</th>\n",
              "      <th>TeamId</th>\n",
              "    </tr>\n",
              "  </thead>\n",
              "  <tbody>\n",
              "    <tr>\n",
              "      <th>0</th>\n",
              "      <td>A2016</td>\n",
              "      <td>Malmö FF</td>\n",
              "      <td>30</td>\n",
              "      <td>21</td>\n",
              "      <td>3</td>\n",
              "      <td>6</td>\n",
              "      <td>60-26</td>\n",
              "      <td>34</td>\n",
              "      <td>66</td>\n",
              "      <td>1</td>\n",
              "    </tr>\n",
              "    <tr>\n",
              "      <th>1</th>\n",
              "      <td>A2015</td>\n",
              "      <td>Malmö FF</td>\n",
              "      <td>30</td>\n",
              "      <td>15</td>\n",
              "      <td>9</td>\n",
              "      <td>6</td>\n",
              "      <td>54-34</td>\n",
              "      <td>20</td>\n",
              "      <td>54</td>\n",
              "      <td>1</td>\n",
              "    </tr>\n",
              "  </tbody>\n",
              "</table>\n",
              "</div>\n",
              "      <button class=\"colab-df-convert\" onclick=\"convertToInteractive('df-25f451eb-ff47-43fd-a41a-10e21c81018b')\"\n",
              "              title=\"Convert this dataframe to an interactive table.\"\n",
              "              style=\"display:none;\">\n",
              "        \n",
              "  <svg xmlns=\"http://www.w3.org/2000/svg\" height=\"24px\"viewBox=\"0 0 24 24\"\n",
              "       width=\"24px\">\n",
              "    <path d=\"M0 0h24v24H0V0z\" fill=\"none\"/>\n",
              "    <path d=\"M18.56 5.44l.94 2.06.94-2.06 2.06-.94-2.06-.94-.94-2.06-.94 2.06-2.06.94zm-11 1L8.5 8.5l.94-2.06 2.06-.94-2.06-.94L8.5 2.5l-.94 2.06-2.06.94zm10 10l.94 2.06.94-2.06 2.06-.94-2.06-.94-.94-2.06-.94 2.06-2.06.94z\"/><path d=\"M17.41 7.96l-1.37-1.37c-.4-.4-.92-.59-1.43-.59-.52 0-1.04.2-1.43.59L10.3 9.45l-7.72 7.72c-.78.78-.78 2.05 0 2.83L4 21.41c.39.39.9.59 1.41.59.51 0 1.02-.2 1.41-.59l7.78-7.78 2.81-2.81c.8-.78.8-2.07 0-2.86zM5.41 20L4 18.59l7.72-7.72 1.47 1.35L5.41 20z\"/>\n",
              "  </svg>\n",
              "      </button>\n",
              "      \n",
              "  <style>\n",
              "    .colab-df-container {\n",
              "      display:flex;\n",
              "      flex-wrap:wrap;\n",
              "      gap: 12px;\n",
              "    }\n",
              "\n",
              "    .colab-df-convert {\n",
              "      background-color: #E8F0FE;\n",
              "      border: none;\n",
              "      border-radius: 50%;\n",
              "      cursor: pointer;\n",
              "      display: none;\n",
              "      fill: #1967D2;\n",
              "      height: 32px;\n",
              "      padding: 0 0 0 0;\n",
              "      width: 32px;\n",
              "    }\n",
              "\n",
              "    .colab-df-convert:hover {\n",
              "      background-color: #E2EBFA;\n",
              "      box-shadow: 0px 1px 2px rgba(60, 64, 67, 0.3), 0px 1px 3px 1px rgba(60, 64, 67, 0.15);\n",
              "      fill: #174EA6;\n",
              "    }\n",
              "\n",
              "    [theme=dark] .colab-df-convert {\n",
              "      background-color: #3B4455;\n",
              "      fill: #D2E3FC;\n",
              "    }\n",
              "\n",
              "    [theme=dark] .colab-df-convert:hover {\n",
              "      background-color: #434B5C;\n",
              "      box-shadow: 0px 1px 3px 1px rgba(0, 0, 0, 0.15);\n",
              "      filter: drop-shadow(0px 1px 2px rgba(0, 0, 0, 0.3));\n",
              "      fill: #FFFFFF;\n",
              "    }\n",
              "  </style>\n",
              "\n",
              "      <script>\n",
              "        const buttonEl =\n",
              "          document.querySelector('#df-25f451eb-ff47-43fd-a41a-10e21c81018b button.colab-df-convert');\n",
              "        buttonEl.style.display =\n",
              "          google.colab.kernel.accessAllowed ? 'block' : 'none';\n",
              "\n",
              "        async function convertToInteractive(key) {\n",
              "          const element = document.querySelector('#df-25f451eb-ff47-43fd-a41a-10e21c81018b');\n",
              "          const dataTable =\n",
              "            await google.colab.kernel.invokeFunction('convertToInteractive',\n",
              "                                                     [key], {});\n",
              "          if (!dataTable) return;\n",
              "\n",
              "          const docLinkHtml = 'Like what you see? Visit the ' +\n",
              "            '<a target=\"_blank\" href=https://colab.research.google.com/notebooks/data_table.ipynb>data table notebook</a>'\n",
              "            + ' to learn more about interactive tables.';\n",
              "          element.innerHTML = '';\n",
              "          dataTable['output_type'] = 'display_data';\n",
              "          await google.colab.output.renderOutput(dataTable, element);\n",
              "          const docLink = document.createElement('div');\n",
              "          docLink.innerHTML = docLinkHtml;\n",
              "          element.appendChild(docLink);\n",
              "        }\n",
              "      </script>\n",
              "    </div>\n",
              "  </div>\n",
              "  "
            ]
          },
          "metadata": {},
          "execution_count": 1970
        }
      ]
    },
    {
      "cell_type": "markdown",
      "source": [
        "### LeagueSeason\n",
        "\n",
        "Lets now create the `LeagueSeason` table.\n",
        "The table should include year, league name and an unique Id that identifies the row. \n",
        "\n"
      ],
      "metadata": {
        "id": "WNtRzJA1l6GY"
      }
    },
    {
      "cell_type": "code",
      "source": [
        "# Create the year variable as integer from the last 4 characters of the season string\n",
        "results_xls[\"Year\"] = results_xls.Season.str[-4:].astype(int)\n",
        "\n",
        "# Create league variable and remover all years (\"A2016\" --> \"A\")\n",
        "results_xls[\"League\"] = results_xls[\"Season\"]\n",
        "for year in range(2007,2017):\n",
        "  year = str(year)\n",
        "  results_xls.League = results_xls.League.str.replace(year,\"\")\n",
        "\n",
        "results_xls[:2]"
      ],
      "metadata": {
        "colab": {
          "base_uri": "https://localhost:8080/",
          "height": 112
        },
        "id": "R7HPHVlGptje",
        "outputId": "c390c675-f1f0-4724-d408-3c107ff40a5d"
      },
      "execution_count": null,
      "outputs": [
        {
          "output_type": "execute_result",
          "data": {
            "text/plain": [
              "  Season      Team   S   V  O  F  GM-IM   D   P  TeamId  Year League\n",
              "0  A2016  Malmö FF  30  21  3  6  60-26  34  66       1  2016      A\n",
              "1  A2015  Malmö FF  30  15  9  6  54-34  20  54       1  2015      A"
            ],
            "text/html": [
              "\n",
              "  <div id=\"df-8475bbbd-db62-48d4-a42a-c6e611f390fc\">\n",
              "    <div class=\"colab-df-container\">\n",
              "      <div>\n",
              "<style scoped>\n",
              "    .dataframe tbody tr th:only-of-type {\n",
              "        vertical-align: middle;\n",
              "    }\n",
              "\n",
              "    .dataframe tbody tr th {\n",
              "        vertical-align: top;\n",
              "    }\n",
              "\n",
              "    .dataframe thead th {\n",
              "        text-align: right;\n",
              "    }\n",
              "</style>\n",
              "<table border=\"1\" class=\"dataframe\">\n",
              "  <thead>\n",
              "    <tr style=\"text-align: right;\">\n",
              "      <th></th>\n",
              "      <th>Season</th>\n",
              "      <th>Team</th>\n",
              "      <th>S</th>\n",
              "      <th>V</th>\n",
              "      <th>O</th>\n",
              "      <th>F</th>\n",
              "      <th>GM-IM</th>\n",
              "      <th>D</th>\n",
              "      <th>P</th>\n",
              "      <th>TeamId</th>\n",
              "      <th>Year</th>\n",
              "      <th>League</th>\n",
              "    </tr>\n",
              "  </thead>\n",
              "  <tbody>\n",
              "    <tr>\n",
              "      <th>0</th>\n",
              "      <td>A2016</td>\n",
              "      <td>Malmö FF</td>\n",
              "      <td>30</td>\n",
              "      <td>21</td>\n",
              "      <td>3</td>\n",
              "      <td>6</td>\n",
              "      <td>60-26</td>\n",
              "      <td>34</td>\n",
              "      <td>66</td>\n",
              "      <td>1</td>\n",
              "      <td>2016</td>\n",
              "      <td>A</td>\n",
              "    </tr>\n",
              "    <tr>\n",
              "      <th>1</th>\n",
              "      <td>A2015</td>\n",
              "      <td>Malmö FF</td>\n",
              "      <td>30</td>\n",
              "      <td>15</td>\n",
              "      <td>9</td>\n",
              "      <td>6</td>\n",
              "      <td>54-34</td>\n",
              "      <td>20</td>\n",
              "      <td>54</td>\n",
              "      <td>1</td>\n",
              "      <td>2015</td>\n",
              "      <td>A</td>\n",
              "    </tr>\n",
              "  </tbody>\n",
              "</table>\n",
              "</div>\n",
              "      <button class=\"colab-df-convert\" onclick=\"convertToInteractive('df-8475bbbd-db62-48d4-a42a-c6e611f390fc')\"\n",
              "              title=\"Convert this dataframe to an interactive table.\"\n",
              "              style=\"display:none;\">\n",
              "        \n",
              "  <svg xmlns=\"http://www.w3.org/2000/svg\" height=\"24px\"viewBox=\"0 0 24 24\"\n",
              "       width=\"24px\">\n",
              "    <path d=\"M0 0h24v24H0V0z\" fill=\"none\"/>\n",
              "    <path d=\"M18.56 5.44l.94 2.06.94-2.06 2.06-.94-2.06-.94-.94-2.06-.94 2.06-2.06.94zm-11 1L8.5 8.5l.94-2.06 2.06-.94-2.06-.94L8.5 2.5l-.94 2.06-2.06.94zm10 10l.94 2.06.94-2.06 2.06-.94-2.06-.94-.94-2.06-.94 2.06-2.06.94z\"/><path d=\"M17.41 7.96l-1.37-1.37c-.4-.4-.92-.59-1.43-.59-.52 0-1.04.2-1.43.59L10.3 9.45l-7.72 7.72c-.78.78-.78 2.05 0 2.83L4 21.41c.39.39.9.59 1.41.59.51 0 1.02-.2 1.41-.59l7.78-7.78 2.81-2.81c.8-.78.8-2.07 0-2.86zM5.41 20L4 18.59l7.72-7.72 1.47 1.35L5.41 20z\"/>\n",
              "  </svg>\n",
              "      </button>\n",
              "      \n",
              "  <style>\n",
              "    .colab-df-container {\n",
              "      display:flex;\n",
              "      flex-wrap:wrap;\n",
              "      gap: 12px;\n",
              "    }\n",
              "\n",
              "    .colab-df-convert {\n",
              "      background-color: #E8F0FE;\n",
              "      border: none;\n",
              "      border-radius: 50%;\n",
              "      cursor: pointer;\n",
              "      display: none;\n",
              "      fill: #1967D2;\n",
              "      height: 32px;\n",
              "      padding: 0 0 0 0;\n",
              "      width: 32px;\n",
              "    }\n",
              "\n",
              "    .colab-df-convert:hover {\n",
              "      background-color: #E2EBFA;\n",
              "      box-shadow: 0px 1px 2px rgba(60, 64, 67, 0.3), 0px 1px 3px 1px rgba(60, 64, 67, 0.15);\n",
              "      fill: #174EA6;\n",
              "    }\n",
              "\n",
              "    [theme=dark] .colab-df-convert {\n",
              "      background-color: #3B4455;\n",
              "      fill: #D2E3FC;\n",
              "    }\n",
              "\n",
              "    [theme=dark] .colab-df-convert:hover {\n",
              "      background-color: #434B5C;\n",
              "      box-shadow: 0px 1px 3px 1px rgba(0, 0, 0, 0.15);\n",
              "      filter: drop-shadow(0px 1px 2px rgba(0, 0, 0, 0.3));\n",
              "      fill: #FFFFFF;\n",
              "    }\n",
              "  </style>\n",
              "\n",
              "      <script>\n",
              "        const buttonEl =\n",
              "          document.querySelector('#df-8475bbbd-db62-48d4-a42a-c6e611f390fc button.colab-df-convert');\n",
              "        buttonEl.style.display =\n",
              "          google.colab.kernel.accessAllowed ? 'block' : 'none';\n",
              "\n",
              "        async function convertToInteractive(key) {\n",
              "          const element = document.querySelector('#df-8475bbbd-db62-48d4-a42a-c6e611f390fc');\n",
              "          const dataTable =\n",
              "            await google.colab.kernel.invokeFunction('convertToInteractive',\n",
              "                                                     [key], {});\n",
              "          if (!dataTable) return;\n",
              "\n",
              "          const docLinkHtml = 'Like what you see? Visit the ' +\n",
              "            '<a target=\"_blank\" href=https://colab.research.google.com/notebooks/data_table.ipynb>data table notebook</a>'\n",
              "            + ' to learn more about interactive tables.';\n",
              "          element.innerHTML = '';\n",
              "          dataTable['output_type'] = 'display_data';\n",
              "          await google.colab.output.renderOutput(dataTable, element);\n",
              "          const docLink = document.createElement('div');\n",
              "          docLink.innerHTML = docLinkHtml;\n",
              "          element.appendChild(docLink);\n",
              "        }\n",
              "      </script>\n",
              "    </div>\n",
              "  </div>\n",
              "  "
            ]
          },
          "metadata": {},
          "execution_count": 1971
        }
      ]
    },
    {
      "cell_type": "code",
      "source": [
        "results_xls.League.unique()"
      ],
      "metadata": {
        "colab": {
          "base_uri": "https://localhost:8080/"
        },
        "id": "3X4AA_9YxGDA",
        "outputId": "d0913eb2-beb5-4b4e-8f77-ec604953706b"
      },
      "execution_count": null,
      "outputs": [
        {
          "output_type": "execute_result",
          "data": {
            "text/plain": [
              "array(['A', 'SE', 'D1N', 'D1S'], dtype=object)"
            ]
          },
          "metadata": {},
          "execution_count": 1972
        }
      ]
    },
    {
      "cell_type": "code",
      "source": [
        "results_xls['League'] = results_xls['League'].str.strip().replace(dict(zip([\"A\", \"SE\", \"D1N\", \"D1S\"], [\"Allsvenskan\",\"Superettan\", \"Division 1 N.\", \"Division 1 S.\"])),regex=True)\n",
        "results_xls[:2]"
      ],
      "metadata": {
        "colab": {
          "base_uri": "https://localhost:8080/",
          "height": 112
        },
        "id": "TZTf8qehxLAx",
        "outputId": "f8c3a162-5893-4899-86c1-e01d9062b46f"
      },
      "execution_count": null,
      "outputs": [
        {
          "output_type": "execute_result",
          "data": {
            "text/plain": [
              "  Season      Team   S   V  O  F  GM-IM   D   P  TeamId  Year       League\n",
              "0  A2016  Malmö FF  30  21  3  6  60-26  34  66       1  2016  Allsvenskan\n",
              "1  A2015  Malmö FF  30  15  9  6  54-34  20  54       1  2015  Allsvenskan"
            ],
            "text/html": [
              "\n",
              "  <div id=\"df-eabf3c09-0c1c-4e47-ad97-b30a868944b3\">\n",
              "    <div class=\"colab-df-container\">\n",
              "      <div>\n",
              "<style scoped>\n",
              "    .dataframe tbody tr th:only-of-type {\n",
              "        vertical-align: middle;\n",
              "    }\n",
              "\n",
              "    .dataframe tbody tr th {\n",
              "        vertical-align: top;\n",
              "    }\n",
              "\n",
              "    .dataframe thead th {\n",
              "        text-align: right;\n",
              "    }\n",
              "</style>\n",
              "<table border=\"1\" class=\"dataframe\">\n",
              "  <thead>\n",
              "    <tr style=\"text-align: right;\">\n",
              "      <th></th>\n",
              "      <th>Season</th>\n",
              "      <th>Team</th>\n",
              "      <th>S</th>\n",
              "      <th>V</th>\n",
              "      <th>O</th>\n",
              "      <th>F</th>\n",
              "      <th>GM-IM</th>\n",
              "      <th>D</th>\n",
              "      <th>P</th>\n",
              "      <th>TeamId</th>\n",
              "      <th>Year</th>\n",
              "      <th>League</th>\n",
              "    </tr>\n",
              "  </thead>\n",
              "  <tbody>\n",
              "    <tr>\n",
              "      <th>0</th>\n",
              "      <td>A2016</td>\n",
              "      <td>Malmö FF</td>\n",
              "      <td>30</td>\n",
              "      <td>21</td>\n",
              "      <td>3</td>\n",
              "      <td>6</td>\n",
              "      <td>60-26</td>\n",
              "      <td>34</td>\n",
              "      <td>66</td>\n",
              "      <td>1</td>\n",
              "      <td>2016</td>\n",
              "      <td>Allsvenskan</td>\n",
              "    </tr>\n",
              "    <tr>\n",
              "      <th>1</th>\n",
              "      <td>A2015</td>\n",
              "      <td>Malmö FF</td>\n",
              "      <td>30</td>\n",
              "      <td>15</td>\n",
              "      <td>9</td>\n",
              "      <td>6</td>\n",
              "      <td>54-34</td>\n",
              "      <td>20</td>\n",
              "      <td>54</td>\n",
              "      <td>1</td>\n",
              "      <td>2015</td>\n",
              "      <td>Allsvenskan</td>\n",
              "    </tr>\n",
              "  </tbody>\n",
              "</table>\n",
              "</div>\n",
              "      <button class=\"colab-df-convert\" onclick=\"convertToInteractive('df-eabf3c09-0c1c-4e47-ad97-b30a868944b3')\"\n",
              "              title=\"Convert this dataframe to an interactive table.\"\n",
              "              style=\"display:none;\">\n",
              "        \n",
              "  <svg xmlns=\"http://www.w3.org/2000/svg\" height=\"24px\"viewBox=\"0 0 24 24\"\n",
              "       width=\"24px\">\n",
              "    <path d=\"M0 0h24v24H0V0z\" fill=\"none\"/>\n",
              "    <path d=\"M18.56 5.44l.94 2.06.94-2.06 2.06-.94-2.06-.94-.94-2.06-.94 2.06-2.06.94zm-11 1L8.5 8.5l.94-2.06 2.06-.94-2.06-.94L8.5 2.5l-.94 2.06-2.06.94zm10 10l.94 2.06.94-2.06 2.06-.94-2.06-.94-.94-2.06-.94 2.06-2.06.94z\"/><path d=\"M17.41 7.96l-1.37-1.37c-.4-.4-.92-.59-1.43-.59-.52 0-1.04.2-1.43.59L10.3 9.45l-7.72 7.72c-.78.78-.78 2.05 0 2.83L4 21.41c.39.39.9.59 1.41.59.51 0 1.02-.2 1.41-.59l7.78-7.78 2.81-2.81c.8-.78.8-2.07 0-2.86zM5.41 20L4 18.59l7.72-7.72 1.47 1.35L5.41 20z\"/>\n",
              "  </svg>\n",
              "      </button>\n",
              "      \n",
              "  <style>\n",
              "    .colab-df-container {\n",
              "      display:flex;\n",
              "      flex-wrap:wrap;\n",
              "      gap: 12px;\n",
              "    }\n",
              "\n",
              "    .colab-df-convert {\n",
              "      background-color: #E8F0FE;\n",
              "      border: none;\n",
              "      border-radius: 50%;\n",
              "      cursor: pointer;\n",
              "      display: none;\n",
              "      fill: #1967D2;\n",
              "      height: 32px;\n",
              "      padding: 0 0 0 0;\n",
              "      width: 32px;\n",
              "    }\n",
              "\n",
              "    .colab-df-convert:hover {\n",
              "      background-color: #E2EBFA;\n",
              "      box-shadow: 0px 1px 2px rgba(60, 64, 67, 0.3), 0px 1px 3px 1px rgba(60, 64, 67, 0.15);\n",
              "      fill: #174EA6;\n",
              "    }\n",
              "\n",
              "    [theme=dark] .colab-df-convert {\n",
              "      background-color: #3B4455;\n",
              "      fill: #D2E3FC;\n",
              "    }\n",
              "\n",
              "    [theme=dark] .colab-df-convert:hover {\n",
              "      background-color: #434B5C;\n",
              "      box-shadow: 0px 1px 3px 1px rgba(0, 0, 0, 0.15);\n",
              "      filter: drop-shadow(0px 1px 2px rgba(0, 0, 0, 0.3));\n",
              "      fill: #FFFFFF;\n",
              "    }\n",
              "  </style>\n",
              "\n",
              "      <script>\n",
              "        const buttonEl =\n",
              "          document.querySelector('#df-eabf3c09-0c1c-4e47-ad97-b30a868944b3 button.colab-df-convert');\n",
              "        buttonEl.style.display =\n",
              "          google.colab.kernel.accessAllowed ? 'block' : 'none';\n",
              "\n",
              "        async function convertToInteractive(key) {\n",
              "          const element = document.querySelector('#df-eabf3c09-0c1c-4e47-ad97-b30a868944b3');\n",
              "          const dataTable =\n",
              "            await google.colab.kernel.invokeFunction('convertToInteractive',\n",
              "                                                     [key], {});\n",
              "          if (!dataTable) return;\n",
              "\n",
              "          const docLinkHtml = 'Like what you see? Visit the ' +\n",
              "            '<a target=\"_blank\" href=https://colab.research.google.com/notebooks/data_table.ipynb>data table notebook</a>'\n",
              "            + ' to learn more about interactive tables.';\n",
              "          element.innerHTML = '';\n",
              "          dataTable['output_type'] = 'display_data';\n",
              "          await google.colab.output.renderOutput(dataTable, element);\n",
              "          const docLink = document.createElement('div');\n",
              "          docLink.innerHTML = docLinkHtml;\n",
              "          element.appendChild(docLink);\n",
              "        }\n",
              "      </script>\n",
              "    </div>\n",
              "  </div>\n",
              "  "
            ]
          },
          "metadata": {},
          "execution_count": 1973
        }
      ]
    },
    {
      "cell_type": "code",
      "source": [
        "LeagueSeason = results_xls[[\"Year\",\"League\",\"Season\"]].drop_duplicates()\n",
        "LeagueSeason['Id'] = LeagueSeason.groupby(['Year','League']).ngroup()+1\n",
        "LeagueSeason = LeagueSeason.sort_values(\"Id\")\n",
        "LeagueSeason = LeagueSeason[[\"Id\",\"League\",\"Year\"]]\n",
        "LeagueSeason[:2]"
      ],
      "metadata": {
        "colab": {
          "base_uri": "https://localhost:8080/",
          "height": 112
        },
        "id": "rcJYMjAeuL2M",
        "outputId": "6e595aad-ddb6-49bd-8122-ac297d062899"
      },
      "execution_count": null,
      "outputs": [
        {
          "output_type": "execute_result",
          "data": {
            "text/plain": [
              "    Id         League  Year\n",
              "9    1    Allsvenskan  2007\n",
              "78   2  Division 1 N.  2007"
            ],
            "text/html": [
              "\n",
              "  <div id=\"df-dbdfefcc-91a1-4d6f-b12c-f8c51466b3aa\">\n",
              "    <div class=\"colab-df-container\">\n",
              "      <div>\n",
              "<style scoped>\n",
              "    .dataframe tbody tr th:only-of-type {\n",
              "        vertical-align: middle;\n",
              "    }\n",
              "\n",
              "    .dataframe tbody tr th {\n",
              "        vertical-align: top;\n",
              "    }\n",
              "\n",
              "    .dataframe thead th {\n",
              "        text-align: right;\n",
              "    }\n",
              "</style>\n",
              "<table border=\"1\" class=\"dataframe\">\n",
              "  <thead>\n",
              "    <tr style=\"text-align: right;\">\n",
              "      <th></th>\n",
              "      <th>Id</th>\n",
              "      <th>League</th>\n",
              "      <th>Year</th>\n",
              "    </tr>\n",
              "  </thead>\n",
              "  <tbody>\n",
              "    <tr>\n",
              "      <th>9</th>\n",
              "      <td>1</td>\n",
              "      <td>Allsvenskan</td>\n",
              "      <td>2007</td>\n",
              "    </tr>\n",
              "    <tr>\n",
              "      <th>78</th>\n",
              "      <td>2</td>\n",
              "      <td>Division 1 N.</td>\n",
              "      <td>2007</td>\n",
              "    </tr>\n",
              "  </tbody>\n",
              "</table>\n",
              "</div>\n",
              "      <button class=\"colab-df-convert\" onclick=\"convertToInteractive('df-dbdfefcc-91a1-4d6f-b12c-f8c51466b3aa')\"\n",
              "              title=\"Convert this dataframe to an interactive table.\"\n",
              "              style=\"display:none;\">\n",
              "        \n",
              "  <svg xmlns=\"http://www.w3.org/2000/svg\" height=\"24px\"viewBox=\"0 0 24 24\"\n",
              "       width=\"24px\">\n",
              "    <path d=\"M0 0h24v24H0V0z\" fill=\"none\"/>\n",
              "    <path d=\"M18.56 5.44l.94 2.06.94-2.06 2.06-.94-2.06-.94-.94-2.06-.94 2.06-2.06.94zm-11 1L8.5 8.5l.94-2.06 2.06-.94-2.06-.94L8.5 2.5l-.94 2.06-2.06.94zm10 10l.94 2.06.94-2.06 2.06-.94-2.06-.94-.94-2.06-.94 2.06-2.06.94z\"/><path d=\"M17.41 7.96l-1.37-1.37c-.4-.4-.92-.59-1.43-.59-.52 0-1.04.2-1.43.59L10.3 9.45l-7.72 7.72c-.78.78-.78 2.05 0 2.83L4 21.41c.39.39.9.59 1.41.59.51 0 1.02-.2 1.41-.59l7.78-7.78 2.81-2.81c.8-.78.8-2.07 0-2.86zM5.41 20L4 18.59l7.72-7.72 1.47 1.35L5.41 20z\"/>\n",
              "  </svg>\n",
              "      </button>\n",
              "      \n",
              "  <style>\n",
              "    .colab-df-container {\n",
              "      display:flex;\n",
              "      flex-wrap:wrap;\n",
              "      gap: 12px;\n",
              "    }\n",
              "\n",
              "    .colab-df-convert {\n",
              "      background-color: #E8F0FE;\n",
              "      border: none;\n",
              "      border-radius: 50%;\n",
              "      cursor: pointer;\n",
              "      display: none;\n",
              "      fill: #1967D2;\n",
              "      height: 32px;\n",
              "      padding: 0 0 0 0;\n",
              "      width: 32px;\n",
              "    }\n",
              "\n",
              "    .colab-df-convert:hover {\n",
              "      background-color: #E2EBFA;\n",
              "      box-shadow: 0px 1px 2px rgba(60, 64, 67, 0.3), 0px 1px 3px 1px rgba(60, 64, 67, 0.15);\n",
              "      fill: #174EA6;\n",
              "    }\n",
              "\n",
              "    [theme=dark] .colab-df-convert {\n",
              "      background-color: #3B4455;\n",
              "      fill: #D2E3FC;\n",
              "    }\n",
              "\n",
              "    [theme=dark] .colab-df-convert:hover {\n",
              "      background-color: #434B5C;\n",
              "      box-shadow: 0px 1px 3px 1px rgba(0, 0, 0, 0.15);\n",
              "      filter: drop-shadow(0px 1px 2px rgba(0, 0, 0, 0.3));\n",
              "      fill: #FFFFFF;\n",
              "    }\n",
              "  </style>\n",
              "\n",
              "      <script>\n",
              "        const buttonEl =\n",
              "          document.querySelector('#df-dbdfefcc-91a1-4d6f-b12c-f8c51466b3aa button.colab-df-convert');\n",
              "        buttonEl.style.display =\n",
              "          google.colab.kernel.accessAllowed ? 'block' : 'none';\n",
              "\n",
              "        async function convertToInteractive(key) {\n",
              "          const element = document.querySelector('#df-dbdfefcc-91a1-4d6f-b12c-f8c51466b3aa');\n",
              "          const dataTable =\n",
              "            await google.colab.kernel.invokeFunction('convertToInteractive',\n",
              "                                                     [key], {});\n",
              "          if (!dataTable) return;\n",
              "\n",
              "          const docLinkHtml = 'Like what you see? Visit the ' +\n",
              "            '<a target=\"_blank\" href=https://colab.research.google.com/notebooks/data_table.ipynb>data table notebook</a>'\n",
              "            + ' to learn more about interactive tables.';\n",
              "          element.innerHTML = '';\n",
              "          dataTable['output_type'] = 'display_data';\n",
              "          await google.colab.output.renderOutput(dataTable, element);\n",
              "          const docLink = document.createElement('div');\n",
              "          docLink.innerHTML = docLinkHtml;\n",
              "          element.appendChild(docLink);\n",
              "        }\n",
              "      </script>\n",
              "    </div>\n",
              "  </div>\n",
              "  "
            ]
          },
          "metadata": {},
          "execution_count": 1974
        }
      ]
    },
    {
      "cell_type": "markdown",
      "source": [
        "Checking datatypes"
      ],
      "metadata": {
        "id": "UUiOpZPzPTz0"
      }
    },
    {
      "cell_type": "code",
      "source": [
        "LeagueSeason.dtypes"
      ],
      "metadata": {
        "colab": {
          "base_uri": "https://localhost:8080/"
        },
        "id": "RjcvhAvMOVBj",
        "outputId": "a1226d4d-87aa-4dee-e7de-41cab7aa3f3a"
      },
      "execution_count": null,
      "outputs": [
        {
          "output_type": "execute_result",
          "data": {
            "text/plain": [
              "Id         int64\n",
              "League    object\n",
              "Year       int64\n",
              "dtype: object"
            ]
          },
          "metadata": {},
          "execution_count": 1975
        }
      ]
    },
    {
      "cell_type": "markdown",
      "source": [
        "`Id` and `Year` should be integers and `League` is a string for which `dtype = object` is correct."
      ],
      "metadata": {
        "id": "9GA9vme3Or4L"
      }
    },
    {
      "cell_type": "code",
      "source": [
        "results_xls = pd.merge(results_xls,LeagueSeason,on=['League','Year'])\n",
        "results_xls.rename(columns = {'Id':'LeagueSeasonId'}, inplace = True)\n",
        "results_xls[:2]"
      ],
      "metadata": {
        "colab": {
          "base_uri": "https://localhost:8080/",
          "height": 112
        },
        "id": "3BUS1gaKz0u-",
        "outputId": "6fbd42fa-ab95-4664-f276-ee0b9ad39168"
      },
      "execution_count": null,
      "outputs": [
        {
          "output_type": "execute_result",
          "data": {
            "text/plain": [
              "  Season      Team   S   V  O  F  GM-IM   D   P  TeamId  Year       League  \\\n",
              "0  A2016  Malmö FF  30  21  3  6  60-26  34  66       1  2016  Allsvenskan   \n",
              "1  A2016       AIK  30  17  9  4  52-26  26  60       2  2016  Allsvenskan   \n",
              "\n",
              "   LeagueSeasonId  \n",
              "0              37  \n",
              "1              37  "
            ],
            "text/html": [
              "\n",
              "  <div id=\"df-e821216d-0c77-451c-b5e3-9d31ba327bc8\">\n",
              "    <div class=\"colab-df-container\">\n",
              "      <div>\n",
              "<style scoped>\n",
              "    .dataframe tbody tr th:only-of-type {\n",
              "        vertical-align: middle;\n",
              "    }\n",
              "\n",
              "    .dataframe tbody tr th {\n",
              "        vertical-align: top;\n",
              "    }\n",
              "\n",
              "    .dataframe thead th {\n",
              "        text-align: right;\n",
              "    }\n",
              "</style>\n",
              "<table border=\"1\" class=\"dataframe\">\n",
              "  <thead>\n",
              "    <tr style=\"text-align: right;\">\n",
              "      <th></th>\n",
              "      <th>Season</th>\n",
              "      <th>Team</th>\n",
              "      <th>S</th>\n",
              "      <th>V</th>\n",
              "      <th>O</th>\n",
              "      <th>F</th>\n",
              "      <th>GM-IM</th>\n",
              "      <th>D</th>\n",
              "      <th>P</th>\n",
              "      <th>TeamId</th>\n",
              "      <th>Year</th>\n",
              "      <th>League</th>\n",
              "      <th>LeagueSeasonId</th>\n",
              "    </tr>\n",
              "  </thead>\n",
              "  <tbody>\n",
              "    <tr>\n",
              "      <th>0</th>\n",
              "      <td>A2016</td>\n",
              "      <td>Malmö FF</td>\n",
              "      <td>30</td>\n",
              "      <td>21</td>\n",
              "      <td>3</td>\n",
              "      <td>6</td>\n",
              "      <td>60-26</td>\n",
              "      <td>34</td>\n",
              "      <td>66</td>\n",
              "      <td>1</td>\n",
              "      <td>2016</td>\n",
              "      <td>Allsvenskan</td>\n",
              "      <td>37</td>\n",
              "    </tr>\n",
              "    <tr>\n",
              "      <th>1</th>\n",
              "      <td>A2016</td>\n",
              "      <td>AIK</td>\n",
              "      <td>30</td>\n",
              "      <td>17</td>\n",
              "      <td>9</td>\n",
              "      <td>4</td>\n",
              "      <td>52-26</td>\n",
              "      <td>26</td>\n",
              "      <td>60</td>\n",
              "      <td>2</td>\n",
              "      <td>2016</td>\n",
              "      <td>Allsvenskan</td>\n",
              "      <td>37</td>\n",
              "    </tr>\n",
              "  </tbody>\n",
              "</table>\n",
              "</div>\n",
              "      <button class=\"colab-df-convert\" onclick=\"convertToInteractive('df-e821216d-0c77-451c-b5e3-9d31ba327bc8')\"\n",
              "              title=\"Convert this dataframe to an interactive table.\"\n",
              "              style=\"display:none;\">\n",
              "        \n",
              "  <svg xmlns=\"http://www.w3.org/2000/svg\" height=\"24px\"viewBox=\"0 0 24 24\"\n",
              "       width=\"24px\">\n",
              "    <path d=\"M0 0h24v24H0V0z\" fill=\"none\"/>\n",
              "    <path d=\"M18.56 5.44l.94 2.06.94-2.06 2.06-.94-2.06-.94-.94-2.06-.94 2.06-2.06.94zm-11 1L8.5 8.5l.94-2.06 2.06-.94-2.06-.94L8.5 2.5l-.94 2.06-2.06.94zm10 10l.94 2.06.94-2.06 2.06-.94-2.06-.94-.94-2.06-.94 2.06-2.06.94z\"/><path d=\"M17.41 7.96l-1.37-1.37c-.4-.4-.92-.59-1.43-.59-.52 0-1.04.2-1.43.59L10.3 9.45l-7.72 7.72c-.78.78-.78 2.05 0 2.83L4 21.41c.39.39.9.59 1.41.59.51 0 1.02-.2 1.41-.59l7.78-7.78 2.81-2.81c.8-.78.8-2.07 0-2.86zM5.41 20L4 18.59l7.72-7.72 1.47 1.35L5.41 20z\"/>\n",
              "  </svg>\n",
              "      </button>\n",
              "      \n",
              "  <style>\n",
              "    .colab-df-container {\n",
              "      display:flex;\n",
              "      flex-wrap:wrap;\n",
              "      gap: 12px;\n",
              "    }\n",
              "\n",
              "    .colab-df-convert {\n",
              "      background-color: #E8F0FE;\n",
              "      border: none;\n",
              "      border-radius: 50%;\n",
              "      cursor: pointer;\n",
              "      display: none;\n",
              "      fill: #1967D2;\n",
              "      height: 32px;\n",
              "      padding: 0 0 0 0;\n",
              "      width: 32px;\n",
              "    }\n",
              "\n",
              "    .colab-df-convert:hover {\n",
              "      background-color: #E2EBFA;\n",
              "      box-shadow: 0px 1px 2px rgba(60, 64, 67, 0.3), 0px 1px 3px 1px rgba(60, 64, 67, 0.15);\n",
              "      fill: #174EA6;\n",
              "    }\n",
              "\n",
              "    [theme=dark] .colab-df-convert {\n",
              "      background-color: #3B4455;\n",
              "      fill: #D2E3FC;\n",
              "    }\n",
              "\n",
              "    [theme=dark] .colab-df-convert:hover {\n",
              "      background-color: #434B5C;\n",
              "      box-shadow: 0px 1px 3px 1px rgba(0, 0, 0, 0.15);\n",
              "      filter: drop-shadow(0px 1px 2px rgba(0, 0, 0, 0.3));\n",
              "      fill: #FFFFFF;\n",
              "    }\n",
              "  </style>\n",
              "\n",
              "      <script>\n",
              "        const buttonEl =\n",
              "          document.querySelector('#df-e821216d-0c77-451c-b5e3-9d31ba327bc8 button.colab-df-convert');\n",
              "        buttonEl.style.display =\n",
              "          google.colab.kernel.accessAllowed ? 'block' : 'none';\n",
              "\n",
              "        async function convertToInteractive(key) {\n",
              "          const element = document.querySelector('#df-e821216d-0c77-451c-b5e3-9d31ba327bc8');\n",
              "          const dataTable =\n",
              "            await google.colab.kernel.invokeFunction('convertToInteractive',\n",
              "                                                     [key], {});\n",
              "          if (!dataTable) return;\n",
              "\n",
              "          const docLinkHtml = 'Like what you see? Visit the ' +\n",
              "            '<a target=\"_blank\" href=https://colab.research.google.com/notebooks/data_table.ipynb>data table notebook</a>'\n",
              "            + ' to learn more about interactive tables.';\n",
              "          element.innerHTML = '';\n",
              "          dataTable['output_type'] = 'display_data';\n",
              "          await google.colab.output.renderOutput(dataTable, element);\n",
              "          const docLink = document.createElement('div');\n",
              "          docLink.innerHTML = docLinkHtml;\n",
              "          element.appendChild(docLink);\n",
              "        }\n",
              "      </script>\n",
              "    </div>\n",
              "  </div>\n",
              "  "
            ]
          },
          "metadata": {},
          "execution_count": 1976
        }
      ]
    },
    {
      "cell_type": "markdown",
      "source": [
        "### Countries"
      ],
      "metadata": {
        "id": "0DDwwhOKl56c"
      }
    },
    {
      "cell_type": "code",
      "source": [
        "Countries = players_xls[[\"Nationality\",\"Region\"]].drop_duplicates()\n",
        "Countries['Id'] = Countries.groupby(['Nationality']).ngroup()+1 #Grouping by also Season to keep track of EU membership, could of course be in a table of itself\n",
        "Countries = Countries.sort_values(\"Id\")\n",
        "Countries = Countries[[\"Id\",\"Nationality\",\"Region\"]]"
      ],
      "metadata": {
        "id": "lIhHFMyIKiiP"
      },
      "execution_count": null,
      "outputs": []
    },
    {
      "cell_type": "code",
      "source": [
        "cols_to_use = players_xls.columns.difference(Countries.columns).tolist()\n",
        "cols_to_use.append(\"Nationality\")\n",
        "players_xls = pd.merge(players_xls[cols_to_use],Countries,on='Nationality')\n",
        "players_xls[:2]"
      ],
      "metadata": {
        "colab": {
          "base_uri": "https://localhost:8080/",
          "height": 112
        },
        "id": "eJ6nxVyALVm2",
        "outputId": "3ec0d4ee-e688-4517-9bee-68347482812a"
      },
      "execution_count": null,
      "outputs": [
        {
          "output_type": "execute_result",
          "data": {
            "text/plain": [
              "  LaborMarketStatus  Matches     PlayerName  Season           Team  \\\n",
              "0           Non EEA      8.0  Aaron Nichols  2013.0  Ljungskile SK   \n",
              "1           Non EEA     13.0  Aaron Nichols  2014.0  Ljungskile SK   \n",
              "\n",
              "   YearOfEntry    Nationality  Id         Region  \n",
              "0       2013.0  United States  97  North America  \n",
              "1       2013.0  United States  97  North America  "
            ],
            "text/html": [
              "\n",
              "  <div id=\"df-48d7ec8c-e32a-45d5-b740-24c969587970\">\n",
              "    <div class=\"colab-df-container\">\n",
              "      <div>\n",
              "<style scoped>\n",
              "    .dataframe tbody tr th:only-of-type {\n",
              "        vertical-align: middle;\n",
              "    }\n",
              "\n",
              "    .dataframe tbody tr th {\n",
              "        vertical-align: top;\n",
              "    }\n",
              "\n",
              "    .dataframe thead th {\n",
              "        text-align: right;\n",
              "    }\n",
              "</style>\n",
              "<table border=\"1\" class=\"dataframe\">\n",
              "  <thead>\n",
              "    <tr style=\"text-align: right;\">\n",
              "      <th></th>\n",
              "      <th>LaborMarketStatus</th>\n",
              "      <th>Matches</th>\n",
              "      <th>PlayerName</th>\n",
              "      <th>Season</th>\n",
              "      <th>Team</th>\n",
              "      <th>YearOfEntry</th>\n",
              "      <th>Nationality</th>\n",
              "      <th>Id</th>\n",
              "      <th>Region</th>\n",
              "    </tr>\n",
              "  </thead>\n",
              "  <tbody>\n",
              "    <tr>\n",
              "      <th>0</th>\n",
              "      <td>Non EEA</td>\n",
              "      <td>8.0</td>\n",
              "      <td>Aaron Nichols</td>\n",
              "      <td>2013.0</td>\n",
              "      <td>Ljungskile SK</td>\n",
              "      <td>2013.0</td>\n",
              "      <td>United States</td>\n",
              "      <td>97</td>\n",
              "      <td>North America</td>\n",
              "    </tr>\n",
              "    <tr>\n",
              "      <th>1</th>\n",
              "      <td>Non EEA</td>\n",
              "      <td>13.0</td>\n",
              "      <td>Aaron Nichols</td>\n",
              "      <td>2014.0</td>\n",
              "      <td>Ljungskile SK</td>\n",
              "      <td>2013.0</td>\n",
              "      <td>United States</td>\n",
              "      <td>97</td>\n",
              "      <td>North America</td>\n",
              "    </tr>\n",
              "  </tbody>\n",
              "</table>\n",
              "</div>\n",
              "      <button class=\"colab-df-convert\" onclick=\"convertToInteractive('df-48d7ec8c-e32a-45d5-b740-24c969587970')\"\n",
              "              title=\"Convert this dataframe to an interactive table.\"\n",
              "              style=\"display:none;\">\n",
              "        \n",
              "  <svg xmlns=\"http://www.w3.org/2000/svg\" height=\"24px\"viewBox=\"0 0 24 24\"\n",
              "       width=\"24px\">\n",
              "    <path d=\"M0 0h24v24H0V0z\" fill=\"none\"/>\n",
              "    <path d=\"M18.56 5.44l.94 2.06.94-2.06 2.06-.94-2.06-.94-.94-2.06-.94 2.06-2.06.94zm-11 1L8.5 8.5l.94-2.06 2.06-.94-2.06-.94L8.5 2.5l-.94 2.06-2.06.94zm10 10l.94 2.06.94-2.06 2.06-.94-2.06-.94-.94-2.06-.94 2.06-2.06.94z\"/><path d=\"M17.41 7.96l-1.37-1.37c-.4-.4-.92-.59-1.43-.59-.52 0-1.04.2-1.43.59L10.3 9.45l-7.72 7.72c-.78.78-.78 2.05 0 2.83L4 21.41c.39.39.9.59 1.41.59.51 0 1.02-.2 1.41-.59l7.78-7.78 2.81-2.81c.8-.78.8-2.07 0-2.86zM5.41 20L4 18.59l7.72-7.72 1.47 1.35L5.41 20z\"/>\n",
              "  </svg>\n",
              "      </button>\n",
              "      \n",
              "  <style>\n",
              "    .colab-df-container {\n",
              "      display:flex;\n",
              "      flex-wrap:wrap;\n",
              "      gap: 12px;\n",
              "    }\n",
              "\n",
              "    .colab-df-convert {\n",
              "      background-color: #E8F0FE;\n",
              "      border: none;\n",
              "      border-radius: 50%;\n",
              "      cursor: pointer;\n",
              "      display: none;\n",
              "      fill: #1967D2;\n",
              "      height: 32px;\n",
              "      padding: 0 0 0 0;\n",
              "      width: 32px;\n",
              "    }\n",
              "\n",
              "    .colab-df-convert:hover {\n",
              "      background-color: #E2EBFA;\n",
              "      box-shadow: 0px 1px 2px rgba(60, 64, 67, 0.3), 0px 1px 3px 1px rgba(60, 64, 67, 0.15);\n",
              "      fill: #174EA6;\n",
              "    }\n",
              "\n",
              "    [theme=dark] .colab-df-convert {\n",
              "      background-color: #3B4455;\n",
              "      fill: #D2E3FC;\n",
              "    }\n",
              "\n",
              "    [theme=dark] .colab-df-convert:hover {\n",
              "      background-color: #434B5C;\n",
              "      box-shadow: 0px 1px 3px 1px rgba(0, 0, 0, 0.15);\n",
              "      filter: drop-shadow(0px 1px 2px rgba(0, 0, 0, 0.3));\n",
              "      fill: #FFFFFF;\n",
              "    }\n",
              "  </style>\n",
              "\n",
              "      <script>\n",
              "        const buttonEl =\n",
              "          document.querySelector('#df-48d7ec8c-e32a-45d5-b740-24c969587970 button.colab-df-convert');\n",
              "        buttonEl.style.display =\n",
              "          google.colab.kernel.accessAllowed ? 'block' : 'none';\n",
              "\n",
              "        async function convertToInteractive(key) {\n",
              "          const element = document.querySelector('#df-48d7ec8c-e32a-45d5-b740-24c969587970');\n",
              "          const dataTable =\n",
              "            await google.colab.kernel.invokeFunction('convertToInteractive',\n",
              "                                                     [key], {});\n",
              "          if (!dataTable) return;\n",
              "\n",
              "          const docLinkHtml = 'Like what you see? Visit the ' +\n",
              "            '<a target=\"_blank\" href=https://colab.research.google.com/notebooks/data_table.ipynb>data table notebook</a>'\n",
              "            + ' to learn more about interactive tables.';\n",
              "          element.innerHTML = '';\n",
              "          dataTable['output_type'] = 'display_data';\n",
              "          await google.colab.output.renderOutput(dataTable, element);\n",
              "          const docLink = document.createElement('div');\n",
              "          docLink.innerHTML = docLinkHtml;\n",
              "          element.appendChild(docLink);\n",
              "        }\n",
              "      </script>\n",
              "    </div>\n",
              "  </div>\n",
              "  "
            ]
          },
          "metadata": {},
          "execution_count": 1978
        }
      ]
    },
    {
      "cell_type": "code",
      "source": [
        "Countries[:2]"
      ],
      "metadata": {
        "colab": {
          "base_uri": "https://localhost:8080/",
          "height": 112
        },
        "id": "hUyGaiPUPkg9",
        "outputId": "a9cfcecf-5b82-4b64-de6e-af49fdc34958"
      },
      "execution_count": null,
      "outputs": [
        {
          "output_type": "execute_result",
          "data": {
            "text/plain": [
              "       Id Nationality          Region\n",
              "11136   0         NaN             NaN\n",
              "1187    1     Albania  Eastern Europe"
            ],
            "text/html": [
              "\n",
              "  <div id=\"df-c87cece3-9ae3-4781-b938-cef183e15761\">\n",
              "    <div class=\"colab-df-container\">\n",
              "      <div>\n",
              "<style scoped>\n",
              "    .dataframe tbody tr th:only-of-type {\n",
              "        vertical-align: middle;\n",
              "    }\n",
              "\n",
              "    .dataframe tbody tr th {\n",
              "        vertical-align: top;\n",
              "    }\n",
              "\n",
              "    .dataframe thead th {\n",
              "        text-align: right;\n",
              "    }\n",
              "</style>\n",
              "<table border=\"1\" class=\"dataframe\">\n",
              "  <thead>\n",
              "    <tr style=\"text-align: right;\">\n",
              "      <th></th>\n",
              "      <th>Id</th>\n",
              "      <th>Nationality</th>\n",
              "      <th>Region</th>\n",
              "    </tr>\n",
              "  </thead>\n",
              "  <tbody>\n",
              "    <tr>\n",
              "      <th>11136</th>\n",
              "      <td>0</td>\n",
              "      <td>NaN</td>\n",
              "      <td>NaN</td>\n",
              "    </tr>\n",
              "    <tr>\n",
              "      <th>1187</th>\n",
              "      <td>1</td>\n",
              "      <td>Albania</td>\n",
              "      <td>Eastern Europe</td>\n",
              "    </tr>\n",
              "  </tbody>\n",
              "</table>\n",
              "</div>\n",
              "      <button class=\"colab-df-convert\" onclick=\"convertToInteractive('df-c87cece3-9ae3-4781-b938-cef183e15761')\"\n",
              "              title=\"Convert this dataframe to an interactive table.\"\n",
              "              style=\"display:none;\">\n",
              "        \n",
              "  <svg xmlns=\"http://www.w3.org/2000/svg\" height=\"24px\"viewBox=\"0 0 24 24\"\n",
              "       width=\"24px\">\n",
              "    <path d=\"M0 0h24v24H0V0z\" fill=\"none\"/>\n",
              "    <path d=\"M18.56 5.44l.94 2.06.94-2.06 2.06-.94-2.06-.94-.94-2.06-.94 2.06-2.06.94zm-11 1L8.5 8.5l.94-2.06 2.06-.94-2.06-.94L8.5 2.5l-.94 2.06-2.06.94zm10 10l.94 2.06.94-2.06 2.06-.94-2.06-.94-.94-2.06-.94 2.06-2.06.94z\"/><path d=\"M17.41 7.96l-1.37-1.37c-.4-.4-.92-.59-1.43-.59-.52 0-1.04.2-1.43.59L10.3 9.45l-7.72 7.72c-.78.78-.78 2.05 0 2.83L4 21.41c.39.39.9.59 1.41.59.51 0 1.02-.2 1.41-.59l7.78-7.78 2.81-2.81c.8-.78.8-2.07 0-2.86zM5.41 20L4 18.59l7.72-7.72 1.47 1.35L5.41 20z\"/>\n",
              "  </svg>\n",
              "      </button>\n",
              "      \n",
              "  <style>\n",
              "    .colab-df-container {\n",
              "      display:flex;\n",
              "      flex-wrap:wrap;\n",
              "      gap: 12px;\n",
              "    }\n",
              "\n",
              "    .colab-df-convert {\n",
              "      background-color: #E8F0FE;\n",
              "      border: none;\n",
              "      border-radius: 50%;\n",
              "      cursor: pointer;\n",
              "      display: none;\n",
              "      fill: #1967D2;\n",
              "      height: 32px;\n",
              "      padding: 0 0 0 0;\n",
              "      width: 32px;\n",
              "    }\n",
              "\n",
              "    .colab-df-convert:hover {\n",
              "      background-color: #E2EBFA;\n",
              "      box-shadow: 0px 1px 2px rgba(60, 64, 67, 0.3), 0px 1px 3px 1px rgba(60, 64, 67, 0.15);\n",
              "      fill: #174EA6;\n",
              "    }\n",
              "\n",
              "    [theme=dark] .colab-df-convert {\n",
              "      background-color: #3B4455;\n",
              "      fill: #D2E3FC;\n",
              "    }\n",
              "\n",
              "    [theme=dark] .colab-df-convert:hover {\n",
              "      background-color: #434B5C;\n",
              "      box-shadow: 0px 1px 3px 1px rgba(0, 0, 0, 0.15);\n",
              "      filter: drop-shadow(0px 1px 2px rgba(0, 0, 0, 0.3));\n",
              "      fill: #FFFFFF;\n",
              "    }\n",
              "  </style>\n",
              "\n",
              "      <script>\n",
              "        const buttonEl =\n",
              "          document.querySelector('#df-c87cece3-9ae3-4781-b938-cef183e15761 button.colab-df-convert');\n",
              "        buttonEl.style.display =\n",
              "          google.colab.kernel.accessAllowed ? 'block' : 'none';\n",
              "\n",
              "        async function convertToInteractive(key) {\n",
              "          const element = document.querySelector('#df-c87cece3-9ae3-4781-b938-cef183e15761');\n",
              "          const dataTable =\n",
              "            await google.colab.kernel.invokeFunction('convertToInteractive',\n",
              "                                                     [key], {});\n",
              "          if (!dataTable) return;\n",
              "\n",
              "          const docLinkHtml = 'Like what you see? Visit the ' +\n",
              "            '<a target=\"_blank\" href=https://colab.research.google.com/notebooks/data_table.ipynb>data table notebook</a>'\n",
              "            + ' to learn more about interactive tables.';\n",
              "          element.innerHTML = '';\n",
              "          dataTable['output_type'] = 'display_data';\n",
              "          await google.colab.output.renderOutput(dataTable, element);\n",
              "          const docLink = document.createElement('div');\n",
              "          docLink.innerHTML = docLinkHtml;\n",
              "          element.appendChild(docLink);\n",
              "        }\n",
              "      </script>\n",
              "    </div>\n",
              "  </div>\n",
              "  "
            ]
          },
          "metadata": {},
          "execution_count": 1979
        }
      ]
    },
    {
      "cell_type": "code",
      "source": [
        "Countries.dtypes"
      ],
      "metadata": {
        "id": "Ps8NbWHSOh6D",
        "colab": {
          "base_uri": "https://localhost:8080/"
        },
        "outputId": "1d3d187c-3b42-49b9-80ac-e25533b34766"
      },
      "execution_count": null,
      "outputs": [
        {
          "output_type": "execute_result",
          "data": {
            "text/plain": [
              "Id              int64\n",
              "Nationality    object\n",
              "Region         object\n",
              "dtype: object"
            ]
          },
          "metadata": {},
          "execution_count": 1980
        }
      ]
    },
    {
      "cell_type": "markdown",
      "source": [
        "Correct datatypes."
      ],
      "metadata": {
        "id": "z3Z193r3PJAC"
      }
    },
    {
      "cell_type": "code",
      "source": [
        "players_xls.rename(columns = {'Id':'CountryId','Season':'Year'}, inplace = True)\n",
        "players_xls.drop(columns=[\"Nationality\",\"Region\",\"LaborMarketStatus\"], inplace=True)\n",
        "players_xls[:2]"
      ],
      "metadata": {
        "colab": {
          "base_uri": "https://localhost:8080/",
          "height": 112
        },
        "id": "6PPkGTaqLei_",
        "outputId": "740d5a62-a0fb-4c31-a74d-5b685a8fa672"
      },
      "execution_count": null,
      "outputs": [
        {
          "output_type": "execute_result",
          "data": {
            "text/plain": [
              "   Matches     PlayerName    Year           Team  YearOfEntry  CountryId\n",
              "0      8.0  Aaron Nichols  2013.0  Ljungskile SK       2013.0         97\n",
              "1     13.0  Aaron Nichols  2014.0  Ljungskile SK       2013.0         97"
            ],
            "text/html": [
              "\n",
              "  <div id=\"df-eeb9b4cc-40e1-4d68-82b7-d90db04bc5da\">\n",
              "    <div class=\"colab-df-container\">\n",
              "      <div>\n",
              "<style scoped>\n",
              "    .dataframe tbody tr th:only-of-type {\n",
              "        vertical-align: middle;\n",
              "    }\n",
              "\n",
              "    .dataframe tbody tr th {\n",
              "        vertical-align: top;\n",
              "    }\n",
              "\n",
              "    .dataframe thead th {\n",
              "        text-align: right;\n",
              "    }\n",
              "</style>\n",
              "<table border=\"1\" class=\"dataframe\">\n",
              "  <thead>\n",
              "    <tr style=\"text-align: right;\">\n",
              "      <th></th>\n",
              "      <th>Matches</th>\n",
              "      <th>PlayerName</th>\n",
              "      <th>Year</th>\n",
              "      <th>Team</th>\n",
              "      <th>YearOfEntry</th>\n",
              "      <th>CountryId</th>\n",
              "    </tr>\n",
              "  </thead>\n",
              "  <tbody>\n",
              "    <tr>\n",
              "      <th>0</th>\n",
              "      <td>8.0</td>\n",
              "      <td>Aaron Nichols</td>\n",
              "      <td>2013.0</td>\n",
              "      <td>Ljungskile SK</td>\n",
              "      <td>2013.0</td>\n",
              "      <td>97</td>\n",
              "    </tr>\n",
              "    <tr>\n",
              "      <th>1</th>\n",
              "      <td>13.0</td>\n",
              "      <td>Aaron Nichols</td>\n",
              "      <td>2014.0</td>\n",
              "      <td>Ljungskile SK</td>\n",
              "      <td>2013.0</td>\n",
              "      <td>97</td>\n",
              "    </tr>\n",
              "  </tbody>\n",
              "</table>\n",
              "</div>\n",
              "      <button class=\"colab-df-convert\" onclick=\"convertToInteractive('df-eeb9b4cc-40e1-4d68-82b7-d90db04bc5da')\"\n",
              "              title=\"Convert this dataframe to an interactive table.\"\n",
              "              style=\"display:none;\">\n",
              "        \n",
              "  <svg xmlns=\"http://www.w3.org/2000/svg\" height=\"24px\"viewBox=\"0 0 24 24\"\n",
              "       width=\"24px\">\n",
              "    <path d=\"M0 0h24v24H0V0z\" fill=\"none\"/>\n",
              "    <path d=\"M18.56 5.44l.94 2.06.94-2.06 2.06-.94-2.06-.94-.94-2.06-.94 2.06-2.06.94zm-11 1L8.5 8.5l.94-2.06 2.06-.94-2.06-.94L8.5 2.5l-.94 2.06-2.06.94zm10 10l.94 2.06.94-2.06 2.06-.94-2.06-.94-.94-2.06-.94 2.06-2.06.94z\"/><path d=\"M17.41 7.96l-1.37-1.37c-.4-.4-.92-.59-1.43-.59-.52 0-1.04.2-1.43.59L10.3 9.45l-7.72 7.72c-.78.78-.78 2.05 0 2.83L4 21.41c.39.39.9.59 1.41.59.51 0 1.02-.2 1.41-.59l7.78-7.78 2.81-2.81c.8-.78.8-2.07 0-2.86zM5.41 20L4 18.59l7.72-7.72 1.47 1.35L5.41 20z\"/>\n",
              "  </svg>\n",
              "      </button>\n",
              "      \n",
              "  <style>\n",
              "    .colab-df-container {\n",
              "      display:flex;\n",
              "      flex-wrap:wrap;\n",
              "      gap: 12px;\n",
              "    }\n",
              "\n",
              "    .colab-df-convert {\n",
              "      background-color: #E8F0FE;\n",
              "      border: none;\n",
              "      border-radius: 50%;\n",
              "      cursor: pointer;\n",
              "      display: none;\n",
              "      fill: #1967D2;\n",
              "      height: 32px;\n",
              "      padding: 0 0 0 0;\n",
              "      width: 32px;\n",
              "    }\n",
              "\n",
              "    .colab-df-convert:hover {\n",
              "      background-color: #E2EBFA;\n",
              "      box-shadow: 0px 1px 2px rgba(60, 64, 67, 0.3), 0px 1px 3px 1px rgba(60, 64, 67, 0.15);\n",
              "      fill: #174EA6;\n",
              "    }\n",
              "\n",
              "    [theme=dark] .colab-df-convert {\n",
              "      background-color: #3B4455;\n",
              "      fill: #D2E3FC;\n",
              "    }\n",
              "\n",
              "    [theme=dark] .colab-df-convert:hover {\n",
              "      background-color: #434B5C;\n",
              "      box-shadow: 0px 1px 3px 1px rgba(0, 0, 0, 0.15);\n",
              "      filter: drop-shadow(0px 1px 2px rgba(0, 0, 0, 0.3));\n",
              "      fill: #FFFFFF;\n",
              "    }\n",
              "  </style>\n",
              "\n",
              "      <script>\n",
              "        const buttonEl =\n",
              "          document.querySelector('#df-eeb9b4cc-40e1-4d68-82b7-d90db04bc5da button.colab-df-convert');\n",
              "        buttonEl.style.display =\n",
              "          google.colab.kernel.accessAllowed ? 'block' : 'none';\n",
              "\n",
              "        async function convertToInteractive(key) {\n",
              "          const element = document.querySelector('#df-eeb9b4cc-40e1-4d68-82b7-d90db04bc5da');\n",
              "          const dataTable =\n",
              "            await google.colab.kernel.invokeFunction('convertToInteractive',\n",
              "                                                     [key], {});\n",
              "          if (!dataTable) return;\n",
              "\n",
              "          const docLinkHtml = 'Like what you see? Visit the ' +\n",
              "            '<a target=\"_blank\" href=https://colab.research.google.com/notebooks/data_table.ipynb>data table notebook</a>'\n",
              "            + ' to learn more about interactive tables.';\n",
              "          element.innerHTML = '';\n",
              "          dataTable['output_type'] = 'display_data';\n",
              "          await google.colab.output.renderOutput(dataTable, element);\n",
              "          const docLink = document.createElement('div');\n",
              "          docLink.innerHTML = docLinkHtml;\n",
              "          element.appendChild(docLink);\n",
              "        }\n",
              "      </script>\n",
              "    </div>\n",
              "  </div>\n",
              "  "
            ]
          },
          "metadata": {},
          "execution_count": 1981
        }
      ]
    },
    {
      "cell_type": "markdown",
      "source": [
        "### PlayerGames"
      ],
      "metadata": {
        "id": "0J43m9lml5r9"
      }
    },
    {
      "cell_type": "markdown",
      "source": [
        "First we will create a column for `PlayerId`.\n",
        "We'll assume that any player coming from the same country with the same name is an unique player (this might introduce some irregularities for Swedish players with some common name but we'll just ignore this for now). "
      ],
      "metadata": {
        "id": "6McStS7PFRYM"
      }
    },
    {
      "cell_type": "code",
      "source": [
        "players_xls['PlayerId'] = players_xls.groupby([\"PlayerName\", \"CountryId\"]).ngroup()+1\n",
        "\n",
        "players_xls[:2]"
      ],
      "metadata": {
        "colab": {
          "base_uri": "https://localhost:8080/",
          "height": 112
        },
        "id": "M8Jk3ILkD_T9",
        "outputId": "df68f7aa-206e-4087-f612-bdbb999c4133"
      },
      "execution_count": null,
      "outputs": [
        {
          "output_type": "execute_result",
          "data": {
            "text/plain": [
              "   Matches     PlayerName    Year           Team  YearOfEntry  CountryId  \\\n",
              "0      8.0  Aaron Nichols  2013.0  Ljungskile SK       2013.0         97   \n",
              "1     13.0  Aaron Nichols  2014.0  Ljungskile SK       2013.0         97   \n",
              "\n",
              "   PlayerId  \n",
              "0         1  \n",
              "1         1  "
            ],
            "text/html": [
              "\n",
              "  <div id=\"df-f1486dc3-7e00-4793-944e-518dec8b1575\">\n",
              "    <div class=\"colab-df-container\">\n",
              "      <div>\n",
              "<style scoped>\n",
              "    .dataframe tbody tr th:only-of-type {\n",
              "        vertical-align: middle;\n",
              "    }\n",
              "\n",
              "    .dataframe tbody tr th {\n",
              "        vertical-align: top;\n",
              "    }\n",
              "\n",
              "    .dataframe thead th {\n",
              "        text-align: right;\n",
              "    }\n",
              "</style>\n",
              "<table border=\"1\" class=\"dataframe\">\n",
              "  <thead>\n",
              "    <tr style=\"text-align: right;\">\n",
              "      <th></th>\n",
              "      <th>Matches</th>\n",
              "      <th>PlayerName</th>\n",
              "      <th>Year</th>\n",
              "      <th>Team</th>\n",
              "      <th>YearOfEntry</th>\n",
              "      <th>CountryId</th>\n",
              "      <th>PlayerId</th>\n",
              "    </tr>\n",
              "  </thead>\n",
              "  <tbody>\n",
              "    <tr>\n",
              "      <th>0</th>\n",
              "      <td>8.0</td>\n",
              "      <td>Aaron Nichols</td>\n",
              "      <td>2013.0</td>\n",
              "      <td>Ljungskile SK</td>\n",
              "      <td>2013.0</td>\n",
              "      <td>97</td>\n",
              "      <td>1</td>\n",
              "    </tr>\n",
              "    <tr>\n",
              "      <th>1</th>\n",
              "      <td>13.0</td>\n",
              "      <td>Aaron Nichols</td>\n",
              "      <td>2014.0</td>\n",
              "      <td>Ljungskile SK</td>\n",
              "      <td>2013.0</td>\n",
              "      <td>97</td>\n",
              "      <td>1</td>\n",
              "    </tr>\n",
              "  </tbody>\n",
              "</table>\n",
              "</div>\n",
              "      <button class=\"colab-df-convert\" onclick=\"convertToInteractive('df-f1486dc3-7e00-4793-944e-518dec8b1575')\"\n",
              "              title=\"Convert this dataframe to an interactive table.\"\n",
              "              style=\"display:none;\">\n",
              "        \n",
              "  <svg xmlns=\"http://www.w3.org/2000/svg\" height=\"24px\"viewBox=\"0 0 24 24\"\n",
              "       width=\"24px\">\n",
              "    <path d=\"M0 0h24v24H0V0z\" fill=\"none\"/>\n",
              "    <path d=\"M18.56 5.44l.94 2.06.94-2.06 2.06-.94-2.06-.94-.94-2.06-.94 2.06-2.06.94zm-11 1L8.5 8.5l.94-2.06 2.06-.94-2.06-.94L8.5 2.5l-.94 2.06-2.06.94zm10 10l.94 2.06.94-2.06 2.06-.94-2.06-.94-.94-2.06-.94 2.06-2.06.94z\"/><path d=\"M17.41 7.96l-1.37-1.37c-.4-.4-.92-.59-1.43-.59-.52 0-1.04.2-1.43.59L10.3 9.45l-7.72 7.72c-.78.78-.78 2.05 0 2.83L4 21.41c.39.39.9.59 1.41.59.51 0 1.02-.2 1.41-.59l7.78-7.78 2.81-2.81c.8-.78.8-2.07 0-2.86zM5.41 20L4 18.59l7.72-7.72 1.47 1.35L5.41 20z\"/>\n",
              "  </svg>\n",
              "      </button>\n",
              "      \n",
              "  <style>\n",
              "    .colab-df-container {\n",
              "      display:flex;\n",
              "      flex-wrap:wrap;\n",
              "      gap: 12px;\n",
              "    }\n",
              "\n",
              "    .colab-df-convert {\n",
              "      background-color: #E8F0FE;\n",
              "      border: none;\n",
              "      border-radius: 50%;\n",
              "      cursor: pointer;\n",
              "      display: none;\n",
              "      fill: #1967D2;\n",
              "      height: 32px;\n",
              "      padding: 0 0 0 0;\n",
              "      width: 32px;\n",
              "    }\n",
              "\n",
              "    .colab-df-convert:hover {\n",
              "      background-color: #E2EBFA;\n",
              "      box-shadow: 0px 1px 2px rgba(60, 64, 67, 0.3), 0px 1px 3px 1px rgba(60, 64, 67, 0.15);\n",
              "      fill: #174EA6;\n",
              "    }\n",
              "\n",
              "    [theme=dark] .colab-df-convert {\n",
              "      background-color: #3B4455;\n",
              "      fill: #D2E3FC;\n",
              "    }\n",
              "\n",
              "    [theme=dark] .colab-df-convert:hover {\n",
              "      background-color: #434B5C;\n",
              "      box-shadow: 0px 1px 3px 1px rgba(0, 0, 0, 0.15);\n",
              "      filter: drop-shadow(0px 1px 2px rgba(0, 0, 0, 0.3));\n",
              "      fill: #FFFFFF;\n",
              "    }\n",
              "  </style>\n",
              "\n",
              "      <script>\n",
              "        const buttonEl =\n",
              "          document.querySelector('#df-f1486dc3-7e00-4793-944e-518dec8b1575 button.colab-df-convert');\n",
              "        buttonEl.style.display =\n",
              "          google.colab.kernel.accessAllowed ? 'block' : 'none';\n",
              "\n",
              "        async function convertToInteractive(key) {\n",
              "          const element = document.querySelector('#df-f1486dc3-7e00-4793-944e-518dec8b1575');\n",
              "          const dataTable =\n",
              "            await google.colab.kernel.invokeFunction('convertToInteractive',\n",
              "                                                     [key], {});\n",
              "          if (!dataTable) return;\n",
              "\n",
              "          const docLinkHtml = 'Like what you see? Visit the ' +\n",
              "            '<a target=\"_blank\" href=https://colab.research.google.com/notebooks/data_table.ipynb>data table notebook</a>'\n",
              "            + ' to learn more about interactive tables.';\n",
              "          element.innerHTML = '';\n",
              "          dataTable['output_type'] = 'display_data';\n",
              "          await google.colab.output.renderOutput(dataTable, element);\n",
              "          const docLink = document.createElement('div');\n",
              "          docLink.innerHTML = docLinkHtml;\n",
              "          element.appendChild(docLink);\n",
              "        }\n",
              "      </script>\n",
              "    </div>\n",
              "  </div>\n",
              "  "
            ]
          },
          "metadata": {},
          "execution_count": 1982
        }
      ]
    },
    {
      "cell_type": "code",
      "source": [
        "\n",
        "PlayerGames = pd.merge(players_xls,results_xls,on=['Team','Year'])\n",
        "PlayerGames = PlayerGames[[\"PlayerId\",\"Matches\",\"TeamId\",\"LeagueSeasonId\"]]\n",
        "PlayerGames[:3]"
      ],
      "metadata": {
        "colab": {
          "base_uri": "https://localhost:8080/",
          "height": 143
        },
        "id": "PQL-VoG5P67L",
        "outputId": "332310f8-2dfc-484e-8865-1652a2ddaf2d"
      },
      "execution_count": null,
      "outputs": [
        {
          "output_type": "execute_result",
          "data": {
            "text/plain": [
              "   PlayerId  Matches  TeamId  LeagueSeasonId\n",
              "0         1      8.0      27              28\n",
              "1      2675     28.0      27              28\n",
              "2      2677      6.0      27              28"
            ],
            "text/html": [
              "\n",
              "  <div id=\"df-5e711209-495e-4b07-addf-7747fc212ceb\">\n",
              "    <div class=\"colab-df-container\">\n",
              "      <div>\n",
              "<style scoped>\n",
              "    .dataframe tbody tr th:only-of-type {\n",
              "        vertical-align: middle;\n",
              "    }\n",
              "\n",
              "    .dataframe tbody tr th {\n",
              "        vertical-align: top;\n",
              "    }\n",
              "\n",
              "    .dataframe thead th {\n",
              "        text-align: right;\n",
              "    }\n",
              "</style>\n",
              "<table border=\"1\" class=\"dataframe\">\n",
              "  <thead>\n",
              "    <tr style=\"text-align: right;\">\n",
              "      <th></th>\n",
              "      <th>PlayerId</th>\n",
              "      <th>Matches</th>\n",
              "      <th>TeamId</th>\n",
              "      <th>LeagueSeasonId</th>\n",
              "    </tr>\n",
              "  </thead>\n",
              "  <tbody>\n",
              "    <tr>\n",
              "      <th>0</th>\n",
              "      <td>1</td>\n",
              "      <td>8.0</td>\n",
              "      <td>27</td>\n",
              "      <td>28</td>\n",
              "    </tr>\n",
              "    <tr>\n",
              "      <th>1</th>\n",
              "      <td>2675</td>\n",
              "      <td>28.0</td>\n",
              "      <td>27</td>\n",
              "      <td>28</td>\n",
              "    </tr>\n",
              "    <tr>\n",
              "      <th>2</th>\n",
              "      <td>2677</td>\n",
              "      <td>6.0</td>\n",
              "      <td>27</td>\n",
              "      <td>28</td>\n",
              "    </tr>\n",
              "  </tbody>\n",
              "</table>\n",
              "</div>\n",
              "      <button class=\"colab-df-convert\" onclick=\"convertToInteractive('df-5e711209-495e-4b07-addf-7747fc212ceb')\"\n",
              "              title=\"Convert this dataframe to an interactive table.\"\n",
              "              style=\"display:none;\">\n",
              "        \n",
              "  <svg xmlns=\"http://www.w3.org/2000/svg\" height=\"24px\"viewBox=\"0 0 24 24\"\n",
              "       width=\"24px\">\n",
              "    <path d=\"M0 0h24v24H0V0z\" fill=\"none\"/>\n",
              "    <path d=\"M18.56 5.44l.94 2.06.94-2.06 2.06-.94-2.06-.94-.94-2.06-.94 2.06-2.06.94zm-11 1L8.5 8.5l.94-2.06 2.06-.94-2.06-.94L8.5 2.5l-.94 2.06-2.06.94zm10 10l.94 2.06.94-2.06 2.06-.94-2.06-.94-.94-2.06-.94 2.06-2.06.94z\"/><path d=\"M17.41 7.96l-1.37-1.37c-.4-.4-.92-.59-1.43-.59-.52 0-1.04.2-1.43.59L10.3 9.45l-7.72 7.72c-.78.78-.78 2.05 0 2.83L4 21.41c.39.39.9.59 1.41.59.51 0 1.02-.2 1.41-.59l7.78-7.78 2.81-2.81c.8-.78.8-2.07 0-2.86zM5.41 20L4 18.59l7.72-7.72 1.47 1.35L5.41 20z\"/>\n",
              "  </svg>\n",
              "      </button>\n",
              "      \n",
              "  <style>\n",
              "    .colab-df-container {\n",
              "      display:flex;\n",
              "      flex-wrap:wrap;\n",
              "      gap: 12px;\n",
              "    }\n",
              "\n",
              "    .colab-df-convert {\n",
              "      background-color: #E8F0FE;\n",
              "      border: none;\n",
              "      border-radius: 50%;\n",
              "      cursor: pointer;\n",
              "      display: none;\n",
              "      fill: #1967D2;\n",
              "      height: 32px;\n",
              "      padding: 0 0 0 0;\n",
              "      width: 32px;\n",
              "    }\n",
              "\n",
              "    .colab-df-convert:hover {\n",
              "      background-color: #E2EBFA;\n",
              "      box-shadow: 0px 1px 2px rgba(60, 64, 67, 0.3), 0px 1px 3px 1px rgba(60, 64, 67, 0.15);\n",
              "      fill: #174EA6;\n",
              "    }\n",
              "\n",
              "    [theme=dark] .colab-df-convert {\n",
              "      background-color: #3B4455;\n",
              "      fill: #D2E3FC;\n",
              "    }\n",
              "\n",
              "    [theme=dark] .colab-df-convert:hover {\n",
              "      background-color: #434B5C;\n",
              "      box-shadow: 0px 1px 3px 1px rgba(0, 0, 0, 0.15);\n",
              "      filter: drop-shadow(0px 1px 2px rgba(0, 0, 0, 0.3));\n",
              "      fill: #FFFFFF;\n",
              "    }\n",
              "  </style>\n",
              "\n",
              "      <script>\n",
              "        const buttonEl =\n",
              "          document.querySelector('#df-5e711209-495e-4b07-addf-7747fc212ceb button.colab-df-convert');\n",
              "        buttonEl.style.display =\n",
              "          google.colab.kernel.accessAllowed ? 'block' : 'none';\n",
              "\n",
              "        async function convertToInteractive(key) {\n",
              "          const element = document.querySelector('#df-5e711209-495e-4b07-addf-7747fc212ceb');\n",
              "          const dataTable =\n",
              "            await google.colab.kernel.invokeFunction('convertToInteractive',\n",
              "                                                     [key], {});\n",
              "          if (!dataTable) return;\n",
              "\n",
              "          const docLinkHtml = 'Like what you see? Visit the ' +\n",
              "            '<a target=\"_blank\" href=https://colab.research.google.com/notebooks/data_table.ipynb>data table notebook</a>'\n",
              "            + ' to learn more about interactive tables.';\n",
              "          element.innerHTML = '';\n",
              "          dataTable['output_type'] = 'display_data';\n",
              "          await google.colab.output.renderOutput(dataTable, element);\n",
              "          const docLink = document.createElement('div');\n",
              "          docLink.innerHTML = docLinkHtml;\n",
              "          element.appendChild(docLink);\n",
              "        }\n",
              "      </script>\n",
              "    </div>\n",
              "  </div>\n",
              "  "
            ]
          },
          "metadata": {},
          "execution_count": 1983
        }
      ]
    },
    {
      "cell_type": "code",
      "source": [
        "PlayerGames.dtypes"
      ],
      "metadata": {
        "colab": {
          "base_uri": "https://localhost:8080/"
        },
        "id": "6z7GpyLjPrJv",
        "outputId": "db595cf9-c674-45b1-8af1-0346582932aa"
      },
      "execution_count": null,
      "outputs": [
        {
          "output_type": "execute_result",
          "data": {
            "text/plain": [
              "PlayerId            int64\n",
              "Matches           float64\n",
              "TeamId              int64\n",
              "LeagueSeasonId      int64\n",
              "dtype: object"
            ]
          },
          "metadata": {},
          "execution_count": 1984
        }
      ]
    },
    {
      "cell_type": "markdown",
      "source": [
        "`Matches` shouldn't be a `float` and netiher should `PlayerId`. In the dataset players can't play fractions of matches so there's no need for decimals. We'll convert to `int64` for both."
      ],
      "metadata": {
        "id": "95t7RaQVPuMf"
      }
    },
    {
      "cell_type": "code",
      "source": [
        "PlayerGames = PlayerGames.astype({'Matches': 'int64',\n",
        "                                  'PlayerId':'int64'})\n",
        "PlayerGames.dtypes"
      ],
      "metadata": {
        "colab": {
          "base_uri": "https://localhost:8080/"
        },
        "id": "iz6B1fcnQAO0",
        "outputId": "806edde3-26df-4c7f-c8cd-672ee6cfc214"
      },
      "execution_count": null,
      "outputs": [
        {
          "output_type": "execute_result",
          "data": {
            "text/plain": [
              "PlayerId          int64\n",
              "Matches           int64\n",
              "TeamId            int64\n",
              "LeagueSeasonId    int64\n",
              "dtype: object"
            ]
          },
          "metadata": {},
          "execution_count": 1985
        }
      ]
    },
    {
      "cell_type": "markdown",
      "source": [
        "### PlayerAttributes"
      ],
      "metadata": {
        "id": "OB0ToP1smE0E"
      }
    },
    {
      "cell_type": "code",
      "source": [
        "PlayerAttributes = players_xls[[\"PlayerId\",\"PlayerName\",\"YearOfEntry\",\"CountryId\"]].drop_duplicates()\n",
        "PlayerAttributes.sort_values(\"PlayerId\", inplace=True)\n",
        "PlayerAttributes[:5]"
      ],
      "metadata": {
        "id": "mnFjdDOql3-S",
        "colab": {
          "base_uri": "https://localhost:8080/",
          "height": 206
        },
        "outputId": "2d289893-b06f-4b1c-af61-f45439551a7e"
      },
      "execution_count": null,
      "outputs": [
        {
          "output_type": "execute_result",
          "data": {
            "text/plain": [
              "       PlayerId          PlayerName  YearOfEntry  CountryId\n",
              "11076         0                 NaN          NaN          0\n",
              "0             1       Aaron Nichols       2013.0         97\n",
              "71            2        Abbas Hassan          NaN         88\n",
              "8813          3      Abdel Bouraima       2013.0         11\n",
              "8821          4  Abderrahman Kabous       2005.0         65"
            ],
            "text/html": [
              "\n",
              "  <div id=\"df-de51c5ee-00b3-4942-b479-465e24b7efbe\">\n",
              "    <div class=\"colab-df-container\">\n",
              "      <div>\n",
              "<style scoped>\n",
              "    .dataframe tbody tr th:only-of-type {\n",
              "        vertical-align: middle;\n",
              "    }\n",
              "\n",
              "    .dataframe tbody tr th {\n",
              "        vertical-align: top;\n",
              "    }\n",
              "\n",
              "    .dataframe thead th {\n",
              "        text-align: right;\n",
              "    }\n",
              "</style>\n",
              "<table border=\"1\" class=\"dataframe\">\n",
              "  <thead>\n",
              "    <tr style=\"text-align: right;\">\n",
              "      <th></th>\n",
              "      <th>PlayerId</th>\n",
              "      <th>PlayerName</th>\n",
              "      <th>YearOfEntry</th>\n",
              "      <th>CountryId</th>\n",
              "    </tr>\n",
              "  </thead>\n",
              "  <tbody>\n",
              "    <tr>\n",
              "      <th>11076</th>\n",
              "      <td>0</td>\n",
              "      <td>NaN</td>\n",
              "      <td>NaN</td>\n",
              "      <td>0</td>\n",
              "    </tr>\n",
              "    <tr>\n",
              "      <th>0</th>\n",
              "      <td>1</td>\n",
              "      <td>Aaron Nichols</td>\n",
              "      <td>2013.0</td>\n",
              "      <td>97</td>\n",
              "    </tr>\n",
              "    <tr>\n",
              "      <th>71</th>\n",
              "      <td>2</td>\n",
              "      <td>Abbas Hassan</td>\n",
              "      <td>NaN</td>\n",
              "      <td>88</td>\n",
              "    </tr>\n",
              "    <tr>\n",
              "      <th>8813</th>\n",
              "      <td>3</td>\n",
              "      <td>Abdel Bouraima</td>\n",
              "      <td>2013.0</td>\n",
              "      <td>11</td>\n",
              "    </tr>\n",
              "    <tr>\n",
              "      <th>8821</th>\n",
              "      <td>4</td>\n",
              "      <td>Abderrahman Kabous</td>\n",
              "      <td>2005.0</td>\n",
              "      <td>65</td>\n",
              "    </tr>\n",
              "  </tbody>\n",
              "</table>\n",
              "</div>\n",
              "      <button class=\"colab-df-convert\" onclick=\"convertToInteractive('df-de51c5ee-00b3-4942-b479-465e24b7efbe')\"\n",
              "              title=\"Convert this dataframe to an interactive table.\"\n",
              "              style=\"display:none;\">\n",
              "        \n",
              "  <svg xmlns=\"http://www.w3.org/2000/svg\" height=\"24px\"viewBox=\"0 0 24 24\"\n",
              "       width=\"24px\">\n",
              "    <path d=\"M0 0h24v24H0V0z\" fill=\"none\"/>\n",
              "    <path d=\"M18.56 5.44l.94 2.06.94-2.06 2.06-.94-2.06-.94-.94-2.06-.94 2.06-2.06.94zm-11 1L8.5 8.5l.94-2.06 2.06-.94-2.06-.94L8.5 2.5l-.94 2.06-2.06.94zm10 10l.94 2.06.94-2.06 2.06-.94-2.06-.94-.94-2.06-.94 2.06-2.06.94z\"/><path d=\"M17.41 7.96l-1.37-1.37c-.4-.4-.92-.59-1.43-.59-.52 0-1.04.2-1.43.59L10.3 9.45l-7.72 7.72c-.78.78-.78 2.05 0 2.83L4 21.41c.39.39.9.59 1.41.59.51 0 1.02-.2 1.41-.59l7.78-7.78 2.81-2.81c.8-.78.8-2.07 0-2.86zM5.41 20L4 18.59l7.72-7.72 1.47 1.35L5.41 20z\"/>\n",
              "  </svg>\n",
              "      </button>\n",
              "      \n",
              "  <style>\n",
              "    .colab-df-container {\n",
              "      display:flex;\n",
              "      flex-wrap:wrap;\n",
              "      gap: 12px;\n",
              "    }\n",
              "\n",
              "    .colab-df-convert {\n",
              "      background-color: #E8F0FE;\n",
              "      border: none;\n",
              "      border-radius: 50%;\n",
              "      cursor: pointer;\n",
              "      display: none;\n",
              "      fill: #1967D2;\n",
              "      height: 32px;\n",
              "      padding: 0 0 0 0;\n",
              "      width: 32px;\n",
              "    }\n",
              "\n",
              "    .colab-df-convert:hover {\n",
              "      background-color: #E2EBFA;\n",
              "      box-shadow: 0px 1px 2px rgba(60, 64, 67, 0.3), 0px 1px 3px 1px rgba(60, 64, 67, 0.15);\n",
              "      fill: #174EA6;\n",
              "    }\n",
              "\n",
              "    [theme=dark] .colab-df-convert {\n",
              "      background-color: #3B4455;\n",
              "      fill: #D2E3FC;\n",
              "    }\n",
              "\n",
              "    [theme=dark] .colab-df-convert:hover {\n",
              "      background-color: #434B5C;\n",
              "      box-shadow: 0px 1px 3px 1px rgba(0, 0, 0, 0.15);\n",
              "      filter: drop-shadow(0px 1px 2px rgba(0, 0, 0, 0.3));\n",
              "      fill: #FFFFFF;\n",
              "    }\n",
              "  </style>\n",
              "\n",
              "      <script>\n",
              "        const buttonEl =\n",
              "          document.querySelector('#df-de51c5ee-00b3-4942-b479-465e24b7efbe button.colab-df-convert');\n",
              "        buttonEl.style.display =\n",
              "          google.colab.kernel.accessAllowed ? 'block' : 'none';\n",
              "\n",
              "        async function convertToInteractive(key) {\n",
              "          const element = document.querySelector('#df-de51c5ee-00b3-4942-b479-465e24b7efbe');\n",
              "          const dataTable =\n",
              "            await google.colab.kernel.invokeFunction('convertToInteractive',\n",
              "                                                     [key], {});\n",
              "          if (!dataTable) return;\n",
              "\n",
              "          const docLinkHtml = 'Like what you see? Visit the ' +\n",
              "            '<a target=\"_blank\" href=https://colab.research.google.com/notebooks/data_table.ipynb>data table notebook</a>'\n",
              "            + ' to learn more about interactive tables.';\n",
              "          element.innerHTML = '';\n",
              "          dataTable['output_type'] = 'display_data';\n",
              "          await google.colab.output.renderOutput(dataTable, element);\n",
              "          const docLink = document.createElement('div');\n",
              "          docLink.innerHTML = docLinkHtml;\n",
              "          element.appendChild(docLink);\n",
              "        }\n",
              "      </script>\n",
              "    </div>\n",
              "  </div>\n",
              "  "
            ]
          },
          "metadata": {},
          "execution_count": 1986
        }
      ]
    },
    {
      "cell_type": "code",
      "source": [
        "PlayerAttributes.dtypes"
      ],
      "metadata": {
        "colab": {
          "base_uri": "https://localhost:8080/"
        },
        "id": "5ckfNquWQTwP",
        "outputId": "c3b0135f-374f-4634-943f-2a29b03a278b"
      },
      "execution_count": null,
      "outputs": [
        {
          "output_type": "execute_result",
          "data": {
            "text/plain": [
              "PlayerId         int64\n",
              "PlayerName      object\n",
              "YearOfEntry    float64\n",
              "CountryId        int64\n",
              "dtype: object"
            ]
          },
          "metadata": {},
          "execution_count": 1987
        }
      ]
    },
    {
      "cell_type": "markdown",
      "source": [
        "Ideally `YearOfEntry` should be of type integer but because ofsome problems with how `Pandas` integrate with `psycopg2` with respect to `NULL` values we'll just leave it as float for now and fix later.\n",
        "\n",
        "But we'll change `PlayerId` to `int`.\n",
        "\n",
        "\n",
        "\n"
      ],
      "metadata": {
        "id": "49VQhsAwQWxp"
      }
    },
    {
      "cell_type": "code",
      "source": [
        "PlayerAttributes = PlayerAttributes.astype({'PlayerId': 'int64'})\n",
        "PlayerAttributes.dtypes"
      ],
      "metadata": {
        "colab": {
          "base_uri": "https://localhost:8080/"
        },
        "id": "UXxz7gMwQbMS",
        "outputId": "0b1fea60-b3b0-4a64-b70e-a00ef64e901c"
      },
      "execution_count": null,
      "outputs": [
        {
          "output_type": "execute_result",
          "data": {
            "text/plain": [
              "PlayerId         int64\n",
              "PlayerName      object\n",
              "YearOfEntry    float64\n",
              "CountryId        int64\n",
              "dtype: object"
            ]
          },
          "metadata": {},
          "execution_count": 1988
        }
      ]
    },
    {
      "cell_type": "markdown",
      "source": [
        "### Results"
      ],
      "metadata": {
        "id": "jdpmLvBA2X6x"
      }
    },
    {
      "cell_type": "code",
      "source": [
        "Results = results_xls\n",
        "Results['GoalsScored'] = results_xls['GM-IM'].str.rsplit('-', expand=True)[0]\n",
        "Results['GoalsConceded'] = results_xls['GM-IM'].str.rsplit('-', expand=True)[1]\n",
        "\n",
        "\n",
        "Results.rename(columns = {'S':'GamesPlayed','V':'Won','O':'Draw','F':'Lost',\"P\":\"Points\"}, inplace = True)\n",
        "Results = Results[['GamesPlayed','Won','Draw','Lost','GoalsScored','GoalsConceded','Points','TeamId','LeagueSeasonId']]\n",
        "Results[:2]"
      ],
      "metadata": {
        "colab": {
          "base_uri": "https://localhost:8080/",
          "height": 112
        },
        "id": "7Rt4ETnJSXVF",
        "outputId": "74e444d0-6e11-4a0b-91b9-5c2de1f90301"
      },
      "execution_count": null,
      "outputs": [
        {
          "output_type": "execute_result",
          "data": {
            "text/plain": [
              "   GamesPlayed  Won  Draw  Lost GoalsScored GoalsConceded  Points  TeamId  \\\n",
              "0           30   21     3     6          60            26      66       1   \n",
              "1           30   17     9     4          52            26      60       2   \n",
              "\n",
              "   LeagueSeasonId  \n",
              "0              37  \n",
              "1              37  "
            ],
            "text/html": [
              "\n",
              "  <div id=\"df-ec243ea7-86c3-4c5e-8504-a9c966052b95\">\n",
              "    <div class=\"colab-df-container\">\n",
              "      <div>\n",
              "<style scoped>\n",
              "    .dataframe tbody tr th:only-of-type {\n",
              "        vertical-align: middle;\n",
              "    }\n",
              "\n",
              "    .dataframe tbody tr th {\n",
              "        vertical-align: top;\n",
              "    }\n",
              "\n",
              "    .dataframe thead th {\n",
              "        text-align: right;\n",
              "    }\n",
              "</style>\n",
              "<table border=\"1\" class=\"dataframe\">\n",
              "  <thead>\n",
              "    <tr style=\"text-align: right;\">\n",
              "      <th></th>\n",
              "      <th>GamesPlayed</th>\n",
              "      <th>Won</th>\n",
              "      <th>Draw</th>\n",
              "      <th>Lost</th>\n",
              "      <th>GoalsScored</th>\n",
              "      <th>GoalsConceded</th>\n",
              "      <th>Points</th>\n",
              "      <th>TeamId</th>\n",
              "      <th>LeagueSeasonId</th>\n",
              "    </tr>\n",
              "  </thead>\n",
              "  <tbody>\n",
              "    <tr>\n",
              "      <th>0</th>\n",
              "      <td>30</td>\n",
              "      <td>21</td>\n",
              "      <td>3</td>\n",
              "      <td>6</td>\n",
              "      <td>60</td>\n",
              "      <td>26</td>\n",
              "      <td>66</td>\n",
              "      <td>1</td>\n",
              "      <td>37</td>\n",
              "    </tr>\n",
              "    <tr>\n",
              "      <th>1</th>\n",
              "      <td>30</td>\n",
              "      <td>17</td>\n",
              "      <td>9</td>\n",
              "      <td>4</td>\n",
              "      <td>52</td>\n",
              "      <td>26</td>\n",
              "      <td>60</td>\n",
              "      <td>2</td>\n",
              "      <td>37</td>\n",
              "    </tr>\n",
              "  </tbody>\n",
              "</table>\n",
              "</div>\n",
              "      <button class=\"colab-df-convert\" onclick=\"convertToInteractive('df-ec243ea7-86c3-4c5e-8504-a9c966052b95')\"\n",
              "              title=\"Convert this dataframe to an interactive table.\"\n",
              "              style=\"display:none;\">\n",
              "        \n",
              "  <svg xmlns=\"http://www.w3.org/2000/svg\" height=\"24px\"viewBox=\"0 0 24 24\"\n",
              "       width=\"24px\">\n",
              "    <path d=\"M0 0h24v24H0V0z\" fill=\"none\"/>\n",
              "    <path d=\"M18.56 5.44l.94 2.06.94-2.06 2.06-.94-2.06-.94-.94-2.06-.94 2.06-2.06.94zm-11 1L8.5 8.5l.94-2.06 2.06-.94-2.06-.94L8.5 2.5l-.94 2.06-2.06.94zm10 10l.94 2.06.94-2.06 2.06-.94-2.06-.94-.94-2.06-.94 2.06-2.06.94z\"/><path d=\"M17.41 7.96l-1.37-1.37c-.4-.4-.92-.59-1.43-.59-.52 0-1.04.2-1.43.59L10.3 9.45l-7.72 7.72c-.78.78-.78 2.05 0 2.83L4 21.41c.39.39.9.59 1.41.59.51 0 1.02-.2 1.41-.59l7.78-7.78 2.81-2.81c.8-.78.8-2.07 0-2.86zM5.41 20L4 18.59l7.72-7.72 1.47 1.35L5.41 20z\"/>\n",
              "  </svg>\n",
              "      </button>\n",
              "      \n",
              "  <style>\n",
              "    .colab-df-container {\n",
              "      display:flex;\n",
              "      flex-wrap:wrap;\n",
              "      gap: 12px;\n",
              "    }\n",
              "\n",
              "    .colab-df-convert {\n",
              "      background-color: #E8F0FE;\n",
              "      border: none;\n",
              "      border-radius: 50%;\n",
              "      cursor: pointer;\n",
              "      display: none;\n",
              "      fill: #1967D2;\n",
              "      height: 32px;\n",
              "      padding: 0 0 0 0;\n",
              "      width: 32px;\n",
              "    }\n",
              "\n",
              "    .colab-df-convert:hover {\n",
              "      background-color: #E2EBFA;\n",
              "      box-shadow: 0px 1px 2px rgba(60, 64, 67, 0.3), 0px 1px 3px 1px rgba(60, 64, 67, 0.15);\n",
              "      fill: #174EA6;\n",
              "    }\n",
              "\n",
              "    [theme=dark] .colab-df-convert {\n",
              "      background-color: #3B4455;\n",
              "      fill: #D2E3FC;\n",
              "    }\n",
              "\n",
              "    [theme=dark] .colab-df-convert:hover {\n",
              "      background-color: #434B5C;\n",
              "      box-shadow: 0px 1px 3px 1px rgba(0, 0, 0, 0.15);\n",
              "      filter: drop-shadow(0px 1px 2px rgba(0, 0, 0, 0.3));\n",
              "      fill: #FFFFFF;\n",
              "    }\n",
              "  </style>\n",
              "\n",
              "      <script>\n",
              "        const buttonEl =\n",
              "          document.querySelector('#df-ec243ea7-86c3-4c5e-8504-a9c966052b95 button.colab-df-convert');\n",
              "        buttonEl.style.display =\n",
              "          google.colab.kernel.accessAllowed ? 'block' : 'none';\n",
              "\n",
              "        async function convertToInteractive(key) {\n",
              "          const element = document.querySelector('#df-ec243ea7-86c3-4c5e-8504-a9c966052b95');\n",
              "          const dataTable =\n",
              "            await google.colab.kernel.invokeFunction('convertToInteractive',\n",
              "                                                     [key], {});\n",
              "          if (!dataTable) return;\n",
              "\n",
              "          const docLinkHtml = 'Like what you see? Visit the ' +\n",
              "            '<a target=\"_blank\" href=https://colab.research.google.com/notebooks/data_table.ipynb>data table notebook</a>'\n",
              "            + ' to learn more about interactive tables.';\n",
              "          element.innerHTML = '';\n",
              "          dataTable['output_type'] = 'display_data';\n",
              "          await google.colab.output.renderOutput(dataTable, element);\n",
              "          const docLink = document.createElement('div');\n",
              "          docLink.innerHTML = docLinkHtml;\n",
              "          element.appendChild(docLink);\n",
              "        }\n",
              "      </script>\n",
              "    </div>\n",
              "  </div>\n",
              "  "
            ]
          },
          "metadata": {},
          "execution_count": 1989
        }
      ]
    },
    {
      "cell_type": "code",
      "source": [
        "Results.dtypes"
      ],
      "metadata": {
        "colab": {
          "base_uri": "https://localhost:8080/"
        },
        "id": "Pp_kgyYaRQMN",
        "outputId": "366a2d83-6a1b-47ae-f0b9-5cf743f9c5c1"
      },
      "execution_count": null,
      "outputs": [
        {
          "output_type": "execute_result",
          "data": {
            "text/plain": [
              "GamesPlayed        int64\n",
              "Won                int64\n",
              "Draw               int64\n",
              "Lost               int64\n",
              "GoalsScored       object\n",
              "GoalsConceded     object\n",
              "Points             int64\n",
              "TeamId             int64\n",
              "LeagueSeasonId     int64\n",
              "dtype: object"
            ]
          },
          "metadata": {},
          "execution_count": 1990
        }
      ]
    },
    {
      "cell_type": "markdown",
      "source": [
        "Looks OK..."
      ],
      "metadata": {
        "id": "QcYUWF4ERSYC"
      }
    },
    {
      "cell_type": "markdown",
      "source": [
        "### Finances"
      ],
      "metadata": {
        "id": "j-CMHT122Zum"
      }
    },
    {
      "cell_type": "code",
      "source": [
        "Finances = results_xls\n",
        "Finances = Finances[['Team','Year','League','TeamId','LeagueSeasonId']]\n",
        "Finances.rename(columns = {'Year':'Season'}, inplace = True)\n",
        "Finances = pd.merge(Finances,teams_xls,on=['Team','Season','League'])\n",
        "Finances.rename(columns = {'rev':'Revenue','cost_total':'Cost','cost_wages':'WageCost','home_attendance_total':'HomeAttendanceTotal'}, inplace = True)\n",
        "Finances = Finances[['Revenue','Cost','WageCost','HomeAttendanceTotal','TeamId','LeagueSeasonId']]\n",
        "Finances[:2]"
      ],
      "metadata": {
        "colab": {
          "base_uri": "https://localhost:8080/",
          "height": 199
        },
        "id": "9FXKIVQ-WT7r",
        "outputId": "dcdd7812-c6cf-4d6d-b636-7a46398ea9cf"
      },
      "execution_count": null,
      "outputs": [
        {
          "output_type": "stream",
          "name": "stderr",
          "text": [
            "/usr/local/lib/python3.7/dist-packages/pandas/core/frame.py:5047: SettingWithCopyWarning: \n",
            "A value is trying to be set on a copy of a slice from a DataFrame\n",
            "\n",
            "See the caveats in the documentation: https://pandas.pydata.org/pandas-docs/stable/user_guide/indexing.html#returning-a-view-versus-a-copy\n",
            "  errors=errors,\n"
          ]
        },
        {
          "output_type": "execute_result",
          "data": {
            "text/plain": [
              "   Revenue   Cost  WageCost  HomeAttendanceTotal  TeamId  LeagueSeasonId\n",
              "0    137.0  157.9    68.500             314750.0       2              33\n",
              "1     99.1  103.2    50.541             138579.0       5              33"
            ],
            "text/html": [
              "\n",
              "  <div id=\"df-1596a207-aafe-4c8f-a2aa-d4489889e289\">\n",
              "    <div class=\"colab-df-container\">\n",
              "      <div>\n",
              "<style scoped>\n",
              "    .dataframe tbody tr th:only-of-type {\n",
              "        vertical-align: middle;\n",
              "    }\n",
              "\n",
              "    .dataframe tbody tr th {\n",
              "        vertical-align: top;\n",
              "    }\n",
              "\n",
              "    .dataframe thead th {\n",
              "        text-align: right;\n",
              "    }\n",
              "</style>\n",
              "<table border=\"1\" class=\"dataframe\">\n",
              "  <thead>\n",
              "    <tr style=\"text-align: right;\">\n",
              "      <th></th>\n",
              "      <th>Revenue</th>\n",
              "      <th>Cost</th>\n",
              "      <th>WageCost</th>\n",
              "      <th>HomeAttendanceTotal</th>\n",
              "      <th>TeamId</th>\n",
              "      <th>LeagueSeasonId</th>\n",
              "    </tr>\n",
              "  </thead>\n",
              "  <tbody>\n",
              "    <tr>\n",
              "      <th>0</th>\n",
              "      <td>137.0</td>\n",
              "      <td>157.9</td>\n",
              "      <td>68.500</td>\n",
              "      <td>314750.0</td>\n",
              "      <td>2</td>\n",
              "      <td>33</td>\n",
              "    </tr>\n",
              "    <tr>\n",
              "      <th>1</th>\n",
              "      <td>99.1</td>\n",
              "      <td>103.2</td>\n",
              "      <td>50.541</td>\n",
              "      <td>138579.0</td>\n",
              "      <td>5</td>\n",
              "      <td>33</td>\n",
              "    </tr>\n",
              "  </tbody>\n",
              "</table>\n",
              "</div>\n",
              "      <button class=\"colab-df-convert\" onclick=\"convertToInteractive('df-1596a207-aafe-4c8f-a2aa-d4489889e289')\"\n",
              "              title=\"Convert this dataframe to an interactive table.\"\n",
              "              style=\"display:none;\">\n",
              "        \n",
              "  <svg xmlns=\"http://www.w3.org/2000/svg\" height=\"24px\"viewBox=\"0 0 24 24\"\n",
              "       width=\"24px\">\n",
              "    <path d=\"M0 0h24v24H0V0z\" fill=\"none\"/>\n",
              "    <path d=\"M18.56 5.44l.94 2.06.94-2.06 2.06-.94-2.06-.94-.94-2.06-.94 2.06-2.06.94zm-11 1L8.5 8.5l.94-2.06 2.06-.94-2.06-.94L8.5 2.5l-.94 2.06-2.06.94zm10 10l.94 2.06.94-2.06 2.06-.94-2.06-.94-.94-2.06-.94 2.06-2.06.94z\"/><path d=\"M17.41 7.96l-1.37-1.37c-.4-.4-.92-.59-1.43-.59-.52 0-1.04.2-1.43.59L10.3 9.45l-7.72 7.72c-.78.78-.78 2.05 0 2.83L4 21.41c.39.39.9.59 1.41.59.51 0 1.02-.2 1.41-.59l7.78-7.78 2.81-2.81c.8-.78.8-2.07 0-2.86zM5.41 20L4 18.59l7.72-7.72 1.47 1.35L5.41 20z\"/>\n",
              "  </svg>\n",
              "      </button>\n",
              "      \n",
              "  <style>\n",
              "    .colab-df-container {\n",
              "      display:flex;\n",
              "      flex-wrap:wrap;\n",
              "      gap: 12px;\n",
              "    }\n",
              "\n",
              "    .colab-df-convert {\n",
              "      background-color: #E8F0FE;\n",
              "      border: none;\n",
              "      border-radius: 50%;\n",
              "      cursor: pointer;\n",
              "      display: none;\n",
              "      fill: #1967D2;\n",
              "      height: 32px;\n",
              "      padding: 0 0 0 0;\n",
              "      width: 32px;\n",
              "    }\n",
              "\n",
              "    .colab-df-convert:hover {\n",
              "      background-color: #E2EBFA;\n",
              "      box-shadow: 0px 1px 2px rgba(60, 64, 67, 0.3), 0px 1px 3px 1px rgba(60, 64, 67, 0.15);\n",
              "      fill: #174EA6;\n",
              "    }\n",
              "\n",
              "    [theme=dark] .colab-df-convert {\n",
              "      background-color: #3B4455;\n",
              "      fill: #D2E3FC;\n",
              "    }\n",
              "\n",
              "    [theme=dark] .colab-df-convert:hover {\n",
              "      background-color: #434B5C;\n",
              "      box-shadow: 0px 1px 3px 1px rgba(0, 0, 0, 0.15);\n",
              "      filter: drop-shadow(0px 1px 2px rgba(0, 0, 0, 0.3));\n",
              "      fill: #FFFFFF;\n",
              "    }\n",
              "  </style>\n",
              "\n",
              "      <script>\n",
              "        const buttonEl =\n",
              "          document.querySelector('#df-1596a207-aafe-4c8f-a2aa-d4489889e289 button.colab-df-convert');\n",
              "        buttonEl.style.display =\n",
              "          google.colab.kernel.accessAllowed ? 'block' : 'none';\n",
              "\n",
              "        async function convertToInteractive(key) {\n",
              "          const element = document.querySelector('#df-1596a207-aafe-4c8f-a2aa-d4489889e289');\n",
              "          const dataTable =\n",
              "            await google.colab.kernel.invokeFunction('convertToInteractive',\n",
              "                                                     [key], {});\n",
              "          if (!dataTable) return;\n",
              "\n",
              "          const docLinkHtml = 'Like what you see? Visit the ' +\n",
              "            '<a target=\"_blank\" href=https://colab.research.google.com/notebooks/data_table.ipynb>data table notebook</a>'\n",
              "            + ' to learn more about interactive tables.';\n",
              "          element.innerHTML = '';\n",
              "          dataTable['output_type'] = 'display_data';\n",
              "          await google.colab.output.renderOutput(dataTable, element);\n",
              "          const docLink = document.createElement('div');\n",
              "          docLink.innerHTML = docLinkHtml;\n",
              "          element.appendChild(docLink);\n",
              "        }\n",
              "      </script>\n",
              "    </div>\n",
              "  </div>\n",
              "  "
            ]
          },
          "metadata": {},
          "execution_count": 1991
        }
      ]
    },
    {
      "cell_type": "code",
      "source": [
        "Finances.dtypes"
      ],
      "metadata": {
        "colab": {
          "base_uri": "https://localhost:8080/"
        },
        "id": "CxIOjBUtRU4w",
        "outputId": "6c42a5ef-9ab2-4e91-cce6-6efdc6389869"
      },
      "execution_count": null,
      "outputs": [
        {
          "output_type": "execute_result",
          "data": {
            "text/plain": [
              "Revenue                float64\n",
              "Cost                   float64\n",
              "WageCost               float64\n",
              "HomeAttendanceTotal    float64\n",
              "TeamId                   int64\n",
              "LeagueSeasonId           int64\n",
              "dtype: object"
            ]
          },
          "metadata": {},
          "execution_count": 1992
        }
      ]
    },
    {
      "cell_type": "markdown",
      "source": [
        "`Revenue`, `Cost` and `WageCost` should be `floats`. But `HomeAttendanceTotal` should be of type `int` since not half a person can attend a game. "
      ],
      "metadata": {
        "id": "irAhl6j5RYdW"
      }
    },
    {
      "cell_type": "code",
      "source": [
        "Finances = Finances.astype({'HomeAttendanceTotal': 'int64'})\n",
        "Finances.dtypes"
      ],
      "metadata": {
        "colab": {
          "base_uri": "https://localhost:8080/"
        },
        "id": "UxhIrNR3RrNR",
        "outputId": "34109683-ed13-4957-e563-ec969bcda050"
      },
      "execution_count": null,
      "outputs": [
        {
          "output_type": "execute_result",
          "data": {
            "text/plain": [
              "Revenue                float64\n",
              "Cost                   float64\n",
              "WageCost               float64\n",
              "HomeAttendanceTotal      int64\n",
              "TeamId                   int64\n",
              "LeagueSeasonId           int64\n",
              "dtype: object"
            ]
          },
          "metadata": {},
          "execution_count": 1993
        }
      ]
    },
    {
      "cell_type": "markdown",
      "source": [
        "# Creating a database on the server"
      ],
      "metadata": {
        "id": "LqFoaTueWboR"
      }
    },
    {
      "cell_type": "markdown",
      "source": [
        "Let's start by creating a database (`football.db`) on the server.\n",
        "Into `football.db` we'll later insert our created dataframes as tables.\n",
        "\n",
        "The first step is to create a `cursor` object using the `connection` object `conn` we created while connecting to the server."
      ],
      "metadata": {
        "id": "wr0kGI7iS1Kx"
      }
    },
    {
      "cell_type": "code",
      "source": [
        "cur = conn.cursor()\n",
        "conn.autocommit = True"
      ],
      "metadata": {
        "id": "GkcOHxf9dtdw"
      },
      "execution_count": null,
      "outputs": []
    },
    {
      "cell_type": "code",
      "source": [
        "# This is need for creating a database\n",
        "\n",
        "cur.execute('''\n",
        "CREATE DATABASE football;\n",
        "''')\n"
      ],
      "metadata": {
        "id": "nLtW87-XTWbH"
      },
      "execution_count": null,
      "outputs": []
    },
    {
      "cell_type": "markdown",
      "source": [
        "Let's see if the new database exits."
      ],
      "metadata": {
        "id": "QyzYYkSQUkUl"
      }
    },
    {
      "cell_type": "code",
      "source": [
        "cur.execute('''\n",
        "SELECT datname FROM pg_database;\n",
        "''')\n",
        "\n",
        "cur.fetchall()"
      ],
      "metadata": {
        "colab": {
          "base_uri": "https://localhost:8080/"
        },
        "id": "x0p-y7WEUaEB",
        "outputId": "7ce9f4df-0771-40d4-a0e1-d9d2177e3eb2"
      },
      "execution_count": null,
      "outputs": [
        {
          "output_type": "execute_result",
          "data": {
            "text/plain": [
              "[('azure_maintenance',),\n",
              " ('template1',),\n",
              " ('postgres',),\n",
              " ('template0',),\n",
              " ('azure_sys',),\n",
              " ('football',)]"
            ]
          },
          "metadata": {},
          "execution_count": 1996
        }
      ]
    },
    {
      "cell_type": "markdown",
      "source": [
        "It does!\n",
        "\n",
        "We'll add the `dbname=football` to the `conn_string` so that we're working in the right database."
      ],
      "metadata": {
        "id": "YcKKJ3pDUm72"
      }
    },
    {
      "cell_type": "code",
      "source": [
        "conn_string = conn_string + \" dbname=football\"\n",
        "conn.close()\n",
        "\n",
        "try:\n",
        "  conn = psycopg2.connect(conn_string)\n",
        "except:\n",
        "  print(\"Connection failed...\")\n",
        "else:\n",
        "  print(\"Connection established!\")"
      ],
      "metadata": {
        "colab": {
          "base_uri": "https://localhost:8080/"
        },
        "id": "G4EPLnzoel1I",
        "outputId": "f0880264-af61-4a1c-d7b7-beb959cde7ec"
      },
      "execution_count": null,
      "outputs": [
        {
          "output_type": "stream",
          "name": "stdout",
          "text": [
            "Connection established!\n"
          ]
        }
      ]
    },
    {
      "cell_type": "code",
      "source": [
        "cur = conn.cursor()\n",
        "conn.autocommit = True"
      ],
      "metadata": {
        "id": "X2cHvMVPe6-9"
      },
      "execution_count": null,
      "outputs": []
    },
    {
      "cell_type": "markdown",
      "source": [
        "# Inserting data into tables\n",
        "\n",
        "To insert data into tables we'll do three things for each table.\n",
        "\n",
        "* Create the new table\n",
        "* Convert pandas dataframes to `.csv`\n",
        "* Use the `cursor.copy_from()` method\n",
        "\n",
        "We'll start by defining a function that takes care of the last two."
      ],
      "metadata": {
        "id": "IGwEX59zWiA3"
      }
    },
    {
      "cell_type": "code",
      "source": [
        "\n",
        "def football_insert(Table):\n",
        "  filename = Table+\".csv\"\n",
        "  eval(Table).to_csv(filename, index=False, header=False)\n",
        "  with open(filename) as file :\n",
        "    cur.copy_from(file, Table, sep=',')\n",
        "  \n",
        "  cur.execute(\"SELECT * FROM \"+Table+\" LIMIT 5;\")\n",
        "  print(\"Insertion succesfull. First five rows:\\n\")\n",
        "  return cur.fetchall()\n"
      ],
      "metadata": {
        "id": "wpgQpn0NVE_p"
      },
      "execution_count": null,
      "outputs": []
    },
    {
      "cell_type": "markdown",
      "source": [
        "## `Teams`\n",
        "\n",
        "Now we can create our first table. This is the `Teams` table.\n",
        "We'll first create the table itself and then insert the data from the dataframe."
      ],
      "metadata": {
        "id": "ndIjsC6VkbG5"
      }
    },
    {
      "cell_type": "code",
      "source": [
        "cur.execute(\"\"\"\n",
        "CREATE TABLE Teams(\n",
        "  Id INTEGER PRIMARY KEY,\n",
        "  Name TEXT\n",
        ");\n",
        "\"\"\")"
      ],
      "metadata": {
        "id": "TINSK3poiTvN"
      },
      "execution_count": null,
      "outputs": []
    },
    {
      "cell_type": "code",
      "source": [
        "football_insert(\"Teams\")"
      ],
      "metadata": {
        "colab": {
          "base_uri": "https://localhost:8080/"
        },
        "id": "n79juq71iD1g",
        "outputId": "c33a8eab-2a41-4115-d5e1-3cc0c4cafb3d"
      },
      "execution_count": null,
      "outputs": [
        {
          "output_type": "stream",
          "name": "stdout",
          "text": [
            "Insertion succesfull. First five rows:\n",
            "\n"
          ]
        },
        {
          "output_type": "execute_result",
          "data": {
            "text/plain": [
              "[(1, 'Malmö FF'),\n",
              " (2, 'AIK'),\n",
              " (3, 'IFK Norrköping FK'),\n",
              " (4, 'IFK Göteborg'),\n",
              " (5, 'IF Elfsborg')]"
            ]
          },
          "metadata": {},
          "execution_count": 2001
        }
      ]
    },
    {
      "cell_type": "markdown",
      "source": [
        "## `LeagueSeason` and `Countries`\n",
        "\n",
        "Rinse and repeat..."
      ],
      "metadata": {
        "id": "uw8IHX84k5WW"
      }
    },
    {
      "cell_type": "code",
      "source": [
        "cur.execute(\"\"\"\n",
        "CREATE TABLE LeagueSeason(\n",
        "  Id INTEGER PRIMARY KEY,\n",
        "  LeagueName TEXT,\n",
        "  Year TEXT\n",
        ");\n",
        "\"\"\")\n",
        "\n",
        "football_insert(\"LeagueSeason\")"
      ],
      "metadata": {
        "colab": {
          "base_uri": "https://localhost:8080/"
        },
        "id": "ogewe0Skk4tn",
        "outputId": "35b9b88f-1af4-4bd4-cf62-bd18a96f8a89"
      },
      "execution_count": null,
      "outputs": [
        {
          "output_type": "stream",
          "name": "stdout",
          "text": [
            "Insertion succesfull. First five rows:\n",
            "\n"
          ]
        },
        {
          "output_type": "stream",
          "name": "stderr",
          "text": [
            "/usr/local/lib/python3.7/dist-packages/IPython/core/displayhook.py:260: UserWarning: Output cache limit (currently 1000 entries) hit.\n",
            "Flushing oldest 200 entries.\n",
            "  'Flushing oldest {cull_count} entries.'.format(sz=sz, cull_count=cull_count))\n"
          ]
        },
        {
          "output_type": "execute_result",
          "data": {
            "text/plain": [
              "[(1, 'Allsvenskan', '2007'),\n",
              " (2, 'Division 1 N.', '2007'),\n",
              " (3, 'Division 1 S.', '2007'),\n",
              " (4, 'Superettan', '2007'),\n",
              " (5, 'Allsvenskan', '2008')]"
            ]
          },
          "metadata": {},
          "execution_count": 2002
        }
      ]
    },
    {
      "cell_type": "code",
      "source": [
        "cur.execute(\"\"\"\n",
        "CREATE TABLE Countries(\n",
        "Id INTEGER PRIMARY KEY,\n",
        "Name TEXT,\n",
        "Region TEXT\n",
        ");\n",
        "\"\"\")\n",
        "\n",
        "football_insert(\"Countries\")"
      ],
      "metadata": {
        "colab": {
          "base_uri": "https://localhost:8080/"
        },
        "id": "5IAv3Zo6lhGB",
        "outputId": "57335ff9-ebf5-4ff4-c56d-09a0cc60f58e"
      },
      "execution_count": null,
      "outputs": [
        {
          "output_type": "stream",
          "name": "stdout",
          "text": [
            "Insertion succesfull. First five rows:\n",
            "\n"
          ]
        },
        {
          "output_type": "execute_result",
          "data": {
            "text/plain": [
              "[(0, '', ''),\n",
              " (1, 'Albania', 'Eastern Europe'),\n",
              " (2, 'Algeria', 'Africa'),\n",
              " (3, 'Angola', 'Africa'),\n",
              " (4, 'Argentina', 'South America')]"
            ]
          },
          "metadata": {},
          "execution_count": 2003
        }
      ]
    },
    {
      "cell_type": "markdown",
      "source": [
        "## `Finances` and `Results`\n",
        "The `Finances` and `Results` tables hold compund primary keys (`TeamId` and `LeagueSeasonId`). The syntax for this slightly different but the process is the same.\n",
        "\n",
        "Also, because there are some `NaN` values for the WageCost column in the `Finances` table we will temporarily code them as `999` and replace them with `NULL` values with a proper SQL statement in the final table.\n",
        "\n",
        "( There's perhaps a better way to do this but this works for this purpose )"
      ],
      "metadata": {
        "id": "TCYYiD8Pny0c"
      }
    },
    {
      "cell_type": "code",
      "source": [
        "# Replace all NA/NaN with 999\n",
        "Finances = Finances.fillna(psycopg2.extensions.AsIs(999))"
      ],
      "metadata": {
        "id": "4QG_-noppq8u"
      },
      "execution_count": null,
      "outputs": []
    },
    {
      "cell_type": "code",
      "source": [
        "# NUMERIC(5,2) means precision=5 and scale=2 where precision is number of digits in total and scale is maximum number of digits after decimal point\n",
        "\n",
        "cur.execute(\"\"\"\n",
        "CREATE TABLE Finances(\n",
        "Revenue NUMERIC(5,2),\n",
        "Cost NUMERIC(5,2),\n",
        "WageCost NUMERIC(5,2),\n",
        "HomeAttendanceTotal INTEGER,\n",
        "TeamId INTEGER,\n",
        "LeagueSeasonId INTEGER,\n",
        "PRIMARY KEY(TeamId, LeagueSeasonId)\n",
        ");\n",
        "\"\"\")\n",
        "\n",
        "football_insert(\"Finances\")"
      ],
      "metadata": {
        "colab": {
          "base_uri": "https://localhost:8080/"
        },
        "id": "MndilnXUnnur",
        "outputId": "3b0cef64-dd81-4f8b-fb9f-1d5d88b6b20f"
      },
      "execution_count": null,
      "outputs": [
        {
          "output_type": "stream",
          "name": "stdout",
          "text": [
            "Insertion succesfull. First five rows:\n",
            "\n"
          ]
        },
        {
          "output_type": "execute_result",
          "data": {
            "text/plain": [
              "[(Decimal('137.00'), Decimal('157.90'), Decimal('68.50'), 314750, 2, 33),\n",
              " (Decimal('99.10'), Decimal('103.20'), Decimal('50.54'), 138579, 5, 33),\n",
              " (Decimal('57.30'), Decimal('74.40'), Decimal('39.54'), 92443, 6, 33),\n",
              " (Decimal('93.20'), Decimal('87.30'), Decimal('46.60'), 382607, 11, 33),\n",
              " (Decimal('36.00'), Decimal('40.10'), Decimal('21.60'), 75749, 13, 33)]"
            ]
          },
          "metadata": {},
          "execution_count": 2005
        }
      ]
    },
    {
      "cell_type": "code",
      "source": [
        "# Updating to NULL values where WageCost = 999\n",
        "\n",
        "cur.execute(\"\"\"\n",
        "UPDATE Finances\n",
        "SET WageCost = NULL\n",
        "WHERE WageCost=999;\n",
        "\"\"\")\n",
        "\n",
        "cur.execute(\"\"\"\n",
        "SELECT *\n",
        "FROM Finances\n",
        "WHERE WageCost IS NULL\n",
        "LIMIT 5;\n",
        "\"\"\")\n",
        "\n",
        "cur.fetchall()"
      ],
      "metadata": {
        "colab": {
          "base_uri": "https://localhost:8080/"
        },
        "id": "zheOLgEnuvdu",
        "outputId": "de1dd747-64d9-4b26-fc06-5452c7651317"
      },
      "execution_count": null,
      "outputs": [
        {
          "output_type": "execute_result",
          "data": {
            "text/plain": [
              "[(Decimal('97.60'), Decimal('113.30'), None, 233025, 2, 5),\n",
              " (Decimal('73.10'), Decimal('77.20'), None, 142697, 5, 5),\n",
              " (Decimal('54.20'), Decimal('45.80'), None, 91539, 6, 5),\n",
              " (Decimal('70.30'), Decimal('89.90'), None, 167167, 11, 5),\n",
              " (Decimal('48.40'), Decimal('40.10'), None, 68948, 13, 5)]"
            ]
          },
          "metadata": {},
          "execution_count": 2006
        }
      ]
    },
    {
      "cell_type": "code",
      "source": [
        "cur.execute(\"\"\"\n",
        "CREATE TABLE Results(\n",
        "GamesPlayed INTEGER,\n",
        "Won INTEGER,\n",
        "Draw INTEGER,\n",
        "Lost INTEGER,\n",
        "GoalsScored INTEGER,\n",
        "GoalsConceded INTEGER,\n",
        "Points INTEGER,\n",
        "TeamId INTEGER,\n",
        "LeagueSeasonId INTEGER,\n",
        "PRIMARY KEY(TeamId, LeagueSeasonId)\n",
        ");\n",
        "\"\"\")\n",
        "\n",
        "football_insert(\"Results\")"
      ],
      "metadata": {
        "colab": {
          "base_uri": "https://localhost:8080/"
        },
        "id": "r4_MegGwpUKD",
        "outputId": "e71239bd-1a88-458a-fa82-5b22b123cd46"
      },
      "execution_count": null,
      "outputs": [
        {
          "output_type": "stream",
          "name": "stdout",
          "text": [
            "Insertion succesfull. First five rows:\n",
            "\n"
          ]
        },
        {
          "output_type": "execute_result",
          "data": {
            "text/plain": [
              "[(30, 21, 3, 6, 60, 26, 66, 1, 37),\n",
              " (30, 17, 9, 4, 52, 26, 60, 2, 37),\n",
              " (30, 18, 6, 6, 59, 37, 60, 3, 37),\n",
              " (30, 14, 8, 8, 56, 47, 50, 4, 37),\n",
              " (30, 13, 9, 8, 58, 38, 48, 5, 37)]"
            ]
          },
          "metadata": {},
          "execution_count": 2007
        }
      ]
    },
    {
      "cell_type": "markdown",
      "source": [
        "## PlayerAttributes\n",
        "\n",
        "PlayerAttributes and PlayerGames hold foreign keys aswell. There are also some `NaN` values in the `YearOfEntry` column for players born in Sweden."
      ],
      "metadata": {
        "id": "c5cRDE7plfq-"
      }
    },
    {
      "cell_type": "code",
      "source": [
        "PlayerAttributes.dtypes"
      ],
      "metadata": {
        "colab": {
          "base_uri": "https://localhost:8080/"
        },
        "id": "kZ0JYLaHxB5Y",
        "outputId": "127b4e0c-fcfc-443c-b5f2-c7111f174acf"
      },
      "execution_count": null,
      "outputs": [
        {
          "output_type": "execute_result",
          "data": {
            "text/plain": [
              "PlayerId         int64\n",
              "PlayerName      object\n",
              "YearOfEntry    float64\n",
              "CountryId        int64\n",
              "dtype: object"
            ]
          },
          "metadata": {},
          "execution_count": 2008
        }
      ]
    },
    {
      "cell_type": "code",
      "source": [
        "# Replace all NA/NaN with 999\n",
        "PlayerAttributes = PlayerAttributes.fillna(psycopg2.extensions.AsIs(9999))"
      ],
      "metadata": {
        "id": "yga9vOb6v1m0"
      },
      "execution_count": null,
      "outputs": []
    },
    {
      "cell_type": "code",
      "source": [
        "cur.execute(\"\"\"\n",
        "CREATE TABLE PlayerAttributes(\n",
        "PlayerId INTEGER PRIMARY KEY,\n",
        "Name TEXT,\n",
        "YearOfEntry NUMERIC(4,0),\n",
        "CountryId INTEGER,\n",
        "FOREIGN KEY(CountryId) REFERENCES Countries(Id)\n",
        ");\n",
        "\"\"\")\n",
        "\n",
        "football_insert(\"PlayerAttributes\")"
      ],
      "metadata": {
        "colab": {
          "base_uri": "https://localhost:8080/"
        },
        "id": "2SI3OYQgwAN3",
        "outputId": "e55913bd-ca92-4d51-e34b-a8823bb53ee3"
      },
      "execution_count": null,
      "outputs": [
        {
          "output_type": "stream",
          "name": "stdout",
          "text": [
            "Insertion succesfull. First five rows:\n",
            "\n"
          ]
        },
        {
          "output_type": "execute_result",
          "data": {
            "text/plain": [
              "[(0, '9999', Decimal('9999'), 0),\n",
              " (1, 'Aaron Nichols', Decimal('2013'), 97),\n",
              " (2, 'Abbas Hassan', Decimal('9999'), 88),\n",
              " (3, 'Abdel Bouraima', Decimal('2013'), 11),\n",
              " (4, 'Abderrahman Kabous', Decimal('2005'), 65)]"
            ]
          },
          "metadata": {},
          "execution_count": 2010
        }
      ]
    },
    {
      "cell_type": "code",
      "source": [
        "# Updating to NULL values where YearOfEntry = 0999\n",
        "\n",
        "cur.execute(\"\"\"\n",
        "UPDATE PlayerAttributes\n",
        "SET YearOfEntry = NULL\n",
        "WHERE YearOfEntry=9999;\n",
        "\"\"\")\n",
        "\n",
        "cur.execute(\"\"\"\n",
        "SELECT *\n",
        "FROM PlayerAttributes\n",
        "WHERE YearOfEntry IS NULL\n",
        "LIMIT 5;\n",
        "\"\"\")\n"
      ],
      "metadata": {
        "id": "EGvqEpqRl93j"
      },
      "execution_count": null,
      "outputs": []
    },
    {
      "cell_type": "markdown",
      "source": [
        "## PlayerGames\n"
      ],
      "metadata": {
        "id": "c5BEcQ3GLxyY"
      }
    },
    {
      "cell_type": "code",
      "source": [
        "cur.execute(\"\"\"\n",
        "CREATE TABLE PlayerGames(\n",
        "PlayerId INTEGER,\n",
        "GamesPlayed INTEGER,\n",
        "TeamId INTEGER,\n",
        "LeagueSeasonId INTEGER,\n",
        "PRIMARY KEY(PlayerId, TeamId, LeagueSeasonId),\n",
        "FOREIGN KEY(TeamId) REFERENCES Teams(Id),\n",
        "FOREIGN KEY(LeagueSeasonId) REFERENCES LeagueSeason(Id)\n",
        ");\n",
        "\"\"\")\n",
        "\n",
        "football_insert(\"PlayerGames\")"
      ],
      "metadata": {
        "colab": {
          "base_uri": "https://localhost:8080/"
        },
        "id": "xSunjFWzL4hg",
        "outputId": "91a98356-95c8-46af-bd3c-485756d81978"
      },
      "execution_count": null,
      "outputs": [
        {
          "output_type": "stream",
          "name": "stdout",
          "text": [
            "Insertion succesfull. First five rows:\n",
            "\n"
          ]
        },
        {
          "output_type": "execute_result",
          "data": {
            "text/plain": [
              "[(1, 8, 27, 28),\n",
              " (2675, 28, 27, 28),\n",
              " (2677, 6, 27, 28),\n",
              " (2722, 12, 27, 28),\n",
              " (153, 26, 27, 28)]"
            ]
          },
          "metadata": {},
          "execution_count": 2012
        }
      ]
    },
    {
      "cell_type": "markdown",
      "source": [
        "Thats it! Now we have all of ours tables on the PostgreSQL server on Azure."
      ],
      "metadata": {
        "id": "fBEQFKwJQHVn"
      }
    },
    {
      "cell_type": "code",
      "source": [
        "cur.execute(\"\"\"\n",
        "SELECT *\n",
        "FROM pg_catalog.pg_tables\n",
        "WHERE schemaname != 'pg_catalog' AND \n",
        "    schemaname != 'information_schema';\n",
        "\"\"\")\n",
        "\n",
        "cur.fetchall()"
      ],
      "metadata": {
        "colab": {
          "base_uri": "https://localhost:8080/"
        },
        "id": "u7KTw8vgQGXY",
        "outputId": "ae00f97c-1e85-4016-c41a-7fa466dbd64d"
      },
      "execution_count": null,
      "outputs": [
        {
          "output_type": "execute_result",
          "data": {
            "text/plain": [
              "[('public', 'finances', 'postgres', None, True, False, False, False),\n",
              " ('public', 'results', 'postgres', None, True, False, False, False),\n",
              " ('public', 'countries', 'postgres', None, True, False, True, False),\n",
              " ('public', 'playerattributes', 'postgres', None, True, False, True, False),\n",
              " ('public', 'teams', 'postgres', None, True, False, True, False),\n",
              " ('public', 'playergames', 'postgres', None, True, False, True, False),\n",
              " ('public', 'leagueseason', 'postgres', None, True, False, True, False)]"
            ]
          },
          "metadata": {},
          "execution_count": 2013
        }
      ]
    },
    {
      "cell_type": "markdown",
      "source": [
        "# Running querys on the new database (change to an interesting question instead?)\n",
        "\n",
        "Now that we have all of our tables we can run some interesting querys.\n",
        "\n",
        "For this I will use an alternative way to fetch the output which is the `pandas.read_sql()` method. This way we get the output as a dataframe which besides being easier to read also can be used directly for visualizations."
      ],
      "metadata": {
        "id": "lRkyQN-3Wl9a"
      }
    },
    {
      "cell_type": "markdown",
      "source": [
        "### Which team won allsvenskan the most times between 2007 and 2016\n"
      ],
      "metadata": {
        "id": "MAFPkHOERKvN"
      }
    },
    {
      "cell_type": "code",
      "source": [
        "sql = \"\"\"\n",
        "WITH \n",
        "winners AS\n",
        "(\n",
        "SELECT \n",
        "  leagueseasonid, \n",
        "  MAX(points) AS points\n",
        "FROM Results\n",
        "GROUP BY leagueseasonid\n",
        ")\n",
        "\n",
        "SELECT \n",
        "  t.name AS team,\n",
        "  COUNT(*) AS winners\n",
        "FROM winners AS w\n",
        "LEFT JOIN results AS r ON w.leagueseasonid = r.leagueseasonid AND\n",
        "w.points = r.points\n",
        "LEFT JOIN leagueseason AS ls ON w.leagueseasonid = ls.id\n",
        "LEFT JOIN teams AS t ON r.teamid = t.id\n",
        "WHERE leaguename = 'Allsvenskan'\n",
        "GROUP BY name\n",
        "ORDER BY winners DESC;\n",
        ";\n",
        "\"\"\""
      ],
      "metadata": {
        "id": "_EoSUuACQDRJ"
      },
      "execution_count": null,
      "outputs": []
    },
    {
      "cell_type": "code",
      "source": [
        "pd.read_sql(sql, conn)"
      ],
      "metadata": {
        "colab": {
          "base_uri": "https://localhost:8080/",
          "height": 269
        },
        "id": "wza-rKZVR4IB",
        "outputId": "cf4976b5-7165-4bc1-e172-61ae6310bb61"
      },
      "execution_count": null,
      "outputs": [
        {
          "output_type": "execute_result",
          "data": {
            "text/plain": [
              "                team  winners\n",
              "0           Malmö FF        4\n",
              "1    Helsingborgs IF        1\n",
              "2        IF Elfsborg        1\n",
              "3                AIK        1\n",
              "4  IFK Norrköping FK        1\n",
              "5          Kalmar FF        1\n",
              "6       IFK Göteborg        1"
            ],
            "text/html": [
              "\n",
              "  <div id=\"df-23f1afd9-d112-44cb-88ab-8f306d71b979\">\n",
              "    <div class=\"colab-df-container\">\n",
              "      <div>\n",
              "<style scoped>\n",
              "    .dataframe tbody tr th:only-of-type {\n",
              "        vertical-align: middle;\n",
              "    }\n",
              "\n",
              "    .dataframe tbody tr th {\n",
              "        vertical-align: top;\n",
              "    }\n",
              "\n",
              "    .dataframe thead th {\n",
              "        text-align: right;\n",
              "    }\n",
              "</style>\n",
              "<table border=\"1\" class=\"dataframe\">\n",
              "  <thead>\n",
              "    <tr style=\"text-align: right;\">\n",
              "      <th></th>\n",
              "      <th>team</th>\n",
              "      <th>winners</th>\n",
              "    </tr>\n",
              "  </thead>\n",
              "  <tbody>\n",
              "    <tr>\n",
              "      <th>0</th>\n",
              "      <td>Malmö FF</td>\n",
              "      <td>4</td>\n",
              "    </tr>\n",
              "    <tr>\n",
              "      <th>1</th>\n",
              "      <td>Helsingborgs IF</td>\n",
              "      <td>1</td>\n",
              "    </tr>\n",
              "    <tr>\n",
              "      <th>2</th>\n",
              "      <td>IF Elfsborg</td>\n",
              "      <td>1</td>\n",
              "    </tr>\n",
              "    <tr>\n",
              "      <th>3</th>\n",
              "      <td>AIK</td>\n",
              "      <td>1</td>\n",
              "    </tr>\n",
              "    <tr>\n",
              "      <th>4</th>\n",
              "      <td>IFK Norrköping FK</td>\n",
              "      <td>1</td>\n",
              "    </tr>\n",
              "    <tr>\n",
              "      <th>5</th>\n",
              "      <td>Kalmar FF</td>\n",
              "      <td>1</td>\n",
              "    </tr>\n",
              "    <tr>\n",
              "      <th>6</th>\n",
              "      <td>IFK Göteborg</td>\n",
              "      <td>1</td>\n",
              "    </tr>\n",
              "  </tbody>\n",
              "</table>\n",
              "</div>\n",
              "      <button class=\"colab-df-convert\" onclick=\"convertToInteractive('df-23f1afd9-d112-44cb-88ab-8f306d71b979')\"\n",
              "              title=\"Convert this dataframe to an interactive table.\"\n",
              "              style=\"display:none;\">\n",
              "        \n",
              "  <svg xmlns=\"http://www.w3.org/2000/svg\" height=\"24px\"viewBox=\"0 0 24 24\"\n",
              "       width=\"24px\">\n",
              "    <path d=\"M0 0h24v24H0V0z\" fill=\"none\"/>\n",
              "    <path d=\"M18.56 5.44l.94 2.06.94-2.06 2.06-.94-2.06-.94-.94-2.06-.94 2.06-2.06.94zm-11 1L8.5 8.5l.94-2.06 2.06-.94-2.06-.94L8.5 2.5l-.94 2.06-2.06.94zm10 10l.94 2.06.94-2.06 2.06-.94-2.06-.94-.94-2.06-.94 2.06-2.06.94z\"/><path d=\"M17.41 7.96l-1.37-1.37c-.4-.4-.92-.59-1.43-.59-.52 0-1.04.2-1.43.59L10.3 9.45l-7.72 7.72c-.78.78-.78 2.05 0 2.83L4 21.41c.39.39.9.59 1.41.59.51 0 1.02-.2 1.41-.59l7.78-7.78 2.81-2.81c.8-.78.8-2.07 0-2.86zM5.41 20L4 18.59l7.72-7.72 1.47 1.35L5.41 20z\"/>\n",
              "  </svg>\n",
              "      </button>\n",
              "      \n",
              "  <style>\n",
              "    .colab-df-container {\n",
              "      display:flex;\n",
              "      flex-wrap:wrap;\n",
              "      gap: 12px;\n",
              "    }\n",
              "\n",
              "    .colab-df-convert {\n",
              "      background-color: #E8F0FE;\n",
              "      border: none;\n",
              "      border-radius: 50%;\n",
              "      cursor: pointer;\n",
              "      display: none;\n",
              "      fill: #1967D2;\n",
              "      height: 32px;\n",
              "      padding: 0 0 0 0;\n",
              "      width: 32px;\n",
              "    }\n",
              "\n",
              "    .colab-df-convert:hover {\n",
              "      background-color: #E2EBFA;\n",
              "      box-shadow: 0px 1px 2px rgba(60, 64, 67, 0.3), 0px 1px 3px 1px rgba(60, 64, 67, 0.15);\n",
              "      fill: #174EA6;\n",
              "    }\n",
              "\n",
              "    [theme=dark] .colab-df-convert {\n",
              "      background-color: #3B4455;\n",
              "      fill: #D2E3FC;\n",
              "    }\n",
              "\n",
              "    [theme=dark] .colab-df-convert:hover {\n",
              "      background-color: #434B5C;\n",
              "      box-shadow: 0px 1px 3px 1px rgba(0, 0, 0, 0.15);\n",
              "      filter: drop-shadow(0px 1px 2px rgba(0, 0, 0, 0.3));\n",
              "      fill: #FFFFFF;\n",
              "    }\n",
              "  </style>\n",
              "\n",
              "      <script>\n",
              "        const buttonEl =\n",
              "          document.querySelector('#df-23f1afd9-d112-44cb-88ab-8f306d71b979 button.colab-df-convert');\n",
              "        buttonEl.style.display =\n",
              "          google.colab.kernel.accessAllowed ? 'block' : 'none';\n",
              "\n",
              "        async function convertToInteractive(key) {\n",
              "          const element = document.querySelector('#df-23f1afd9-d112-44cb-88ab-8f306d71b979');\n",
              "          const dataTable =\n",
              "            await google.colab.kernel.invokeFunction('convertToInteractive',\n",
              "                                                     [key], {});\n",
              "          if (!dataTable) return;\n",
              "\n",
              "          const docLinkHtml = 'Like what you see? Visit the ' +\n",
              "            '<a target=\"_blank\" href=https://colab.research.google.com/notebooks/data_table.ipynb>data table notebook</a>'\n",
              "            + ' to learn more about interactive tables.';\n",
              "          element.innerHTML = '';\n",
              "          dataTable['output_type'] = 'display_data';\n",
              "          await google.colab.output.renderOutput(dataTable, element);\n",
              "          const docLink = document.createElement('div');\n",
              "          docLink.innerHTML = docLinkHtml;\n",
              "          element.appendChild(docLink);\n",
              "        }\n",
              "      </script>\n",
              "    </div>\n",
              "  </div>\n",
              "  "
            ]
          },
          "metadata": {},
          "execution_count": 2015
        }
      ]
    },
    {
      "cell_type": "markdown",
      "source": [
        "Malmö FF was the best club by far. Winning the championship four times... "
      ],
      "metadata": {
        "id": "-kYUsdesWL9Z"
      }
    },
    {
      "cell_type": "markdown",
      "source": [
        "## Which individual player have won the most times?"
      ],
      "metadata": {
        "id": "fRi-WLokWjTP"
      }
    },
    {
      "cell_type": "code",
      "source": [
        "sql = \"\"\"\n",
        "WITH \n",
        "winners AS\n",
        "(\n",
        "SELECT \n",
        "  leagueseasonid, \n",
        "  MAX(points) AS points\n",
        "FROM Results\n",
        "GROUP BY leagueseasonid\n",
        ")\n",
        "\n",
        "SELECT \n",
        "  pa.name,\n",
        "  COUNT(*) AS winner \n",
        "FROM winners AS w\n",
        "LEFT JOIN results AS r ON w.leagueseasonid = r.leagueseasonid AND\n",
        "w.points = r.points\n",
        "LEFT JOIN leagueseason AS ls ON w.leagueseasonid = ls.id\n",
        "LEFT JOIN teams AS t ON r.teamid = t.id\n",
        "INNER JOIN playergames AS pg ON t.id=pg.teamid AND w.leagueseasonid=pg.leagueseasonid\n",
        "INNER JOIN playerattributes AS pa ON pg.playerid=pa.playerid\n",
        "WHERE leaguename = 'Allsvenskan'\n",
        "GROUP BY pa.name\n",
        "ORDER by winner DESC\n",
        "LIMIT 5\n",
        ";\n",
        "\"\"\""
      ],
      "metadata": {
        "id": "DK9kMEsZWpka"
      },
      "execution_count": null,
      "outputs": []
    },
    {
      "cell_type": "code",
      "source": [
        "pd.read_sql(sql, conn)"
      ],
      "metadata": {
        "colab": {
          "base_uri": "https://localhost:8080/",
          "height": 206
        },
        "id": "swFJQQ87WZ-p",
        "outputId": "686d0410-9ec9-4e39-a4d5-062d5f5cd02c"
      },
      "execution_count": null,
      "outputs": [
        {
          "output_type": "execute_result",
          "data": {
            "text/plain": [
              "              name  winner\n",
              "0   Stefan Larsson       2\n",
              "1        David Elm       2\n",
              "2    Alvaro Santos       1\n",
              "3  Anders Svensson       1\n",
              "4      Amadou Jawo       1"
            ],
            "text/html": [
              "\n",
              "  <div id=\"df-80caf7f4-b872-4051-8a4d-2558c2539d75\">\n",
              "    <div class=\"colab-df-container\">\n",
              "      <div>\n",
              "<style scoped>\n",
              "    .dataframe tbody tr th:only-of-type {\n",
              "        vertical-align: middle;\n",
              "    }\n",
              "\n",
              "    .dataframe tbody tr th {\n",
              "        vertical-align: top;\n",
              "    }\n",
              "\n",
              "    .dataframe thead th {\n",
              "        text-align: right;\n",
              "    }\n",
              "</style>\n",
              "<table border=\"1\" class=\"dataframe\">\n",
              "  <thead>\n",
              "    <tr style=\"text-align: right;\">\n",
              "      <th></th>\n",
              "      <th>name</th>\n",
              "      <th>winner</th>\n",
              "    </tr>\n",
              "  </thead>\n",
              "  <tbody>\n",
              "    <tr>\n",
              "      <th>0</th>\n",
              "      <td>Stefan Larsson</td>\n",
              "      <td>2</td>\n",
              "    </tr>\n",
              "    <tr>\n",
              "      <th>1</th>\n",
              "      <td>David Elm</td>\n",
              "      <td>2</td>\n",
              "    </tr>\n",
              "    <tr>\n",
              "      <th>2</th>\n",
              "      <td>Alvaro Santos</td>\n",
              "      <td>1</td>\n",
              "    </tr>\n",
              "    <tr>\n",
              "      <th>3</th>\n",
              "      <td>Anders Svensson</td>\n",
              "      <td>1</td>\n",
              "    </tr>\n",
              "    <tr>\n",
              "      <th>4</th>\n",
              "      <td>Amadou Jawo</td>\n",
              "      <td>1</td>\n",
              "    </tr>\n",
              "  </tbody>\n",
              "</table>\n",
              "</div>\n",
              "      <button class=\"colab-df-convert\" onclick=\"convertToInteractive('df-80caf7f4-b872-4051-8a4d-2558c2539d75')\"\n",
              "              title=\"Convert this dataframe to an interactive table.\"\n",
              "              style=\"display:none;\">\n",
              "        \n",
              "  <svg xmlns=\"http://www.w3.org/2000/svg\" height=\"24px\"viewBox=\"0 0 24 24\"\n",
              "       width=\"24px\">\n",
              "    <path d=\"M0 0h24v24H0V0z\" fill=\"none\"/>\n",
              "    <path d=\"M18.56 5.44l.94 2.06.94-2.06 2.06-.94-2.06-.94-.94-2.06-.94 2.06-2.06.94zm-11 1L8.5 8.5l.94-2.06 2.06-.94-2.06-.94L8.5 2.5l-.94 2.06-2.06.94zm10 10l.94 2.06.94-2.06 2.06-.94-2.06-.94-.94-2.06-.94 2.06-2.06.94z\"/><path d=\"M17.41 7.96l-1.37-1.37c-.4-.4-.92-.59-1.43-.59-.52 0-1.04.2-1.43.59L10.3 9.45l-7.72 7.72c-.78.78-.78 2.05 0 2.83L4 21.41c.39.39.9.59 1.41.59.51 0 1.02-.2 1.41-.59l7.78-7.78 2.81-2.81c.8-.78.8-2.07 0-2.86zM5.41 20L4 18.59l7.72-7.72 1.47 1.35L5.41 20z\"/>\n",
              "  </svg>\n",
              "      </button>\n",
              "      \n",
              "  <style>\n",
              "    .colab-df-container {\n",
              "      display:flex;\n",
              "      flex-wrap:wrap;\n",
              "      gap: 12px;\n",
              "    }\n",
              "\n",
              "    .colab-df-convert {\n",
              "      background-color: #E8F0FE;\n",
              "      border: none;\n",
              "      border-radius: 50%;\n",
              "      cursor: pointer;\n",
              "      display: none;\n",
              "      fill: #1967D2;\n",
              "      height: 32px;\n",
              "      padding: 0 0 0 0;\n",
              "      width: 32px;\n",
              "    }\n",
              "\n",
              "    .colab-df-convert:hover {\n",
              "      background-color: #E2EBFA;\n",
              "      box-shadow: 0px 1px 2px rgba(60, 64, 67, 0.3), 0px 1px 3px 1px rgba(60, 64, 67, 0.15);\n",
              "      fill: #174EA6;\n",
              "    }\n",
              "\n",
              "    [theme=dark] .colab-df-convert {\n",
              "      background-color: #3B4455;\n",
              "      fill: #D2E3FC;\n",
              "    }\n",
              "\n",
              "    [theme=dark] .colab-df-convert:hover {\n",
              "      background-color: #434B5C;\n",
              "      box-shadow: 0px 1px 3px 1px rgba(0, 0, 0, 0.15);\n",
              "      filter: drop-shadow(0px 1px 2px rgba(0, 0, 0, 0.3));\n",
              "      fill: #FFFFFF;\n",
              "    }\n",
              "  </style>\n",
              "\n",
              "      <script>\n",
              "        const buttonEl =\n",
              "          document.querySelector('#df-80caf7f4-b872-4051-8a4d-2558c2539d75 button.colab-df-convert');\n",
              "        buttonEl.style.display =\n",
              "          google.colab.kernel.accessAllowed ? 'block' : 'none';\n",
              "\n",
              "        async function convertToInteractive(key) {\n",
              "          const element = document.querySelector('#df-80caf7f4-b872-4051-8a4d-2558c2539d75');\n",
              "          const dataTable =\n",
              "            await google.colab.kernel.invokeFunction('convertToInteractive',\n",
              "                                                     [key], {});\n",
              "          if (!dataTable) return;\n",
              "\n",
              "          const docLinkHtml = 'Like what you see? Visit the ' +\n",
              "            '<a target=\"_blank\" href=https://colab.research.google.com/notebooks/data_table.ipynb>data table notebook</a>'\n",
              "            + ' to learn more about interactive tables.';\n",
              "          element.innerHTML = '';\n",
              "          dataTable['output_type'] = 'display_data';\n",
              "          await google.colab.output.renderOutput(dataTable, element);\n",
              "          const docLink = document.createElement('div');\n",
              "          docLink.innerHTML = docLinkHtml;\n",
              "          element.appendChild(docLink);\n",
              "        }\n",
              "      </script>\n",
              "    </div>\n",
              "  </div>\n",
              "  "
            ]
          },
          "metadata": {},
          "execution_count": 2017
        }
      ]
    },
    {
      "cell_type": "markdown",
      "source": [
        "According to this data only two players managed to win Allsvenskan two times between 2007 and 2016. Stefan Larsson and David Elm.\n",
        "\n",
        "Funny fact is that they both played for the same two clubs when doin so. Both played for Kalmar FF when they won in 2008 and both played for IF Elfsborg when they won in 2012."
      ],
      "metadata": {
        "id": "IPKxvYWvYYYS"
      }
    },
    {
      "cell_type": "markdown",
      "source": [
        "## How did the average revenue figures changed for Allsvenskan and Superettan between X and Y? \n",
        "\n"
      ],
      "metadata": {
        "id": "p3Upy4qwY6xU"
      }
    },
    {
      "cell_type": "code",
      "source": [
        "sql = \"\"\"\n",
        "\n",
        "SELECT \n",
        "    AVG(Revenue) AS revenue,\n",
        "    ls.id,\n",
        "    ls.leaguename,\n",
        "    ls.year\n",
        "    FROM finances AS f\n",
        "    LEFT JOIN LeagueSeason AS ls ON f.leagueseasonid = ls.id\n",
        "    GROUP BY ls.id\n",
        ";\n",
        "\"\"\""
      ],
      "metadata": {
        "id": "Xo5SmsRrZGpu"
      },
      "execution_count": null,
      "outputs": []
    },
    {
      "cell_type": "code",
      "source": [
        "revenue = pd.read_sql(sql, conn)"
      ],
      "metadata": {
        "id": "mqjYYaTkZIWh"
      },
      "execution_count": null,
      "outputs": []
    },
    {
      "cell_type": "code",
      "source": [
        "import plotnine as gg\n",
        "from mizani.breaks import date_breaks\n",
        "from mizani.formatters import date_format\n",
        "\n",
        "(\n",
        "gg.ggplot(revenue, gg.aes(x='year', y='revenue', group=\"leaguename\", color=\"leaguename\"))\n",
        "+gg.geom_smooth(method='lm', se=False, linetype='dashed', size=1/2, color=\"#8b8b8b\")\n",
        "+gg.geom_line()\n",
        "+gg.geom_point()\n",
        "+gg.scales.scale_x_datetime(breaks=date_breaks('1 year'), labels=date_format('%Y')) \n",
        "+gg.themes.theme_538()\n",
        "+gg.theme(axis_text_x=gg.element_text(rotation=90, hjust=1))\n",
        "+gg.labs(x=\"\", y=\"Revenue, mill. SEK\")\n",
        ")"
      ],
      "metadata": {
        "colab": {
          "base_uri": "https://localhost:8080/",
          "height": 516
        },
        "id": "0MvCXD8FcF8e",
        "outputId": "007d80d7-e86e-435a-ff05-15e04862f7aa"
      },
      "execution_count": null,
      "outputs": [
        {
          "output_type": "stream",
          "name": "stderr",
          "text": [
            "/usr/local/lib/python3.7/dist-packages/plotnine/utils.py:1246: FutureWarning: is_categorical is deprecated and will be removed in a future version.  Use is_categorical_dtype instead\n",
            "  if pdtypes.is_categorical(arr):\n"
          ]
        },
        {
          "output_type": "display_data",
          "data": {
            "text/plain": [
              "<Figure size 640x480 with 1 Axes>"
            ],
            "image/png": "[encoded data removed]"
          },
          "metadata": {}
        },
        {
          "output_type": "execute_result",
          "data": {
            "text/plain": [
              "<ggplot: (8763291678909)>"
            ]
          },
          "metadata": {},
          "execution_count": 2020
        }
      ]
    },
    {
      "cell_type": "markdown",
      "source": [
        "Revenue rose in both leages over the time period but more so for Allsvenskan compared to Superettan."
      ],
      "metadata": {
        "id": "uhXsPZx2gPcd"
      }
    },
    {
      "cell_type": "markdown",
      "source": [
        "# Conclusions\n",
        "\n",
        "In this project I:\n",
        "\n",
        "* Created my own PostgreSQL server on the Microsoft Azure cloud\n",
        "* Designed my own database\n",
        "* Used Python to insert data from `.xls` files\n",
        "\n",
        "Performed some analysis to learn that:\n",
        "\n",
        "* Malmö FF was the best team with 4 wins during the time period\n",
        "* David Elm and Stefan Larsson won allsvenskan the most times during the period\n",
        "* Revenues increased for clubs in Allsvenskan between 2007 and 2016"
      ],
      "metadata": {
        "id": "MX440RiHXGxw"
      }
    },
    {
      "cell_type": "markdown",
      "source": [
        "# Contact details\n",
        "\n",
        "![bild](https://avatars.githubusercontent.com/u/99097833?v=4)\n",
        "\n",
        "Feel free to reach out:\n",
        "\n",
        "* Twitter: [@vaxjo_kalle](https://twitter.com/vaxjo_kalle) \n",
        "* LinkedIn: [My profile](https://www.linkedin.com/in/karlkarlssonvaxjo/)\n",
        "* E-mail: [karl_karlsson@icloud.com](mailto:karl_karlsson@icloud.com)\n",
        "* GitHub: [github.com/karl-karlsson](https://github.com/karl-karlsson)"
      ],
      "metadata": {
        "id": "JtQlOnOZXJO3"
      }
    },
    {
      "cell_type": "markdown",
      "source": [
        "# Delete database and close conn"
      ],
      "metadata": {
        "id": "lYlQW4iTmcgG"
      }
    },
    {
      "cell_type": "code",
      "source": [
        "conn.close()\n",
        "\n",
        "with open('conn_string.txt') as file:\n",
        "    conn_string = file.readlines()[0]\n",
        "\n",
        "conn = psycopg2.connect(conn_string)\n",
        "conn.autocommit = True\n",
        "cur = conn.cursor()\n",
        "\n",
        "cur.execute(\"\"\"DROP DATABASE football;\"\"\")\n",
        "\n",
        "conn.close()"
      ],
      "metadata": {
        "id": "tyOhg2ObmlLO"
      },
      "execution_count": null,
      "outputs": []
    }
  ]
}