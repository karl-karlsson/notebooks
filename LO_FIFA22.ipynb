{
  "nbformat": 4,
  "nbformat_minor": 0,
  "metadata": {
    "colab": {
      "name": "LO_FIFA22.ipynb",
      "provenance": [],
      "collapsed_sections": [
        "qIVBZ1zsFl0S",
        "wtDsGrwroqEW"
      ],
      "authorship_tag": "ABX9TyMh/VUcwZwSFWj5nwaJ95g6",
      "include_colab_link": true
    },
    "kernelspec": {
      "name": "ir",
      "display_name": "R"
    },
    "language_info": {
      "name": "R"
    }
  },
  "cells": [
    {
      "cell_type": "markdown",
      "metadata": {
        "id": "view-in-github",
        "colab_type": "text"
      },
      "source": [
        "<a href=\"https://colab.research.google.com/github/karl-karlsson/notebooks/blob/main/LO_FIFA22.ipynb\" target=\"_parent\"><img src=\"https://colab.research.google.com/assets/colab-badge.svg\" alt=\"Open In Colab\"/></a>"
      ]
    },
    {
      "cell_type": "markdown",
      "source": [
        "![flag](https://upload.wikimedia.org/wikipedia/commons/7/71/Soccer_Sweden.png?20171226211103)\n",
        "\n",
        "# Using linear optimization in R to pick the Swedish national football team\n",
        "\n",
        "Many have seen the movie *Moneyball* starring Brad Pitt as Billy Beane. Beane was the GM of Oakland Athletics (baseball) and had great sucess using a datadriven approach when deciding which players to recruit and play. You can read more about Billy Beane on [Wikipedia](https://en.wikipedia.org/wiki/Billy_Beane)\n",
        "\n",
        "In this project I will try something that's somewhat analogous to the Moneyball approach. Using linear optimization in R and data from FIFA22 (the videogame by EA Sports, [link](https://www.ea.com/sv-se/games/fifa/fifa-22)) I will try to find the best possible starting-11 for the Swedish mens national team.\n",
        "\n",
        "In december 2021 Sweden ranked 18th in the world according to FIFA (the corrupt international football federation, not the videogame). Unfortunately Sweden just recently failed to qualify for the WC after loosing to Poland in the final playoff game for the WC.\n",
        "\n",
        "Football is a complex sport. Games are more dynamic than for example games in baseball and flows back and forth rather than resetting, and repeating, the same procedure (such as pitching-batting). It's therefore harder to quantify player productivity and the dataset used for this project is of course not a *true* representation of skill (or productivity) in that sense.\n",
        "\n",
        "But we'll just accept that and move on, shall we?\n",
        "\n",
        "**The aim of the project is:**\n",
        "\n",
        "* To pick the best possible starting 11 for the Swedish mens national team, and\n",
        "* Find the optimal substitutions to make during the game under two different scenarios:\n",
        "  * Team is loosing and need to win (go offense!)\n",
        "  * Team is winning and need to defend the lead (go defense!)\n",
        "\n",
        "* Subject to **constraints** (for example there needs to be a goalkeeper on the pitch at all times)\n",
        "\n",
        "**Packages used for this project:**\n",
        "\n",
        "* `tidyverse`\n",
        "* `lpSolve` "
      ],
      "metadata": {
        "id": "qIVBZ1zsFl0S"
      }
    },
    {
      "cell_type": "markdown",
      "source": [
        "# Data\n",
        "The data used for this project comes from Kaggle although I've downloaded it to my GitHub respository. You can read more about the data [here](https://www.kaggle.com/datasets/stefanoleone992/fifa-22-complete-player-dataset).\n",
        "\n",
        "In the following code chunk I'll:\n",
        "* Download the data from my GitHub respository\n",
        "* Prepare the data for analysis by:\n",
        "  * Filtering out Swedish players only (this is of course also a constraint in a sense)\n",
        "  * Removing unecessary variables, keeping:\n",
        "    * `short_name` = The players name (in the format \"Z. Ibrahimovic\")\n",
        "    * `age` = Age in years\n",
        "    * `player_positions` = Positions (for example Striker, ST) the player can play in\n",
        "    * `overall` = The overall skill of the player (this is what we'll try to maximize)\n",
        "    * `preferred_foot` = The preferred foot (left/right) of the player\n",
        "    * `defending` = The defensive skill of the player\n",
        "    * `shooting` = The shooting ability (\"finishing\") of the player\n",
        "  * Printing out the first 11 players of the new dataframe\n"
      ],
      "metadata": {
        "id": "wtDsGrwroqEW"
      }
    },
    {
      "cell_type": "code",
      "execution_count": 51,
      "metadata": {
        "colab": {
          "base_uri": "https://localhost:8080/",
          "height": 460
        },
        "id": "mwqf7Yb9CG6q",
        "outputId": "ea8a3b9f-780f-42fb-c5af-066635004930"
      },
      "outputs": [
        {
          "output_type": "stream",
          "name": "stdout",
          "text": [
            "[1] \"First 11 rows\"\n"
          ]
        },
        {
          "output_type": "display_data",
          "data": {
            "text/html": [
              "<table class=\"dataframe\">\n",
              "<caption>A data.frame: 11 × 7</caption>\n",
              "<thead>\n",
              "\t<tr><th></th><th scope=col>short_name</th><th scope=col>age</th><th scope=col>player_positions</th><th scope=col>overall</th><th scope=col>preferred_foot</th><th scope=col>defending</th><th scope=col>shooting</th></tr>\n",
              "\t<tr><th></th><th scope=col>&lt;chr&gt;</th><th scope=col>&lt;int&gt;</th><th scope=col>&lt;chr&gt;</th><th scope=col>&lt;int&gt;</th><th scope=col>&lt;chr&gt;</th><th scope=col>&lt;int&gt;</th><th scope=col>&lt;int&gt;</th></tr>\n",
              "</thead>\n",
              "<tbody>\n",
              "\t<tr><th scope=row>1</th><td>Z. Ibrahimović    </td><td>39</td><td>ST         </td><td>84</td><td>Right</td><td>34</td><td>87</td></tr>\n",
              "\t<tr><th scope=row>2</th><td>A. Isak           </td><td>21</td><td>ST         </td><td>82</td><td>Right</td><td>29</td><td>82</td></tr>\n",
              "\t<tr><th scope=row>3</th><td>E. Forsberg       </td><td>29</td><td>CAM, CF    </td><td>81</td><td>Right</td><td>35</td><td>73</td></tr>\n",
              "\t<tr><th scope=row>4</th><td>D. Kulusevski     </td><td>21</td><td>RW, CF     </td><td>81</td><td>Left </td><td>56</td><td>74</td></tr>\n",
              "\t<tr><th scope=row>5</th><td>V. Lindelöf       </td><td>26</td><td>CB         </td><td>80</td><td>Right</td><td>81</td><td>51</td></tr>\n",
              "\t<tr><th scope=row>6</th><td>J. Larsson        </td><td>24</td><td>ST         </td><td>77</td><td>Left </td><td>29</td><td>78</td></tr>\n",
              "\t<tr><th scope=row>7</th><td>A. Ekdal          </td><td>31</td><td>CM, CDM    </td><td>76</td><td>Right</td><td>70</td><td>65</td></tr>\n",
              "\t<tr><th scope=row>8</th><td>V. Claesson       </td><td>29</td><td>CAM, LM, CM</td><td>76</td><td>Right</td><td>48</td><td>76</td></tr>\n",
              "\t<tr><th scope=row>9</th><td>R. Olsen          </td><td>31</td><td>GK         </td><td>76</td><td>Right</td><td>NA</td><td>NA</td></tr>\n",
              "\t<tr><th scope=row>10</th><td>D. Moberg Karlsson</td><td>27</td><td>RM, CF     </td><td>76</td><td>Left </td><td>30</td><td>71</td></tr>\n",
              "\t<tr><th scope=row>11</th><td>L. Augustinsson   </td><td>27</td><td>LB, LM     </td><td>76</td><td>Left </td><td>72</td><td>60</td></tr>\n",
              "</tbody>\n",
              "</table>\n"
            ],
            "text/markdown": "\nA data.frame: 11 × 7\n\n| <!--/--> | short_name &lt;chr&gt; | age &lt;int&gt; | player_positions &lt;chr&gt; | overall &lt;int&gt; | preferred_foot &lt;chr&gt; | defending &lt;int&gt; | shooting &lt;int&gt; |\n|---|---|---|---|---|---|---|---|\n| 1 | Z. Ibrahimović     | 39 | ST          | 84 | Right | 34 | 87 |\n| 2 | A. Isak            | 21 | ST          | 82 | Right | 29 | 82 |\n| 3 | E. Forsberg        | 29 | CAM, CF     | 81 | Right | 35 | 73 |\n| 4 | D. Kulusevski      | 21 | RW, CF      | 81 | Left  | 56 | 74 |\n| 5 | V. Lindelöf        | 26 | CB          | 80 | Right | 81 | 51 |\n| 6 | J. Larsson         | 24 | ST          | 77 | Left  | 29 | 78 |\n| 7 | A. Ekdal           | 31 | CM, CDM     | 76 | Right | 70 | 65 |\n| 8 | V. Claesson        | 29 | CAM, LM, CM | 76 | Right | 48 | 76 |\n| 9 | R. Olsen           | 31 | GK          | 76 | Right | NA | NA |\n| 10 | D. Moberg Karlsson | 27 | RM, CF      | 76 | Left  | 30 | 71 |\n| 11 | L. Augustinsson    | 27 | LB, LM      | 76 | Left  | 72 | 60 |\n\n",
            "text/latex": "A data.frame: 11 × 7\n\\begin{tabular}{r|lllllll}\n  & short\\_name & age & player\\_positions & overall & preferred\\_foot & defending & shooting\\\\\n  & <chr> & <int> & <chr> & <int> & <chr> & <int> & <int>\\\\\n\\hline\n\t1 & Z. Ibrahimović     & 39 & ST          & 84 & Right & 34 & 87\\\\\n\t2 & A. Isak            & 21 & ST          & 82 & Right & 29 & 82\\\\\n\t3 & E. Forsberg        & 29 & CAM, CF     & 81 & Right & 35 & 73\\\\\n\t4 & D. Kulusevski      & 21 & RW, CF      & 81 & Left  & 56 & 74\\\\\n\t5 & V. Lindelöf        & 26 & CB          & 80 & Right & 81 & 51\\\\\n\t6 & J. Larsson         & 24 & ST          & 77 & Left  & 29 & 78\\\\\n\t7 & A. Ekdal           & 31 & CM, CDM     & 76 & Right & 70 & 65\\\\\n\t8 & V. Claesson        & 29 & CAM, LM, CM & 76 & Right & 48 & 76\\\\\n\t9 & R. Olsen           & 31 & GK          & 76 & Right & NA & NA\\\\\n\t10 & D. Moberg Karlsson & 27 & RM, CF      & 76 & Left  & 30 & 71\\\\\n\t11 & L. Augustinsson    & 27 & LB, LM      & 76 & Left  & 72 & 60\\\\\n\\end{tabular}\n",
            "text/plain": [
              "   short_name         age player_positions overall preferred_foot defending\n",
              "1  Z. Ibrahimović     39  ST               84      Right          34       \n",
              "2  A. Isak            21  ST               82      Right          29       \n",
              "3  E. Forsberg        29  CAM, CF          81      Right          35       \n",
              "4  D. Kulusevski      21  RW, CF           81      Left           56       \n",
              "5  V. Lindelöf        26  CB               80      Right          81       \n",
              "6  J. Larsson         24  ST               77      Left           29       \n",
              "7  A. Ekdal           31  CM, CDM          76      Right          70       \n",
              "8  V. Claesson        29  CAM, LM, CM      76      Right          48       \n",
              "9  R. Olsen           31  GK               76      Right          NA       \n",
              "10 D. Moberg Karlsson 27  RM, CF           76      Left           30       \n",
              "11 L. Augustinsson    27  LB, LM           76      Left           72       \n",
              "   shooting\n",
              "1  87      \n",
              "2  82      \n",
              "3  73      \n",
              "4  74      \n",
              "5  51      \n",
              "6  78      \n",
              "7  65      \n",
              "8  76      \n",
              "9  NA      \n",
              "10 71      \n",
              "11 60      "
            ]
          },
          "metadata": {}
        }
      ],
      "source": [
        "library(tidyverse)\n",
        "\n",
        "df_all_vars = read.csv(file = \"https://github.com/karl-karlsson/data/raw/main/players_22.csv\") # Download data\n",
        "\n",
        "df = df_all_vars %>% \n",
        "filter(nationality_name==\"Sweden\") %>%  # Filter Swedish players\n",
        "select(short_name, age, player_positions, overall, preferred_foot, defending, shooting) # Select relevant variables\n",
        "\n",
        "print(\"First 11 rows\")\n",
        "df %>% head(n=11) \n",
        "\n"
      ]
    },
    {
      "cell_type": "markdown",
      "source": [
        "There are some things we can notice:\n",
        "* There is no `attacking` attribute equivalent to the `defending` attribute\n",
        "* Goalkeepers (GK) have missing values in the defending column\n",
        "* Some players have multiple positions for example Victor Claesson can play centre-attacking-midfielder (CAM), left midfielder (LM) and center midfielder (CM) \n",
        "\n",
        "In the following steps we´ll try to make sense of the positions. We´ll also fix the `NA` values for the GK.\n"
      ],
      "metadata": {
        "id": "e3pHbttXuOVp"
      }
    },
    {
      "cell_type": "markdown",
      "source": [
        "From the current `player_positions` variable. The aim is to create four new variables:\n",
        "* `GK` = 1 if player can play goalkeeper, 0 otherwise\n",
        "* `D`  = 1 if player can play defender, 0 otherwise\n",
        "* `M` = 1 if player can play midfielder, 0 otherwise\n",
        "* `A` = 1 if player can play attacker, 0 otherwise\n",
        "\n",
        "We will have to deal with the fact that many players can play in multiple positions. What we whant to do is:\n",
        "* Find all unique positions separated by \",\" in `player_positions` (we will use `separate_rows` from the `tidyr` package for that)\n",
        "* Match the different positions (for example `CAM`) for each player to our schema above"
      ],
      "metadata": {
        "id": "AR9ID14R9RSy"
      }
    },
    {
      "cell_type": "code",
      "source": [
        "df %>% \n",
        "   separate_rows(player_positions) %>%\n",
        "   group_by(player_positions) %>%\n",
        "   summarise(n=n()) %>%\n",
        "     mutate(pos = fct_reorder(player_positions, desc(n))) %>%\n",
        "   ggplot(aes(x=pos, y=n, fill=pos))+\n",
        "   geom_col()+\n",
        "   theme_minimal()+\n",
        "   theme(legend.position=\"none\")+\n",
        "   ylab(\"Number of players\")+\n",
        "   xlab(\"Position\")"
      ],
      "metadata": {
        "id": "BPJSUivL-_Zb",
        "colab": {
          "base_uri": "https://localhost:8080/",
          "height": 437
        },
        "outputId": "2fe6be88-c0ae-4f7c-e236-f672e9d49704"
      },
      "execution_count": 52,
      "outputs": [
        {
          "output_type": "display_data",
          "data": {
            "text/plain": [
              "plot without title"
            ],
            "image/png": "[encoded data removed]"
          },
          "metadata": {
            "image/png": {
              "width": 420,
              "height": 420
            }
          }
        }
      ]
    },
    {
      "cell_type": "markdown",
      "source": [
        "The figure above shows that there is 15 unique positions that a player can play. Centre midfielder (`CM`) is the position most players can play and left wing-back (`LWB`) is the position that fewest players can play.\n",
        "\n",
        "The image below shows all positions on the pitch and their notations.\n",
        "\n",
        "![positions](https://fifauteam.com/images/fifa21/positions/positionsmap.jpg)\n",
        "\n",
        "From this we can create our new variables."
      ],
      "metadata": {
        "id": "KvYqsqIJBWVQ"
      }
    },
    {
      "cell_type": "code",
      "source": [
        "df = df %>%\n",
        "# Goalkeepers\n",
        "mutate(GK=ifelse(str_detect(player_positions,\"GK\"),1,0)) %>%\n",
        "# Defenders\n",
        "mutate(D=ifelse(str_detect(player_positions,\"LWB|LB|CB|RB|RWB\"),1,0)) %>%\n",
        "# Midfielders \n",
        "mutate(M=ifelse(str_detect(player_positions,\"LW\\\\b|LM|CM|CAM|CDM|RM|RW\\\\b\"),1,0)) %>% # The \"\\\\b\":s (word-boundaries) are needed to not confuse LW with LWB and RW with RWB\n",
        "# Attackers\n",
        "mutate(A=ifelse(str_detect(player_positions,\"LF|ST|CF|RF\"),1,0))\n",
        "\n",
        "df %>% \n",
        "head(n=11) %>%\n",
        "arrange(-GK,-D,-M,-A)\n",
        "\n"
      ],
      "metadata": {
        "id": "WEuvqpLWCfRc",
        "colab": {
          "base_uri": "https://localhost:8080/",
          "height": 443
        },
        "outputId": "6d28eb63-d62f-448d-fd7c-58307178e80a"
      },
      "execution_count": 53,
      "outputs": [
        {
          "output_type": "display_data",
          "data": {
            "text/html": [
              "<table class=\"dataframe\">\n",
              "<caption>A data.frame: 11 × 11</caption>\n",
              "<thead>\n",
              "\t<tr><th scope=col>short_name</th><th scope=col>age</th><th scope=col>player_positions</th><th scope=col>overall</th><th scope=col>preferred_foot</th><th scope=col>defending</th><th scope=col>shooting</th><th scope=col>GK</th><th scope=col>D</th><th scope=col>M</th><th scope=col>A</th></tr>\n",
              "\t<tr><th scope=col>&lt;chr&gt;</th><th scope=col>&lt;int&gt;</th><th scope=col>&lt;chr&gt;</th><th scope=col>&lt;int&gt;</th><th scope=col>&lt;chr&gt;</th><th scope=col>&lt;int&gt;</th><th scope=col>&lt;int&gt;</th><th scope=col>&lt;dbl&gt;</th><th scope=col>&lt;dbl&gt;</th><th scope=col>&lt;dbl&gt;</th><th scope=col>&lt;dbl&gt;</th></tr>\n",
              "</thead>\n",
              "<tbody>\n",
              "\t<tr><td>R. Olsen          </td><td>31</td><td>GK         </td><td>76</td><td>Right</td><td>NA</td><td>NA</td><td>1</td><td>0</td><td>0</td><td>0</td></tr>\n",
              "\t<tr><td>L. Augustinsson   </td><td>27</td><td>LB, LM     </td><td>76</td><td>Left </td><td>72</td><td>60</td><td>0</td><td>1</td><td>1</td><td>0</td></tr>\n",
              "\t<tr><td>V. Lindelöf       </td><td>26</td><td>CB         </td><td>80</td><td>Right</td><td>81</td><td>51</td><td>0</td><td>1</td><td>0</td><td>0</td></tr>\n",
              "\t<tr><td>E. Forsberg       </td><td>29</td><td>CAM, CF    </td><td>81</td><td>Right</td><td>35</td><td>73</td><td>0</td><td>0</td><td>1</td><td>1</td></tr>\n",
              "\t<tr><td>D. Kulusevski     </td><td>21</td><td>RW, CF     </td><td>81</td><td>Left </td><td>56</td><td>74</td><td>0</td><td>0</td><td>1</td><td>1</td></tr>\n",
              "\t<tr><td>D. Moberg Karlsson</td><td>27</td><td>RM, CF     </td><td>76</td><td>Left </td><td>30</td><td>71</td><td>0</td><td>0</td><td>1</td><td>1</td></tr>\n",
              "\t<tr><td>A. Ekdal          </td><td>31</td><td>CM, CDM    </td><td>76</td><td>Right</td><td>70</td><td>65</td><td>0</td><td>0</td><td>1</td><td>0</td></tr>\n",
              "\t<tr><td>V. Claesson       </td><td>29</td><td>CAM, LM, CM</td><td>76</td><td>Right</td><td>48</td><td>76</td><td>0</td><td>0</td><td>1</td><td>0</td></tr>\n",
              "\t<tr><td>Z. Ibrahimović    </td><td>39</td><td>ST         </td><td>84</td><td>Right</td><td>34</td><td>87</td><td>0</td><td>0</td><td>0</td><td>1</td></tr>\n",
              "\t<tr><td>A. Isak           </td><td>21</td><td>ST         </td><td>82</td><td>Right</td><td>29</td><td>82</td><td>0</td><td>0</td><td>0</td><td>1</td></tr>\n",
              "\t<tr><td>J. Larsson        </td><td>24</td><td>ST         </td><td>77</td><td>Left </td><td>29</td><td>78</td><td>0</td><td>0</td><td>0</td><td>1</td></tr>\n",
              "</tbody>\n",
              "</table>\n"
            ],
            "text/markdown": "\nA data.frame: 11 × 11\n\n| short_name &lt;chr&gt; | age &lt;int&gt; | player_positions &lt;chr&gt; | overall &lt;int&gt; | preferred_foot &lt;chr&gt; | defending &lt;int&gt; | shooting &lt;int&gt; | GK &lt;dbl&gt; | D &lt;dbl&gt; | M &lt;dbl&gt; | A &lt;dbl&gt; |\n|---|---|---|---|---|---|---|---|---|---|---|\n| R. Olsen           | 31 | GK          | 76 | Right | NA | NA | 1 | 0 | 0 | 0 |\n| L. Augustinsson    | 27 | LB, LM      | 76 | Left  | 72 | 60 | 0 | 1 | 1 | 0 |\n| V. Lindelöf        | 26 | CB          | 80 | Right | 81 | 51 | 0 | 1 | 0 | 0 |\n| E. Forsberg        | 29 | CAM, CF     | 81 | Right | 35 | 73 | 0 | 0 | 1 | 1 |\n| D. Kulusevski      | 21 | RW, CF      | 81 | Left  | 56 | 74 | 0 | 0 | 1 | 1 |\n| D. Moberg Karlsson | 27 | RM, CF      | 76 | Left  | 30 | 71 | 0 | 0 | 1 | 1 |\n| A. Ekdal           | 31 | CM, CDM     | 76 | Right | 70 | 65 | 0 | 0 | 1 | 0 |\n| V. Claesson        | 29 | CAM, LM, CM | 76 | Right | 48 | 76 | 0 | 0 | 1 | 0 |\n| Z. Ibrahimović     | 39 | ST          | 84 | Right | 34 | 87 | 0 | 0 | 0 | 1 |\n| A. Isak            | 21 | ST          | 82 | Right | 29 | 82 | 0 | 0 | 0 | 1 |\n| J. Larsson         | 24 | ST          | 77 | Left  | 29 | 78 | 0 | 0 | 0 | 1 |\n\n",
            "text/latex": "A data.frame: 11 × 11\n\\begin{tabular}{lllllllllll}\n short\\_name & age & player\\_positions & overall & preferred\\_foot & defending & shooting & GK & D & M & A\\\\\n <chr> & <int> & <chr> & <int> & <chr> & <int> & <int> & <dbl> & <dbl> & <dbl> & <dbl>\\\\\n\\hline\n\t R. Olsen           & 31 & GK          & 76 & Right & NA & NA & 1 & 0 & 0 & 0\\\\\n\t L. Augustinsson    & 27 & LB, LM      & 76 & Left  & 72 & 60 & 0 & 1 & 1 & 0\\\\\n\t V. Lindelöf        & 26 & CB          & 80 & Right & 81 & 51 & 0 & 1 & 0 & 0\\\\\n\t E. Forsberg        & 29 & CAM, CF     & 81 & Right & 35 & 73 & 0 & 0 & 1 & 1\\\\\n\t D. Kulusevski      & 21 & RW, CF      & 81 & Left  & 56 & 74 & 0 & 0 & 1 & 1\\\\\n\t D. Moberg Karlsson & 27 & RM, CF      & 76 & Left  & 30 & 71 & 0 & 0 & 1 & 1\\\\\n\t A. Ekdal           & 31 & CM, CDM     & 76 & Right & 70 & 65 & 0 & 0 & 1 & 0\\\\\n\t V. Claesson        & 29 & CAM, LM, CM & 76 & Right & 48 & 76 & 0 & 0 & 1 & 0\\\\\n\t Z. Ibrahimović     & 39 & ST          & 84 & Right & 34 & 87 & 0 & 0 & 0 & 1\\\\\n\t A. Isak            & 21 & ST          & 82 & Right & 29 & 82 & 0 & 0 & 0 & 1\\\\\n\t J. Larsson         & 24 & ST          & 77 & Left  & 29 & 78 & 0 & 0 & 0 & 1\\\\\n\\end{tabular}\n",
            "text/plain": [
              "   short_name         age player_positions overall preferred_foot defending\n",
              "1  R. Olsen           31  GK               76      Right          NA       \n",
              "2  L. Augustinsson    27  LB, LM           76      Left           72       \n",
              "3  V. Lindelöf        26  CB               80      Right          81       \n",
              "4  E. Forsberg        29  CAM, CF          81      Right          35       \n",
              "5  D. Kulusevski      21  RW, CF           81      Left           56       \n",
              "6  D. Moberg Karlsson 27  RM, CF           76      Left           30       \n",
              "7  A. Ekdal           31  CM, CDM          76      Right          70       \n",
              "8  V. Claesson        29  CAM, LM, CM      76      Right          48       \n",
              "9  Z. Ibrahimović     39  ST               84      Right          34       \n",
              "10 A. Isak            21  ST               82      Right          29       \n",
              "11 J. Larsson         24  ST               77      Left           29       \n",
              "   shooting GK D M A\n",
              "1  NA       1  0 0 0\n",
              "2  60       0  1 1 0\n",
              "3  51       0  1 0 0\n",
              "4  73       0  0 1 1\n",
              "5  74       0  0 1 1\n",
              "6  71       0  0 1 1\n",
              "7  65       0  0 1 0\n",
              "8  76       0  0 1 0\n",
              "9  87       0  0 0 1\n",
              "10 82       0  0 0 1\n",
              "11 78       0  0 0 1"
            ]
          },
          "metadata": {}
        }
      ]
    },
    {
      "cell_type": "markdown",
      "source": [
        "Now we'll only fix the `NA` values for goalkeepers before we´ll start defining the objective function and constraints. We'll just replace all `NA` for goalkeepers with their `overall` rating instead."
      ],
      "metadata": {
        "id": "OdhBckLrFhk3"
      }
    },
    {
      "cell_type": "code",
      "source": [
        "df = df %>%\n",
        "mutate(defending=coalesce(defending,overall),\n",
        "       shooting=coalesce(shooting,overall)) \n",
        "\n",
        "df %>% head(n=11)"
      ],
      "metadata": {
        "id": "vIe_IIn5HXpi",
        "colab": {
          "base_uri": "https://localhost:8080/",
          "height": 443
        },
        "outputId": "cfde99af-9655-4c03-9bb1-8a04d492c353"
      },
      "execution_count": 54,
      "outputs": [
        {
          "output_type": "display_data",
          "data": {
            "text/html": [
              "<table class=\"dataframe\">\n",
              "<caption>A data.frame: 11 × 11</caption>\n",
              "<thead>\n",
              "\t<tr><th></th><th scope=col>short_name</th><th scope=col>age</th><th scope=col>player_positions</th><th scope=col>overall</th><th scope=col>preferred_foot</th><th scope=col>defending</th><th scope=col>shooting</th><th scope=col>GK</th><th scope=col>D</th><th scope=col>M</th><th scope=col>A</th></tr>\n",
              "\t<tr><th></th><th scope=col>&lt;chr&gt;</th><th scope=col>&lt;int&gt;</th><th scope=col>&lt;chr&gt;</th><th scope=col>&lt;int&gt;</th><th scope=col>&lt;chr&gt;</th><th scope=col>&lt;int&gt;</th><th scope=col>&lt;int&gt;</th><th scope=col>&lt;dbl&gt;</th><th scope=col>&lt;dbl&gt;</th><th scope=col>&lt;dbl&gt;</th><th scope=col>&lt;dbl&gt;</th></tr>\n",
              "</thead>\n",
              "<tbody>\n",
              "\t<tr><th scope=row>1</th><td>Z. Ibrahimović    </td><td>39</td><td>ST         </td><td>84</td><td>Right</td><td>34</td><td>87</td><td>0</td><td>0</td><td>0</td><td>1</td></tr>\n",
              "\t<tr><th scope=row>2</th><td>A. Isak           </td><td>21</td><td>ST         </td><td>82</td><td>Right</td><td>29</td><td>82</td><td>0</td><td>0</td><td>0</td><td>1</td></tr>\n",
              "\t<tr><th scope=row>3</th><td>E. Forsberg       </td><td>29</td><td>CAM, CF    </td><td>81</td><td>Right</td><td>35</td><td>73</td><td>0</td><td>0</td><td>1</td><td>1</td></tr>\n",
              "\t<tr><th scope=row>4</th><td>D. Kulusevski     </td><td>21</td><td>RW, CF     </td><td>81</td><td>Left </td><td>56</td><td>74</td><td>0</td><td>0</td><td>1</td><td>1</td></tr>\n",
              "\t<tr><th scope=row>5</th><td>V. Lindelöf       </td><td>26</td><td>CB         </td><td>80</td><td>Right</td><td>81</td><td>51</td><td>0</td><td>1</td><td>0</td><td>0</td></tr>\n",
              "\t<tr><th scope=row>6</th><td>J. Larsson        </td><td>24</td><td>ST         </td><td>77</td><td>Left </td><td>29</td><td>78</td><td>0</td><td>0</td><td>0</td><td>1</td></tr>\n",
              "\t<tr><th scope=row>7</th><td>A. Ekdal          </td><td>31</td><td>CM, CDM    </td><td>76</td><td>Right</td><td>70</td><td>65</td><td>0</td><td>0</td><td>1</td><td>0</td></tr>\n",
              "\t<tr><th scope=row>8</th><td>V. Claesson       </td><td>29</td><td>CAM, LM, CM</td><td>76</td><td>Right</td><td>48</td><td>76</td><td>0</td><td>0</td><td>1</td><td>0</td></tr>\n",
              "\t<tr><th scope=row>9</th><td>R. Olsen          </td><td>31</td><td>GK         </td><td>76</td><td>Right</td><td>76</td><td>76</td><td>1</td><td>0</td><td>0</td><td>0</td></tr>\n",
              "\t<tr><th scope=row>10</th><td>D. Moberg Karlsson</td><td>27</td><td>RM, CF     </td><td>76</td><td>Left </td><td>30</td><td>71</td><td>0</td><td>0</td><td>1</td><td>1</td></tr>\n",
              "\t<tr><th scope=row>11</th><td>L. Augustinsson   </td><td>27</td><td>LB, LM     </td><td>76</td><td>Left </td><td>72</td><td>60</td><td>0</td><td>1</td><td>1</td><td>0</td></tr>\n",
              "</tbody>\n",
              "</table>\n"
            ],
            "text/markdown": "\nA data.frame: 11 × 11\n\n| <!--/--> | short_name &lt;chr&gt; | age &lt;int&gt; | player_positions &lt;chr&gt; | overall &lt;int&gt; | preferred_foot &lt;chr&gt; | defending &lt;int&gt; | shooting &lt;int&gt; | GK &lt;dbl&gt; | D &lt;dbl&gt; | M &lt;dbl&gt; | A &lt;dbl&gt; |\n|---|---|---|---|---|---|---|---|---|---|---|---|\n| 1 | Z. Ibrahimović     | 39 | ST          | 84 | Right | 34 | 87 | 0 | 0 | 0 | 1 |\n| 2 | A. Isak            | 21 | ST          | 82 | Right | 29 | 82 | 0 | 0 | 0 | 1 |\n| 3 | E. Forsberg        | 29 | CAM, CF     | 81 | Right | 35 | 73 | 0 | 0 | 1 | 1 |\n| 4 | D. Kulusevski      | 21 | RW, CF      | 81 | Left  | 56 | 74 | 0 | 0 | 1 | 1 |\n| 5 | V. Lindelöf        | 26 | CB          | 80 | Right | 81 | 51 | 0 | 1 | 0 | 0 |\n| 6 | J. Larsson         | 24 | ST          | 77 | Left  | 29 | 78 | 0 | 0 | 0 | 1 |\n| 7 | A. Ekdal           | 31 | CM, CDM     | 76 | Right | 70 | 65 | 0 | 0 | 1 | 0 |\n| 8 | V. Claesson        | 29 | CAM, LM, CM | 76 | Right | 48 | 76 | 0 | 0 | 1 | 0 |\n| 9 | R. Olsen           | 31 | GK          | 76 | Right | 76 | 76 | 1 | 0 | 0 | 0 |\n| 10 | D. Moberg Karlsson | 27 | RM, CF      | 76 | Left  | 30 | 71 | 0 | 0 | 1 | 1 |\n| 11 | L. Augustinsson    | 27 | LB, LM      | 76 | Left  | 72 | 60 | 0 | 1 | 1 | 0 |\n\n",
            "text/latex": "A data.frame: 11 × 11\n\\begin{tabular}{r|lllllllllll}\n  & short\\_name & age & player\\_positions & overall & preferred\\_foot & defending & shooting & GK & D & M & A\\\\\n  & <chr> & <int> & <chr> & <int> & <chr> & <int> & <int> & <dbl> & <dbl> & <dbl> & <dbl>\\\\\n\\hline\n\t1 & Z. Ibrahimović     & 39 & ST          & 84 & Right & 34 & 87 & 0 & 0 & 0 & 1\\\\\n\t2 & A. Isak            & 21 & ST          & 82 & Right & 29 & 82 & 0 & 0 & 0 & 1\\\\\n\t3 & E. Forsberg        & 29 & CAM, CF     & 81 & Right & 35 & 73 & 0 & 0 & 1 & 1\\\\\n\t4 & D. Kulusevski      & 21 & RW, CF      & 81 & Left  & 56 & 74 & 0 & 0 & 1 & 1\\\\\n\t5 & V. Lindelöf        & 26 & CB          & 80 & Right & 81 & 51 & 0 & 1 & 0 & 0\\\\\n\t6 & J. Larsson         & 24 & ST          & 77 & Left  & 29 & 78 & 0 & 0 & 0 & 1\\\\\n\t7 & A. Ekdal           & 31 & CM, CDM     & 76 & Right & 70 & 65 & 0 & 0 & 1 & 0\\\\\n\t8 & V. Claesson        & 29 & CAM, LM, CM & 76 & Right & 48 & 76 & 0 & 0 & 1 & 0\\\\\n\t9 & R. Olsen           & 31 & GK          & 76 & Right & 76 & 76 & 1 & 0 & 0 & 0\\\\\n\t10 & D. Moberg Karlsson & 27 & RM, CF      & 76 & Left  & 30 & 71 & 0 & 0 & 1 & 1\\\\\n\t11 & L. Augustinsson    & 27 & LB, LM      & 76 & Left  & 72 & 60 & 0 & 1 & 1 & 0\\\\\n\\end{tabular}\n",
            "text/plain": [
              "   short_name         age player_positions overall preferred_foot defending\n",
              "1  Z. Ibrahimović     39  ST               84      Right          34       \n",
              "2  A. Isak            21  ST               82      Right          29       \n",
              "3  E. Forsberg        29  CAM, CF          81      Right          35       \n",
              "4  D. Kulusevski      21  RW, CF           81      Left           56       \n",
              "5  V. Lindelöf        26  CB               80      Right          81       \n",
              "6  J. Larsson         24  ST               77      Left           29       \n",
              "7  A. Ekdal           31  CM, CDM          76      Right          70       \n",
              "8  V. Claesson        29  CAM, LM, CM      76      Right          48       \n",
              "9  R. Olsen           31  GK               76      Right          76       \n",
              "10 D. Moberg Karlsson 27  RM, CF           76      Left           30       \n",
              "11 L. Augustinsson    27  LB, LM           76      Left           72       \n",
              "   shooting GK D M A\n",
              "1  87       0  0 0 1\n",
              "2  82       0  0 0 1\n",
              "3  73       0  0 1 1\n",
              "4  74       0  0 1 1\n",
              "5  51       0  1 0 0\n",
              "6  78       0  0 0 1\n",
              "7  65       0  0 1 0\n",
              "8  76       0  0 1 0\n",
              "9  76       1  0 0 0\n",
              "10 71       0  0 1 1\n",
              "11 60       0  1 1 0"
            ]
          },
          "metadata": {}
        }
      ]
    },
    {
      "cell_type": "markdown",
      "source": [
        "# Objective function and constraints\n",
        "\n",
        "The goal of this project is to pick the best starting 11.\n",
        "\n",
        "The best 11 is defined as the 11 players that maximizes team `overall` rating (defined as the sum of players individual ratings).\n",
        "\n",
        "Under no constraints we could just pick the 11 players with the highest overall attributes. Actually, we could just pick Zlatan 11 times. But we can't do that. We can only pick Zlatan once. And we can´t pick a half (0.5) Zlatan or a quarter (0.25) Zlatan etiher.\n",
        "\n",
        "***Constraint 1:*** *All picks have to be binary (0,1)* <br><br>\n",
        "\n",
        "We also have to pick 11 players. We can't pick 10 or 12.\n",
        "\n",
        "***Constraint 2:*** *The sum of all picks need to sum to 11.*<br><br>\n",
        "\n",
        "We also want a goalkeeper. But not more than one.\n",
        "\n",
        "***Constraint 3:*** *There needs to be exactly one (==1) GK*<br><br>\n",
        "\n",
        "We also want to play with some reasonable formation. We don't want to play only attackers (0-0-11) for example. Or 11 defenders (11-0-0). \n",
        "\n",
        "We'll say that we want a minimum of 3 defenders, a minimum of 3 midfielders and at least 1 attacker. This gives the following constraints.\n",
        "\n",
        "***Constraint 4:*** *The # of defenders needs to be >= 3*\n",
        "\n",
        "***Constraint 5:*** *The # of midfielders needs to be >= 3*\n",
        "\n",
        "***Constraint 6:*** *The # of attackers needs to be >= 1*<br><br>\n",
        "\n",
        "The next step is to program the objective function and constraints into the `lp` function of the `lpSolve` package ([link](https://cran.r-project.org/web/packages/lpSolve/lpSolve.pdf) to documentation)\n"
      ],
      "metadata": {
        "id": "dY0qL7YvISky"
      }
    },
    {
      "cell_type": "code",
      "source": [
        "install.packages(\"lpSolve\")\n",
        "\n",
        "library(lpSolve)\n",
        "\n",
        "# To solve an optimization problem we need to pass the following arguments to the lp() function:\n",
        "\n",
        "# direction (maximization or minimization?)\n",
        "# objective.in (coefficients of the obj. function)\n",
        "# const.mat (a matrix with constraints, 1 row per constraint)\n",
        "# const.dir (the direction of each constraint, for example >= or <=)\n",
        "# const.rhs (the value on the right hand side of the constraint)\n",
        "\n",
        "# Set direction to \"max\" since we want to maximize objective function (ie. maximize overall player rating)\n",
        "direction = \"max\"\n",
        "\n",
        "# Numeric vector of coefficients of objective function (ie. the vector of player ratings)\n",
        "objective.in = df[,4]\n",
        "\n",
        "# Define constraints (we can define the first constraint (the binary constraint) by setting all.bin=TRUE later)\n",
        "\n",
        "# Seceond constraint (sum of picks == 11)\n",
        "c2 = replicate(nrow(df),1) # Create a vector with coefficient = 1 for all players\n",
        "const.dir =c(\"==\") # The direction of the constraint as a character vector\n",
        "const.rhs =c(11) # Vector of numeric values for the right hand side of the constraint (here 11)\n",
        "\n",
        "# Third constraint (exactly one GK)\n",
        "c3 = df[,8] # Create a vector with coefficient = 1 for all GKs\n",
        "const.dir[2] = \"==\"\n",
        "const.rhs[2] = 1\n",
        "\n",
        "# Fourth constraint (at least 3 defenders)\n",
        "c4 = df[,9] # Create a vector with coefficient = 1 for all defenders\n",
        "const.dir[3]=\">=\" # >= 3 defenders\n",
        "const.rhs[3] = 3\n",
        "\n",
        "# Fifth constraint (at least 3 midfielders)\n",
        "c5 = df[,10] # Create a vector with coefficient = 1 for all midfielders\n",
        "const.dir[4] = \">=\" # >= 3 midfielders\n",
        "const.rhs[4] = 3\n",
        "\n",
        "# Sixth constraint (at least 1 attackers)\n",
        "c6 = df[,11] # Create a vector with coefficient = 1 for all attackers\n",
        "const.dir[5] = \">=\" # >= 1 attackers\n",
        "const.rhs[5] = 1\n",
        "\n",
        "# Create a matrix of numeric constraint coefficients, one row per constraint, one column per variable\n",
        "const.mat = rbind(c2,c3,c4,c5,c6)\n",
        "\n",
        "print(\"Dimensions of constraint matrix (rows / cols)\")\n",
        "print(dim(const.mat))\n",
        "\n",
        "# Plug it into the solver\n",
        "solution = lp(direction=direction, objective.in=objective.in, const.mat=const.mat, const.dir=const.dir, const.rhs=const.rhs, all.bin=TRUE)\n",
        "\n"
      ],
      "metadata": {
        "colab": {
          "base_uri": "https://localhost:8080/"
        },
        "id": "wIq3Ju-vh8-N",
        "outputId": "bd9a8b77-a3ef-4836-94db-985660fa079b"
      },
      "execution_count": 55,
      "outputs": [
        {
          "output_type": "stream",
          "name": "stderr",
          "text": [
            "Installing package into ‘/usr/local/lib/R/site-library’\n",
            "(as ‘lib’ is unspecified)\n",
            "\n"
          ]
        },
        {
          "output_type": "stream",
          "name": "stdout",
          "text": [
            "[1] \"Dimensions of constraint matrix (rows / cols)\"\n",
            "[1]   5 385\n"
          ]
        }
      ]
    },
    {
      "cell_type": "markdown",
      "source": [
        "# Solution to the first optimization problem (starting 11)"
      ],
      "metadata": {
        "id": "8UUba8Cw4fDM"
      }
    },
    {
      "cell_type": "markdown",
      "source": [
        "Lets print out the optimal solution to the first optimization problem (who should start?)"
      ],
      "metadata": {
        "id": "IaqGNPMZxUNH"
      }
    },
    {
      "cell_type": "code",
      "source": [
        "selected11 = solution$solution # The solution is a vector of binary variables with 1's corresponding to selected players row numbers\n",
        "\n",
        "df[as.logical(selected11),] %>%\n",
        "arrange(-GK,-D,-M,-A, preferred_foot)\n",
        "\n",
        "\n"
      ],
      "metadata": {
        "colab": {
          "base_uri": "https://localhost:8080/",
          "height": 443
        },
        "id": "AAOeePD-ipX5",
        "outputId": "0a409592-de02-4a91-fcb4-4145a5d4c2f3"
      },
      "execution_count": 56,
      "outputs": [
        {
          "output_type": "display_data",
          "data": {
            "text/html": [
              "<table class=\"dataframe\">\n",
              "<caption>A data.frame: 11 × 11</caption>\n",
              "<thead>\n",
              "\t<tr><th scope=col>short_name</th><th scope=col>age</th><th scope=col>player_positions</th><th scope=col>overall</th><th scope=col>preferred_foot</th><th scope=col>defending</th><th scope=col>shooting</th><th scope=col>GK</th><th scope=col>D</th><th scope=col>M</th><th scope=col>A</th></tr>\n",
              "\t<tr><th scope=col>&lt;chr&gt;</th><th scope=col>&lt;int&gt;</th><th scope=col>&lt;chr&gt;</th><th scope=col>&lt;int&gt;</th><th scope=col>&lt;chr&gt;</th><th scope=col>&lt;int&gt;</th><th scope=col>&lt;int&gt;</th><th scope=col>&lt;dbl&gt;</th><th scope=col>&lt;dbl&gt;</th><th scope=col>&lt;dbl&gt;</th><th scope=col>&lt;dbl&gt;</th></tr>\n",
              "</thead>\n",
              "<tbody>\n",
              "\t<tr><td>R. Olsen          </td><td>31</td><td>GK         </td><td>76</td><td>Right</td><td>76</td><td>76</td><td>1</td><td>0</td><td>0</td><td>0</td></tr>\n",
              "\t<tr><td>L. Augustinsson   </td><td>27</td><td>LB, LM     </td><td>76</td><td>Left </td><td>72</td><td>60</td><td>0</td><td>1</td><td>1</td><td>0</td></tr>\n",
              "\t<tr><td>V. Lindelöf       </td><td>26</td><td>CB         </td><td>80</td><td>Right</td><td>81</td><td>51</td><td>0</td><td>1</td><td>0</td><td>0</td></tr>\n",
              "\t<tr><td>P. Jansson        </td><td>30</td><td>CB         </td><td>75</td><td>Right</td><td>75</td><td>42</td><td>0</td><td>1</td><td>0</td><td>0</td></tr>\n",
              "\t<tr><td>D. Kulusevski     </td><td>21</td><td>RW, CF     </td><td>81</td><td>Left </td><td>56</td><td>74</td><td>0</td><td>0</td><td>1</td><td>1</td></tr>\n",
              "\t<tr><td>D. Moberg Karlsson</td><td>27</td><td>RM, CF     </td><td>76</td><td>Left </td><td>30</td><td>71</td><td>0</td><td>0</td><td>1</td><td>1</td></tr>\n",
              "\t<tr><td>E. Forsberg       </td><td>29</td><td>CAM, CF    </td><td>81</td><td>Right</td><td>35</td><td>73</td><td>0</td><td>0</td><td>1</td><td>1</td></tr>\n",
              "\t<tr><td>V. Claesson       </td><td>29</td><td>CAM, LM, CM</td><td>76</td><td>Right</td><td>48</td><td>76</td><td>0</td><td>0</td><td>1</td><td>0</td></tr>\n",
              "\t<tr><td>J. Larsson        </td><td>24</td><td>ST         </td><td>77</td><td>Left </td><td>29</td><td>78</td><td>0</td><td>0</td><td>0</td><td>1</td></tr>\n",
              "\t<tr><td>Z. Ibrahimović    </td><td>39</td><td>ST         </td><td>84</td><td>Right</td><td>34</td><td>87</td><td>0</td><td>0</td><td>0</td><td>1</td></tr>\n",
              "\t<tr><td>A. Isak           </td><td>21</td><td>ST         </td><td>82</td><td>Right</td><td>29</td><td>82</td><td>0</td><td>0</td><td>0</td><td>1</td></tr>\n",
              "</tbody>\n",
              "</table>\n"
            ],
            "text/markdown": "\nA data.frame: 11 × 11\n\n| short_name &lt;chr&gt; | age &lt;int&gt; | player_positions &lt;chr&gt; | overall &lt;int&gt; | preferred_foot &lt;chr&gt; | defending &lt;int&gt; | shooting &lt;int&gt; | GK &lt;dbl&gt; | D &lt;dbl&gt; | M &lt;dbl&gt; | A &lt;dbl&gt; |\n|---|---|---|---|---|---|---|---|---|---|---|\n| R. Olsen           | 31 | GK          | 76 | Right | 76 | 76 | 1 | 0 | 0 | 0 |\n| L. Augustinsson    | 27 | LB, LM      | 76 | Left  | 72 | 60 | 0 | 1 | 1 | 0 |\n| V. Lindelöf        | 26 | CB          | 80 | Right | 81 | 51 | 0 | 1 | 0 | 0 |\n| P. Jansson         | 30 | CB          | 75 | Right | 75 | 42 | 0 | 1 | 0 | 0 |\n| D. Kulusevski      | 21 | RW, CF      | 81 | Left  | 56 | 74 | 0 | 0 | 1 | 1 |\n| D. Moberg Karlsson | 27 | RM, CF      | 76 | Left  | 30 | 71 | 0 | 0 | 1 | 1 |\n| E. Forsberg        | 29 | CAM, CF     | 81 | Right | 35 | 73 | 0 | 0 | 1 | 1 |\n| V. Claesson        | 29 | CAM, LM, CM | 76 | Right | 48 | 76 | 0 | 0 | 1 | 0 |\n| J. Larsson         | 24 | ST          | 77 | Left  | 29 | 78 | 0 | 0 | 0 | 1 |\n| Z. Ibrahimović     | 39 | ST          | 84 | Right | 34 | 87 | 0 | 0 | 0 | 1 |\n| A. Isak            | 21 | ST          | 82 | Right | 29 | 82 | 0 | 0 | 0 | 1 |\n\n",
            "text/latex": "A data.frame: 11 × 11\n\\begin{tabular}{lllllllllll}\n short\\_name & age & player\\_positions & overall & preferred\\_foot & defending & shooting & GK & D & M & A\\\\\n <chr> & <int> & <chr> & <int> & <chr> & <int> & <int> & <dbl> & <dbl> & <dbl> & <dbl>\\\\\n\\hline\n\t R. Olsen           & 31 & GK          & 76 & Right & 76 & 76 & 1 & 0 & 0 & 0\\\\\n\t L. Augustinsson    & 27 & LB, LM      & 76 & Left  & 72 & 60 & 0 & 1 & 1 & 0\\\\\n\t V. Lindelöf        & 26 & CB          & 80 & Right & 81 & 51 & 0 & 1 & 0 & 0\\\\\n\t P. Jansson         & 30 & CB          & 75 & Right & 75 & 42 & 0 & 1 & 0 & 0\\\\\n\t D. Kulusevski      & 21 & RW, CF      & 81 & Left  & 56 & 74 & 0 & 0 & 1 & 1\\\\\n\t D. Moberg Karlsson & 27 & RM, CF      & 76 & Left  & 30 & 71 & 0 & 0 & 1 & 1\\\\\n\t E. Forsberg        & 29 & CAM, CF     & 81 & Right & 35 & 73 & 0 & 0 & 1 & 1\\\\\n\t V. Claesson        & 29 & CAM, LM, CM & 76 & Right & 48 & 76 & 0 & 0 & 1 & 0\\\\\n\t J. Larsson         & 24 & ST          & 77 & Left  & 29 & 78 & 0 & 0 & 0 & 1\\\\\n\t Z. Ibrahimović     & 39 & ST          & 84 & Right & 34 & 87 & 0 & 0 & 0 & 1\\\\\n\t A. Isak            & 21 & ST          & 82 & Right & 29 & 82 & 0 & 0 & 0 & 1\\\\\n\\end{tabular}\n",
            "text/plain": [
              "   short_name         age player_positions overall preferred_foot defending\n",
              "1  R. Olsen           31  GK               76      Right          76       \n",
              "2  L. Augustinsson    27  LB, LM           76      Left           72       \n",
              "3  V. Lindelöf        26  CB               80      Right          81       \n",
              "4  P. Jansson         30  CB               75      Right          75       \n",
              "5  D. Kulusevski      21  RW, CF           81      Left           56       \n",
              "6  D. Moberg Karlsson 27  RM, CF           76      Left           30       \n",
              "7  E. Forsberg        29  CAM, CF          81      Right          35       \n",
              "8  V. Claesson        29  CAM, LM, CM      76      Right          48       \n",
              "9  J. Larsson         24  ST               77      Left           29       \n",
              "10 Z. Ibrahimović     39  ST               84      Right          34       \n",
              "11 A. Isak            21  ST               82      Right          29       \n",
              "   shooting GK D M A\n",
              "1  76       1  0 0 0\n",
              "2  60       0  1 1 0\n",
              "3  51       0  1 0 0\n",
              "4  42       0  1 0 0\n",
              "5  74       0  0 1 1\n",
              "6  71       0  0 1 1\n",
              "7  73       0  0 1 1\n",
              "8  76       0  0 1 0\n",
              "9  78       0  0 0 1\n",
              "10 87       0  0 0 1\n",
              "11 82       0  0 0 1"
            ]
          },
          "metadata": {}
        }
      ]
    },
    {
      "cell_type": "markdown",
      "source": [
        "The optimal solution is to play the 11 listed above.\n",
        "Unfortunately Pontus Jansson has retired from the national team as of august 2021. We'll therefore remove him and rerun the optimization."
      ],
      "metadata": {
        "id": "ewpuHmthxWZr"
      }
    },
    {
      "cell_type": "code",
      "source": [
        "# Find Pontus Jansson row number\n",
        "pontus_row = which(df$short_name==\"P. Jansson\")\n",
        "\n",
        "# Remove him from dataframe, objective function and constraint matrix\n",
        "df = df[-c(pontus_row),]\n",
        "objective.in = objective.in[-c(pontus_row)]\n",
        "const.mat = const.mat[,-c(pontus_row)] "
      ],
      "metadata": {
        "id": "6mcW2SGcy1mK"
      },
      "execution_count": 57,
      "outputs": []
    },
    {
      "cell_type": "code",
      "source": [
        "# Rerun the solver and print out the results\n",
        "solution = lp(direction=direction, objective.in=objective.in, const.mat=const.mat, const.dir=const.dir, const.rhs=const.rhs, all.bin=TRUE)\n",
        "\n",
        "selected11 = solution$solution\n",
        "\n",
        "df[as.logical(selected11),] %>%\n",
        "arrange(-GK,-D,-M,-A, preferred_foot)\n",
        "\n",
        "summary1 = df[as.logical(selected11),] %>%\n",
        "summarise(`Overall (mean)`=round(mean(overall),2),\n",
        "`Defending (mean)`=round(mean(defending,2)),\n",
        "`Shooting (mean)`=round(mean(shooting,2)))\n",
        "\n",
        "summary1"
      ],
      "metadata": {
        "colab": {
          "base_uri": "https://localhost:8080/",
          "height": 555
        },
        "id": "8Qetfu99zt1p",
        "outputId": "1ecdf33d-48cc-4be7-a55b-6a4dcfe51eb4"
      },
      "execution_count": 58,
      "outputs": [
        {
          "output_type": "display_data",
          "data": {
            "text/html": [
              "<table class=\"dataframe\">\n",
              "<caption>A data.frame: 11 × 11</caption>\n",
              "<thead>\n",
              "\t<tr><th scope=col>short_name</th><th scope=col>age</th><th scope=col>player_positions</th><th scope=col>overall</th><th scope=col>preferred_foot</th><th scope=col>defending</th><th scope=col>shooting</th><th scope=col>GK</th><th scope=col>D</th><th scope=col>M</th><th scope=col>A</th></tr>\n",
              "\t<tr><th scope=col>&lt;chr&gt;</th><th scope=col>&lt;int&gt;</th><th scope=col>&lt;chr&gt;</th><th scope=col>&lt;int&gt;</th><th scope=col>&lt;chr&gt;</th><th scope=col>&lt;int&gt;</th><th scope=col>&lt;int&gt;</th><th scope=col>&lt;dbl&gt;</th><th scope=col>&lt;dbl&gt;</th><th scope=col>&lt;dbl&gt;</th><th scope=col>&lt;dbl&gt;</th></tr>\n",
              "</thead>\n",
              "<tbody>\n",
              "\t<tr><td>R. Olsen          </td><td>31</td><td>GK         </td><td>76</td><td>Right</td><td>76</td><td>76</td><td>1</td><td>0</td><td>0</td><td>0</td></tr>\n",
              "\t<tr><td>L. Augustinsson   </td><td>27</td><td>LB, LM     </td><td>76</td><td>Left </td><td>72</td><td>60</td><td>0</td><td>1</td><td>1</td><td>0</td></tr>\n",
              "\t<tr><td>F. Helander       </td><td>28</td><td>CB         </td><td>74</td><td>Left </td><td>75</td><td>33</td><td>0</td><td>1</td><td>0</td><td>0</td></tr>\n",
              "\t<tr><td>V. Lindelöf       </td><td>26</td><td>CB         </td><td>80</td><td>Right</td><td>81</td><td>51</td><td>0</td><td>1</td><td>0</td><td>0</td></tr>\n",
              "\t<tr><td>D. Kulusevski     </td><td>21</td><td>RW, CF     </td><td>81</td><td>Left </td><td>56</td><td>74</td><td>0</td><td>0</td><td>1</td><td>1</td></tr>\n",
              "\t<tr><td>D. Moberg Karlsson</td><td>27</td><td>RM, CF     </td><td>76</td><td>Left </td><td>30</td><td>71</td><td>0</td><td>0</td><td>1</td><td>1</td></tr>\n",
              "\t<tr><td>E. Forsberg       </td><td>29</td><td>CAM, CF    </td><td>81</td><td>Right</td><td>35</td><td>73</td><td>0</td><td>0</td><td>1</td><td>1</td></tr>\n",
              "\t<tr><td>V. Claesson       </td><td>29</td><td>CAM, LM, CM</td><td>76</td><td>Right</td><td>48</td><td>76</td><td>0</td><td>0</td><td>1</td><td>0</td></tr>\n",
              "\t<tr><td>J. Larsson        </td><td>24</td><td>ST         </td><td>77</td><td>Left </td><td>29</td><td>78</td><td>0</td><td>0</td><td>0</td><td>1</td></tr>\n",
              "\t<tr><td>Z. Ibrahimović    </td><td>39</td><td>ST         </td><td>84</td><td>Right</td><td>34</td><td>87</td><td>0</td><td>0</td><td>0</td><td>1</td></tr>\n",
              "\t<tr><td>A. Isak           </td><td>21</td><td>ST         </td><td>82</td><td>Right</td><td>29</td><td>82</td><td>0</td><td>0</td><td>0</td><td>1</td></tr>\n",
              "</tbody>\n",
              "</table>\n"
            ],
            "text/markdown": "\nA data.frame: 11 × 11\n\n| short_name &lt;chr&gt; | age &lt;int&gt; | player_positions &lt;chr&gt; | overall &lt;int&gt; | preferred_foot &lt;chr&gt; | defending &lt;int&gt; | shooting &lt;int&gt; | GK &lt;dbl&gt; | D &lt;dbl&gt; | M &lt;dbl&gt; | A &lt;dbl&gt; |\n|---|---|---|---|---|---|---|---|---|---|---|\n| R. Olsen           | 31 | GK          | 76 | Right | 76 | 76 | 1 | 0 | 0 | 0 |\n| L. Augustinsson    | 27 | LB, LM      | 76 | Left  | 72 | 60 | 0 | 1 | 1 | 0 |\n| F. Helander        | 28 | CB          | 74 | Left  | 75 | 33 | 0 | 1 | 0 | 0 |\n| V. Lindelöf        | 26 | CB          | 80 | Right | 81 | 51 | 0 | 1 | 0 | 0 |\n| D. Kulusevski      | 21 | RW, CF      | 81 | Left  | 56 | 74 | 0 | 0 | 1 | 1 |\n| D. Moberg Karlsson | 27 | RM, CF      | 76 | Left  | 30 | 71 | 0 | 0 | 1 | 1 |\n| E. Forsberg        | 29 | CAM, CF     | 81 | Right | 35 | 73 | 0 | 0 | 1 | 1 |\n| V. Claesson        | 29 | CAM, LM, CM | 76 | Right | 48 | 76 | 0 | 0 | 1 | 0 |\n| J. Larsson         | 24 | ST          | 77 | Left  | 29 | 78 | 0 | 0 | 0 | 1 |\n| Z. Ibrahimović     | 39 | ST          | 84 | Right | 34 | 87 | 0 | 0 | 0 | 1 |\n| A. Isak            | 21 | ST          | 82 | Right | 29 | 82 | 0 | 0 | 0 | 1 |\n\n",
            "text/latex": "A data.frame: 11 × 11\n\\begin{tabular}{lllllllllll}\n short\\_name & age & player\\_positions & overall & preferred\\_foot & defending & shooting & GK & D & M & A\\\\\n <chr> & <int> & <chr> & <int> & <chr> & <int> & <int> & <dbl> & <dbl> & <dbl> & <dbl>\\\\\n\\hline\n\t R. Olsen           & 31 & GK          & 76 & Right & 76 & 76 & 1 & 0 & 0 & 0\\\\\n\t L. Augustinsson    & 27 & LB, LM      & 76 & Left  & 72 & 60 & 0 & 1 & 1 & 0\\\\\n\t F. Helander        & 28 & CB          & 74 & Left  & 75 & 33 & 0 & 1 & 0 & 0\\\\\n\t V. Lindelöf        & 26 & CB          & 80 & Right & 81 & 51 & 0 & 1 & 0 & 0\\\\\n\t D. Kulusevski      & 21 & RW, CF      & 81 & Left  & 56 & 74 & 0 & 0 & 1 & 1\\\\\n\t D. Moberg Karlsson & 27 & RM, CF      & 76 & Left  & 30 & 71 & 0 & 0 & 1 & 1\\\\\n\t E. Forsberg        & 29 & CAM, CF     & 81 & Right & 35 & 73 & 0 & 0 & 1 & 1\\\\\n\t V. Claesson        & 29 & CAM, LM, CM & 76 & Right & 48 & 76 & 0 & 0 & 1 & 0\\\\\n\t J. Larsson         & 24 & ST          & 77 & Left  & 29 & 78 & 0 & 0 & 0 & 1\\\\\n\t Z. Ibrahimović     & 39 & ST          & 84 & Right & 34 & 87 & 0 & 0 & 0 & 1\\\\\n\t A. Isak            & 21 & ST          & 82 & Right & 29 & 82 & 0 & 0 & 0 & 1\\\\\n\\end{tabular}\n",
            "text/plain": [
              "   short_name         age player_positions overall preferred_foot defending\n",
              "1  R. Olsen           31  GK               76      Right          76       \n",
              "2  L. Augustinsson    27  LB, LM           76      Left           72       \n",
              "3  F. Helander        28  CB               74      Left           75       \n",
              "4  V. Lindelöf        26  CB               80      Right          81       \n",
              "5  D. Kulusevski      21  RW, CF           81      Left           56       \n",
              "6  D. Moberg Karlsson 27  RM, CF           76      Left           30       \n",
              "7  E. Forsberg        29  CAM, CF          81      Right          35       \n",
              "8  V. Claesson        29  CAM, LM, CM      76      Right          48       \n",
              "9  J. Larsson         24  ST               77      Left           29       \n",
              "10 Z. Ibrahimović     39  ST               84      Right          34       \n",
              "11 A. Isak            21  ST               82      Right          29       \n",
              "   shooting GK D M A\n",
              "1  76       1  0 0 0\n",
              "2  60       0  1 1 0\n",
              "3  33       0  1 0 0\n",
              "4  51       0  1 0 0\n",
              "5  74       0  0 1 1\n",
              "6  71       0  0 1 1\n",
              "7  73       0  0 1 1\n",
              "8  76       0  0 1 0\n",
              "9  78       0  0 0 1\n",
              "10 87       0  0 0 1\n",
              "11 82       0  0 0 1"
            ]
          },
          "metadata": {}
        },
        {
          "output_type": "display_data",
          "data": {
            "text/html": [
              "<table class=\"dataframe\">\n",
              "<caption>A data.frame: 1 × 3</caption>\n",
              "<thead>\n",
              "\t<tr><th scope=col>Overall (mean)</th><th scope=col>Defending (mean)</th><th scope=col>Shooting (mean)</th></tr>\n",
              "\t<tr><th scope=col>&lt;dbl&gt;</th><th scope=col>&lt;dbl&gt;</th><th scope=col>&lt;dbl&gt;</th></tr>\n",
              "</thead>\n",
              "<tbody>\n",
              "\t<tr><td>78.45</td><td>48</td><td>74</td></tr>\n",
              "</tbody>\n",
              "</table>\n"
            ],
            "text/markdown": "\nA data.frame: 1 × 3\n\n| Overall (mean) &lt;dbl&gt; | Defending (mean) &lt;dbl&gt; | Shooting (mean) &lt;dbl&gt; |\n|---|---|---|\n| 78.45 | 48 | 74 |\n\n",
            "text/latex": "A data.frame: 1 × 3\n\\begin{tabular}{lll}\n Overall (mean) & Defending (mean) & Shooting (mean)\\\\\n <dbl> & <dbl> & <dbl>\\\\\n\\hline\n\t 78.45 & 48 & 74\\\\\n\\end{tabular}\n",
            "text/plain": [
              "  Overall (mean) Defending (mean) Shooting (mean)\n",
              "1 78.45          48               74             "
            ]
          },
          "metadata": {}
        }
      ]
    },
    {
      "cell_type": "markdown",
      "source": [
        "Based on the output Filip Helander should play instead of Pontus Jansson.\n",
        "\n",
        "Since some players can play in multiple positions the solver doesn't give the exact formation. But one possible formation would be the following 3-4-3 formation:\n",
        "\n",
        "**GK:** R. Olsen\n",
        "\n",
        "**Defenders:** L. Augustinsson, F. Helander, V. Lindelöf\n",
        "\n",
        "**Midfielders:** D. Kulusevski, V. Claesson, E. Forsberg, D. Moberg Karlsson\n",
        "\n",
        "**Attackers:** J. Larsson, Z. Ibrahimovic, A. Isak\n",
        "\n",
        "My guess is that most people interested in football, and with some knowledge about the Swedish national team, would say that this starting 11 is a bit more offensive than typical pick by Swedish coach Janne Andersson.\n",
        "\n",
        "\n"
      ],
      "metadata": {
        "id": "-TYA3T6u0Qxw"
      }
    },
    {
      "cell_type": "markdown",
      "source": [
        "# Solving the second problem (we're losing and need to score!)\n",
        "\n",
        "Let's say that we (Sweden) are losing and need to **DO SOMETHING** to change the result. Using substitutions is one way to change the game.\n",
        "\n",
        "Since the start of the corona pandeminc five substitutions have been allowed in matches organized by the European Football Ass. (UEFA).\n",
        "\n",
        "That means that we can take five players off and replace them with five new players. \n",
        "\n",
        "The question is which substituions should we make?\n",
        "\n",
        "Since we're losing we will change our objective function (that is to be maximized) to `shooting` instead of `overall` to make sure we can take advantage of any goal scoring opportunity.\n",
        "\n",
        "We will also add another constraint that says we can only make five (5) substitutions.\n",
        "\n",
        "With just a few lines of code we can change the neccesary inputs to the solver and find a new optimal solution.\n",
        "\n"
      ],
      "metadata": {
        "id": "ixxZpMxz4xQw"
      }
    },
    {
      "cell_type": "code",
      "source": [
        "# Change the objective function\n",
        "objective.in = df[,7]\n",
        "\n",
        "# Add another constraint that says that from the starting 11 at least 6 players need to remain on the pitch after all subs. are made\n",
        "# That's the same as saying we can change 5 players since 11-6 = 5\n",
        "\n",
        "# const.mat = rbind(const.mat, selected11) # Add the starting 11 (all starting players =1, all others= 0) to the const.mat matrix\n",
        "\n",
        "const.rhs[6] = 6  \n",
        "const.dir[6] = \">=\""
      ],
      "metadata": {
        "id": "-RWY58yP60Bu"
      },
      "execution_count": 59,
      "outputs": []
    },
    {
      "cell_type": "code",
      "source": [
        "# Rerun the solver and print out the results\n",
        "solution = lp(direction=direction, objective.in=objective.in, const.mat=const.mat, const.dir=const.dir, const.rhs=const.rhs, all.bin=TRUE)\n",
        "\n",
        "after_offensive_subs = solution$solution\n",
        "\n",
        "df[as.logical(after_offensive_subs),] %>%\n",
        "arrange(-GK,-D,-M,-A, preferred_foot)\n",
        "\n",
        "summary2 = df[as.logical(after_offensive_subs),] %>%\n",
        "summarise(`Overall (mean)`=round(mean(overall),2),\n",
        "`Defending (mean)`=round(mean(defending,2)),\n",
        "`Shooting (mean)`=round(mean(shooting,2)))\n",
        "\n",
        "summary2"
      ],
      "metadata": {
        "colab": {
          "base_uri": "https://localhost:8080/",
          "height": 591
        },
        "id": "d2q3GuGu75_L",
        "outputId": "3bdfcf3d-b317-4286-c6ad-f4e6cbe48d48"
      },
      "execution_count": 60,
      "outputs": [
        {
          "output_type": "stream",
          "name": "stderr",
          "text": [
            "Warning message in rbind(const.mat, const.dir.num, const.rhs):\n",
            "“number of columns of result is not a multiple of vector length (arg 2)”\n"
          ]
        },
        {
          "output_type": "display_data",
          "data": {
            "text/html": [
              "<table class=\"dataframe\">\n",
              "<caption>A data.frame: 11 × 11</caption>\n",
              "<thead>\n",
              "\t<tr><th scope=col>short_name</th><th scope=col>age</th><th scope=col>player_positions</th><th scope=col>overall</th><th scope=col>preferred_foot</th><th scope=col>defending</th><th scope=col>shooting</th><th scope=col>GK</th><th scope=col>D</th><th scope=col>M</th><th scope=col>A</th></tr>\n",
              "\t<tr><th scope=col>&lt;chr&gt;</th><th scope=col>&lt;int&gt;</th><th scope=col>&lt;chr&gt;</th><th scope=col>&lt;int&gt;</th><th scope=col>&lt;chr&gt;</th><th scope=col>&lt;int&gt;</th><th scope=col>&lt;int&gt;</th><th scope=col>&lt;dbl&gt;</th><th scope=col>&lt;dbl&gt;</th><th scope=col>&lt;dbl&gt;</th><th scope=col>&lt;dbl&gt;</th></tr>\n",
              "</thead>\n",
              "<tbody>\n",
              "\t<tr><td>R. Olsen      </td><td>31</td><td>GK         </td><td>76</td><td>Right</td><td>76</td><td>76</td><td>1</td><td>0</td><td>0</td><td>0</td></tr>\n",
              "\t<tr><td>K. Sema       </td><td>27</td><td>LW, LM, LWB</td><td>73</td><td>Left </td><td>60</td><td>66</td><td>0</td><td>1</td><td>1</td><td>0</td></tr>\n",
              "\t<tr><td>G. Gudmundsson</td><td>22</td><td>LB, LM     </td><td>73</td><td>Left </td><td>66</td><td>64</td><td>0</td><td>1</td><td>1</td><td>0</td></tr>\n",
              "\t<tr><td>E. Salomonsson</td><td>32</td><td>RB         </td><td>70</td><td>Right</td><td>63</td><td>67</td><td>0</td><td>1</td><td>0</td><td>0</td></tr>\n",
              "\t<tr><td>R. Quaison    </td><td>27</td><td>ST, LM, CAM</td><td>74</td><td>Right</td><td>44</td><td>75</td><td>0</td><td>0</td><td>1</td><td>1</td></tr>\n",
              "\t<tr><td>O. Toivonen   </td><td>34</td><td>CAM, ST    </td><td>73</td><td>Right</td><td>41</td><td>77</td><td>0</td><td>0</td><td>1</td><td>1</td></tr>\n",
              "\t<tr><td>V. Claesson   </td><td>29</td><td>CAM, LM, CM</td><td>76</td><td>Right</td><td>48</td><td>76</td><td>0</td><td>0</td><td>1</td><td>0</td></tr>\n",
              "\t<tr><td>J. Larsson    </td><td>24</td><td>ST         </td><td>77</td><td>Left </td><td>29</td><td>78</td><td>0</td><td>0</td><td>0</td><td>1</td></tr>\n",
              "\t<tr><td>Z. Ibrahimović</td><td>39</td><td>ST         </td><td>84</td><td>Right</td><td>34</td><td>87</td><td>0</td><td>0</td><td>0</td><td>1</td></tr>\n",
              "\t<tr><td>A. Isak       </td><td>21</td><td>ST         </td><td>82</td><td>Right</td><td>29</td><td>82</td><td>0</td><td>0</td><td>0</td><td>1</td></tr>\n",
              "\t<tr><td>J. Guidetti   </td><td>29</td><td>ST         </td><td>73</td><td>Right</td><td>38</td><td>75</td><td>0</td><td>0</td><td>0</td><td>1</td></tr>\n",
              "</tbody>\n",
              "</table>\n"
            ],
            "text/markdown": "\nA data.frame: 11 × 11\n\n| short_name &lt;chr&gt; | age &lt;int&gt; | player_positions &lt;chr&gt; | overall &lt;int&gt; | preferred_foot &lt;chr&gt; | defending &lt;int&gt; | shooting &lt;int&gt; | GK &lt;dbl&gt; | D &lt;dbl&gt; | M &lt;dbl&gt; | A &lt;dbl&gt; |\n|---|---|---|---|---|---|---|---|---|---|---|\n| R. Olsen       | 31 | GK          | 76 | Right | 76 | 76 | 1 | 0 | 0 | 0 |\n| K. Sema        | 27 | LW, LM, LWB | 73 | Left  | 60 | 66 | 0 | 1 | 1 | 0 |\n| G. Gudmundsson | 22 | LB, LM      | 73 | Left  | 66 | 64 | 0 | 1 | 1 | 0 |\n| E. Salomonsson | 32 | RB          | 70 | Right | 63 | 67 | 0 | 1 | 0 | 0 |\n| R. Quaison     | 27 | ST, LM, CAM | 74 | Right | 44 | 75 | 0 | 0 | 1 | 1 |\n| O. Toivonen    | 34 | CAM, ST     | 73 | Right | 41 | 77 | 0 | 0 | 1 | 1 |\n| V. Claesson    | 29 | CAM, LM, CM | 76 | Right | 48 | 76 | 0 | 0 | 1 | 0 |\n| J. Larsson     | 24 | ST          | 77 | Left  | 29 | 78 | 0 | 0 | 0 | 1 |\n| Z. Ibrahimović | 39 | ST          | 84 | Right | 34 | 87 | 0 | 0 | 0 | 1 |\n| A. Isak        | 21 | ST          | 82 | Right | 29 | 82 | 0 | 0 | 0 | 1 |\n| J. Guidetti    | 29 | ST          | 73 | Right | 38 | 75 | 0 | 0 | 0 | 1 |\n\n",
            "text/latex": "A data.frame: 11 × 11\n\\begin{tabular}{lllllllllll}\n short\\_name & age & player\\_positions & overall & preferred\\_foot & defending & shooting & GK & D & M & A\\\\\n <chr> & <int> & <chr> & <int> & <chr> & <int> & <int> & <dbl> & <dbl> & <dbl> & <dbl>\\\\\n\\hline\n\t R. Olsen       & 31 & GK          & 76 & Right & 76 & 76 & 1 & 0 & 0 & 0\\\\\n\t K. Sema        & 27 & LW, LM, LWB & 73 & Left  & 60 & 66 & 0 & 1 & 1 & 0\\\\\n\t G. Gudmundsson & 22 & LB, LM      & 73 & Left  & 66 & 64 & 0 & 1 & 1 & 0\\\\\n\t E. Salomonsson & 32 & RB          & 70 & Right & 63 & 67 & 0 & 1 & 0 & 0\\\\\n\t R. Quaison     & 27 & ST, LM, CAM & 74 & Right & 44 & 75 & 0 & 0 & 1 & 1\\\\\n\t O. Toivonen    & 34 & CAM, ST     & 73 & Right & 41 & 77 & 0 & 0 & 1 & 1\\\\\n\t V. Claesson    & 29 & CAM, LM, CM & 76 & Right & 48 & 76 & 0 & 0 & 1 & 0\\\\\n\t J. Larsson     & 24 & ST          & 77 & Left  & 29 & 78 & 0 & 0 & 0 & 1\\\\\n\t Z. Ibrahimović & 39 & ST          & 84 & Right & 34 & 87 & 0 & 0 & 0 & 1\\\\\n\t A. Isak        & 21 & ST          & 82 & Right & 29 & 82 & 0 & 0 & 0 & 1\\\\\n\t J. Guidetti    & 29 & ST          & 73 & Right & 38 & 75 & 0 & 0 & 0 & 1\\\\\n\\end{tabular}\n",
            "text/plain": [
              "   short_name     age player_positions overall preferred_foot defending\n",
              "1  R. Olsen       31  GK               76      Right          76       \n",
              "2  K. Sema        27  LW, LM, LWB      73      Left           60       \n",
              "3  G. Gudmundsson 22  LB, LM           73      Left           66       \n",
              "4  E. Salomonsson 32  RB               70      Right          63       \n",
              "5  R. Quaison     27  ST, LM, CAM      74      Right          44       \n",
              "6  O. Toivonen    34  CAM, ST          73      Right          41       \n",
              "7  V. Claesson    29  CAM, LM, CM      76      Right          48       \n",
              "8  J. Larsson     24  ST               77      Left           29       \n",
              "9  Z. Ibrahimović 39  ST               84      Right          34       \n",
              "10 A. Isak        21  ST               82      Right          29       \n",
              "11 J. Guidetti    29  ST               73      Right          38       \n",
              "   shooting GK D M A\n",
              "1  76       1  0 0 0\n",
              "2  66       0  1 1 0\n",
              "3  64       0  1 1 0\n",
              "4  67       0  1 0 0\n",
              "5  75       0  0 1 1\n",
              "6  77       0  0 1 1\n",
              "7  76       0  0 1 0\n",
              "8  78       0  0 0 1\n",
              "9  87       0  0 0 1\n",
              "10 82       0  0 0 1\n",
              "11 75       0  0 0 1"
            ]
          },
          "metadata": {}
        },
        {
          "output_type": "display_data",
          "data": {
            "text/html": [
              "<table class=\"dataframe\">\n",
              "<caption>A data.frame: 1 × 3</caption>\n",
              "<thead>\n",
              "\t<tr><th scope=col>Overall (mean)</th><th scope=col>Defending (mean)</th><th scope=col>Shooting (mean)</th></tr>\n",
              "\t<tr><th scope=col>&lt;dbl&gt;</th><th scope=col>&lt;dbl&gt;</th><th scope=col>&lt;dbl&gt;</th></tr>\n",
              "</thead>\n",
              "<tbody>\n",
              "\t<tr><td>75.55</td><td>44</td><td>76</td></tr>\n",
              "</tbody>\n",
              "</table>\n"
            ],
            "text/markdown": "\nA data.frame: 1 × 3\n\n| Overall (mean) &lt;dbl&gt; | Defending (mean) &lt;dbl&gt; | Shooting (mean) &lt;dbl&gt; |\n|---|---|---|\n| 75.55 | 44 | 76 |\n\n",
            "text/latex": "A data.frame: 1 × 3\n\\begin{tabular}{lll}\n Overall (mean) & Defending (mean) & Shooting (mean)\\\\\n <dbl> & <dbl> & <dbl>\\\\\n\\hline\n\t 75.55 & 44 & 76\\\\\n\\end{tabular}\n",
            "text/plain": [
              "  Overall (mean) Defending (mean) Shooting (mean)\n",
              "1 75.55          44               76             "
            ]
          },
          "metadata": {}
        }
      ]
    },
    {
      "cell_type": "markdown",
      "source": [
        "Whoa! That's an offensive lineup.\n",
        "How it could look?\n",
        "\n",
        "**GK:** R.Olsen\n",
        "\n",
        "**Defenders:** K.Sema, G. Gudmundsson, E. Salomonsson\n",
        "\n",
        "**Midfielders:** R. Quaison, O. Toivonen, V. Claesson\n",
        "\n",
        "**Attackers:** J. Larsson, J. Guidetti, Z. Ibrahimovic, A. Isak\n",
        "\n",
        "Unfortunately some players get to play on the wrong flank but they'll just have to manage (or we could write another constraint for this of course but we'll skip that for now).\n"
      ],
      "metadata": {
        "id": "acihjwuJIjTp"
      }
    },
    {
      "cell_type": "markdown",
      "source": [
        "# Solving the third problem (we're winning and want to secure the lead)\n",
        "\n",
        "*Parking the bus* is an expression sometimes used in football. It refers to teams playing ultra-defensively with many players behind the ball, literally parking the team bus outside of their own penalty area.\n",
        "\n",
        "Let's say we are winning and want to *park the bus*. Who should play?\n",
        "\n",
        "The scenario is that we have the same 11 players on the pitch as those we started with.\n",
        "\n",
        "We'll just have to change the objective function to maximize `defending` instead of `attacking`\n"
      ],
      "metadata": {
        "id": "R3znRU79Ib1Z"
      }
    },
    {
      "cell_type": "code",
      "source": [
        "# Assign the defensive column to the objective function\n",
        "objective.in = df[,6]\n",
        "\n",
        "# Rerun the solver and print out the results\n",
        "solution = lp(direction=direction, objective.in=objective.in, const.mat=const.mat, const.dir=const.dir, const.rhs=const.rhs, all.bin=TRUE)\n",
        "\n",
        "after_defensive_subs = solution$solution\n",
        "\n",
        "df[as.logical(after_defensive_subs),] %>%\n",
        "arrange(-GK,-D,-M,-A, preferred_foot)\n",
        "\n",
        "summary3 = df[as.logical(after_defensive_subs),] %>%\n",
        "summarise(`Overall (mean)`=round(mean(overall),2),\n",
        "`Defending (mean)`=round(mean(defending,2)),\n",
        "`Shooting (mean)`=round(mean(shooting,2)))\n",
        "\n",
        "summary3"
      ],
      "metadata": {
        "colab": {
          "base_uri": "https://localhost:8080/",
          "height": 591
        },
        "id": "QokaaYJ-OdaL",
        "outputId": "0d3c74a2-ecaf-47b0-e8ac-a9558c9f71ea"
      },
      "execution_count": 61,
      "outputs": [
        {
          "output_type": "stream",
          "name": "stderr",
          "text": [
            "Warning message in rbind(const.mat, const.dir.num, const.rhs):\n",
            "“number of columns of result is not a multiple of vector length (arg 2)”\n"
          ]
        },
        {
          "output_type": "display_data",
          "data": {
            "text/html": [
              "<table class=\"dataframe\">\n",
              "<caption>A data.frame: 11 × 11</caption>\n",
              "<thead>\n",
              "\t<tr><th scope=col>short_name</th><th scope=col>age</th><th scope=col>player_positions</th><th scope=col>overall</th><th scope=col>preferred_foot</th><th scope=col>defending</th><th scope=col>shooting</th><th scope=col>GK</th><th scope=col>D</th><th scope=col>M</th><th scope=col>A</th></tr>\n",
              "\t<tr><th scope=col>&lt;chr&gt;</th><th scope=col>&lt;int&gt;</th><th scope=col>&lt;chr&gt;</th><th scope=col>&lt;int&gt;</th><th scope=col>&lt;chr&gt;</th><th scope=col>&lt;int&gt;</th><th scope=col>&lt;int&gt;</th><th scope=col>&lt;dbl&gt;</th><th scope=col>&lt;dbl&gt;</th><th scope=col>&lt;dbl&gt;</th><th scope=col>&lt;dbl&gt;</th></tr>\n",
              "</thead>\n",
              "<tbody>\n",
              "\t<tr><td>R. Olsen       </td><td>31</td><td>GK     </td><td>76</td><td>Right</td><td>76</td><td>76</td><td>1</td><td>0</td><td>0</td><td>0</td></tr>\n",
              "\t<tr><td>L. Augustinsson</td><td>27</td><td>LB, LM </td><td>76</td><td>Left </td><td>72</td><td>60</td><td>0</td><td>1</td><td>1</td><td>0</td></tr>\n",
              "\t<tr><td>F. Helander    </td><td>28</td><td>CB     </td><td>74</td><td>Left </td><td>75</td><td>33</td><td>0</td><td>1</td><td>0</td><td>0</td></tr>\n",
              "\t<tr><td>J. Nilsson     </td><td>27</td><td>CB     </td><td>73</td><td>Left </td><td>74</td><td>32</td><td>0</td><td>1</td><td>0</td><td>0</td></tr>\n",
              "\t<tr><td>R. Gagliolo    </td><td>31</td><td>LB, CB </td><td>73</td><td>Left </td><td>72</td><td>51</td><td>0</td><td>1</td><td>0</td><td>0</td></tr>\n",
              "\t<tr><td>V. Lindelöf    </td><td>26</td><td>CB     </td><td>80</td><td>Right</td><td>81</td><td>51</td><td>0</td><td>1</td><td>0</td><td>0</td></tr>\n",
              "\t<tr><td>M. Danielson   </td><td>32</td><td>CB     </td><td>73</td><td>Right</td><td>76</td><td>28</td><td>0</td><td>1</td><td>0</td><td>0</td></tr>\n",
              "\t<tr><td>S. Holmén      </td><td>29</td><td>CB     </td><td>72</td><td>Right</td><td>74</td><td>36</td><td>0</td><td>1</td><td>0</td><td>0</td></tr>\n",
              "\t<tr><td>M. Lustig      </td><td>34</td><td>RB     </td><td>71</td><td>Right</td><td>73</td><td>54</td><td>0</td><td>1</td><td>0</td><td>0</td></tr>\n",
              "\t<tr><td>D. Kulusevski  </td><td>21</td><td>RW, CF </td><td>81</td><td>Left </td><td>56</td><td>74</td><td>0</td><td>0</td><td>1</td><td>1</td></tr>\n",
              "\t<tr><td>A. Ekdal       </td><td>31</td><td>CM, CDM</td><td>76</td><td>Right</td><td>70</td><td>65</td><td>0</td><td>0</td><td>1</td><td>0</td></tr>\n",
              "</tbody>\n",
              "</table>\n"
            ],
            "text/markdown": "\nA data.frame: 11 × 11\n\n| short_name &lt;chr&gt; | age &lt;int&gt; | player_positions &lt;chr&gt; | overall &lt;int&gt; | preferred_foot &lt;chr&gt; | defending &lt;int&gt; | shooting &lt;int&gt; | GK &lt;dbl&gt; | D &lt;dbl&gt; | M &lt;dbl&gt; | A &lt;dbl&gt; |\n|---|---|---|---|---|---|---|---|---|---|---|\n| R. Olsen        | 31 | GK      | 76 | Right | 76 | 76 | 1 | 0 | 0 | 0 |\n| L. Augustinsson | 27 | LB, LM  | 76 | Left  | 72 | 60 | 0 | 1 | 1 | 0 |\n| F. Helander     | 28 | CB      | 74 | Left  | 75 | 33 | 0 | 1 | 0 | 0 |\n| J. Nilsson      | 27 | CB      | 73 | Left  | 74 | 32 | 0 | 1 | 0 | 0 |\n| R. Gagliolo     | 31 | LB, CB  | 73 | Left  | 72 | 51 | 0 | 1 | 0 | 0 |\n| V. Lindelöf     | 26 | CB      | 80 | Right | 81 | 51 | 0 | 1 | 0 | 0 |\n| M. Danielson    | 32 | CB      | 73 | Right | 76 | 28 | 0 | 1 | 0 | 0 |\n| S. Holmén       | 29 | CB      | 72 | Right | 74 | 36 | 0 | 1 | 0 | 0 |\n| M. Lustig       | 34 | RB      | 71 | Right | 73 | 54 | 0 | 1 | 0 | 0 |\n| D. Kulusevski   | 21 | RW, CF  | 81 | Left  | 56 | 74 | 0 | 0 | 1 | 1 |\n| A. Ekdal        | 31 | CM, CDM | 76 | Right | 70 | 65 | 0 | 0 | 1 | 0 |\n\n",
            "text/latex": "A data.frame: 11 × 11\n\\begin{tabular}{lllllllllll}\n short\\_name & age & player\\_positions & overall & preferred\\_foot & defending & shooting & GK & D & M & A\\\\\n <chr> & <int> & <chr> & <int> & <chr> & <int> & <int> & <dbl> & <dbl> & <dbl> & <dbl>\\\\\n\\hline\n\t R. Olsen        & 31 & GK      & 76 & Right & 76 & 76 & 1 & 0 & 0 & 0\\\\\n\t L. Augustinsson & 27 & LB, LM  & 76 & Left  & 72 & 60 & 0 & 1 & 1 & 0\\\\\n\t F. Helander     & 28 & CB      & 74 & Left  & 75 & 33 & 0 & 1 & 0 & 0\\\\\n\t J. Nilsson      & 27 & CB      & 73 & Left  & 74 & 32 & 0 & 1 & 0 & 0\\\\\n\t R. Gagliolo     & 31 & LB, CB  & 73 & Left  & 72 & 51 & 0 & 1 & 0 & 0\\\\\n\t V. Lindelöf     & 26 & CB      & 80 & Right & 81 & 51 & 0 & 1 & 0 & 0\\\\\n\t M. Danielson    & 32 & CB      & 73 & Right & 76 & 28 & 0 & 1 & 0 & 0\\\\\n\t S. Holmén       & 29 & CB      & 72 & Right & 74 & 36 & 0 & 1 & 0 & 0\\\\\n\t M. Lustig       & 34 & RB      & 71 & Right & 73 & 54 & 0 & 1 & 0 & 0\\\\\n\t D. Kulusevski   & 21 & RW, CF  & 81 & Left  & 56 & 74 & 0 & 0 & 1 & 1\\\\\n\t A. Ekdal        & 31 & CM, CDM & 76 & Right & 70 & 65 & 0 & 0 & 1 & 0\\\\\n\\end{tabular}\n",
            "text/plain": [
              "   short_name      age player_positions overall preferred_foot defending\n",
              "1  R. Olsen        31  GK               76      Right          76       \n",
              "2  L. Augustinsson 27  LB, LM           76      Left           72       \n",
              "3  F. Helander     28  CB               74      Left           75       \n",
              "4  J. Nilsson      27  CB               73      Left           74       \n",
              "5  R. Gagliolo     31  LB, CB           73      Left           72       \n",
              "6  V. Lindelöf     26  CB               80      Right          81       \n",
              "7  M. Danielson    32  CB               73      Right          76       \n",
              "8  S. Holmén       29  CB               72      Right          74       \n",
              "9  M. Lustig       34  RB               71      Right          73       \n",
              "10 D. Kulusevski   21  RW, CF           81      Left           56       \n",
              "11 A. Ekdal        31  CM, CDM          76      Right          70       \n",
              "   shooting GK D M A\n",
              "1  76       1  0 0 0\n",
              "2  60       0  1 1 0\n",
              "3  33       0  1 0 0\n",
              "4  32       0  1 0 0\n",
              "5  51       0  1 0 0\n",
              "6  51       0  1 0 0\n",
              "7  28       0  1 0 0\n",
              "8  36       0  1 0 0\n",
              "9  54       0  1 0 0\n",
              "10 74       0  0 1 1\n",
              "11 65       0  0 1 0"
            ]
          },
          "metadata": {}
        },
        {
          "output_type": "display_data",
          "data": {
            "text/html": [
              "<table class=\"dataframe\">\n",
              "<caption>A data.frame: 1 × 3</caption>\n",
              "<thead>\n",
              "\t<tr><th scope=col>Overall (mean)</th><th scope=col>Defending (mean)</th><th scope=col>Shooting (mean)</th></tr>\n",
              "\t<tr><th scope=col>&lt;dbl&gt;</th><th scope=col>&lt;dbl&gt;</th><th scope=col>&lt;dbl&gt;</th></tr>\n",
              "</thead>\n",
              "<tbody>\n",
              "\t<tr><td>75</td><td>74</td><td>51</td></tr>\n",
              "</tbody>\n",
              "</table>\n"
            ],
            "text/markdown": "\nA data.frame: 1 × 3\n\n| Overall (mean) &lt;dbl&gt; | Defending (mean) &lt;dbl&gt; | Shooting (mean) &lt;dbl&gt; |\n|---|---|---|\n| 75 | 74 | 51 |\n\n",
            "text/latex": "A data.frame: 1 × 3\n\\begin{tabular}{lll}\n Overall (mean) & Defending (mean) & Shooting (mean)\\\\\n <dbl> & <dbl> & <dbl>\\\\\n\\hline\n\t 75 & 74 & 51\\\\\n\\end{tabular}\n",
            "text/plain": [
              "  Overall (mean) Defending (mean) Shooting (mean)\n",
              "1 75             74               51             "
            ]
          },
          "metadata": {}
        }
      ]
    },
    {
      "cell_type": "markdown",
      "source": [
        "This solution gives a very defensive lineup (7-2-1) that is perhaps a bit to unconventional. The reason is that some players (L. Augustinsson and D. Kulusevski) can play in multiple positions. They therefore satisfy multiple constraints but they can still only play in one position.\n",
        "\n",
        "Therefore we'll add another constraint that says that says that there must be at least 5 midfielders OR attackers on the pitch."
      ],
      "metadata": {
        "id": "RgG9sIxNFPAh"
      }
    },
    {
      "cell_type": "code",
      "source": [
        "midfielder_or_attacker = c() # Creates an emtpy vector\n",
        "\n",
        "# Loop that checks if a player can play any of midfield or attacker\n",
        "for(row in 1:nrow(df)) {\n",
        "  midfielder_or_attacker[row] = max(df[row,10],df[row,11])\n",
        "}\n",
        "\n",
        "# Add constraint\n",
        "const.mat = rbind(const.mat, midfielder_or_attacker)\n",
        "const.dir[6] = \">=\"\n",
        "const.rhs[6] = 5\n",
        "\n",
        "# Solve again\n",
        "solution = lp(direction=direction, objective.in=objective.in, const.mat=const.mat, const.dir=const.dir, const.rhs=const.rhs, all.bin=TRUE)\n",
        "\n",
        "after_defensive_subs = solution$solution\n",
        "\n",
        "df[as.logical(after_defensive_subs),] %>%\n",
        "arrange(-GK,-D,-M,-A, preferred_foot)"
      ],
      "metadata": {
        "colab": {
          "base_uri": "https://localhost:8080/",
          "height": 443
        },
        "id": "D8SpssimGkTP",
        "outputId": "fb034f1a-96ea-40f9-ea48-dd29d7d13f07"
      },
      "execution_count": 62,
      "outputs": [
        {
          "output_type": "display_data",
          "data": {
            "text/html": [
              "<table class=\"dataframe\">\n",
              "<caption>A data.frame: 11 × 11</caption>\n",
              "<thead>\n",
              "\t<tr><th scope=col>short_name</th><th scope=col>age</th><th scope=col>player_positions</th><th scope=col>overall</th><th scope=col>preferred_foot</th><th scope=col>defending</th><th scope=col>shooting</th><th scope=col>GK</th><th scope=col>D</th><th scope=col>M</th><th scope=col>A</th></tr>\n",
              "\t<tr><th scope=col>&lt;chr&gt;</th><th scope=col>&lt;int&gt;</th><th scope=col>&lt;chr&gt;</th><th scope=col>&lt;int&gt;</th><th scope=col>&lt;chr&gt;</th><th scope=col>&lt;int&gt;</th><th scope=col>&lt;int&gt;</th><th scope=col>&lt;dbl&gt;</th><th scope=col>&lt;dbl&gt;</th><th scope=col>&lt;dbl&gt;</th><th scope=col>&lt;dbl&gt;</th></tr>\n",
              "</thead>\n",
              "<tbody>\n",
              "\t<tr><td>R. Olsen       </td><td>31</td><td>GK         </td><td>76</td><td>Right</td><td>76</td><td>76</td><td>1</td><td>0</td><td>0</td><td>0</td></tr>\n",
              "\t<tr><td>L. Augustinsson</td><td>27</td><td>LB, LM     </td><td>76</td><td>Left </td><td>72</td><td>60</td><td>0</td><td>1</td><td>1</td><td>0</td></tr>\n",
              "\t<tr><td>G. Svensson    </td><td>34</td><td>CDM, CB, CM</td><td>72</td><td>Right</td><td>69</td><td>45</td><td>0</td><td>1</td><td>1</td><td>0</td></tr>\n",
              "\t<tr><td>F. Helander    </td><td>28</td><td>CB         </td><td>74</td><td>Left </td><td>75</td><td>33</td><td>0</td><td>1</td><td>0</td><td>0</td></tr>\n",
              "\t<tr><td>J. Nilsson     </td><td>27</td><td>CB         </td><td>73</td><td>Left </td><td>74</td><td>32</td><td>0</td><td>1</td><td>0</td><td>0</td></tr>\n",
              "\t<tr><td>V. Lindelöf    </td><td>26</td><td>CB         </td><td>80</td><td>Right</td><td>81</td><td>51</td><td>0</td><td>1</td><td>0</td><td>0</td></tr>\n",
              "\t<tr><td>M. Danielson   </td><td>32</td><td>CB         </td><td>73</td><td>Right</td><td>76</td><td>28</td><td>0</td><td>1</td><td>0</td><td>0</td></tr>\n",
              "\t<tr><td>S. Holmén      </td><td>29</td><td>CB         </td><td>72</td><td>Right</td><td>74</td><td>36</td><td>0</td><td>1</td><td>0</td><td>0</td></tr>\n",
              "\t<tr><td>D. Kulusevski  </td><td>21</td><td>RW, CF     </td><td>81</td><td>Left </td><td>56</td><td>74</td><td>0</td><td>0</td><td>1</td><td>1</td></tr>\n",
              "\t<tr><td>A. Ekdal       </td><td>31</td><td>CM, CDM    </td><td>76</td><td>Right</td><td>70</td><td>65</td><td>0</td><td>0</td><td>1</td><td>0</td></tr>\n",
              "\t<tr><td>O. Lewicki     </td><td>28</td><td>CDM, CM    </td><td>69</td><td>Right</td><td>69</td><td>54</td><td>0</td><td>0</td><td>1</td><td>0</td></tr>\n",
              "</tbody>\n",
              "</table>\n"
            ],
            "text/markdown": "\nA data.frame: 11 × 11\n\n| short_name &lt;chr&gt; | age &lt;int&gt; | player_positions &lt;chr&gt; | overall &lt;int&gt; | preferred_foot &lt;chr&gt; | defending &lt;int&gt; | shooting &lt;int&gt; | GK &lt;dbl&gt; | D &lt;dbl&gt; | M &lt;dbl&gt; | A &lt;dbl&gt; |\n|---|---|---|---|---|---|---|---|---|---|---|\n| R. Olsen        | 31 | GK          | 76 | Right | 76 | 76 | 1 | 0 | 0 | 0 |\n| L. Augustinsson | 27 | LB, LM      | 76 | Left  | 72 | 60 | 0 | 1 | 1 | 0 |\n| G. Svensson     | 34 | CDM, CB, CM | 72 | Right | 69 | 45 | 0 | 1 | 1 | 0 |\n| F. Helander     | 28 | CB          | 74 | Left  | 75 | 33 | 0 | 1 | 0 | 0 |\n| J. Nilsson      | 27 | CB          | 73 | Left  | 74 | 32 | 0 | 1 | 0 | 0 |\n| V. Lindelöf     | 26 | CB          | 80 | Right | 81 | 51 | 0 | 1 | 0 | 0 |\n| M. Danielson    | 32 | CB          | 73 | Right | 76 | 28 | 0 | 1 | 0 | 0 |\n| S. Holmén       | 29 | CB          | 72 | Right | 74 | 36 | 0 | 1 | 0 | 0 |\n| D. Kulusevski   | 21 | RW, CF      | 81 | Left  | 56 | 74 | 0 | 0 | 1 | 1 |\n| A. Ekdal        | 31 | CM, CDM     | 76 | Right | 70 | 65 | 0 | 0 | 1 | 0 |\n| O. Lewicki      | 28 | CDM, CM     | 69 | Right | 69 | 54 | 0 | 0 | 1 | 0 |\n\n",
            "text/latex": "A data.frame: 11 × 11\n\\begin{tabular}{lllllllllll}\n short\\_name & age & player\\_positions & overall & preferred\\_foot & defending & shooting & GK & D & M & A\\\\\n <chr> & <int> & <chr> & <int> & <chr> & <int> & <int> & <dbl> & <dbl> & <dbl> & <dbl>\\\\\n\\hline\n\t R. Olsen        & 31 & GK          & 76 & Right & 76 & 76 & 1 & 0 & 0 & 0\\\\\n\t L. Augustinsson & 27 & LB, LM      & 76 & Left  & 72 & 60 & 0 & 1 & 1 & 0\\\\\n\t G. Svensson     & 34 & CDM, CB, CM & 72 & Right & 69 & 45 & 0 & 1 & 1 & 0\\\\\n\t F. Helander     & 28 & CB          & 74 & Left  & 75 & 33 & 0 & 1 & 0 & 0\\\\\n\t J. Nilsson      & 27 & CB          & 73 & Left  & 74 & 32 & 0 & 1 & 0 & 0\\\\\n\t V. Lindelöf     & 26 & CB          & 80 & Right & 81 & 51 & 0 & 1 & 0 & 0\\\\\n\t M. Danielson    & 32 & CB          & 73 & Right & 76 & 28 & 0 & 1 & 0 & 0\\\\\n\t S. Holmén       & 29 & CB          & 72 & Right & 74 & 36 & 0 & 1 & 0 & 0\\\\\n\t D. Kulusevski   & 21 & RW, CF      & 81 & Left  & 56 & 74 & 0 & 0 & 1 & 1\\\\\n\t A. Ekdal        & 31 & CM, CDM     & 76 & Right & 70 & 65 & 0 & 0 & 1 & 0\\\\\n\t O. Lewicki      & 28 & CDM, CM     & 69 & Right & 69 & 54 & 0 & 0 & 1 & 0\\\\\n\\end{tabular}\n",
            "text/plain": [
              "   short_name      age player_positions overall preferred_foot defending\n",
              "1  R. Olsen        31  GK               76      Right          76       \n",
              "2  L. Augustinsson 27  LB, LM           76      Left           72       \n",
              "3  G. Svensson     34  CDM, CB, CM      72      Right          69       \n",
              "4  F. Helander     28  CB               74      Left           75       \n",
              "5  J. Nilsson      27  CB               73      Left           74       \n",
              "6  V. Lindelöf     26  CB               80      Right          81       \n",
              "7  M. Danielson    32  CB               73      Right          76       \n",
              "8  S. Holmén       29  CB               72      Right          74       \n",
              "9  D. Kulusevski   21  RW, CF           81      Left           56       \n",
              "10 A. Ekdal        31  CM, CDM          76      Right          70       \n",
              "11 O. Lewicki      28  CDM, CM          69      Right          69       \n",
              "   shooting GK D M A\n",
              "1  76       1  0 0 0\n",
              "2  60       0  1 1 0\n",
              "3  45       0  1 1 0\n",
              "4  33       0  1 0 0\n",
              "5  32       0  1 0 0\n",
              "6  51       0  1 0 0\n",
              "7  28       0  1 0 0\n",
              "8  36       0  1 0 0\n",
              "9  74       0  0 1 1\n",
              "10 65       0  0 1 0\n",
              "11 54       0  0 1 0"
            ]
          },
          "metadata": {}
        }
      ]
    },
    {
      "cell_type": "markdown",
      "source": [
        "This is at least a little more realistic it would be possible to play something like:\n",
        "\n",
        "**GK:** R. Olsen\n",
        "\n",
        "**Defenders:** J. Nilsson-F. Helander-V. Lindelöf-S. Holmén-M. Danielsson\n",
        "\n",
        "**Midfielders:** L. Augustinsson - A. Ekdal - O. Lewicki - G. Svensson\n",
        "\n",
        "**Attacker:** D. Kulusevski"
      ],
      "metadata": {
        "id": "ZARUTGQuQYcO"
      }
    },
    {
      "cell_type": "markdown",
      "source": [
        "# Summary\n",
        "In this project I used data from FIFA22 and linear optimization to pick the best possible starting 11 for the Swedish national team under some constraints. I also tried to find new optimal solutions based on how the game might evolve.\n",
        "\n",
        "* **Problem 1:** Find the optimal starting 11 (maximize overall ability)\n",
        "* **Problem 2:** Make optimal substitutions to maximize offensive capacity\n",
        "* **Problem 3:** Make optimal substitutions to maximize defensive capacity \n",
        "\n",
        "Below is a summary of the mean `overall`,`defending` and `attacking` ratings for each problem.\n",
        "\n",
        "Could linear optimization help in the real world? Perhaps, but there are of course issues. The most important ones are:\n",
        "\n",
        "* **What's the true objective function?** Here I just assumed that maximizing the sum of overall ability (or shooting or defending) will put the best performing team on the pitch (given the circumstances) but football is of course more complex than that. For example, some players might collaborate realy well and support each others style of play. In microeconomic theory this would mean that their skills are complementary rather than substitutable.\n",
        "\n",
        "* **Good quality data?** Here I just used data from the FIFA22 game but can skill be accurately measured in something as complex as football?\n",
        "\n",
        "If these two issues could be adressed to a good degree then it could be a viable option. Especially for smaller clubs that, in contrast to national teams, also operate under budget constraints.\n",
        "\n",
        "This was done mostly for my own learning experience. If you've read all the way here I hope you've found it useful, or interesting, for whatever reason."
      ],
      "metadata": {
        "id": "yv8VNtAyMTrj"
      }
    },
    {
      "cell_type": "code",
      "source": [
        "summary = rbind(summary1,summary2,summary3) \n",
        "summary$Problem = 1:nrow(summary)\n",
        "summary %>% relocate(Problem) %>% round()"
      ],
      "metadata": {
        "colab": {
          "base_uri": "https://localhost:8080/",
          "height": 192
        },
        "id": "vDp8fqynRixu",
        "outputId": "86eb669a-8f47-4fba-b850-12e61c35eefa"
      },
      "execution_count": 63,
      "outputs": [
        {
          "output_type": "display_data",
          "data": {
            "text/html": [
              "<table class=\"dataframe\">\n",
              "<caption>A data.frame: 3 × 4</caption>\n",
              "<thead>\n",
              "\t<tr><th scope=col>Problem</th><th scope=col>Overall (mean)</th><th scope=col>Defending (mean)</th><th scope=col>Shooting (mean)</th></tr>\n",
              "\t<tr><th scope=col>&lt;dbl&gt;</th><th scope=col>&lt;dbl&gt;</th><th scope=col>&lt;dbl&gt;</th><th scope=col>&lt;dbl&gt;</th></tr>\n",
              "</thead>\n",
              "<tbody>\n",
              "\t<tr><td>1</td><td>78</td><td>48</td><td>74</td></tr>\n",
              "\t<tr><td>2</td><td>76</td><td>44</td><td>76</td></tr>\n",
              "\t<tr><td>3</td><td>75</td><td>74</td><td>51</td></tr>\n",
              "</tbody>\n",
              "</table>\n"
            ],
            "text/markdown": "\nA data.frame: 3 × 4\n\n| Problem &lt;dbl&gt; | Overall (mean) &lt;dbl&gt; | Defending (mean) &lt;dbl&gt; | Shooting (mean) &lt;dbl&gt; |\n|---|---|---|---|\n| 1 | 78 | 48 | 74 |\n| 2 | 76 | 44 | 76 |\n| 3 | 75 | 74 | 51 |\n\n",
            "text/latex": "A data.frame: 3 × 4\n\\begin{tabular}{llll}\n Problem & Overall (mean) & Defending (mean) & Shooting (mean)\\\\\n <dbl> & <dbl> & <dbl> & <dbl>\\\\\n\\hline\n\t 1 & 78 & 48 & 74\\\\\n\t 2 & 76 & 44 & 76\\\\\n\t 3 & 75 & 74 & 51\\\\\n\\end{tabular}\n",
            "text/plain": [
              "  Problem Overall (mean) Defending (mean) Shooting (mean)\n",
              "1 1       78             48               74             \n",
              "2 2       76             44               76             \n",
              "3 3       75             74               51             "
            ]
          },
          "metadata": {}
        }
      ]
    },
    {
      "cell_type": "markdown",
      "source": [
        "# Contact details"
      ],
      "metadata": {
        "id": "ctPSh83KLJlP"
      }
    },
    {
      "cell_type": "markdown",
      "source": [
        "![bild](https://avatars.githubusercontent.com/u/99097833?v=4)\n",
        "\n",
        "Feel free to reach out:\n",
        "\n",
        "* Twitter: [@vaxjo_kalle](https://twitter.com/vaxjo_kalle) \n",
        "* LinkedIn: [My profile](https://www.linkedin.com/in/karlkarlssonvaxjo/)\n",
        "* E-mail: [karl_karlsson@icloud.com](mailto:karl_karlsson@icloud.com)\n",
        "* GitHub: [github.com/karl-karlsson](https://github.com/karl-karlsson)"
      ],
      "metadata": {
        "id": "cs-vB6pFKF7G"
      }
    }
  ]
}