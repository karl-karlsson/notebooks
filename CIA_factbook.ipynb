{
  "nbformat": 4,
  "nbformat_minor": 0,
  "metadata": {
    "colab": {
      "name": "CIA_factbook.ipynb",
      "provenance": [],
      "collapsed_sections": [],
      "toc_visible": true,
      "authorship_tag": "ABX9TyOTdZlgXPeBgynaZgT6JINM",
      "include_colab_link": true
    },
    "kernelspec": {
      "name": "python3",
      "display_name": "Python 3"
    },
    "language_info": {
      "name": "python"
    }
  },
  "cells": [
    {
      "cell_type": "markdown",
      "metadata": {
        "id": "view-in-github",
        "colab_type": "text"
      },
      "source": [
        "<a href=\"https://colab.research.google.com/github/karl-karlsson/notebooks/blob/main/CIA_factbook.ipynb\" target=\"_parent\"><img src=\"https://colab.research.google.com/assets/colab-badge.svg\" alt=\"Open In Colab\"/></a>"
      ]
    },
    {
      "cell_type": "markdown",
      "source": [
        "You can open a copy of this notebook in Google Colab by clicking the icon above\n",
        "\n",
        "---\n"
      ],
      "metadata": {
        "id": "B7FHxLtXCNFL"
      }
    },
    {
      "cell_type": "markdown",
      "source": [
        "# About the data\n",
        "\n",
        "CIA publish and update 'The World Factbook' (see: https://www.cia.gov/the-world-factbook/) which contains facts about countries.\n",
        "\n",
        "The dataset I use in this notebook is an excerpt from the factbook from 2015. The data, which comes as a SQLite database, can be found here: https://github.com/factbook/factbook.sql/\n",
        "\n",
        "My personal motivation for doing this project is primarily to brush up some old SQL skills and  to checkout the `plotnine` library. `plotnine` is a Python translation of the R package `ggplot2` which has been a long time favorite of mine.\n",
        "\n",
        "The project was originally a project that's part of the 'Data Engineer with Python' track on Dataquest ([link](https://www.dataquest.io/)). I've made some changes to the project, for example adding visualizations. If you want to check out the provided solutions to the original project you can find them [here](https://github.com/dataquestio/solutions/blob/master/Mission257Solutions.ipynb).  \n"
      ],
      "metadata": {
        "id": "mtloVkpHP3xw"
      }
    },
    {
      "cell_type": "markdown",
      "source": [
        "# Downloading the data, firing up SQL magic and running some basic querys"
      ],
      "metadata": {
        "id": "nz_tzYmNRcgs"
      }
    },
    {
      "cell_type": "markdown",
      "source": [
        "First we'll download the file ´factbook.db´ from GitHub."
      ],
      "metadata": {
        "id": "Pugjh7ADsp4V"
      }
    },
    {
      "cell_type": "code",
      "source": [
        "import urllib.request\n",
        "import pandas as pd\n",
        "import plotnine as gg\n",
        "\n",
        "urllib.request.urlretrieve(\"https://github.com/factbook/factbook.sql/releases/download/v0.1/factbook.db\", \"factbook.db\")"
      ],
      "metadata": {
        "colab": {
          "base_uri": "https://localhost:8080/"
        },
        "id": "aokO1es1sOmL",
        "outputId": "3db7e051-f0fd-4a85-bf15-3ea47a633ab8"
      },
      "execution_count": 45,
      "outputs": [
        {
          "output_type": "execute_result",
          "data": {
            "text/plain": [
              "('factbook.db', <http.client.HTTPMessage at 0x7fd457d8a090>)"
            ]
          },
          "metadata": {},
          "execution_count": 45
        }
      ]
    },
    {
      "cell_type": "markdown",
      "source": [
        "A nice feature with Jupyter notebooks (and Google Colab) is that you can use \"SQL magic\" to write SQL-querys. There are two variations. `%sql` interprets the code that follows on that *line*  a SQL commands and `%%sql` interprets the whole *cell* as SQL code."
      ],
      "metadata": {
        "id": "4Mbg0MiRswqU"
      }
    },
    {
      "cell_type": "code",
      "execution_count": 46,
      "metadata": {
        "id": "Rf5NC_X1Mhvn",
        "colab": {
          "base_uri": "https://localhost:8080/",
          "height": 105
        },
        "outputId": "1502fb8f-0e35-4a36-b51a-90594c8a39f0"
      },
      "outputs": [
        {
          "output_type": "stream",
          "name": "stdout",
          "text": [
            "The sql extension is already loaded. To reload it, use:\n",
            "  %reload_ext sql\n"
          ]
        },
        {
          "output_type": "stream",
          "name": "stderr",
          "text": [
            "/usr/local/lib/python3.7/dist-packages/ipykernel_launcher.py:2: UserWarning: Config option `displaycon` not recognized by `SqlMagic`.  Did you mean `displaylimit`?\n",
            "  \n"
          ]
        },
        {
          "output_type": "execute_result",
          "data": {
            "text/plain": [
              "'Connected: @factbook.db'"
            ],
            "application/vnd.google.colaboratory.intrinsic+json": {
              "type": "string"
            }
          },
          "metadata": {},
          "execution_count": 46
        }
      ],
      "source": [
        "%load_ext sql\n",
        "%config SqlMagic.displaycon = False\n",
        "%config SqlMagic.feedback = False\n",
        "\n",
        "%sql sqlite:///factbook.db"
      ]
    },
    {
      "cell_type": "markdown",
      "source": [
        "We can start by checking out what tables are in the database.\n"
      ],
      "metadata": {
        "id": "WUtjcmUus_4C"
      }
    },
    {
      "cell_type": "code",
      "source": [
        "%%sql \n",
        "SELECT *\n",
        "  FROM sqlite_master\n",
        " WHERE type='table';"
      ],
      "metadata": {
        "colab": {
          "base_uri": "https://localhost:8080/",
          "height": 118
        },
        "id": "93NE9Z7osaJn",
        "outputId": "493710c4-bc05-410d-8a4f-5e88eff4dcc1"
      },
      "execution_count": 47,
      "outputs": [
        {
          "output_type": "stream",
          "name": "stdout",
          "text": [
            " * sqlite:///factbook.db\n"
          ]
        },
        {
          "output_type": "execute_result",
          "data": {
            "text/plain": [
              "[('table', 'facts', 'facts', 2, 'CREATE TABLE \"facts\" (\"id\" INTEGER PRIMARY KEY AUTOINCREMENT NOT NULL, \"code\" varchar(255) NOT NULL, \"name\" varchar(255) NOT NULL, \"area\" integer, \"a ... (50 characters truncated) ... on\" integer, \"population_growth\" float, \"birth_rate\" float, \"death_rate\" float, \"migration_rate\" float, \"created_at\" datetime, \"updated_at\" datetime)'),\n",
              " ('table', 'sqlite_sequence', 'sqlite_sequence', 3, 'CREATE TABLE sqlite_sequence(name,seq)')]"
            ],
            "text/html": [
              "<table>\n",
              "    <thead>\n",
              "        <tr>\n",
              "            <th>type</th>\n",
              "            <th>name</th>\n",
              "            <th>tbl_name</th>\n",
              "            <th>rootpage</th>\n",
              "            <th>sql</th>\n",
              "        </tr>\n",
              "    </thead>\n",
              "    <tbody>\n",
              "        <tr>\n",
              "            <td>table</td>\n",
              "            <td>facts</td>\n",
              "            <td>facts</td>\n",
              "            <td>2</td>\n",
              "            <td>CREATE TABLE &quot;facts&quot; (&quot;id&quot; INTEGER PRIMARY KEY AUTOINCREMENT NOT NULL, &quot;code&quot; varchar(255) NOT NULL, &quot;name&quot; varchar(255) NOT NULL, &quot;area&quot; integer, &quot;area_land&quot; integer, &quot;area_water&quot; integer, &quot;population&quot; integer, &quot;population_growth&quot; float, &quot;birth_rate&quot; float, &quot;death_rate&quot; float, &quot;migration_rate&quot; float, &quot;created_at&quot; datetime, &quot;updated_at&quot; datetime)</td>\n",
              "        </tr>\n",
              "        <tr>\n",
              "            <td>table</td>\n",
              "            <td>sqlite_sequence</td>\n",
              "            <td>sqlite_sequence</td>\n",
              "            <td>3</td>\n",
              "            <td>CREATE TABLE sqlite_sequence(name,seq)</td>\n",
              "        </tr>\n",
              "    </tbody>\n",
              "</table>"
            ]
          },
          "metadata": {},
          "execution_count": 47
        }
      ]
    },
    {
      "cell_type": "markdown",
      "source": [
        "As seen there is a table called ´facts´ within the db. This is the table we want to query.\n",
        "\n",
        "Let's start by displaying the first five rows using SQL."
      ],
      "metadata": {
        "id": "EptgET8jSs2V"
      }
    },
    {
      "cell_type": "code",
      "source": [
        "%%sql \n",
        "SELECT * \n",
        "FROM facts\n",
        "LIMIT 5;"
      ],
      "metadata": {
        "colab": {
          "base_uri": "https://localhost:8080/",
          "height": 165
        },
        "id": "osUTc1bJtLxX",
        "outputId": "ba0f2cbf-61d2-4afb-fb76-a4e97032beca"
      },
      "execution_count": 48,
      "outputs": [
        {
          "output_type": "stream",
          "name": "stdout",
          "text": [
            " * sqlite:///factbook.db\n"
          ]
        },
        {
          "output_type": "execute_result",
          "data": {
            "text/plain": [
              "[(1, 'af', 'Afghanistan', 652230, 652230, 0, 32564342, 2.32, 38.57, 13.89, 1.51, '2015-11-01 13:19:49.461734', '2015-11-01 13:19:49.461734'),\n",
              " (2, 'al', 'Albania', 28748, 27398, 1350, 3029278, 0.3, 12.92, 6.58, 3.3, '2015-11-01 13:19:54.431082', '2015-11-01 13:19:54.431082'),\n",
              " (3, 'ag', 'Algeria', 2381741, 2381741, 0, 39542166, 1.84, 23.67, 4.31, 0.92, '2015-11-01 13:19:59.961286', '2015-11-01 13:19:59.961286'),\n",
              " (4, 'an', 'Andorra', 468, 468, 0, 85580, 0.12, 8.13, 6.96, 0.0, '2015-11-01 13:20:03.659945', '2015-11-01 13:20:03.659945'),\n",
              " (5, 'ao', 'Angola', 1246700, 1246700, 0, 19625353, 2.78, 38.78, 11.49, 0.46, '2015-11-01 13:20:08.625072', '2015-11-01 13:20:08.625072')]"
            ],
            "text/html": [
              "<table>\n",
              "    <thead>\n",
              "        <tr>\n",
              "            <th>id</th>\n",
              "            <th>code</th>\n",
              "            <th>name</th>\n",
              "            <th>area</th>\n",
              "            <th>area_land</th>\n",
              "            <th>area_water</th>\n",
              "            <th>population</th>\n",
              "            <th>population_growth</th>\n",
              "            <th>birth_rate</th>\n",
              "            <th>death_rate</th>\n",
              "            <th>migration_rate</th>\n",
              "            <th>created_at</th>\n",
              "            <th>updated_at</th>\n",
              "        </tr>\n",
              "    </thead>\n",
              "    <tbody>\n",
              "        <tr>\n",
              "            <td>1</td>\n",
              "            <td>af</td>\n",
              "            <td>Afghanistan</td>\n",
              "            <td>652230</td>\n",
              "            <td>652230</td>\n",
              "            <td>0</td>\n",
              "            <td>32564342</td>\n",
              "            <td>2.32</td>\n",
              "            <td>38.57</td>\n",
              "            <td>13.89</td>\n",
              "            <td>1.51</td>\n",
              "            <td>2015-11-01 13:19:49.461734</td>\n",
              "            <td>2015-11-01 13:19:49.461734</td>\n",
              "        </tr>\n",
              "        <tr>\n",
              "            <td>2</td>\n",
              "            <td>al</td>\n",
              "            <td>Albania</td>\n",
              "            <td>28748</td>\n",
              "            <td>27398</td>\n",
              "            <td>1350</td>\n",
              "            <td>3029278</td>\n",
              "            <td>0.3</td>\n",
              "            <td>12.92</td>\n",
              "            <td>6.58</td>\n",
              "            <td>3.3</td>\n",
              "            <td>2015-11-01 13:19:54.431082</td>\n",
              "            <td>2015-11-01 13:19:54.431082</td>\n",
              "        </tr>\n",
              "        <tr>\n",
              "            <td>3</td>\n",
              "            <td>ag</td>\n",
              "            <td>Algeria</td>\n",
              "            <td>2381741</td>\n",
              "            <td>2381741</td>\n",
              "            <td>0</td>\n",
              "            <td>39542166</td>\n",
              "            <td>1.84</td>\n",
              "            <td>23.67</td>\n",
              "            <td>4.31</td>\n",
              "            <td>0.92</td>\n",
              "            <td>2015-11-01 13:19:59.961286</td>\n",
              "            <td>2015-11-01 13:19:59.961286</td>\n",
              "        </tr>\n",
              "        <tr>\n",
              "            <td>4</td>\n",
              "            <td>an</td>\n",
              "            <td>Andorra</td>\n",
              "            <td>468</td>\n",
              "            <td>468</td>\n",
              "            <td>0</td>\n",
              "            <td>85580</td>\n",
              "            <td>0.12</td>\n",
              "            <td>8.13</td>\n",
              "            <td>6.96</td>\n",
              "            <td>0.0</td>\n",
              "            <td>2015-11-01 13:20:03.659945</td>\n",
              "            <td>2015-11-01 13:20:03.659945</td>\n",
              "        </tr>\n",
              "        <tr>\n",
              "            <td>5</td>\n",
              "            <td>ao</td>\n",
              "            <td>Angola</td>\n",
              "            <td>1246700</td>\n",
              "            <td>1246700</td>\n",
              "            <td>0</td>\n",
              "            <td>19625353</td>\n",
              "            <td>2.78</td>\n",
              "            <td>38.78</td>\n",
              "            <td>11.49</td>\n",
              "            <td>0.46</td>\n",
              "            <td>2015-11-01 13:20:08.625072</td>\n",
              "            <td>2015-11-01 13:20:08.625072</td>\n",
              "        </tr>\n",
              "    </tbody>\n",
              "</table>"
            ]
          },
          "metadata": {},
          "execution_count": 48
        }
      ]
    },
    {
      "cell_type": "markdown",
      "source": [
        "We also want to know how many rows (=countries) there are in the table."
      ],
      "metadata": {
        "id": "NM9TluwxTQGK"
      }
    },
    {
      "cell_type": "code",
      "source": [
        "%%sql SELECT COUNT(*) AS rows\n",
        "FROM facts;"
      ],
      "metadata": {
        "colab": {
          "base_uri": "https://localhost:8080/",
          "height": 79
        },
        "id": "n_Y_Lg2dTXlP",
        "outputId": "afa01ab6-98a8-4208-f1c7-54c6baf4e5df"
      },
      "execution_count": 49,
      "outputs": [
        {
          "output_type": "stream",
          "name": "stdout",
          "text": [
            " * sqlite:///factbook.db\n"
          ]
        },
        {
          "output_type": "execute_result",
          "data": {
            "text/plain": [
              "[(261,)]"
            ],
            "text/html": [
              "<table>\n",
              "    <thead>\n",
              "        <tr>\n",
              "            <th>rows</th>\n",
              "        </tr>\n",
              "    </thead>\n",
              "    <tbody>\n",
              "        <tr>\n",
              "            <td>261</td>\n",
              "        </tr>\n",
              "    </tbody>\n",
              "</table>"
            ]
          },
          "metadata": {},
          "execution_count": 49
        }
      ]
    },
    {
      "cell_type": "markdown",
      "source": [
        "There are 261 rows/countries in the table. This is a little bit strange since most internet sources state that (in 2022) there are actually 195 countries in the world. We'll investigate this a bit further down.\n",
        "\n",
        "Of course this is a small dataset by most standards and one solution could of course be to just download the whole dataset and convert it into a Pandas dataframe."
      ],
      "metadata": {
        "id": "hQAigJBFTdXM"
      }
    },
    {
      "cell_type": "code",
      "source": [
        "a_dataframe = %sql SELECT * FROM facts;\n",
        "a_dataframe = a_dataframe.DataFrame()\n",
        "a_dataframe[:5]"
      ],
      "metadata": {
        "colab": {
          "base_uri": "https://localhost:8080/",
          "height": 224
        },
        "id": "RL41trDLTtKn",
        "outputId": "03f13f74-e274-4423-bf32-9f91239069d8"
      },
      "execution_count": 50,
      "outputs": [
        {
          "output_type": "stream",
          "name": "stdout",
          "text": [
            " * sqlite:///factbook.db\n"
          ]
        },
        {
          "output_type": "execute_result",
          "data": {
            "text/plain": [
              "   id code         name       area  area_land  area_water  population  \\\n",
              "0   1   af  Afghanistan   652230.0   652230.0         0.0  32564342.0   \n",
              "1   2   al      Albania    28748.0    27398.0      1350.0   3029278.0   \n",
              "2   3   ag      Algeria  2381741.0  2381741.0         0.0  39542166.0   \n",
              "3   4   an      Andorra      468.0      468.0         0.0     85580.0   \n",
              "4   5   ao       Angola  1246700.0  1246700.0         0.0  19625353.0   \n",
              "\n",
              "   population_growth  birth_rate  death_rate  migration_rate  \\\n",
              "0               2.32       38.57       13.89            1.51   \n",
              "1               0.30       12.92        6.58            3.30   \n",
              "2               1.84       23.67        4.31            0.92   \n",
              "3               0.12        8.13        6.96            0.00   \n",
              "4               2.78       38.78       11.49            0.46   \n",
              "\n",
              "                   created_at                  updated_at  \n",
              "0  2015-11-01 13:19:49.461734  2015-11-01 13:19:49.461734  \n",
              "1  2015-11-01 13:19:54.431082  2015-11-01 13:19:54.431082  \n",
              "2  2015-11-01 13:19:59.961286  2015-11-01 13:19:59.961286  \n",
              "3  2015-11-01 13:20:03.659945  2015-11-01 13:20:03.659945  \n",
              "4  2015-11-01 13:20:08.625072  2015-11-01 13:20:08.625072  "
            ],
            "text/html": [
              "\n",
              "  <div id=\"df-819fc90e-3919-48ea-99da-5f62cf0aeeba\">\n",
              "    <div class=\"colab-df-container\">\n",
              "      <div>\n",
              "<style scoped>\n",
              "    .dataframe tbody tr th:only-of-type {\n",
              "        vertical-align: middle;\n",
              "    }\n",
              "\n",
              "    .dataframe tbody tr th {\n",
              "        vertical-align: top;\n",
              "    }\n",
              "\n",
              "    .dataframe thead th {\n",
              "        text-align: right;\n",
              "    }\n",
              "</style>\n",
              "<table border=\"1\" class=\"dataframe\">\n",
              "  <thead>\n",
              "    <tr style=\"text-align: right;\">\n",
              "      <th></th>\n",
              "      <th>id</th>\n",
              "      <th>code</th>\n",
              "      <th>name</th>\n",
              "      <th>area</th>\n",
              "      <th>area_land</th>\n",
              "      <th>area_water</th>\n",
              "      <th>population</th>\n",
              "      <th>population_growth</th>\n",
              "      <th>birth_rate</th>\n",
              "      <th>death_rate</th>\n",
              "      <th>migration_rate</th>\n",
              "      <th>created_at</th>\n",
              "      <th>updated_at</th>\n",
              "    </tr>\n",
              "  </thead>\n",
              "  <tbody>\n",
              "    <tr>\n",
              "      <th>0</th>\n",
              "      <td>1</td>\n",
              "      <td>af</td>\n",
              "      <td>Afghanistan</td>\n",
              "      <td>652230.0</td>\n",
              "      <td>652230.0</td>\n",
              "      <td>0.0</td>\n",
              "      <td>32564342.0</td>\n",
              "      <td>2.32</td>\n",
              "      <td>38.57</td>\n",
              "      <td>13.89</td>\n",
              "      <td>1.51</td>\n",
              "      <td>2015-11-01 13:19:49.461734</td>\n",
              "      <td>2015-11-01 13:19:49.461734</td>\n",
              "    </tr>\n",
              "    <tr>\n",
              "      <th>1</th>\n",
              "      <td>2</td>\n",
              "      <td>al</td>\n",
              "      <td>Albania</td>\n",
              "      <td>28748.0</td>\n",
              "      <td>27398.0</td>\n",
              "      <td>1350.0</td>\n",
              "      <td>3029278.0</td>\n",
              "      <td>0.30</td>\n",
              "      <td>12.92</td>\n",
              "      <td>6.58</td>\n",
              "      <td>3.30</td>\n",
              "      <td>2015-11-01 13:19:54.431082</td>\n",
              "      <td>2015-11-01 13:19:54.431082</td>\n",
              "    </tr>\n",
              "    <tr>\n",
              "      <th>2</th>\n",
              "      <td>3</td>\n",
              "      <td>ag</td>\n",
              "      <td>Algeria</td>\n",
              "      <td>2381741.0</td>\n",
              "      <td>2381741.0</td>\n",
              "      <td>0.0</td>\n",
              "      <td>39542166.0</td>\n",
              "      <td>1.84</td>\n",
              "      <td>23.67</td>\n",
              "      <td>4.31</td>\n",
              "      <td>0.92</td>\n",
              "      <td>2015-11-01 13:19:59.961286</td>\n",
              "      <td>2015-11-01 13:19:59.961286</td>\n",
              "    </tr>\n",
              "    <tr>\n",
              "      <th>3</th>\n",
              "      <td>4</td>\n",
              "      <td>an</td>\n",
              "      <td>Andorra</td>\n",
              "      <td>468.0</td>\n",
              "      <td>468.0</td>\n",
              "      <td>0.0</td>\n",
              "      <td>85580.0</td>\n",
              "      <td>0.12</td>\n",
              "      <td>8.13</td>\n",
              "      <td>6.96</td>\n",
              "      <td>0.00</td>\n",
              "      <td>2015-11-01 13:20:03.659945</td>\n",
              "      <td>2015-11-01 13:20:03.659945</td>\n",
              "    </tr>\n",
              "    <tr>\n",
              "      <th>4</th>\n",
              "      <td>5</td>\n",
              "      <td>ao</td>\n",
              "      <td>Angola</td>\n",
              "      <td>1246700.0</td>\n",
              "      <td>1246700.0</td>\n",
              "      <td>0.0</td>\n",
              "      <td>19625353.0</td>\n",
              "      <td>2.78</td>\n",
              "      <td>38.78</td>\n",
              "      <td>11.49</td>\n",
              "      <td>0.46</td>\n",
              "      <td>2015-11-01 13:20:08.625072</td>\n",
              "      <td>2015-11-01 13:20:08.625072</td>\n",
              "    </tr>\n",
              "  </tbody>\n",
              "</table>\n",
              "</div>\n",
              "      <button class=\"colab-df-convert\" onclick=\"convertToInteractive('df-819fc90e-3919-48ea-99da-5f62cf0aeeba')\"\n",
              "              title=\"Convert this dataframe to an interactive table.\"\n",
              "              style=\"display:none;\">\n",
              "        \n",
              "  <svg xmlns=\"http://www.w3.org/2000/svg\" height=\"24px\"viewBox=\"0 0 24 24\"\n",
              "       width=\"24px\">\n",
              "    <path d=\"M0 0h24v24H0V0z\" fill=\"none\"/>\n",
              "    <path d=\"M18.56 5.44l.94 2.06.94-2.06 2.06-.94-2.06-.94-.94-2.06-.94 2.06-2.06.94zm-11 1L8.5 8.5l.94-2.06 2.06-.94-2.06-.94L8.5 2.5l-.94 2.06-2.06.94zm10 10l.94 2.06.94-2.06 2.06-.94-2.06-.94-.94-2.06-.94 2.06-2.06.94z\"/><path d=\"M17.41 7.96l-1.37-1.37c-.4-.4-.92-.59-1.43-.59-.52 0-1.04.2-1.43.59L10.3 9.45l-7.72 7.72c-.78.78-.78 2.05 0 2.83L4 21.41c.39.39.9.59 1.41.59.51 0 1.02-.2 1.41-.59l7.78-7.78 2.81-2.81c.8-.78.8-2.07 0-2.86zM5.41 20L4 18.59l7.72-7.72 1.47 1.35L5.41 20z\"/>\n",
              "  </svg>\n",
              "      </button>\n",
              "      \n",
              "  <style>\n",
              "    .colab-df-container {\n",
              "      display:flex;\n",
              "      flex-wrap:wrap;\n",
              "      gap: 12px;\n",
              "    }\n",
              "\n",
              "    .colab-df-convert {\n",
              "      background-color: #E8F0FE;\n",
              "      border: none;\n",
              "      border-radius: 50%;\n",
              "      cursor: pointer;\n",
              "      display: none;\n",
              "      fill: #1967D2;\n",
              "      height: 32px;\n",
              "      padding: 0 0 0 0;\n",
              "      width: 32px;\n",
              "    }\n",
              "\n",
              "    .colab-df-convert:hover {\n",
              "      background-color: #E2EBFA;\n",
              "      box-shadow: 0px 1px 2px rgba(60, 64, 67, 0.3), 0px 1px 3px 1px rgba(60, 64, 67, 0.15);\n",
              "      fill: #174EA6;\n",
              "    }\n",
              "\n",
              "    [theme=dark] .colab-df-convert {\n",
              "      background-color: #3B4455;\n",
              "      fill: #D2E3FC;\n",
              "    }\n",
              "\n",
              "    [theme=dark] .colab-df-convert:hover {\n",
              "      background-color: #434B5C;\n",
              "      box-shadow: 0px 1px 3px 1px rgba(0, 0, 0, 0.15);\n",
              "      filter: drop-shadow(0px 1px 2px rgba(0, 0, 0, 0.3));\n",
              "      fill: #FFFFFF;\n",
              "    }\n",
              "  </style>\n",
              "\n",
              "      <script>\n",
              "        const buttonEl =\n",
              "          document.querySelector('#df-819fc90e-3919-48ea-99da-5f62cf0aeeba button.colab-df-convert');\n",
              "        buttonEl.style.display =\n",
              "          google.colab.kernel.accessAllowed ? 'block' : 'none';\n",
              "\n",
              "        async function convertToInteractive(key) {\n",
              "          const element = document.querySelector('#df-819fc90e-3919-48ea-99da-5f62cf0aeeba');\n",
              "          const dataTable =\n",
              "            await google.colab.kernel.invokeFunction('convertToInteractive',\n",
              "                                                     [key], {});\n",
              "          if (!dataTable) return;\n",
              "\n",
              "          const docLinkHtml = 'Like what you see? Visit the ' +\n",
              "            '<a target=\"_blank\" href=https://colab.research.google.com/notebooks/data_table.ipynb>data table notebook</a>'\n",
              "            + ' to learn more about interactive tables.';\n",
              "          element.innerHTML = '';\n",
              "          dataTable['output_type'] = 'display_data';\n",
              "          await google.colab.output.renderOutput(dataTable, element);\n",
              "          const docLink = document.createElement('div');\n",
              "          docLink.innerHTML = docLinkHtml;\n",
              "          element.appendChild(docLink);\n",
              "        }\n",
              "      </script>\n",
              "    </div>\n",
              "  </div>\n",
              "  "
            ]
          },
          "metadata": {},
          "execution_count": 50
        }
      ]
    },
    {
      "cell_type": "markdown",
      "source": [
        "But since the aim of this project are in part to brush up my SQL skills I'll stick to fetching data and doing calculations using SQL querys (however, for visualization purposes the data needs to be transformed to a dataframe)."
      ],
      "metadata": {
        "id": "bkKI9xqWT5QY"
      }
    },
    {
      "cell_type": "markdown",
      "source": [
        "# Extreme values\n",
        "\n",
        "What country has the smallest population, the largets population, the lowest population growth and the highest population growth?\n",
        "\n",
        "Let's find out."
      ],
      "metadata": {
        "id": "sc0gCXDxU-Fd"
      }
    },
    {
      "cell_type": "code",
      "source": [
        "%%sql \n",
        "/* SMALLEST POPULATION */\n",
        "SELECT name, population, population_growth, 'smallest pop' AS what\n",
        "FROM facts\n",
        "WHERE population == \n",
        "/* Subquery start */ \n",
        "(SELECT \n",
        "MIN(population) \n",
        "FROM facts)\n",
        "/* Sq. end */\n",
        "UNION \n",
        "/* LARGEST POPULATION */\n",
        "SELECT name, population, population_growth, 'largest pop' AS what\n",
        "FROM facts\n",
        "WHERE population == \n",
        "/* Subquery start */ \n",
        "(SELECT \n",
        "MAX(population) \n",
        "FROM facts)\n",
        "/* Sq. end */\n",
        "UNION \n",
        "/* LOWEST POPULATION GROWTH */\n",
        "SELECT name, population, population_growth, 'lowest pop growth' AS what\n",
        "FROM facts\n",
        "WHERE population_growth == \n",
        "/* Subquery start */ \n",
        "(SELECT \n",
        "MIN(population_growth) \n",
        "FROM facts)\n",
        "/* Sq. end */\n",
        "UNION \n",
        "/* HIGHEST POPULATION GROWTH */\n",
        "SELECT name, population, population_growth, 'highest pop growth' AS what\n",
        "FROM facts\n",
        "WHERE population_growth == \n",
        "/* Subquery start */ \n",
        "(SELECT \n",
        "MAX(population_growth) \n",
        "FROM facts)\n",
        "/* Sq. end */\n",
        ";\n",
        "\n"
      ],
      "metadata": {
        "colab": {
          "base_uri": "https://localhost:8080/",
          "height": 207
        },
        "id": "vTDKaMzxDent",
        "outputId": "9de3489b-5692-44df-ac9a-3ab99f42e78c"
      },
      "execution_count": 51,
      "outputs": [
        {
          "output_type": "stream",
          "name": "stdout",
          "text": [
            " * sqlite:///factbook.db\n"
          ]
        },
        {
          "output_type": "execute_result",
          "data": {
            "text/plain": [
              "[('Antarctica', 0, None, 'smallest pop'),\n",
              " ('Cocos (Keeling) Islands', 596, 0.0, 'lowest pop growth'),\n",
              " ('Greenland', 57733, 0.0, 'lowest pop growth'),\n",
              " ('Holy See (Vatican City)', 842, 0.0, 'lowest pop growth'),\n",
              " ('Pitcairn Islands', 48, 0.0, 'lowest pop growth'),\n",
              " ('South Sudan', 12042910, 4.02, 'highest pop growth'),\n",
              " ('World', 7256490011, 1.08, 'largest pop')]"
            ],
            "text/html": [
              "<table>\n",
              "    <thead>\n",
              "        <tr>\n",
              "            <th>name</th>\n",
              "            <th>population</th>\n",
              "            <th>population_growth</th>\n",
              "            <th>what</th>\n",
              "        </tr>\n",
              "    </thead>\n",
              "    <tbody>\n",
              "        <tr>\n",
              "            <td>Antarctica</td>\n",
              "            <td>0</td>\n",
              "            <td>None</td>\n",
              "            <td>smallest pop</td>\n",
              "        </tr>\n",
              "        <tr>\n",
              "            <td>Cocos (Keeling) Islands</td>\n",
              "            <td>596</td>\n",
              "            <td>0.0</td>\n",
              "            <td>lowest pop growth</td>\n",
              "        </tr>\n",
              "        <tr>\n",
              "            <td>Greenland</td>\n",
              "            <td>57733</td>\n",
              "            <td>0.0</td>\n",
              "            <td>lowest pop growth</td>\n",
              "        </tr>\n",
              "        <tr>\n",
              "            <td>Holy See (Vatican City)</td>\n",
              "            <td>842</td>\n",
              "            <td>0.0</td>\n",
              "            <td>lowest pop growth</td>\n",
              "        </tr>\n",
              "        <tr>\n",
              "            <td>Pitcairn Islands</td>\n",
              "            <td>48</td>\n",
              "            <td>0.0</td>\n",
              "            <td>lowest pop growth</td>\n",
              "        </tr>\n",
              "        <tr>\n",
              "            <td>South Sudan</td>\n",
              "            <td>12042910</td>\n",
              "            <td>4.02</td>\n",
              "            <td>highest pop growth</td>\n",
              "        </tr>\n",
              "        <tr>\n",
              "            <td>World</td>\n",
              "            <td>7256490011</td>\n",
              "            <td>1.08</td>\n",
              "            <td>largest pop</td>\n",
              "        </tr>\n",
              "    </tbody>\n",
              "</table>"
            ]
          },
          "metadata": {},
          "execution_count": 51
        }
      ]
    },
    {
      "cell_type": "markdown",
      "source": [
        "Some interesting things. First, there are some rows that actually aren't countries. Antarctica is the only continent in the world with no countries on it but isn't a country in itself. Also, the world is of course not a country. Some of the others are 'dodgy'. For example the Cocos (Keeling) Islands are an 'Australian external territory' with some degree of self-government but not a country in itself in the strict sense ([wiki](https://en.wikipedia.org/wiki/Cocos_(Keeling)_Islands))."
      ],
      "metadata": {
        "id": "lprg6RQ7W4hq"
      }
    },
    {
      "cell_type": "markdown",
      "source": [
        "# Missing values\n",
        "\n",
        "Lets write a query that returns the percent of missing values for each column. We'll alias them as `NA_colname`"
      ],
      "metadata": {
        "id": "PQQwB-SgYg5O"
      }
    },
    {
      "cell_type": "code",
      "source": [
        "%%sql SELECT \n",
        "ROUND(1- CAST(COUNT(name) AS FLOAT) / (SELECT COUNT(*) FROM facts),2) AS 'NA_name',\n",
        "ROUND(1- CAST(COUNT(area) AS FLOAT) / (SELECT COUNT(*) FROM facts),2) AS 'NA_area',\n",
        "ROUND(1- CAST(COUNT(area_land) AS FLOAT) / (SELECT COUNT(*) FROM facts),2) AS 'NA_area_land',\n",
        "ROUND(1- CAST(COUNT(area_water) AS FLOAT) / (SELECT COUNT(*) FROM facts),2) AS 'NA_area_water',\n",
        "ROUND(1- CAST(COUNT(population) AS FLOAT) / (SELECT COUNT(*) FROM facts),2) AS 'NA_pop',\n",
        "ROUND(1- CAST(COUNT(population_growth) AS FLOAT) / (SELECT COUNT(*) FROM facts),2) AS 'NA_pop_growth',\n",
        "ROUND(1- CAST(COUNT(birth_rate) AS FLOAT) / (SELECT COUNT(*) FROM facts),2) AS 'NA_birth_rate',\n",
        "ROUND(1- CAST(COUNT(death_rate) AS FLOAT) / (SELECT COUNT(*) FROM facts),2) AS 'NA_death_rate',\n",
        "ROUND(1- CAST(COUNT(migration_rate) AS FLOAT) / (SELECT COUNT(*) FROM facts),2) AS 'NA_migration_rate'\n",
        "FROM facts;\n",
        "\n"
      ],
      "metadata": {
        "colab": {
          "base_uri": "https://localhost:8080/",
          "height": 79
        },
        "id": "m3JzYIrUk147",
        "outputId": "f472db14-6a13-4021-df18-60e22915a11c"
      },
      "execution_count": 52,
      "outputs": [
        {
          "output_type": "stream",
          "name": "stdout",
          "text": [
            " * sqlite:///factbook.db\n"
          ]
        },
        {
          "output_type": "execute_result",
          "data": {
            "text/plain": [
              "[(0.0, 0.05, 0.06, 0.07, 0.07, 0.1, 0.13, 0.13, 0.15)]"
            ],
            "text/html": [
              "<table>\n",
              "    <thead>\n",
              "        <tr>\n",
              "            <th>NA_name</th>\n",
              "            <th>NA_area</th>\n",
              "            <th>NA_area_land</th>\n",
              "            <th>NA_area_water</th>\n",
              "            <th>NA_pop</th>\n",
              "            <th>NA_pop_growth</th>\n",
              "            <th>NA_birth_rate</th>\n",
              "            <th>NA_death_rate</th>\n",
              "            <th>NA_migration_rate</th>\n",
              "        </tr>\n",
              "    </thead>\n",
              "    <tbody>\n",
              "        <tr>\n",
              "            <td>0.0</td>\n",
              "            <td>0.05</td>\n",
              "            <td>0.06</td>\n",
              "            <td>0.07</td>\n",
              "            <td>0.07</td>\n",
              "            <td>0.1</td>\n",
              "            <td>0.13</td>\n",
              "            <td>0.13</td>\n",
              "            <td>0.15</td>\n",
              "        </tr>\n",
              "    </tbody>\n",
              "</table>"
            ]
          },
          "metadata": {},
          "execution_count": 52
        }
      ]
    },
    {
      "cell_type": "markdown",
      "source": [
        "There are some missing values for all but the ´name´ column. Lets look at the rows where values for land area (`area_land`) are missing."
      ],
      "metadata": {
        "id": "pRR2m5lTY2YV"
      }
    },
    {
      "cell_type": "code",
      "source": [
        "%%sql SELECT *\n",
        "FROM facts\n",
        "WHERE area_land IS NULL ;"
      ],
      "metadata": {
        "colab": {
          "base_uri": "https://localhost:8080/",
          "height": 378
        },
        "id": "0-gviIJnnsqg",
        "outputId": "488673c7-52d6-4afc-ff27-94c8c3fbbe06"
      },
      "execution_count": 53,
      "outputs": [
        {
          "output_type": "stream",
          "name": "stdout",
          "text": [
            " * sqlite:///factbook.db\n"
          ]
        },
        {
          "output_type": "execute_result",
          "data": {
            "text/plain": [
              "[(58, 'et', 'Ethiopia', 1104300, None, 104300, 99465819, 2.89, 37.27, 8.19, 0.22, '2015-11-01 13:24:44.456431', '2015-11-01 13:24:44.456431'),\n",
              " (162, 'od', 'South Sudan', 644329, None, None, 12042910, 4.02, 36.91, 8.18, 11.47, '2015-11-01 13:33:16.279312', '2015-11-01 13:33:16.279312'),\n",
              " (165, 'su', 'Sudan', 1861484, None, None, 36108853, 1.72, 29.19, 7.66, 4.29, '2015-11-01 13:33:31.360884', '2015-11-01 13:33:31.360884'),\n",
              " (197, 'ee', 'European Union', 4324782, None, None, 513949445, 0.25, 10.2, 10.2, 2.5, '2015-11-01 13:36:06.493657', '2015-11-01 13:36:06.493657'),\n",
              " (210, 'fs', 'French Southern and Antarctic Lands', None, None, None, None, None, None, None, None, '2015-11-01 13:36:43.532683', '2015-11-01 13:36:43.532683'),\n",
              " (212, 'tb', 'Saint Barthelemy', None, None, None, 7237, None, None, None, None, '2015-11-01 13:36:49.817701', '2015-11-01 13:36:49.817701'),\n",
              " (225, 'ax', 'Akrotiri', 123, None, None, 15700, None, None, None, None, '2015-11-01 13:37:26.504715', '2015-11-01 13:37:26.504715'),\n",
              " (231, 'dx', 'Dhekelia', 130, None, None, 15700, None, None, None, None, '2015-11-01 13:37:45.262682', '2015-11-01 13:37:45.262682'),\n",
              " (249, 'um', 'United States Pacific Island Wildlife Refuges', None, None, None, None, None, None, None, None, '2015-11-01 13:38:42.851318', '2015-11-01 13:38:42.851318'),\n",
              " (256, 'xq', 'Arctic Ocean', None, None, None, None, None, None, None, None, '2015-11-01 13:38:59.784157', '2015-11-01 13:38:59.784157'),\n",
              " (257, 'zh', 'Atlantic Ocean', None, None, None, None, None, None, None, None, '2015-11-01 13:39:01.255361', '2015-11-01 13:39:01.255361'),\n",
              " (258, 'xo', 'Indian Ocean', None, None, None, None, None, None, None, None, '2015-11-01 13:39:02.723888', '2015-11-01 13:39:02.723888'),\n",
              " (259, 'zn', 'Pacific Ocean', None, None, None, None, None, None, None, None, '2015-11-01 13:39:04.179530', '2015-11-01 13:39:04.179530'),\n",
              " (260, 'oo', 'Southern Ocean', None, None, None, None, None, None, None, None, '2015-11-01 13:39:05.806048', '2015-11-01 13:39:05.806048'),\n",
              " (261, 'xx', 'World', None, None, None, 7256490011, 1.08, 18.6, 7.8, None, '2015-11-01 13:39:09.910721', '2015-11-01 13:39:09.910721')]"
            ],
            "text/html": [
              "<table>\n",
              "    <thead>\n",
              "        <tr>\n",
              "            <th>id</th>\n",
              "            <th>code</th>\n",
              "            <th>name</th>\n",
              "            <th>area</th>\n",
              "            <th>area_land</th>\n",
              "            <th>area_water</th>\n",
              "            <th>population</th>\n",
              "            <th>population_growth</th>\n",
              "            <th>birth_rate</th>\n",
              "            <th>death_rate</th>\n",
              "            <th>migration_rate</th>\n",
              "            <th>created_at</th>\n",
              "            <th>updated_at</th>\n",
              "        </tr>\n",
              "    </thead>\n",
              "    <tbody>\n",
              "        <tr>\n",
              "            <td>58</td>\n",
              "            <td>et</td>\n",
              "            <td>Ethiopia</td>\n",
              "            <td>1104300</td>\n",
              "            <td>None</td>\n",
              "            <td>104300</td>\n",
              "            <td>99465819</td>\n",
              "            <td>2.89</td>\n",
              "            <td>37.27</td>\n",
              "            <td>8.19</td>\n",
              "            <td>0.22</td>\n",
              "            <td>2015-11-01 13:24:44.456431</td>\n",
              "            <td>2015-11-01 13:24:44.456431</td>\n",
              "        </tr>\n",
              "        <tr>\n",
              "            <td>162</td>\n",
              "            <td>od</td>\n",
              "            <td>South Sudan</td>\n",
              "            <td>644329</td>\n",
              "            <td>None</td>\n",
              "            <td>None</td>\n",
              "            <td>12042910</td>\n",
              "            <td>4.02</td>\n",
              "            <td>36.91</td>\n",
              "            <td>8.18</td>\n",
              "            <td>11.47</td>\n",
              "            <td>2015-11-01 13:33:16.279312</td>\n",
              "            <td>2015-11-01 13:33:16.279312</td>\n",
              "        </tr>\n",
              "        <tr>\n",
              "            <td>165</td>\n",
              "            <td>su</td>\n",
              "            <td>Sudan</td>\n",
              "            <td>1861484</td>\n",
              "            <td>None</td>\n",
              "            <td>None</td>\n",
              "            <td>36108853</td>\n",
              "            <td>1.72</td>\n",
              "            <td>29.19</td>\n",
              "            <td>7.66</td>\n",
              "            <td>4.29</td>\n",
              "            <td>2015-11-01 13:33:31.360884</td>\n",
              "            <td>2015-11-01 13:33:31.360884</td>\n",
              "        </tr>\n",
              "        <tr>\n",
              "            <td>197</td>\n",
              "            <td>ee</td>\n",
              "            <td>European Union</td>\n",
              "            <td>4324782</td>\n",
              "            <td>None</td>\n",
              "            <td>None</td>\n",
              "            <td>513949445</td>\n",
              "            <td>0.25</td>\n",
              "            <td>10.2</td>\n",
              "            <td>10.2</td>\n",
              "            <td>2.5</td>\n",
              "            <td>2015-11-01 13:36:06.493657</td>\n",
              "            <td>2015-11-01 13:36:06.493657</td>\n",
              "        </tr>\n",
              "        <tr>\n",
              "            <td>210</td>\n",
              "            <td>fs</td>\n",
              "            <td>French Southern and Antarctic Lands</td>\n",
              "            <td>None</td>\n",
              "            <td>None</td>\n",
              "            <td>None</td>\n",
              "            <td>None</td>\n",
              "            <td>None</td>\n",
              "            <td>None</td>\n",
              "            <td>None</td>\n",
              "            <td>None</td>\n",
              "            <td>2015-11-01 13:36:43.532683</td>\n",
              "            <td>2015-11-01 13:36:43.532683</td>\n",
              "        </tr>\n",
              "        <tr>\n",
              "            <td>212</td>\n",
              "            <td>tb</td>\n",
              "            <td>Saint Barthelemy</td>\n",
              "            <td>None</td>\n",
              "            <td>None</td>\n",
              "            <td>None</td>\n",
              "            <td>7237</td>\n",
              "            <td>None</td>\n",
              "            <td>None</td>\n",
              "            <td>None</td>\n",
              "            <td>None</td>\n",
              "            <td>2015-11-01 13:36:49.817701</td>\n",
              "            <td>2015-11-01 13:36:49.817701</td>\n",
              "        </tr>\n",
              "        <tr>\n",
              "            <td>225</td>\n",
              "            <td>ax</td>\n",
              "            <td>Akrotiri</td>\n",
              "            <td>123</td>\n",
              "            <td>None</td>\n",
              "            <td>None</td>\n",
              "            <td>15700</td>\n",
              "            <td>None</td>\n",
              "            <td>None</td>\n",
              "            <td>None</td>\n",
              "            <td>None</td>\n",
              "            <td>2015-11-01 13:37:26.504715</td>\n",
              "            <td>2015-11-01 13:37:26.504715</td>\n",
              "        </tr>\n",
              "        <tr>\n",
              "            <td>231</td>\n",
              "            <td>dx</td>\n",
              "            <td>Dhekelia</td>\n",
              "            <td>130</td>\n",
              "            <td>None</td>\n",
              "            <td>None</td>\n",
              "            <td>15700</td>\n",
              "            <td>None</td>\n",
              "            <td>None</td>\n",
              "            <td>None</td>\n",
              "            <td>None</td>\n",
              "            <td>2015-11-01 13:37:45.262682</td>\n",
              "            <td>2015-11-01 13:37:45.262682</td>\n",
              "        </tr>\n",
              "        <tr>\n",
              "            <td>249</td>\n",
              "            <td>um</td>\n",
              "            <td>United States Pacific Island Wildlife Refuges</td>\n",
              "            <td>None</td>\n",
              "            <td>None</td>\n",
              "            <td>None</td>\n",
              "            <td>None</td>\n",
              "            <td>None</td>\n",
              "            <td>None</td>\n",
              "            <td>None</td>\n",
              "            <td>None</td>\n",
              "            <td>2015-11-01 13:38:42.851318</td>\n",
              "            <td>2015-11-01 13:38:42.851318</td>\n",
              "        </tr>\n",
              "        <tr>\n",
              "            <td>256</td>\n",
              "            <td>xq</td>\n",
              "            <td>Arctic Ocean</td>\n",
              "            <td>None</td>\n",
              "            <td>None</td>\n",
              "            <td>None</td>\n",
              "            <td>None</td>\n",
              "            <td>None</td>\n",
              "            <td>None</td>\n",
              "            <td>None</td>\n",
              "            <td>None</td>\n",
              "            <td>2015-11-01 13:38:59.784157</td>\n",
              "            <td>2015-11-01 13:38:59.784157</td>\n",
              "        </tr>\n",
              "        <tr>\n",
              "            <td>257</td>\n",
              "            <td>zh</td>\n",
              "            <td>Atlantic Ocean</td>\n",
              "            <td>None</td>\n",
              "            <td>None</td>\n",
              "            <td>None</td>\n",
              "            <td>None</td>\n",
              "            <td>None</td>\n",
              "            <td>None</td>\n",
              "            <td>None</td>\n",
              "            <td>None</td>\n",
              "            <td>2015-11-01 13:39:01.255361</td>\n",
              "            <td>2015-11-01 13:39:01.255361</td>\n",
              "        </tr>\n",
              "        <tr>\n",
              "            <td>258</td>\n",
              "            <td>xo</td>\n",
              "            <td>Indian Ocean</td>\n",
              "            <td>None</td>\n",
              "            <td>None</td>\n",
              "            <td>None</td>\n",
              "            <td>None</td>\n",
              "            <td>None</td>\n",
              "            <td>None</td>\n",
              "            <td>None</td>\n",
              "            <td>None</td>\n",
              "            <td>2015-11-01 13:39:02.723888</td>\n",
              "            <td>2015-11-01 13:39:02.723888</td>\n",
              "        </tr>\n",
              "        <tr>\n",
              "            <td>259</td>\n",
              "            <td>zn</td>\n",
              "            <td>Pacific Ocean</td>\n",
              "            <td>None</td>\n",
              "            <td>None</td>\n",
              "            <td>None</td>\n",
              "            <td>None</td>\n",
              "            <td>None</td>\n",
              "            <td>None</td>\n",
              "            <td>None</td>\n",
              "            <td>None</td>\n",
              "            <td>2015-11-01 13:39:04.179530</td>\n",
              "            <td>2015-11-01 13:39:04.179530</td>\n",
              "        </tr>\n",
              "        <tr>\n",
              "            <td>260</td>\n",
              "            <td>oo</td>\n",
              "            <td>Southern Ocean</td>\n",
              "            <td>None</td>\n",
              "            <td>None</td>\n",
              "            <td>None</td>\n",
              "            <td>None</td>\n",
              "            <td>None</td>\n",
              "            <td>None</td>\n",
              "            <td>None</td>\n",
              "            <td>None</td>\n",
              "            <td>2015-11-01 13:39:05.806048</td>\n",
              "            <td>2015-11-01 13:39:05.806048</td>\n",
              "        </tr>\n",
              "        <tr>\n",
              "            <td>261</td>\n",
              "            <td>xx</td>\n",
              "            <td>World</td>\n",
              "            <td>None</td>\n",
              "            <td>None</td>\n",
              "            <td>None</td>\n",
              "            <td>7256490011</td>\n",
              "            <td>1.08</td>\n",
              "            <td>18.6</td>\n",
              "            <td>7.8</td>\n",
              "            <td>None</td>\n",
              "            <td>2015-11-01 13:39:09.910721</td>\n",
              "            <td>2015-11-01 13:39:09.910721</td>\n",
              "        </tr>\n",
              "    </tbody>\n",
              "</table>"
            ]
          },
          "metadata": {},
          "execution_count": 53
        }
      ]
    },
    {
      "cell_type": "markdown",
      "source": [
        "Oh. There are oceans included as well. And the European Union. And why don't Ethiopia have any land area? Beats me but could of course be a simple typing error.\n",
        "\n",
        "Lets try to exclude some of the obvious ones and count the rows. We'll do this by using the `NOT IN` operator and the `NOT LIKE` operator.\n",
        "\n",
        "For the `NOT LIKE` we'll try to remove all Oceans (for example Pacific Ocean) and Seas (for example the Red Sea)."
      ],
      "metadata": {
        "id": "-RmPM93JZXoH"
      }
    },
    {
      "cell_type": "code",
      "source": [
        "%%sql \n",
        "SELECT COUNT(*)\n",
        "FROM facts\n",
        "WHERE name NOT IN ('World','European Union', 'Antarctica') AND name NOT LIKE '%Ocean%' AND name NOT LIKE '%Sea%'"
      ],
      "metadata": {
        "colab": {
          "base_uri": "https://localhost:8080/",
          "height": 79
        },
        "id": "XAqWUfXIasCg",
        "outputId": "21d7e370-84f6-402b-b879-94658b1a8001"
      },
      "execution_count": 54,
      "outputs": [
        {
          "output_type": "stream",
          "name": "stdout",
          "text": [
            " * sqlite:///factbook.db\n"
          ]
        },
        {
          "output_type": "execute_result",
          "data": {
            "text/plain": [
              "[(251,)]"
            ],
            "text/html": [
              "<table>\n",
              "    <thead>\n",
              "        <tr>\n",
              "            <th>COUNT(*)</th>\n",
              "        </tr>\n",
              "    </thead>\n",
              "    <tbody>\n",
              "        <tr>\n",
              "            <td>251</td>\n",
              "        </tr>\n",
              "    </tbody>\n",
              "</table>"
            ]
          },
          "metadata": {},
          "execution_count": 54
        }
      ]
    },
    {
      "cell_type": "markdown",
      "source": [
        "Ok. 251 \"countries\" left. Not perfect. But we'll leave it at that. A possible solution would be to download a list of country names from the UN and restrict the names to be in that list (ie. `name IN country_list`)."
      ],
      "metadata": {
        "id": "cv1w_KjxbhYw"
      }
    },
    {
      "cell_type": "markdown",
      "source": [
        "# Average population and average area"
      ],
      "metadata": {
        "id": "V048vr-CaKwl"
      }
    },
    {
      "cell_type": "markdown",
      "source": [
        "Lets calculate the average population for all countries and also the average area. We'll try to make this as good as possible by setting the restrictions above."
      ],
      "metadata": {
        "id": "ZzlkTAt6aJ9A"
      }
    },
    {
      "cell_type": "code",
      "source": [
        "%%sql SELECT \n",
        "ROUND(AVG(population)) AS avg_pop,\n",
        "ROUND(AVG(area_land)) AS avg_land_area\n",
        "FROM facts\n",
        "WHERE name NOT IN ('World','European Union', 'Antarctica') AND name NOT LIKE '%Ocean%' AND name NOT LIKE '%Sea%';"
      ],
      "metadata": {
        "colab": {
          "base_uri": "https://localhost:8080/",
          "height": 79
        },
        "id": "LWofQjMSE9oa",
        "outputId": "f9e46a64-d0ff-4071-cddd-092a5ec60d70"
      },
      "execution_count": 55,
      "outputs": [
        {
          "output_type": "stream",
          "name": "stdout",
          "text": [
            " * sqlite:///factbook.db\n"
          ]
        },
        {
          "output_type": "execute_result",
          "data": {
            "text/plain": [
              "[(30362064.0, 528003.0)]"
            ],
            "text/html": [
              "<table>\n",
              "    <thead>\n",
              "        <tr>\n",
              "            <th>avg_pop</th>\n",
              "            <th>avg_land_area</th>\n",
              "        </tr>\n",
              "    </thead>\n",
              "    <tbody>\n",
              "        <tr>\n",
              "            <td>30362064.0</td>\n",
              "            <td>528003.0</td>\n",
              "        </tr>\n",
              "    </tbody>\n",
              "</table>"
            ]
          },
          "metadata": {},
          "execution_count": 55
        }
      ]
    },
    {
      "cell_type": "markdown",
      "source": [
        "According tho this the average population was around 30 million and the average area was 528 003 sq. km.\n",
        "\n",
        "According to [this](https://www.theglobaleconomy.com/) site the average population for 2015 based on 196 countries was 38.95 million and the average land area, based on 197 countries, was actually 666717 sq. km.\n",
        "\n",
        "The difference is likely due to the fact that the `facts` table include many really small territories that aren't real countries. The low land area and population sizes of these countries drives down the averages."
      ],
      "metadata": {
        "id": "KxNQ2Y-40e3f"
      }
    },
    {
      "cell_type": "markdown",
      "source": [
        "# Densely populated countries\n",
        "\n",
        "What countries are densely populated? Lets define 'densely populated' as a country with **above** average population size and **below** average land area."
      ],
      "metadata": {
        "id": "Hoflk33WddnJ"
      }
    },
    {
      "cell_type": "code",
      "source": [
        "%%sql SELECT name, population, area_land\n",
        "FROM facts WHERE population >  (SELECT AVG(population) FROM facts WHERE name NOT IN ('World','European Union', 'Antarctica') AND name NOT LIKE '%Ocean%' AND name NOT LIKE '%Sea%') \n",
        "AND area_land < (SELECT AVG(area_land) FROM facts WHERE name NOT IN ('World','European Union', 'Antarctica') AND name NOT LIKE '%Ocean%' AND name NOT LIKE '%Sea%')\n",
        "AND name NOT IN ('World','European Union', 'Antarctica') AND name NOT LIKE '%Ocean%' AND name NOT LIKE '%Sea%';\n"
      ],
      "metadata": {
        "colab": {
          "base_uri": "https://localhost:8080/",
          "height": 399
        },
        "id": "t8YMAi2XFdRZ",
        "outputId": "138a2ebf-e0b2-4130-9f91-8c2740f090e1"
      },
      "execution_count": 56,
      "outputs": [
        {
          "output_type": "stream",
          "name": "stdout",
          "text": [
            " * sqlite:///factbook.db\n"
          ]
        },
        {
          "output_type": "execute_result",
          "data": {
            "text/plain": [
              "[('Bangladesh', 168957745, 130170),\n",
              " ('Germany', 80854408, 348672),\n",
              " ('Iraq', 37056169, 437367),\n",
              " ('Italy', 61855120, 294140),\n",
              " ('Japan', 126919659, 364485),\n",
              " ('Korea, South', 49115196, 96920),\n",
              " ('Malaysia', 30513848, 328657),\n",
              " ('Morocco', 33322699, 446300),\n",
              " ('Nepal', 31551305, 143351),\n",
              " ('Philippines', 100998376, 298170),\n",
              " ('Poland', 38562189, 304255),\n",
              " ('Spain', 48146134, 498980),\n",
              " ('Thailand', 67976405, 510890),\n",
              " ('Uganda', 37101745, 197100),\n",
              " ('United Kingdom', 64088222, 241930),\n",
              " ('Vietnam', 94348835, 310070)]"
            ],
            "text/html": [
              "<table>\n",
              "    <thead>\n",
              "        <tr>\n",
              "            <th>name</th>\n",
              "            <th>population</th>\n",
              "            <th>area_land</th>\n",
              "        </tr>\n",
              "    </thead>\n",
              "    <tbody>\n",
              "        <tr>\n",
              "            <td>Bangladesh</td>\n",
              "            <td>168957745</td>\n",
              "            <td>130170</td>\n",
              "        </tr>\n",
              "        <tr>\n",
              "            <td>Germany</td>\n",
              "            <td>80854408</td>\n",
              "            <td>348672</td>\n",
              "        </tr>\n",
              "        <tr>\n",
              "            <td>Iraq</td>\n",
              "            <td>37056169</td>\n",
              "            <td>437367</td>\n",
              "        </tr>\n",
              "        <tr>\n",
              "            <td>Italy</td>\n",
              "            <td>61855120</td>\n",
              "            <td>294140</td>\n",
              "        </tr>\n",
              "        <tr>\n",
              "            <td>Japan</td>\n",
              "            <td>126919659</td>\n",
              "            <td>364485</td>\n",
              "        </tr>\n",
              "        <tr>\n",
              "            <td>Korea, South</td>\n",
              "            <td>49115196</td>\n",
              "            <td>96920</td>\n",
              "        </tr>\n",
              "        <tr>\n",
              "            <td>Malaysia</td>\n",
              "            <td>30513848</td>\n",
              "            <td>328657</td>\n",
              "        </tr>\n",
              "        <tr>\n",
              "            <td>Morocco</td>\n",
              "            <td>33322699</td>\n",
              "            <td>446300</td>\n",
              "        </tr>\n",
              "        <tr>\n",
              "            <td>Nepal</td>\n",
              "            <td>31551305</td>\n",
              "            <td>143351</td>\n",
              "        </tr>\n",
              "        <tr>\n",
              "            <td>Philippines</td>\n",
              "            <td>100998376</td>\n",
              "            <td>298170</td>\n",
              "        </tr>\n",
              "        <tr>\n",
              "            <td>Poland</td>\n",
              "            <td>38562189</td>\n",
              "            <td>304255</td>\n",
              "        </tr>\n",
              "        <tr>\n",
              "            <td>Spain</td>\n",
              "            <td>48146134</td>\n",
              "            <td>498980</td>\n",
              "        </tr>\n",
              "        <tr>\n",
              "            <td>Thailand</td>\n",
              "            <td>67976405</td>\n",
              "            <td>510890</td>\n",
              "        </tr>\n",
              "        <tr>\n",
              "            <td>Uganda</td>\n",
              "            <td>37101745</td>\n",
              "            <td>197100</td>\n",
              "        </tr>\n",
              "        <tr>\n",
              "            <td>United Kingdom</td>\n",
              "            <td>64088222</td>\n",
              "            <td>241930</td>\n",
              "        </tr>\n",
              "        <tr>\n",
              "            <td>Vietnam</td>\n",
              "            <td>94348835</td>\n",
              "            <td>310070</td>\n",
              "        </tr>\n",
              "    </tbody>\n",
              "</table>"
            ]
          },
          "metadata": {},
          "execution_count": 56
        }
      ]
    },
    {
      "cell_type": "markdown",
      "source": [
        "Lets write a (quite long) query that returns the name, poulation and area and also a ´category´ column as:\n",
        "\n",
        "* `category` = 'dense' if population is above average and land area is below average\n",
        "* `category` = 'not dense' if population is below average or land area is above average\n",
        "* `category` = 'sweden' if the country is Sweden\n",
        "\n",
        "We'll use this query to create a plot of the relationship between land area and population size."
      ],
      "metadata": {
        "id": "D7yWPCdmd9R_"
      }
    },
    {
      "cell_type": "code",
      "source": [
        "\n",
        "\n",
        "dense_countries = %sql SELECT name, population, area_land, CASE WHEN population > (SELECT AVG(population) FROM facts WHERE name NOT IN ('World','European Union', 'Antarctica') AND name NOT LIKE '%Ocean%' AND name NOT LIKE '%Sea%') AND area_land < (SELECT AVG(area_land) FROM facts WHERE name NOT IN ('World','European Union', 'Antarctica') AND name NOT LIKE '%Ocean%' AND name NOT LIKE '%Sea%') THEN 'dense' WHEN name == 'Sweden' THEN 'sweden' ELSE 'not dense'  END AS category FROM facts WHERE name NOT IN ('World','European Union', 'Antarctica') AND name NOT LIKE '%Ocean%' AND name NOT LIKE '%Sea%';\n",
        "dense_countries = dense_countries.DataFrame()\n",
        "\n",
        "dense_countries[dense_countries['name'].isin(['Sweden', 'Barbados', 'Bangladesh'])]"
      ],
      "metadata": {
        "id": "Hkgdz6_3es_V",
        "colab": {
          "base_uri": "https://localhost:8080/",
          "height": 161
        },
        "outputId": "7e342de1-4025-4cd9-e82c-4a7acef03507"
      },
      "execution_count": 57,
      "outputs": [
        {
          "output_type": "stream",
          "name": "stdout",
          "text": [
            " * sqlite:///factbook.db\n"
          ]
        },
        {
          "output_type": "execute_result",
          "data": {
            "text/plain": [
              "           name   population  area_land   category\n",
              "13   Bangladesh  168957745.0   130170.0      dense\n",
              "14     Barbados     290604.0      430.0  not dense\n",
              "167      Sweden    9801616.0   410335.0     sweden"
            ],
            "text/html": [
              "\n",
              "  <div id=\"df-34708c73-6cc8-48c4-b970-8a58d9364f7a\">\n",
              "    <div class=\"colab-df-container\">\n",
              "      <div>\n",
              "<style scoped>\n",
              "    .dataframe tbody tr th:only-of-type {\n",
              "        vertical-align: middle;\n",
              "    }\n",
              "\n",
              "    .dataframe tbody tr th {\n",
              "        vertical-align: top;\n",
              "    }\n",
              "\n",
              "    .dataframe thead th {\n",
              "        text-align: right;\n",
              "    }\n",
              "</style>\n",
              "<table border=\"1\" class=\"dataframe\">\n",
              "  <thead>\n",
              "    <tr style=\"text-align: right;\">\n",
              "      <th></th>\n",
              "      <th>name</th>\n",
              "      <th>population</th>\n",
              "      <th>area_land</th>\n",
              "      <th>category</th>\n",
              "    </tr>\n",
              "  </thead>\n",
              "  <tbody>\n",
              "    <tr>\n",
              "      <th>13</th>\n",
              "      <td>Bangladesh</td>\n",
              "      <td>168957745.0</td>\n",
              "      <td>130170.0</td>\n",
              "      <td>dense</td>\n",
              "    </tr>\n",
              "    <tr>\n",
              "      <th>14</th>\n",
              "      <td>Barbados</td>\n",
              "      <td>290604.0</td>\n",
              "      <td>430.0</td>\n",
              "      <td>not dense</td>\n",
              "    </tr>\n",
              "    <tr>\n",
              "      <th>167</th>\n",
              "      <td>Sweden</td>\n",
              "      <td>9801616.0</td>\n",
              "      <td>410335.0</td>\n",
              "      <td>sweden</td>\n",
              "    </tr>\n",
              "  </tbody>\n",
              "</table>\n",
              "</div>\n",
              "      <button class=\"colab-df-convert\" onclick=\"convertToInteractive('df-34708c73-6cc8-48c4-b970-8a58d9364f7a')\"\n",
              "              title=\"Convert this dataframe to an interactive table.\"\n",
              "              style=\"display:none;\">\n",
              "        \n",
              "  <svg xmlns=\"http://www.w3.org/2000/svg\" height=\"24px\"viewBox=\"0 0 24 24\"\n",
              "       width=\"24px\">\n",
              "    <path d=\"M0 0h24v24H0V0z\" fill=\"none\"/>\n",
              "    <path d=\"M18.56 5.44l.94 2.06.94-2.06 2.06-.94-2.06-.94-.94-2.06-.94 2.06-2.06.94zm-11 1L8.5 8.5l.94-2.06 2.06-.94-2.06-.94L8.5 2.5l-.94 2.06-2.06.94zm10 10l.94 2.06.94-2.06 2.06-.94-2.06-.94-.94-2.06-.94 2.06-2.06.94z\"/><path d=\"M17.41 7.96l-1.37-1.37c-.4-.4-.92-.59-1.43-.59-.52 0-1.04.2-1.43.59L10.3 9.45l-7.72 7.72c-.78.78-.78 2.05 0 2.83L4 21.41c.39.39.9.59 1.41.59.51 0 1.02-.2 1.41-.59l7.78-7.78 2.81-2.81c.8-.78.8-2.07 0-2.86zM5.41 20L4 18.59l7.72-7.72 1.47 1.35L5.41 20z\"/>\n",
              "  </svg>\n",
              "      </button>\n",
              "      \n",
              "  <style>\n",
              "    .colab-df-container {\n",
              "      display:flex;\n",
              "      flex-wrap:wrap;\n",
              "      gap: 12px;\n",
              "    }\n",
              "\n",
              "    .colab-df-convert {\n",
              "      background-color: #E8F0FE;\n",
              "      border: none;\n",
              "      border-radius: 50%;\n",
              "      cursor: pointer;\n",
              "      display: none;\n",
              "      fill: #1967D2;\n",
              "      height: 32px;\n",
              "      padding: 0 0 0 0;\n",
              "      width: 32px;\n",
              "    }\n",
              "\n",
              "    .colab-df-convert:hover {\n",
              "      background-color: #E2EBFA;\n",
              "      box-shadow: 0px 1px 2px rgba(60, 64, 67, 0.3), 0px 1px 3px 1px rgba(60, 64, 67, 0.15);\n",
              "      fill: #174EA6;\n",
              "    }\n",
              "\n",
              "    [theme=dark] .colab-df-convert {\n",
              "      background-color: #3B4455;\n",
              "      fill: #D2E3FC;\n",
              "    }\n",
              "\n",
              "    [theme=dark] .colab-df-convert:hover {\n",
              "      background-color: #434B5C;\n",
              "      box-shadow: 0px 1px 3px 1px rgba(0, 0, 0, 0.15);\n",
              "      filter: drop-shadow(0px 1px 2px rgba(0, 0, 0, 0.3));\n",
              "      fill: #FFFFFF;\n",
              "    }\n",
              "  </style>\n",
              "\n",
              "      <script>\n",
              "        const buttonEl =\n",
              "          document.querySelector('#df-34708c73-6cc8-48c4-b970-8a58d9364f7a button.colab-df-convert');\n",
              "        buttonEl.style.display =\n",
              "          google.colab.kernel.accessAllowed ? 'block' : 'none';\n",
              "\n",
              "        async function convertToInteractive(key) {\n",
              "          const element = document.querySelector('#df-34708c73-6cc8-48c4-b970-8a58d9364f7a');\n",
              "          const dataTable =\n",
              "            await google.colab.kernel.invokeFunction('convertToInteractive',\n",
              "                                                     [key], {});\n",
              "          if (!dataTable) return;\n",
              "\n",
              "          const docLinkHtml = 'Like what you see? Visit the ' +\n",
              "            '<a target=\"_blank\" href=https://colab.research.google.com/notebooks/data_table.ipynb>data table notebook</a>'\n",
              "            + ' to learn more about interactive tables.';\n",
              "          element.innerHTML = '';\n",
              "          dataTable['output_type'] = 'display_data';\n",
              "          await google.colab.output.renderOutput(dataTable, element);\n",
              "          const docLink = document.createElement('div');\n",
              "          docLink.innerHTML = docLinkHtml;\n",
              "          element.appendChild(docLink);\n",
              "        }\n",
              "      </script>\n",
              "    </div>\n",
              "  </div>\n",
              "  "
            ]
          },
          "metadata": {},
          "execution_count": 57
        }
      ]
    },
    {
      "cell_type": "markdown",
      "source": [
        "We can then use the `plotnine` package to create a nice looking plot of the relationship between population and land area. We'll highlight Sweden and dense/not dense countries by color.\n",
        "\n",
        "We'll use log10 scales since there are some countries (for example China and India) that has very large areas and very large poplations compared to the rest."
      ],
      "metadata": {
        "id": "Pmxjacmh6lYr"
      }
    },
    {
      "cell_type": "code",
      "source": [
        "(\n",
        "gg.ggplot(dense_countries, gg.aes(x='area_land', y='population'))\n",
        "+gg.geom_smooth(method='lm', se=False, linetype='dashed', size=0.5)\n",
        "+gg.geom_point(gg.aes(color='category'))\n",
        "+gg.scales.scale_y_log10()\n",
        "+gg.scales.scale_color_manual(['#66c2a5','#fc8d62','#8da0cb'])\n",
        "+gg.scales.scale_x_log10()\n",
        "+gg.labs(x='Area\\n\\n(log10 scale)', y='Population\\n\\n(log10 scale)', color='')\n",
        "+gg.themes.theme_538()\n",
        ")"
      ],
      "metadata": {
        "colab": {
          "base_uri": "https://localhost:8080/",
          "height": 562
        },
        "id": "fNv9ZkSGHDcJ",
        "outputId": "4c62b565-6024-4efb-a64c-c971ddeabcdb"
      },
      "execution_count": 58,
      "outputs": [
        {
          "output_type": "stream",
          "name": "stderr",
          "text": [
            "/usr/local/lib/python3.7/dist-packages/pandas/core/arraylike.py:364: RuntimeWarning: divide by zero encountered in log10\n",
            "  result = getattr(ufunc, method)(*inputs, **kwargs)\n",
            "/usr/local/lib/python3.7/dist-packages/plotnine/layer.py:452: PlotnineWarning: geom_point : Removed 18 rows containing missing values.\n",
            "  self.data = self.geom.handle_na(self.data)\n"
          ]
        },
        {
          "output_type": "display_data",
          "data": {
            "text/plain": [
              "<Figure size 640x480 with 1 Axes>"
            ],
            "image/png": "[encoded data removed]"
          },
          "metadata": {}
        },
        {
          "output_type": "execute_result",
          "data": {
            "text/plain": [
              "<ggplot: (8784374021077)>"
            ]
          },
          "metadata": {},
          "execution_count": 58
        }
      ]
    },
    {
      "cell_type": "markdown",
      "source": [
        "The plot shows that Sweden is not a densely populated country. But has about the same land area as those countries that we've flagged as densely populated."
      ],
      "metadata": {
        "id": "b4lh17oC6ynO"
      }
    },
    {
      "cell_type": "markdown",
      "source": [
        "# Countries with the largest populations"
      ],
      "metadata": {
        "id": "ExIGE8qJ7fO-"
      }
    },
    {
      "cell_type": "markdown",
      "source": [
        "Lets create a plot with the 10 countries with the largest populations and also Sweden for comparison."
      ],
      "metadata": {
        "id": "0y-Yo6F8PcKf"
      }
    },
    {
      "cell_type": "code",
      "source": [
        "world = %sql SELECT name, population/1000000 AS population_millions, 'Rest of the World' AS issweden FROM facts WHERE name !='World' AND name !='European Union' ORDER BY population DESC LIMIT 10;\n",
        "sweden = %sql SELECT name, population/1000000 AS population_millions, 'Sweden' AS issweden FROM facts WHERE name == 'Sweden'\n",
        "\n",
        "pop_df = pd.concat([world.DataFrame(), sweden.DataFrame()])"
      ],
      "metadata": {
        "colab": {
          "base_uri": "https://localhost:8080/"
        },
        "id": "Xi9PP_b_Z-zV",
        "outputId": "5ef2eee7-f5b5-446b-eb20-de57ecdeba9e"
      },
      "execution_count": 59,
      "outputs": [
        {
          "output_type": "stream",
          "name": "stdout",
          "text": [
            " * sqlite:///factbook.db\n",
            " * sqlite:///factbook.db\n"
          ]
        }
      ]
    },
    {
      "cell_type": "code",
      "source": [
        "categories = pop_df.sort_values('population_millions')['name']\n",
        "pop_df['name'] = pd.Categorical(pop_df['name'],  categories=categories, ordered=True)\n",
        "\n",
        "\n",
        "(\n",
        "gg.ggplot(pop_df)\n",
        "+gg.aes(x='name', y='population_millions', fill='issweden')\n",
        "+gg.geom_col()\n",
        "+gg.coord_flip()\n",
        "+gg.themes.theme_538()\n",
        "+gg.scale_fill_manual(values=['#fb6a4a', 'black'], guide=False)\n",
        "+gg.labs(x=\"Country\", y=\"Population (millions)\", title=\"10 countries with the largest population\\n(and Sweden)\", fill='')\n",
        ")\n",
        "\n"
      ],
      "metadata": {
        "colab": {
          "base_uri": "https://localhost:8080/",
          "height": 542
        },
        "id": "Vkrl-VFDP0pK",
        "outputId": "9931f42f-930c-4b03-cae9-6b5de3633ff9"
      },
      "execution_count": 60,
      "outputs": [
        {
          "output_type": "stream",
          "name": "stderr",
          "text": [
            "/usr/local/lib/python3.7/dist-packages/plotnine/utils.py:1246: FutureWarning: is_categorical is deprecated and will be removed in a future version.  Use is_categorical_dtype instead\n",
            "  if pdtypes.is_categorical(arr):\n"
          ]
        },
        {
          "output_type": "display_data",
          "data": {
            "text/plain": [
              "<Figure size 640x480 with 1 Axes>"
            ],
            "image/png": "[encoded data removed]"
          },
          "metadata": {}
        },
        {
          "output_type": "execute_result",
          "data": {
            "text/plain": [
              "<ggplot: (8784373907089)>"
            ]
          },
          "metadata": {},
          "execution_count": 60
        }
      ]
    },
    {
      "cell_type": "markdown",
      "source": [
        "The plot shows that populations of China and India is by **far** the largest populations on earth. And the size of Swedens populations is minuscule in comparison.\n",
        "\n",
        "\n"
      ],
      "metadata": {
        "id": "RWbMf7OHZU7P"
      }
    },
    {
      "cell_type": "markdown",
      "source": [
        "# Population growth"
      ],
      "metadata": {
        "id": "AbuAERUr-Izu"
      }
    },
    {
      "cell_type": "markdown",
      "source": [
        "\n",
        "\n",
        "*   Which countries have the highest population growth rates?\n",
        "\n"
      ],
      "metadata": {
        "id": "WCI6cM_4-IVZ"
      }
    },
    {
      "cell_type": "code",
      "source": [
        "%%sql SELECT name, population_growth\n",
        "FROM facts\n",
        "ORDER BY population_growth DESC\n",
        "LIMIT 10;"
      ],
      "metadata": {
        "id": "sSUUf9lsZTZj",
        "colab": {
          "base_uri": "https://localhost:8080/",
          "height": 271
        },
        "outputId": "03e5fa50-d433-4379-a806-a275adaa7101"
      },
      "execution_count": 61,
      "outputs": [
        {
          "output_type": "stream",
          "name": "stdout",
          "text": [
            " * sqlite:///factbook.db\n"
          ]
        },
        {
          "output_type": "execute_result",
          "data": {
            "text/plain": [
              "[('South Sudan', 4.02),\n",
              " ('Malawi', 3.32),\n",
              " ('Burundi', 3.28),\n",
              " ('Niger', 3.25),\n",
              " ('Uganda', 3.24),\n",
              " ('Qatar', 3.07),\n",
              " ('Burkina Faso', 3.03),\n",
              " ('Mali', 2.98),\n",
              " ('Cook Islands', 2.95),\n",
              " ('Iraq', 2.93)]"
            ],
            "text/html": [
              "<table>\n",
              "    <thead>\n",
              "        <tr>\n",
              "            <th>name</th>\n",
              "            <th>population_growth</th>\n",
              "        </tr>\n",
              "    </thead>\n",
              "    <tbody>\n",
              "        <tr>\n",
              "            <td>South Sudan</td>\n",
              "            <td>4.02</td>\n",
              "        </tr>\n",
              "        <tr>\n",
              "            <td>Malawi</td>\n",
              "            <td>3.32</td>\n",
              "        </tr>\n",
              "        <tr>\n",
              "            <td>Burundi</td>\n",
              "            <td>3.28</td>\n",
              "        </tr>\n",
              "        <tr>\n",
              "            <td>Niger</td>\n",
              "            <td>3.25</td>\n",
              "        </tr>\n",
              "        <tr>\n",
              "            <td>Uganda</td>\n",
              "            <td>3.24</td>\n",
              "        </tr>\n",
              "        <tr>\n",
              "            <td>Qatar</td>\n",
              "            <td>3.07</td>\n",
              "        </tr>\n",
              "        <tr>\n",
              "            <td>Burkina Faso</td>\n",
              "            <td>3.03</td>\n",
              "        </tr>\n",
              "        <tr>\n",
              "            <td>Mali</td>\n",
              "            <td>2.98</td>\n",
              "        </tr>\n",
              "        <tr>\n",
              "            <td>Cook Islands</td>\n",
              "            <td>2.95</td>\n",
              "        </tr>\n",
              "        <tr>\n",
              "            <td>Iraq</td>\n",
              "            <td>2.93</td>\n",
              "        </tr>\n",
              "    </tbody>\n",
              "</table>"
            ]
          },
          "metadata": {},
          "execution_count": 61
        }
      ]
    },
    {
      "cell_type": "markdown",
      "source": [
        "* Which countries have the lowest population growth rates?\n",
        "\n"
      ],
      "metadata": {
        "id": "s-fG6778wZQM"
      }
    },
    {
      "cell_type": "code",
      "source": [
        "%%sql SELECT name, population_growth\n",
        "FROM facts\n",
        "WHERE population_growth IS NOT null\n",
        "ORDER BY population_growth \n",
        "LIMIT 10;"
      ],
      "metadata": {
        "colab": {
          "base_uri": "https://localhost:8080/",
          "height": 271
        },
        "id": "IzrLar30wQV_",
        "outputId": "f963950a-2288-4f3b-fdcb-5630dcfbc629"
      },
      "execution_count": 62,
      "outputs": [
        {
          "output_type": "stream",
          "name": "stdout",
          "text": [
            " * sqlite:///factbook.db\n"
          ]
        },
        {
          "output_type": "execute_result",
          "data": {
            "text/plain": [
              "[('Holy See (Vatican City)', 0.0),\n",
              " ('Cocos (Keeling) Islands', 0.0),\n",
              " ('Greenland', 0.0),\n",
              " ('Pitcairn Islands', 0.0),\n",
              " ('Greece', 0.01),\n",
              " ('Norfolk Island', 0.01),\n",
              " ('Tokelau', 0.01),\n",
              " ('Falkland Islands (Islas Malvinas)', 0.01),\n",
              " ('Guyana', 0.02),\n",
              " ('Slovakia', 0.02)]"
            ],
            "text/html": [
              "<table>\n",
              "    <thead>\n",
              "        <tr>\n",
              "            <th>name</th>\n",
              "            <th>population_growth</th>\n",
              "        </tr>\n",
              "    </thead>\n",
              "    <tbody>\n",
              "        <tr>\n",
              "            <td>Holy See (Vatican City)</td>\n",
              "            <td>0.0</td>\n",
              "        </tr>\n",
              "        <tr>\n",
              "            <td>Cocos (Keeling) Islands</td>\n",
              "            <td>0.0</td>\n",
              "        </tr>\n",
              "        <tr>\n",
              "            <td>Greenland</td>\n",
              "            <td>0.0</td>\n",
              "        </tr>\n",
              "        <tr>\n",
              "            <td>Pitcairn Islands</td>\n",
              "            <td>0.0</td>\n",
              "        </tr>\n",
              "        <tr>\n",
              "            <td>Greece</td>\n",
              "            <td>0.01</td>\n",
              "        </tr>\n",
              "        <tr>\n",
              "            <td>Norfolk Island</td>\n",
              "            <td>0.01</td>\n",
              "        </tr>\n",
              "        <tr>\n",
              "            <td>Tokelau</td>\n",
              "            <td>0.01</td>\n",
              "        </tr>\n",
              "        <tr>\n",
              "            <td>Falkland Islands (Islas Malvinas)</td>\n",
              "            <td>0.01</td>\n",
              "        </tr>\n",
              "        <tr>\n",
              "            <td>Guyana</td>\n",
              "            <td>0.02</td>\n",
              "        </tr>\n",
              "        <tr>\n",
              "            <td>Slovakia</td>\n",
              "            <td>0.02</td>\n",
              "        </tr>\n",
              "    </tbody>\n",
              "</table>"
            ]
          },
          "metadata": {},
          "execution_count": 62
        }
      ]
    },
    {
      "cell_type": "markdown",
      "source": [
        "Let's see if there is a relationship between population size and population growth."
      ],
      "metadata": {
        "id": "OHtn7opy0r3O"
      }
    },
    {
      "cell_type": "code",
      "source": [
        "pop_growth = %sql SELECT name, population_growth, population, CASE WHEN name=='Sweden' THEN 'Sweden' ELSE 'Rest of the World'  END AS issweden FROM facts WHERE population_growth IS NOT null;"
      ],
      "metadata": {
        "id": "AotFeDJywoGC",
        "colab": {
          "base_uri": "https://localhost:8080/"
        },
        "outputId": "095bffc1-af68-4aa1-e7c2-5ad54792bd58"
      },
      "execution_count": 63,
      "outputs": [
        {
          "output_type": "stream",
          "name": "stdout",
          "text": [
            " * sqlite:///factbook.db\n"
          ]
        }
      ]
    },
    {
      "cell_type": "code",
      "source": [
        "(\n",
        "gg.ggplot(pop_growth.DataFrame(), gg.aes(x='population', y='population_growth'))\n",
        "+gg.geom_smooth(method='lm', se=False, linetype='dashed', size=0.5)\n",
        "+gg.geom_point(gg.aes(color='issweden'))\n",
        "+gg.scale_color_manual(values=['#fb6a4a', 'black'])\n",
        "+gg.scales.scale_x_log10()\n",
        "+gg.labs(x='Population size\\n\\n(log10 scale)', y='Population growth\\n\\n(percent)', title=\"Relationship between population size and population growth\", color='')\n",
        "+gg.themes.theme_538()\n",
        ")"
      ],
      "metadata": {
        "colab": {
          "base_uri": "https://localhost:8080/",
          "height": 518
        },
        "id": "5n-3vSqJ_fyo",
        "outputId": "19e74f9b-769b-40c5-e1cd-d25c90bccbd8"
      },
      "execution_count": 64,
      "outputs": [
        {
          "output_type": "display_data",
          "data": {
            "text/plain": [
              "<Figure size 640x480 with 1 Axes>"
            ],
            "image/png": "[encoded data removed]"
          },
          "metadata": {}
        },
        {
          "output_type": "execute_result",
          "data": {
            "text/plain": [
              "<ggplot: (8784374199129)>"
            ]
          },
          "metadata": {},
          "execution_count": 64
        }
      ]
    },
    {
      "cell_type": "markdown",
      "source": [
        "The plot suggest that **maybe*' countries with larger populations grow at higher growth rates an vice versa. But it's not a perfect relationship.\n",
        "\n"
      ],
      "metadata": {
        "id": "Fyzf3mnVzEKb"
      }
    },
    {
      "cell_type": "markdown",
      "source": [
        "# Relationship between population growth"
      ],
      "metadata": {
        "id": "j2xZq2ME-uNM"
      }
    },
    {
      "cell_type": "markdown",
      "source": [
        "Ok. For a final plot lets try to visualize many relationships at once by using the following aesthetics:\n",
        "\n",
        "* `x` = birth rate (percent)\n",
        "* `y` = death rate (percent)\n",
        "* `size` = poulation (millions)\n",
        "* `color` = population growth (percent)\n",
        "\n",
        "\n",
        "\n",
        "\n"
      ],
      "metadata": {
        "id": "sY0LceMT_7XW"
      }
    },
    {
      "cell_type": "code",
      "source": [
        "birth_death_rates = %sql SELECT name, birth_rate, death_rate, population/1000000 AS population_millions, population_growth,  CASE WHEN name=='Sweden' THEN 'Sweden' ELSE 'Rest of the World'  END AS issweden FROM facts WHERE population_growth IS NOT null;\n",
        "\n"
      ],
      "metadata": {
        "colab": {
          "base_uri": "https://localhost:8080/"
        },
        "id": "RKpLL2pbzE_B",
        "outputId": "1f089231-626c-4c90-cae8-d6f23f5ebcc2"
      },
      "execution_count": 65,
      "outputs": [
        {
          "output_type": "stream",
          "name": "stdout",
          "text": [
            " * sqlite:///factbook.db\n"
          ]
        }
      ]
    },
    {
      "cell_type": "code",
      "source": [
        "(\n",
        "gg.ggplot(birth_death_rates.DataFrame(), gg.aes(x='birth_rate', y='death_rate', size='population_millions', color='population_growth'))\n",
        "+gg.geom_smooth(linetype='dashed', size=0.5)\n",
        "+gg.geom_point()\n",
        "+gg.scales.scale_color_gradient(low='#fee0d2', high='#a50f15')\n",
        "+gg.labs(x='Birth rate\\n(percent)', y='Death rate\\n(percent)', title=\"Relationship between birth rate, death rate, pop. size and pop. growth\", color='Pop. growth (%)', size='Pop. size (mill.)')\n",
        "+gg.themes.theme_538()\n",
        ")"
      ],
      "metadata": {
        "colab": {
          "base_uri": "https://localhost:8080/",
          "height": 574
        },
        "id": "jfuDR9HjzRuC",
        "outputId": "198d027a-0fe3-4818-954e-03f12491d26b"
      },
      "execution_count": 66,
      "outputs": [
        {
          "output_type": "stream",
          "name": "stderr",
          "text": [
            "/usr/local/lib/python3.7/dist-packages/plotnine/stats/smoothers.py:168: PlotnineWarning: Confidence intervals are not yet implementedfor lowess smoothings.\n",
            "  \"for lowess smoothings.\", PlotnineWarning)\n",
            "/usr/local/lib/python3.7/dist-packages/plotnine/layer.py:452: PlotnineWarning: geom_point : Removed 8 rows containing missing values.\n",
            "  self.data = self.geom.handle_na(self.data)\n"
          ]
        },
        {
          "output_type": "display_data",
          "data": {
            "text/plain": [
              "<Figure size 640x480 with 1 Axes>"
            ],
            "image/png": "[encoded data removed]"
          },
          "metadata": {}
        },
        {
          "output_type": "execute_result",
          "data": {
            "text/plain": [
              "<ggplot: (8784375862373)>"
            ]
          },
          "metadata": {},
          "execution_count": 66
        }
      ]
    },
    {
      "cell_type": "markdown",
      "source": [
        "From the plot one can draw the following two conclusions:\n",
        "\n",
        "* There are three broad categories of countries:\n",
        "  * Countries with **high** death rates and **low** birth rates\n",
        "  * Countries with **average** death rates and **average** birth rates\n",
        "  * Countries with **high** death rates and **high** birth rates\n",
        "\n",
        "* The factor that seems most determinant on pop. growth is birth rates (higher birthrates = darker color).\n",
        "\n",
        "<br><br>\n",
        "\n",
        "That's all for this little project. Feel free to reach out!"
      ],
      "metadata": {
        "id": "9vxjot9k5I4U"
      }
    },
    {
      "cell_type": "markdown",
      "source": [
        "# Contact details\n",
        "\n",
        "![bild](https://avatars.githubusercontent.com/u/99097833?v=4)\n",
        "\n",
        "Feel free to reach out:\n",
        "\n",
        "* Twitter: [@vaxjo_kalle](https://twitter.com/vaxjo_kalle) \n",
        "* LinkedIn: [My profile](https://www.linkedin.com/in/karlkarlssonvaxjo/)\n",
        "* E-mail: [karl_karlsson@icloud.com](mailto:karl_karlsson@icloud.com)\n",
        "* GitHub: [github.com/karl-karlsson](https://github.com/karl-karlsson)"
      ],
      "metadata": {
        "id": "2BOuhHQ-_H_l"
      }
    }
  ]
}