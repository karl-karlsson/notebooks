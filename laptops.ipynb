{
  "nbformat": 4,
  "nbformat_minor": 0,
  "metadata": {
    "colab": {
      "name": "laptops.ipynb",
      "provenance": [],
      "toc_visible": true,
      "authorship_tag": "ABX9TyO14xKfP4JeHRv2ltzx27g3",
      "include_colab_link": true
    },
    "kernelspec": {
      "name": "python3",
      "display_name": "Python 3"
    },
    "language_info": {
      "name": "python"
    }
  },
  "cells": [
    {
      "cell_type": "markdown",
      "metadata": {
        "id": "view-in-github",
        "colab_type": "text"
      },
      "source": [
        "<a href=\"https://colab.research.google.com/github/karl-karlsson/notebooks/blob/main/laptops.ipynb\" target=\"_parent\"><img src=\"https://colab.research.google.com/assets/colab-badge.svg\" alt=\"Open In Colab\"/></a>"
      ]
    },
    {
      "cell_type": "markdown",
      "source": [
        "You can open a copy of this notebook in Google Colab by clicking the icon above\n",
        "\n",
        "-----\n",
        "\n",
        "![laptop](https://freesvg.org/img/1520464168.png)\n",
        "\n",
        "# Querying inventory using Pyhon\n",
        "\n",
        "This was originally a guided project from Dataquest ([link](https://www.dataquest.io/)) although I've made some tweaks to it.\n",
        "\n",
        "I've downloaded a dataset on laptops to my GitHub respository from Kaggle ([info about dataset](https://www.kaggle.com/datasets/ionaskel/laptop-prices)).\n",
        "\n",
        "Since this orignally is a *guided* project I don't want to take full credit for the solutions or the framing of the project even though I've made some modifications and implemented some own functionalities. This project have been primarily for my own learning experience and a bit of fun.\n",
        "\n",
        "# Scenario\n",
        "Let's imagine that we own a computer retailer that sells laptops and we want to build a way to answer different business questions about our inventory. The `laptops.csv` file is our inventory and is stored online.\n",
        "\n",
        "The goal of the project is to create a new class to represent our inventory. When a new object (of type `Inventory` is initiated) it will automatically load the .csv file from the web (using the url supplied as input). \n",
        "\n",
        "I'll also define methods that belongs to the new class. These methods will help us answer questions such as:\n",
        "\n",
        "* Given a laptop id, find the corresponding data.\n",
        "* Get total number of laptops in stocks\n",
        "* Find the cheapest and the most expensive laptops\n",
        "* Find the most expensive laptops whose price falls within a given budget.\n",
        "\n",
        "In the first step I'll:\n",
        "* Download the file from GitHub using the `requests` package\n",
        "* Read in the file using the `csv` package \n",
        "* Print out the column names and the first five rows \n",
        "\n"
      ],
      "metadata": {
        "id": "4ko7EXdRwaqM"
      }
    },
    {
      "cell_type": "code",
      "source": [
        "import csv\n",
        "import requests\n",
        "\n",
        "url = \"https://raw.githubusercontent.com/karl-karlsson/data/main/laptops.csv\"\n",
        "\n",
        "\n",
        "with requests.Session() as s:\n",
        "    download = s.get(url)\n",
        "\n",
        "    decoded_content = download.content.decode('latin-1')\n",
        "\n",
        "    csv_read_file = csv.reader(decoded_content.replace('\"','').splitlines()) \n",
        "    a_list = list(csv_read_file)\n",
        "\n",
        "print(\"Column names\")\n",
        "print(a_list[0])\n",
        "print(\"\\n\")\n",
        "print(\"Inventory\")\n",
        "for row in range(1,6):\n",
        "  print(a_list[row])\n"
      ],
      "metadata": {
        "colab": {
          "base_uri": "https://localhost:8080/"
        },
        "id": "HuxLpqPIvSuK",
        "outputId": "6630fee8-7906-4872-ad9d-7ed237e2df69"
      },
      "execution_count": 4,
      "outputs": [
        {
          "output_type": "stream",
          "name": "stdout",
          "text": [
            "Column names\n",
            "['Id', 'Company', 'Product', 'TypeName', 'Inches', 'ScreenResolution', 'Cpu', 'Ram', 'Memory', 'Gpu', 'OpSys', 'Weight', 'Price_euros']\n",
            "\n",
            "\n",
            "Inventory\n",
            "['1', 'Apple', 'MacBook Pro', 'Ultrabook', '13.3', 'IPS Panel Retina Display 2560x1600', 'Intel Core i5 2.3GHz', '8GB', '128GB SSD', 'Intel Iris Plus Graphics 640', 'macOS', '1.37kg', '1339.69']\n",
            "['2', 'Apple', 'Macbook Air', 'Ultrabook', '13.3', '1440x900', 'Intel Core i5 1.8GHz', '8GB', '128GB Flash Storage', 'Intel HD Graphics 6000', 'macOS', '1.34kg', '898.94']\n",
            "['3', 'HP', '250 G6', 'Notebook', '15.6', 'Full HD 1920x1080', 'Intel Core i5 7200U 2.5GHz', '8GB', '256GB SSD', 'Intel HD Graphics 620', 'No OS', '1.86kg', '575.00']\n",
            "['4', 'Apple', 'MacBook Pro', 'Ultrabook', '15.4', 'IPS Panel Retina Display 2880x1800', 'Intel Core i7 2.7GHz', '16GB', '512GB SSD', 'AMD Radeon Pro 455', 'macOS', '1.83kg', '2537.45']\n",
            "['5', 'Apple', 'MacBook Pro', 'Ultrabook', '13.3', 'IPS Panel Retina Display 2560x1600', 'Intel Core i5 3.1GHz', '8GB', '256GB SSD', 'Intel Iris Plus Graphics 650', 'macOS', '1.37kg', '1803.60']\n"
          ]
        }
      ]
    },
    {
      "cell_type": "markdown",
      "source": [
        "I'll start by doing the following:\n",
        "\n",
        "* Create a new `Inventory` class that takes the url as input and reads in the .csv file\n",
        "* Define three methods:\n",
        "  * `attributes` that prints out the column names\n",
        "  * `stock` that returns the current number of laptops (all rows exept column names) in stock\n",
        "  * `data` that returns all rows, except the column names\n",
        "\n",
        "I will build out the `Inventory` class with more methods for more advanced operations further down"
      ],
      "metadata": {
        "id": "F70jjstBm495"
      }
    },
    {
      "cell_type": "code",
      "source": [
        "class Inventory():                    \n",
        "    \n",
        "    def __init__(self, url): \n",
        "      with requests.Session() as s:\n",
        "          download = s.get(url)\n",
        "\n",
        "          decoded_content = download.content.decode('latin-1')\n",
        "\n",
        "          csv_read_file = csv.reader(decoded_content.splitlines(), delimiter=',')\n",
        "          data = list(csv_read_file)\n",
        "\n",
        "          self.attributes = data[:1]\n",
        "          self.data = data[1:]\n",
        "          self.stock = len(data[1:])\n",
        "                  \n"
      ],
      "metadata": {
        "id": "Aeu7cx8PV21l"
      },
      "execution_count": 21,
      "outputs": []
    },
    {
      "cell_type": "markdown",
      "source": [
        "Let's create a new `Inventory` instance named `laptops` from the url used before.\n",
        "\n",
        "Let´s print out the attributes of laptops by calling the `laptops.attributes` method on `laptops`\n"
      ],
      "metadata": {
        "id": "1_ddjBmEtB5Z"
      }
    },
    {
      "cell_type": "code",
      "source": [
        "laptops_url = 'https://raw.githubusercontent.com/karl-karlsson/data/main/laptops.csv' \n",
        "\n",
        "laptops = Inventory(laptops_url)  \n",
        "\n",
        "print(laptops.attributes)"
      ],
      "metadata": {
        "colab": {
          "base_uri": "https://localhost:8080/"
        },
        "id": "AKv-lo0NdYxb",
        "outputId": "01e3e492-e07f-4bf3-ab95-cbeb5f7ec8cb"
      },
      "execution_count": 22,
      "outputs": [
        {
          "output_type": "stream",
          "name": "stdout",
          "text": [
            "[['Id', 'Company', 'Product', 'TypeName', 'Inches', 'ScreenResolution', 'Cpu', 'Ram', 'Memory', 'Gpu', 'OpSys', 'Weight', 'Price_euros']]\n"
          ]
        }
      ]
    },
    {
      "cell_type": "markdown",
      "source": [
        "We can check how many laptops are currently in stock by calling the `stock` method on `laptops`"
      ],
      "metadata": {
        "id": "64s-3N30ujcx"
      }
    },
    {
      "cell_type": "code",
      "source": [
        "print(\"Current stock:\", \n",
        "      laptops.stock, \n",
        "      \"laptops\")"
      ],
      "metadata": {
        "colab": {
          "base_uri": "https://localhost:8080/"
        },
        "id": "wz9CmN-SdcpP",
        "outputId": "1153ff5c-ccaa-4628-bc59-27fed021ddea"
      },
      "execution_count": 23,
      "outputs": [
        {
          "output_type": "stream",
          "name": "stdout",
          "text": [
            "Current stock: 1303 laptops\n"
          ]
        }
      ]
    },
    {
      "cell_type": "markdown",
      "source": [
        "Actually, the above code is a bit tidious to write if you want to query the current stock multiple times. It's perhaps better to define a new method (`get_stock()`) outside of the `__init__` constructor. \n",
        "\n",
        "I also want to define a new method (`get_id`) that takes an id as input and returns the corresponding laptop. This could be convenient if a customer customer comes to our store with a purchase slip because then we can quickly identify the laptop to which it corresponds."
      ],
      "metadata": {
        "id": "fwOmu0QVyaah"
      }
    },
    {
      "cell_type": "code",
      "source": [
        "class Inventory():                    \n",
        "    \n",
        "    def __init__(self, url): \n",
        "      with requests.Session() as s:\n",
        "          download = s.get(url)\n",
        "\n",
        "          decoded_content = download.content.decode('latin-1')\n",
        "\n",
        "          csv_read_file = csv.reader(decoded_content.replace('\"','').splitlines()) \n",
        "          data = list(csv_read_file)\n",
        "          self.attributes = data[:1]\n",
        "          self.data = data[1:]\n",
        "          for row in self.data:\n",
        "            row[0] = int(row[0]) # Convert ID to integer\n",
        "          for row in self.data:              \n",
        "            row[-1] = int(float(row[-1])) # Convert price_euros to integer\n",
        "          self.stock = len(data[1:])\n",
        "\n",
        "    # NEW! get_stock() method\n",
        "    def get_stock(self) :\n",
        "      print(\"Current stock is: \", self.stock, \" laptops\")\n",
        "\n",
        "    # NEW! get_id() method\n",
        "    def get_id(self, laptop_id):  \n",
        "        for row in self.data:                  \n",
        "            if row[0] == laptop_id:\n",
        "                return row\n",
        "        print(\"No laptop with Id = \", laptop_id)                           "
      ],
      "metadata": {
        "id": "9LauMNgHydvV"
      },
      "execution_count": 33,
      "outputs": []
    },
    {
      "cell_type": "markdown",
      "source": [
        "Let's see if we can load the inventory data (as an `Inventory` object) and use the new `get_stock` method."
      ],
      "metadata": {
        "id": "zf6Z_-fYIJ6w"
      }
    },
    {
      "cell_type": "code",
      "source": [
        "# Reload the data\n",
        "laptops = Inventory(laptops_url)\n",
        "\n",
        "laptops.get_stock()"
      ],
      "metadata": {
        "colab": {
          "base_uri": "https://localhost:8080/"
        },
        "id": "wwuS4IP1lBVE",
        "outputId": "8f450941-dcf1-4e8e-cce8-c2659e19a961"
      },
      "execution_count": 34,
      "outputs": [
        {
          "output_type": "stream",
          "name": "stdout",
          "text": [
            "Current stock is:  1303  laptops\n"
          ]
        }
      ]
    },
    {
      "cell_type": "markdown",
      "source": [
        "Works like a charm! Let's see if we can make queries about laptops with Id:s 25 (exists), 215 (exists) and 2043 (doesn't exist)"
      ],
      "metadata": {
        "id": "7fFWnSQglPPD"
      }
    },
    {
      "cell_type": "code",
      "source": [
        "# Reload the data\n",
        "laptops = Inventory(laptops_url)\n",
        "\n",
        "# Get laptop with ID = 25 ?\n",
        "laptops.get_id(25)"
      ],
      "metadata": {
        "colab": {
          "base_uri": "https://localhost:8080/"
        },
        "id": "ZPy0mtaIzKJW",
        "outputId": "7796e067-a854-449d-a4fc-48658600d8c5"
      },
      "execution_count": 31,
      "outputs": [
        {
          "output_type": "execute_result",
          "data": {
            "text/plain": [
              "[25,\n",
              " 'HP',\n",
              " '15-BS101nv (i7-8550U/8GB/256GB/FHD/W10)',\n",
              " 'Ultrabook',\n",
              " '15.6',\n",
              " 'Full HD 1920x1080',\n",
              " 'Intel Core i7 8550U 1.8GHz',\n",
              " '8GB',\n",
              " '256GB SSD',\n",
              " 'Intel HD Graphics 620',\n",
              " 'Windows 10',\n",
              " '1.91kg',\n",
              " 659]"
            ]
          },
          "metadata": {},
          "execution_count": 31
        }
      ]
    },
    {
      "cell_type": "code",
      "source": [
        "# Get laptop with ID = 215 ?\n",
        "laptops.get_id(215)"
      ],
      "metadata": {
        "colab": {
          "base_uri": "https://localhost:8080/"
        },
        "id": "9-17d0C7IlOg",
        "outputId": "f4846664-4b08-46ce-d042-edd2b0f435a6"
      },
      "execution_count": 27,
      "outputs": [
        {
          "output_type": "execute_result",
          "data": {
            "text/plain": [
              "[215,\n",
              " 'Acer',\n",
              " 'Aspire 7',\n",
              " 'Notebook',\n",
              " '15.6',\n",
              " 'Full HD 1920x1080',\n",
              " 'Intel Core i7 7700HQ 2.8GHz',\n",
              " '8GB',\n",
              " '1TB HDD',\n",
              " 'Nvidia GeForce GTX 1050',\n",
              " 'Linux',\n",
              " '2.4kg',\n",
              " 779]"
            ]
          },
          "metadata": {},
          "execution_count": 27
        }
      ]
    },
    {
      "cell_type": "code",
      "source": [
        "# Get laptop with ID = 2043 (doesn't exist) ?\n",
        "laptops.get_id(2043)"
      ],
      "metadata": {
        "colab": {
          "base_uri": "https://localhost:8080/"
        },
        "id": "b77GsN9magGu",
        "outputId": "950a9687-c950-425a-89a6-ce74155b46fb"
      },
      "execution_count": 29,
      "outputs": [
        {
          "output_type": "stream",
          "name": "stdout",
          "text": [
            "No laptop with Id =  2043\n"
          ]
        }
      ]
    },
    {
      "cell_type": "markdown",
      "source": [
        "Works as intented.\n",
        "\n",
        "Let's now say that we have four types of customers.\n",
        "Customers that prefer cheap laptops, customers that prefer expensive laptops, customers who don't know what they want and customers who prefers Apple.\n",
        "\n",
        "To serve our different customers better (and faster) we want four new methods for our Inventory class.\n",
        "\n",
        "`Inventory.get_cheap()` that returns the cheapest laptop\n",
        "\n",
        "`Inventory.get_expensive()` that returns the most expensive laptop \n",
        "\n",
        "`Inventory.get_mix()` that returns the cheapest, the most expensive and the middle (median) priced laptop\n",
        "\n",
        "`Inventory.get_budget(budget=1000)` that returns the most expensive laptop that satisfy the customers budget constraint (default is 1000 euro).\n",
        "\n",
        "`Inventory.get_apple()` that returns a random Apple laptop "
      ],
      "metadata": {
        "id": "ieNE5u80mA1R"
      }
    },
    {
      "cell_type": "code",
      "source": [
        "class Inventory():                    \n",
        "    \n",
        "    def __init__(self, url): \n",
        "      with requests.Session() as s:\n",
        "          download = s.get(url)\n",
        "\n",
        "          decoded_content = download.content.decode('latin-1')\n",
        "\n",
        "          csv_read_file = csv.reader(decoded_content.replace('\"','').splitlines()) \n",
        "          data = list(csv_read_file)\n",
        "          self.attributes = data[:1]\n",
        "          self.data = data[1:]\n",
        "          for row in self.data:\n",
        "            row[0] = int(row[0]) \n",
        "          for row in self.data:              \n",
        "            row[-1] = int(float(row[-1])) \n",
        "          self.stock = len(data[1:])\n",
        "\n",
        "    def get_stock(self) :\n",
        "      print(\"Current stock is: \", self.stock, \" laptops\")\n",
        "\n",
        "    def get_id(self, laptop_id):  \n",
        "        for row in self.data:                  \n",
        "            if row[0] == laptop_id:\n",
        "                return row\n",
        "        print(\"No laptop with Id = \", laptop_id)\n",
        "\n",
        "    # NEW! get_cheap() method\n",
        "    def get_cheap(self) :\n",
        "      cheapest = self.data[0][-1]\n",
        "      for row in self.data[1:] :\n",
        "          if row[-1] < cheapest :\n",
        "              cheapest = row[-1]\n",
        "      for row in self.data :\n",
        "        if row[-1] == cheapest :\n",
        "          return row\n",
        "\n",
        "    # NEW! get_expensive() method\n",
        "    def get_expensive(self) :\n",
        "      expensive = self.data[0][-1]\n",
        "      for row in self.data[1:] :\n",
        "        if row[-1] > expensive :\n",
        "          expensive = row[-1]\n",
        "      for row in self.data :\n",
        "          if row[-1] == expensive :\n",
        "            return row\n",
        "\n",
        "    # NEW! get_mix() method\n",
        "    def get_mix(self) :\n",
        "      prices = []\n",
        "      for row in self.data :\n",
        "        prices.append(row[-1])\n",
        "      prices = sorted(prices)\n",
        "      if len(prices) % 2 == 0:  \n",
        "        median = (prices[len(prices) // 2] + prices[(len(prices) - 1) // 2]) / 2\n",
        "      else:\n",
        "        median = prices[len(prices) // 2]\n",
        "      laptop_mix = []\n",
        "      laptop_mix.append(self.get_cheap())\n",
        "      for row in self.data :\n",
        "          if row[-1] == median :\n",
        "              laptop_mix.append(row)\n",
        "              break \n",
        "      laptop_mix.append(self.get_expensive())\n",
        "      return laptop_mix\n",
        "    \n",
        "    # NEW! get_budget() method\n",
        "    def get_budget(self, budget=1000) :\n",
        "      prices = []\n",
        "      for row in self.data :\n",
        "        prices.append(row[-1])\n",
        "      prices = sorted(prices)\n",
        "      best = 0\n",
        "      for price in prices :\n",
        "        if price>best and price<=budget :\n",
        "          best = price\n",
        "      for row in self.data :\n",
        "        if row[-1] == best :\n",
        "          return row\n",
        "\n",
        "    # NEW! get_apple() method\n",
        "    def get_apple(self) :\n",
        "      import random\n",
        "      index = list(range(0,len(self.data)))\n",
        "      random.shuffle(index)\n",
        "      for i in index :\n",
        "        row = self.data[i]\n",
        "        if row[1] == \"Apple\" :\n",
        "          return row\n",
        "          break\n"
      ],
      "metadata": {
        "id": "aXy-O-wRmo6C"
      },
      "execution_count": 146,
      "outputs": []
    },
    {
      "cell_type": "markdown",
      "source": [
        "Okay. So now we have a couple of convenient methods for our class (`Inventory`)Lets start by initiating a new inventory and call the `Inventory.get_cheap()` method. "
      ],
      "metadata": {
        "id": "IkIc6CFKmpKc"
      }
    },
    {
      "cell_type": "code",
      "source": [
        "# Reload the data\n",
        "laptops = Inventory(laptops_url)\n",
        "\n",
        "# get_cheap()\n",
        "laptops.get_cheap()"
      ],
      "metadata": {
        "colab": {
          "base_uri": "https://localhost:8080/"
        },
        "id": "5EAt4kcApi1P",
        "outputId": "3377037b-1b31-40e6-a635-1e236cd8862c"
      },
      "execution_count": 140,
      "outputs": [
        {
          "output_type": "execute_result",
          "data": {
            "text/plain": [
              "[1233,\n",
              " 'Acer',\n",
              " 'C740-C9QX (3205U/2GB/32GB/Chrome',\n",
              " 'Netbook',\n",
              " '11.6',\n",
              " '1366x768',\n",
              " 'Intel Celeron Dual Core 3205U 1.5GHz',\n",
              " '2GB',\n",
              " '32GB SSD',\n",
              " 'Intel HD Graphics',\n",
              " 'Chrome OS',\n",
              " '1.3kg',\n",
              " 174]"
            ]
          },
          "metadata": {},
          "execution_count": 140
        }
      ]
    },
    {
      "cell_type": "markdown",
      "source": [
        "The cheapest laptop in stock is an Acer that costs 174 euro.\n",
        "\n",
        "Lets call the `Inventory.get_expensive()` method next."
      ],
      "metadata": {
        "id": "rT5uDFvo3ssv"
      }
    },
    {
      "cell_type": "code",
      "source": [
        "# get_expensive()\n",
        "laptops.get_expensive()"
      ],
      "metadata": {
        "colab": {
          "base_uri": "https://localhost:8080/"
        },
        "id": "rXKS1nsE1Fgb",
        "outputId": "c8992671-f7c9-4127-e53e-61c30ff65de6"
      },
      "execution_count": 141,
      "outputs": [
        {
          "output_type": "execute_result",
          "data": {
            "text/plain": [
              "[200,\n",
              " 'Razer',\n",
              " 'Blade Pro',\n",
              " 'Gaming',\n",
              " '17.3',\n",
              " '4K Ultra HD / Touchscreen 3840x2160',\n",
              " 'Intel Core i7 7820HK 2.9GHz',\n",
              " '32GB',\n",
              " '1TB SSD',\n",
              " 'Nvidia GeForce GTX 1080',\n",
              " 'Windows 10',\n",
              " '3.49kg',\n",
              " 6099]"
            ]
          },
          "metadata": {},
          "execution_count": 141
        }
      ]
    },
    {
      "cell_type": "markdown",
      "source": [
        "The most expensive laptop is a Razer laptop with a powerful graphics card and 32 GB of ram. Price? 6099 euro.\n",
        "\n",
        "Now we'll try the `Inventory.get_mix()` method"
      ],
      "metadata": {
        "id": "hlm_unfQ37X6"
      }
    },
    {
      "cell_type": "code",
      "source": [
        "# get_mix()\n",
        "laptops.get_mix()"
      ],
      "metadata": {
        "colab": {
          "base_uri": "https://localhost:8080/"
        },
        "id": "xrrPOQqU4Wcw",
        "outputId": "6c2c7970-7218-4072-98e8-3e0d0e86d84a"
      },
      "execution_count": 142,
      "outputs": [
        {
          "output_type": "execute_result",
          "data": {
            "text/plain": [
              "[[1233,\n",
              "  'Acer',\n",
              "  'C740-C9QX (3205U/2GB/32GB/Chrome',\n",
              "  'Netbook',\n",
              "  '11.6',\n",
              "  '1366x768',\n",
              "  'Intel Celeron Dual Core 3205U 1.5GHz',\n",
              "  '2GB',\n",
              "  '32GB SSD',\n",
              "  'Intel HD Graphics',\n",
              "  'Chrome OS',\n",
              "  '1.3kg',\n",
              "  174],\n",
              " [81,\n",
              "  'HP',\n",
              "  'ProBook 470',\n",
              "  'Notebook',\n",
              "  '17.3',\n",
              "  'Full HD 1920x1080',\n",
              "  'Intel Core i5 8250U 1.6GHz',\n",
              "  '8GB',\n",
              "  '128GB SSD +  1TB HDD',\n",
              "  'Nvidia GeForce 930MX',\n",
              "  'Windows 10',\n",
              "  '2.5kg',\n",
              "  977],\n",
              " [200,\n",
              "  'Razer',\n",
              "  'Blade Pro',\n",
              "  'Gaming',\n",
              "  '17.3',\n",
              "  '4K Ultra HD / Touchscreen 3840x2160',\n",
              "  'Intel Core i7 7820HK 2.9GHz',\n",
              "  '32GB',\n",
              "  '1TB SSD',\n",
              "  'Nvidia GeForce GTX 1080',\n",
              "  'Windows 10',\n",
              "  '3.49kg',\n",
              "  6099]]"
            ]
          },
          "metadata": {},
          "execution_count": 142
        }
      ]
    },
    {
      "cell_type": "markdown",
      "source": [
        "Make your pick. Or do you prefer Apple? No problem with `Inventory.get_apple()`"
      ],
      "metadata": {
        "id": "ppDsudJ74cnx"
      }
    },
    {
      "cell_type": "code",
      "source": [
        "# get_apple() \n",
        "laptops.get_apple()"
      ],
      "metadata": {
        "colab": {
          "base_uri": "https://localhost:8080/"
        },
        "id": "kYWebGLL4lvl",
        "outputId": "bb96e80e-e901-49b9-b9c3-834af03c4f16"
      },
      "execution_count": 143,
      "outputs": [
        {
          "output_type": "execute_result",
          "data": {
            "text/plain": [
              "[5,\n",
              " 'Apple',\n",
              " 'MacBook Pro',\n",
              " 'Ultrabook',\n",
              " '13.3',\n",
              " 'IPS Panel Retina Display 2560x1600',\n",
              " 'Intel Core i5 3.1GHz',\n",
              " '8GB',\n",
              " '256GB SSD',\n",
              " 'Intel Iris Plus Graphics 650',\n",
              " 'macOS',\n",
              " '1.37kg',\n",
              " 1803]"
            ]
          },
          "metadata": {},
          "execution_count": 143
        }
      ]
    },
    {
      "cell_type": "code",
      "source": [
        "# get_apple() again\n",
        "laptops.get_apple()"
      ],
      "metadata": {
        "colab": {
          "base_uri": "https://localhost:8080/"
        },
        "id": "LJab0r434qnQ",
        "outputId": "47913409-e085-4668-cf4c-bdc59b8d4e8d"
      },
      "execution_count": 144,
      "outputs": [
        {
          "output_type": "execute_result",
          "data": {
            "text/plain": [
              "[1228,\n",
              " 'Apple',\n",
              " 'MacBook 12',\n",
              " 'Ultrabook',\n",
              " '12',\n",
              " 'IPS Panel Retina Display 2304x1440',\n",
              " 'Intel Core M 1.2GHz',\n",
              " '8GB',\n",
              " '512GB Flash Storage',\n",
              " 'Intel HD Graphics 515',\n",
              " 'Mac OS X',\n",
              " '0.920kg',\n",
              " 1279]"
            ]
          },
          "metadata": {},
          "execution_count": 144
        }
      ]
    },
    {
      "cell_type": "markdown",
      "source": [
        "Everytime we call `Inventory.get_apple()` we get a random Apple laptop.\n",
        "\n",
        "Finally, how about a customer that wants to spend a maximum of 2000 euro?"
      ],
      "metadata": {
        "id": "HpcSzrFi4wXt"
      }
    },
    {
      "cell_type": "code",
      "source": [
        "# get_budget()\n",
        "laptops.get_budget(2000)"
      ],
      "metadata": {
        "colab": {
          "base_uri": "https://localhost:8080/"
        },
        "id": "7RSc83tR4-9d",
        "outputId": "c0f75fa1-82e8-44ea-fb07-a02bb1d46178"
      },
      "execution_count": 145,
      "outputs": [
        {
          "output_type": "execute_result",
          "data": {
            "text/plain": [
              "[435,\n",
              " 'HP',\n",
              " 'Omen 17-w207nv',\n",
              " 'Gaming',\n",
              " '17.3',\n",
              " 'Full HD 1920x1080',\n",
              " 'Intel Core i7 7700HQ 2.8GHz',\n",
              " '12GB',\n",
              " '256GB SSD +  1TB HDD',\n",
              " 'Nvidia GeForce GTX 1070',\n",
              " 'Windows 10',\n",
              " '3.35kg',\n",
              " 1999]"
            ]
          },
          "metadata": {},
          "execution_count": 145
        }
      ]
    },
    {
      "cell_type": "markdown",
      "source": [
        "1999 euro is less than 2000 so this is within budget."
      ],
      "metadata": {
        "id": "s_kV_NQq5EXE"
      }
    },
    {
      "cell_type": "markdown",
      "source": [
        "# Summary\n",
        "\n",
        "In this project I created a new class (`Inventory`) that took a url as input and read in an inventory (.csv) file\n",
        "\n",
        "I also created different methods for the new class that:\n",
        "* Returned the total number of laptops in stock\n",
        "* Given an Id return the matching laptop\n",
        "* Returned the cheapest, most expensive and the middle-priced (median) laptop\n",
        "* Given a budget returned the most expensive laptop within the budget\n",
        "* Returned a random Apple computer\n",
        "\n",
        "That's all folks. \n"
      ],
      "metadata": {
        "id": "U-qiM4T3514h"
      }
    },
    {
      "cell_type": "markdown",
      "source": [
        "# Contact details"
      ],
      "metadata": {
        "id": "5tcxR8KT7MdW"
      }
    },
    {
      "cell_type": "markdown",
      "source": [
        "![bild](https://avatars.githubusercontent.com/u/99097833?v=4)\n",
        "\n",
        "Feel free to reach out:\n",
        "\n",
        "* Twitter: [@vaxjo_kalle](https://twitter.com/vaxjo_kalle) \n",
        "* LinkedIn: [My profile](https://www.linkedin.com/in/karlkarlssonvaxjo/)\n",
        "* E-mail: [karl_karlsson@icloud.com](mailto:karl_karlsson@icloud.com)\n",
        "* GitHub: [github.com/karl-karlsson](https://github.com/karl-karlsson)"
      ],
      "metadata": {
        "id": "kXEbBDac50lD"
      }
    }
  ]
}