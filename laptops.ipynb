{
  "nbformat": 4,
  "nbformat_minor": 0,
  "metadata": {
    "colab": {
      "name": "laptops.ipynb",
      "provenance": [],
      "authorship_tag": "ABX9TyMpixRLBEnaKNwnhSNGpC9k",
      "include_colab_link": true
    },
    "kernelspec": {
      "name": "python3",
      "display_name": "Python 3"
    },
    "language_info": {
      "name": "python"
    }
  },
  "cells": [
    {
      "cell_type": "markdown",
      "metadata": {
        "id": "view-in-github",
        "colab_type": "text"
      },
      "source": [
        "<a href=\"https://colab.research.google.com/github/karl-karlsson/notebooks/blob/main/laptops.ipynb\" target=\"_parent\"><img src=\"https://colab.research.google.com/assets/colab-badge.svg\" alt=\"Open In Colab\"/></a>"
      ]
    },
    {
      "cell_type": "markdown",
      "source": [
        "You can open a copy of this notebook in Google Colab by clicking the icon above\n",
        "\n",
        "-----\n",
        "\n",
        "**This project is ongoing, ie. not finished**\n",
        "\n",
        "![laptop](https://freesvg.org/img/1520464168.png)\n",
        "\n",
        "# Building fast queries on a CSV\n",
        "\n",
        "This was originally a guided project from Dataquest ([link](https://www.dataquest.io/)). \n",
        "\n",
        "I've downloaded a dataset on laptops to my GitHub respository from Kaggle ([info about dataset](https://www.kaggle.com/datasets/ionaskel/laptop-prices)).\n",
        "\n",
        "I wanted to do the project in Google Colab (rather than on the Dataquest platform) so I've had to make some adjustments with regards to loading in the data. Other than that, however, this is very much a *guided* project. So I don't want to take credit for solutions etc. \n",
        "\n",
        "I've done the project for my own learning experience.\n",
        "\n",
        "# Scenario\n",
        "We will imagine that we own an online laptop store and want to build a way to answer a few different business questions about our inventory. The `laptops.csv` file is our inventory. Let's start by:\n",
        "\n",
        "* Downloading the file from GitHub using the `requests` package\n",
        "* Read in the file using the `csv` package \n",
        "* Print out the first five rows\n",
        "\n"
      ],
      "metadata": {
        "id": "4ko7EXdRwaqM"
      }
    },
    {
      "cell_type": "code",
      "source": [
        "import csv\n",
        "import requests\n",
        "\n",
        "url = 'https://raw.githubusercontent.com/karl-karlsson/data/main/laptops.csv'\n",
        "\n",
        "\n",
        "with requests.Session() as s:\n",
        "    download = s.get(url)\n",
        "\n",
        "    decoded_content = download.content.decode('latin-1')\n",
        "\n",
        "    cr = csv.reader(decoded_content.splitlines(), delimiter=',')\n",
        "    my_list = list(cr)\n",
        "\n",
        "for row in range(5):\n",
        "  print(my_list[row])"
      ],
      "metadata": {
        "colab": {
          "base_uri": "https://localhost:8080/"
        },
        "id": "HuxLpqPIvSuK",
        "outputId": "500f54b7-3d9d-4154-9942-97003d291d90"
      },
      "execution_count": 101,
      "outputs": [
        {
          "output_type": "stream",
          "name": "stdout",
          "text": [
            "['Id', 'Company', 'Product', 'TypeName', 'Inches', 'ScreenResolution', 'Cpu', 'Ram', 'Memory', 'Gpu', 'OpSys', 'Weight', 'Price_euros']\n",
            "['1', 'Apple', 'MacBook Pro', 'Ultrabook', '13.3', 'IPS Panel Retina Display 2560x1600', 'Intel Core i5 2.3GHz', '8GB', '128GB SSD', 'Intel Iris Plus Graphics 640', 'macOS', '1.37kg', '1339.69']\n",
            "['2', 'Apple', 'Macbook Air', 'Ultrabook', '13.3', '1440x900', 'Intel Core i5 1.8GHz', '8GB', '128GB Flash Storage', 'Intel HD Graphics 6000', 'macOS', '1.34kg', '898.94']\n",
            "['3', 'HP', '250 G6', 'Notebook', '15.6', 'Full HD 1920x1080', 'Intel Core i5 7200U 2.5GHz', '8GB', '256GB SSD', 'Intel HD Graphics 620', 'No OS', '1.86kg', '575.00']\n",
            "['4', 'Apple', 'MacBook Pro', 'Ultrabook', '15.4', 'IPS Panel Retina Display 2880x1800', 'Intel Core i7 2.7GHz', '16GB', '512GB SSD', 'AMD Radeon Pro 455', 'macOS', '1.83kg', '2537.45']\n"
          ]
        }
      ]
    }
  ]
}