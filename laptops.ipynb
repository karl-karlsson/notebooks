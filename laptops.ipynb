{
  "nbformat": 4,
  "nbformat_minor": 0,
  "metadata": {
    "colab": {
      "name": "laptops.ipynb",
      "provenance": [],
      "authorship_tag": "ABX9TyOsXzmQWtrPl/xLzvGpALto",
      "include_colab_link": true
    },
    "kernelspec": {
      "name": "python3",
      "display_name": "Python 3"
    },
    "language_info": {
      "name": "python"
    }
  },
  "cells": [
    {
      "cell_type": "markdown",
      "metadata": {
        "id": "view-in-github",
        "colab_type": "text"
      },
      "source": [
        "<a href=\"https://colab.research.google.com/github/karl-karlsson/notebooks/blob/main/laptops.ipynb\" target=\"_parent\"><img src=\"https://colab.research.google.com/assets/colab-badge.svg\" alt=\"Open In Colab\"/></a>"
      ]
    },
    {
      "cell_type": "markdown",
      "source": [
        "You can open a copy of this notebook in Google Colab by clicking the icon above\n",
        "\n",
        "-----\n",
        "\n",
        "**This project is ongoing, ie. not finished**\n",
        "\n",
        "![laptop](https://freesvg.org/img/1520464168.png)\n",
        "\n",
        "# Building fast queries on a CSV\n",
        "\n",
        "This was originally a guided project from Dataquest ([link](https://www.dataquest.io/)). \n",
        "\n",
        "I've downloaded a dataset on laptops to my GitHub respository from Kaggle ([info about dataset](https://www.kaggle.com/datasets/ionaskel/laptop-prices)).\n",
        "\n",
        "I wanted to do the project in Google Colab (rather than on the Dataquest platform) so I've had to make some adjustments with regards to loading in the data. Other than that, however, this is very much a *guided* project. So I don't want to take credit for solutions etc. I've done the project for my own learning experience.\n",
        "\n",
        "I'm however glad i decided to download the data myself. Along the way I´ve run in to some issues (such as the need to include `replace('\"','')` when reading in the file to avoid problems later. Learning by trial and error is the best!\n",
        "\n",
        "\n",
        "# Scenario\n",
        "Let's imagine that we own an online laptop store and want to build a way to answer a few different business questions about our inventory. The `laptops.csv` file is our inventory.\n",
        "\n",
        "The goal of the project is to create a new class to represent our inventory. The class will automatically load in the .csv file from the web. I'll also define methods that belongs to the new class. These methods will help us answer questions such as:\n",
        "\n",
        "* Given a laptop id, find the corresponding data.\n",
        "* Given an amount of money, find whether there are two laptops whose total price is that given amount.\n",
        "* Identify all laptops whose price falls within a given budget.\n",
        "\n",
        "In the first step I'll:\n",
        "* Download the file from GitHub using the `requests` package\n",
        "* Read in the file using the `csv` package \n",
        "* Print out the column names and the first five rows \n",
        "\n"
      ],
      "metadata": {
        "id": "4ko7EXdRwaqM"
      }
    },
    {
      "cell_type": "code",
      "source": [
        "import csv\n",
        "import requests\n",
        "\n",
        "url = 'https://raw.githubusercontent.com/karl-karlsson/data/main/laptops.csv'\n",
        "\n",
        "\n",
        "with requests.Session() as s:\n",
        "    download = s.get(url)\n",
        "\n",
        "    decoded_content = download.content.decode('latin-1')\n",
        "\n",
        "    csv_read_file = csv.reader(decoded_content.replace('\"','').splitlines())\n",
        "    a_list = list(csv_read_file)\n",
        "\n",
        "print(\"Column names\")\n",
        "print(a_list[0])\n",
        "print(\"\\n\")\n",
        "print(\"Inventory\")\n",
        "for row in range(1,6):\n",
        "  print(a_list[row])\n"
      ],
      "metadata": {
        "colab": {
          "base_uri": "https://localhost:8080/"
        },
        "id": "HuxLpqPIvSuK",
        "outputId": "2a960083-477d-44e0-c6a2-efd12bfd1399"
      },
      "execution_count": 84,
      "outputs": [
        {
          "output_type": "stream",
          "name": "stdout",
          "text": [
            "Column names\n",
            "['Id', 'Company', 'Product', 'TypeName', 'Inches', 'ScreenResolution', 'Cpu', 'Ram', 'Memory', 'Gpu', 'OpSys', 'Weight', 'Price_euros']\n",
            "\n",
            "\n",
            "Inventory\n",
            "['1', 'Apple', 'MacBook Pro', 'Ultrabook', '13.3', 'IPS Panel Retina Display 2560x1600', 'Intel Core i5 2.3GHz', '8GB', '128GB SSD', 'Intel Iris Plus Graphics 640', 'macOS', '1.37kg', '1339.69']\n",
            "['2', 'Apple', 'Macbook Air', 'Ultrabook', '13.3', '1440x900', 'Intel Core i5 1.8GHz', '8GB', '128GB Flash Storage', 'Intel HD Graphics 6000', 'macOS', '1.34kg', '898.94']\n",
            "['3', 'HP', '250 G6', 'Notebook', '15.6', 'Full HD 1920x1080', 'Intel Core i5 7200U 2.5GHz', '8GB', '256GB SSD', 'Intel HD Graphics 620', 'No OS', '1.86kg', '575.00']\n",
            "['4', 'Apple', 'MacBook Pro', 'Ultrabook', '15.4', 'IPS Panel Retina Display 2880x1800', 'Intel Core i7 2.7GHz', '16GB', '512GB SSD', 'AMD Radeon Pro 455', 'macOS', '1.83kg', '2537.45']\n",
            "['5', 'Apple', 'MacBook Pro', 'Ultrabook', '13.3', 'IPS Panel Retina Display 2560x1600', 'Intel Core i5 3.1GHz', '8GB', '256GB SSD', 'Intel Iris Plus Graphics 650', 'macOS', '1.37kg', '1803.60']\n"
          ]
        }
      ]
    },
    {
      "cell_type": "markdown",
      "source": [
        "I'll start by doing the following:\n",
        "\n",
        "* Create a new `Inventory` class that takes an url as input and reads in a .csv file\n",
        "* Converts `Price_euros` to integer\n",
        "* Define three methods:\n",
        "  * `attributes` that prints out the column names\n",
        "  * `stock` that returns the current number of laptops (all rows exept column names) in stock\n",
        "  * `data` that returns all rows, except the column names\n",
        "\n",
        "I will build out the `Inventory` class with more methods for more advanced operations further down"
      ],
      "metadata": {
        "id": "F70jjstBm495"
      }
    },
    {
      "cell_type": "code",
      "source": [
        "class Inventory():                    \n",
        "    \n",
        "    def __init__(self, url): \n",
        "      with requests.Session() as s:\n",
        "          download = s.get(url)\n",
        "\n",
        "          decoded_content = download.content.decode('latin-1')\n",
        "\n",
        "          csv_read_file = csv.reader(decoded_content.splitlines(), delimiter=',')\n",
        "          data = list(csv_read_file)\n",
        "\n",
        "          self.attributes = data[:1]\n",
        "          self.data = data[1:]\n",
        "          self.stock = len(data[1:])\n",
        "                  \n"
      ],
      "metadata": {
        "id": "Aeu7cx8PV21l"
      },
      "execution_count": 85,
      "outputs": []
    },
    {
      "cell_type": "markdown",
      "source": [
        "Let's create a new `Inventory` instance named `laptops` from the url used before.\n",
        "\n",
        "Let´s print out the attributes of laptops by calling the `laptops.attributes` method on `laptops`\n"
      ],
      "metadata": {
        "id": "1_ddjBmEtB5Z"
      }
    },
    {
      "cell_type": "code",
      "source": [
        "laptops_url = 'https://raw.githubusercontent.com/karl-karlsson/data/main/laptops.csv' \n",
        "\n",
        "laptops = Inventory(laptops_url)  \n",
        "\n",
        "print(laptops.attributes)"
      ],
      "metadata": {
        "colab": {
          "base_uri": "https://localhost:8080/"
        },
        "id": "AKv-lo0NdYxb",
        "outputId": "0d9047d8-74c1-4c37-9ce9-3be7c4ba07b4"
      },
      "execution_count": 86,
      "outputs": [
        {
          "output_type": "stream",
          "name": "stdout",
          "text": [
            "[['Id', 'Company', 'Product', 'TypeName', 'Inches', 'ScreenResolution', 'Cpu', 'Ram', 'Memory', 'Gpu', 'OpSys', 'Weight', 'Price_euros']]\n"
          ]
        }
      ]
    },
    {
      "cell_type": "markdown",
      "source": [
        "We can check how many laptops are currently in stock by calling the `stock` method on `laptops`"
      ],
      "metadata": {
        "id": "64s-3N30ujcx"
      }
    },
    {
      "cell_type": "code",
      "source": [
        "print(\"Current stock:\", \n",
        "      laptops.stock, \n",
        "      \"laptops\")"
      ],
      "metadata": {
        "colab": {
          "base_uri": "https://localhost:8080/"
        },
        "id": "wz9CmN-SdcpP",
        "outputId": "daee1cfe-12a9-4d0e-f67d-16995eed8e75"
      },
      "execution_count": 87,
      "outputs": [
        {
          "output_type": "stream",
          "name": "stdout",
          "text": [
            "Current stock: 1303 laptops\n"
          ]
        }
      ]
    },
    {
      "cell_type": "markdown",
      "source": [
        "Next I'll define a new method (`get_id`) that takes an id as input and returns the corresponding laptop. This could be convenient if a customer customer comes to our store with a purchase slip because then we can quickly identify the laptop to which it corresponds.\n",
        "\n",
        "I´ll also convert `Price_euros` to integer (I´ll use that later)\n"
      ],
      "metadata": {
        "id": "fwOmu0QVyaah"
      }
    },
    {
      "cell_type": "code",
      "source": [
        "class Inventory():                    \n",
        "    \n",
        "    def __init__(self, url): \n",
        "      with requests.Session() as s:\n",
        "          download = s.get(url)\n",
        "\n",
        "          decoded_content = download.content.decode('latin-1')\n",
        "\n",
        "          csv_read_file = csv.reader(decoded_content.replace('\"','').splitlines()) # Needed to include this! Some lines wheren't reading properly...\n",
        "          data = list(csv_read_file)\n",
        "          self.attributes = data[:1]\n",
        "          self.data = data[1:]\n",
        "          for row in self.data:\n",
        "            row[0] = int(row[0]) # Convert ID to integer\n",
        "          for row in self.data:              \n",
        "            row[-1] = int(float(row[-1])) # Convert price_euros to integer\n",
        "          self.stock = len(data[1:])\n",
        "\n",
        "    def get_id(self, laptop_id):  \n",
        "        for row in self.data:                  \n",
        "            if row[0] == laptop_id:\n",
        "                return row\n",
        "        return None                           "
      ],
      "metadata": {
        "id": "9LauMNgHydvV"
      },
      "execution_count": 99,
      "outputs": []
    },
    {
      "cell_type": "markdown",
      "source": [
        "Let's see if we can load the inventory data (as an `Inventory` object) and use the new `get_id` method."
      ],
      "metadata": {
        "id": "zf6Z_-fYIJ6w"
      }
    },
    {
      "cell_type": "code",
      "source": [
        "# Reload the data\n",
        "laptops = Inventory(laptops_url)\n",
        "\n",
        "# Get laptop with ID = 25\n",
        "laptops.get_id(25)"
      ],
      "metadata": {
        "colab": {
          "base_uri": "https://localhost:8080/"
        },
        "id": "ZPy0mtaIzKJW",
        "outputId": "3490640f-0bf0-45f6-d21f-24439e6d31a1"
      },
      "execution_count": null,
      "outputs": [
        {
          "output_type": "execute_result",
          "data": {
            "text/plain": [
              "[215,\n",
              " 'Acer',\n",
              " 'Aspire 7',\n",
              " 'Notebook',\n",
              " '15.6',\n",
              " 'Full HD 1920x1080',\n",
              " 'Intel Core i7 7700HQ 2.8GHz',\n",
              " '8GB',\n",
              " '1TB HDD',\n",
              " 'Nvidia GeForce GTX 1050',\n",
              " 'Linux',\n",
              " '2.4kg',\n",
              " 779]"
            ]
          },
          "metadata": {},
          "execution_count": 102
        }
      ]
    },
    {
      "cell_type": "code",
      "source": [
        "# Get laptop with ID = 215\n",
        "laptops.get_id(215)"
      ],
      "metadata": {
        "id": "9-17d0C7IlOg"
      },
      "execution_count": null,
      "outputs": []
    }
  ]
}